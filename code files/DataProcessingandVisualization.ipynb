{
 "cells": [
  {
   "cell_type": "code",
   "execution_count": 3,
   "id": "96e6820c-d2de-43d3-88c1-c118928ade28",
   "metadata": {},
   "outputs": [
    {
     "name": "stdout",
     "output_type": "stream",
     "text": [
      "Collecting dash-bootstrap-components\n",
      "  Downloading dash_bootstrap_components-2.0.3-py3-none-any.whl.metadata (18 kB)\n",
      "Requirement already satisfied: dash>=3.0.4 in c:\\users\\rajar\\anaconda3\\lib\\site-packages (from dash-bootstrap-components) (3.1.1)\n",
      "Requirement already satisfied: Flask<3.2,>=1.0.4 in c:\\users\\rajar\\anaconda3\\lib\\site-packages (from dash>=3.0.4->dash-bootstrap-components) (2.2.5)\n",
      "Requirement already satisfied: Werkzeug<3.2 in c:\\users\\rajar\\anaconda3\\lib\\site-packages (from dash>=3.0.4->dash-bootstrap-components) (2.2.3)\n",
      "Requirement already satisfied: plotly>=5.0.0 in c:\\users\\rajar\\anaconda3\\lib\\site-packages (from dash>=3.0.4->dash-bootstrap-components) (6.2.0)\n",
      "Requirement already satisfied: importlib-metadata in c:\\users\\rajar\\anaconda3\\lib\\site-packages (from dash>=3.0.4->dash-bootstrap-components) (7.0.1)\n",
      "Requirement already satisfied: typing-extensions>=4.1.1 in c:\\users\\rajar\\anaconda3\\lib\\site-packages (from dash>=3.0.4->dash-bootstrap-components) (4.12.2)\n",
      "Requirement already satisfied: requests in c:\\users\\rajar\\anaconda3\\lib\\site-packages (from dash>=3.0.4->dash-bootstrap-components) (2.32.4)\n",
      "Requirement already satisfied: retrying in c:\\users\\rajar\\anaconda3\\lib\\site-packages (from dash>=3.0.4->dash-bootstrap-components) (1.4.0)\n",
      "Requirement already satisfied: nest-asyncio in c:\\users\\rajar\\anaconda3\\lib\\site-packages (from dash>=3.0.4->dash-bootstrap-components) (1.6.0)\n",
      "Requirement already satisfied: setuptools in c:\\users\\rajar\\anaconda3\\lib\\site-packages (from dash>=3.0.4->dash-bootstrap-components) (68.2.2)\n",
      "Requirement already satisfied: Jinja2>=3.0 in c:\\users\\rajar\\anaconda3\\lib\\site-packages (from Flask<3.2,>=1.0.4->dash>=3.0.4->dash-bootstrap-components) (3.1.3)\n",
      "Requirement already satisfied: itsdangerous>=2.0 in c:\\users\\rajar\\anaconda3\\lib\\site-packages (from Flask<3.2,>=1.0.4->dash>=3.0.4->dash-bootstrap-components) (2.0.1)\n",
      "Requirement already satisfied: click>=8.0 in c:\\users\\rajar\\anaconda3\\lib\\site-packages (from Flask<3.2,>=1.0.4->dash>=3.0.4->dash-bootstrap-components) (8.1.7)\n",
      "Requirement already satisfied: narwhals>=1.15.1 in c:\\users\\rajar\\anaconda3\\lib\\site-packages (from plotly>=5.0.0->dash>=3.0.4->dash-bootstrap-components) (1.44.0)\n",
      "Requirement already satisfied: packaging in c:\\users\\rajar\\anaconda3\\lib\\site-packages (from plotly>=5.0.0->dash>=3.0.4->dash-bootstrap-components) (23.1)\n",
      "Requirement already satisfied: MarkupSafe>=2.1.1 in c:\\users\\rajar\\anaconda3\\lib\\site-packages (from Werkzeug<3.2->dash>=3.0.4->dash-bootstrap-components) (2.1.3)\n",
      "Requirement already satisfied: zipp>=0.5 in c:\\users\\rajar\\anaconda3\\lib\\site-packages (from importlib-metadata->dash>=3.0.4->dash-bootstrap-components) (3.17.0)\n",
      "Requirement already satisfied: charset_normalizer<4,>=2 in c:\\users\\rajar\\anaconda3\\lib\\site-packages (from requests->dash>=3.0.4->dash-bootstrap-components) (2.0.4)\n",
      "Requirement already satisfied: idna<4,>=2.5 in c:\\users\\rajar\\anaconda3\\lib\\site-packages (from requests->dash>=3.0.4->dash-bootstrap-components) (3.4)\n",
      "Requirement already satisfied: urllib3<3,>=1.21.1 in c:\\users\\rajar\\anaconda3\\lib\\site-packages (from requests->dash>=3.0.4->dash-bootstrap-components) (2.0.7)\n",
      "Requirement already satisfied: certifi>=2017.4.17 in c:\\users\\rajar\\anaconda3\\lib\\site-packages (from requests->dash>=3.0.4->dash-bootstrap-components) (2025.6.15)\n",
      "Requirement already satisfied: colorama in c:\\users\\rajar\\anaconda3\\lib\\site-packages (from click>=8.0->Flask<3.2,>=1.0.4->dash>=3.0.4->dash-bootstrap-components) (0.4.6)\n",
      "Downloading dash_bootstrap_components-2.0.3-py3-none-any.whl (203 kB)\n",
      "   ---------------------------------------- 0.0/203.7 kB ? eta -:--:--\n",
      "   ------- ------------------------------- 41.0/203.7 kB 960.0 kB/s eta 0:00:01\n",
      "   ---------------------- ----------------- 112.6/203.7 kB 1.3 MB/s eta 0:00:01\n",
      "   ---------------------------------------- 203.7/203.7 kB 1.5 MB/s eta 0:00:00\n",
      "Installing collected packages: dash-bootstrap-components\n",
      "Successfully installed dash-bootstrap-components-2.0.3\n",
      "Note: you may need to restart the kernel to use updated packages.\n"
     ]
    }
   ],
   "source": [
    "pip install dash-bootstrap-components"
   ]
  },
  {
   "cell_type": "code",
   "execution_count": 4,
   "id": "c9adef2e-3f7a-438b-8b9e-43f55b23a980",
   "metadata": {},
   "outputs": [],
   "source": [
    "# Introduction: Import required libraries\n",
    "import pandas as pd\n",
    "import numpy as np\n",
    "import plotly.express as px\n",
    "import plotly.graph_objects as go\n",
    "from sklearn.preprocessing import StandardScaler\n",
    "from sklearn.cluster import KMeans\n",
    "from sklearn.manifold import TSNE\n",
    "import dash\n",
    "import dash_bootstrap_components as dbc\n",
    "from dash import html, dcc, Input, Output\n"
   ]
  },
  {
   "cell_type": "code",
   "execution_count": 6,
   "id": "e2235424-c91f-4008-bbea-aca0d011ff50",
   "metadata": {},
   "outputs": [
    {
     "name": "stdout",
     "output_type": "stream",
     "text": [
      "   Student_ID  Age  Gender Academic_Level     Country  Avg_Daily_Usage_Hours  \\\n",
      "0           1   19  Female  Undergraduate  Bangladesh                    5.2   \n",
      "1           2   22    Male       Graduate       India                    2.1   \n",
      "2           3   20  Female  Undergraduate         USA                    6.0   \n",
      "3           4   18    Male    High School          UK                    3.0   \n",
      "4           5   21    Male       Graduate      Canada                    4.5   \n",
      "\n",
      "  Most_Used_Platform Affects_Academic_Performance  Sleep_Hours_Per_Night  \\\n",
      "0          Instagram                          Yes                    6.5   \n",
      "1            Twitter                           No                    7.5   \n",
      "2             TikTok                          Yes                    5.0   \n",
      "3            YouTube                           No                    7.0   \n",
      "4           Facebook                          Yes                    6.0   \n",
      "\n",
      "   Mental_Health_Score Relationship_Status  Conflicts_Over_Social_Media  \\\n",
      "0                    6     In Relationship                            3   \n",
      "1                    8              Single                            0   \n",
      "2                    5         Complicated                            4   \n",
      "3                    7              Single                            1   \n",
      "4                    6     In Relationship                            2   \n",
      "\n",
      "   Addicted_Score  \n",
      "0               8  \n",
      "1               3  \n",
      "2               9  \n",
      "3               4  \n",
      "4               7  \n",
      "<class 'pandas.core.frame.DataFrame'>\n",
      "RangeIndex: 705 entries, 0 to 704\n",
      "Data columns (total 13 columns):\n",
      " #   Column                        Non-Null Count  Dtype  \n",
      "---  ------                        --------------  -----  \n",
      " 0   Student_ID                    705 non-null    int64  \n",
      " 1   Age                           705 non-null    int64  \n",
      " 2   Gender                        705 non-null    object \n",
      " 3   Academic_Level                705 non-null    object \n",
      " 4   Country                       705 non-null    object \n",
      " 5   Avg_Daily_Usage_Hours         705 non-null    float64\n",
      " 6   Most_Used_Platform            705 non-null    object \n",
      " 7   Affects_Academic_Performance  705 non-null    object \n",
      " 8   Sleep_Hours_Per_Night         705 non-null    float64\n",
      " 9   Mental_Health_Score           705 non-null    int64  \n",
      " 10  Relationship_Status           705 non-null    object \n",
      " 11  Conflicts_Over_Social_Media   705 non-null    int64  \n",
      " 12  Addicted_Score                705 non-null    int64  \n",
      "dtypes: float64(2), int64(5), object(6)\n",
      "memory usage: 71.7+ KB\n",
      "None\n"
     ]
    }
   ],
   "source": [
    "# Load the dataset (ensure the file path is correct)\n",
    "df = pd.read_csv('data/Students_Social_Media_Addiction.csv')\n",
    "print(df.head())\n",
    "print(df.info())\n"
   ]
  },
  {
   "cell_type": "code",
   "execution_count": 7,
   "id": "6070c13c-b215-4783-9c17-0026723f3114",
   "metadata": {},
   "outputs": [],
   "source": [
    "# Clean and standardize categorical variables\n",
    "df['Gender'] = df['Gender'].str.strip().str.capitalize()\n",
    "df['Academic_Level'] = df['Academic_Level'].str.strip().str.title()\n",
    "df['Country'] = df['Country'].str.strip().str.title()\n",
    "df['Most_Used_Platform'] = df['Most_Used_Platform'].str.strip().str.title()\n",
    "df['Relationship_Status'] = df['Relationship_Status'].str.strip().str.title()\n",
    "df['Affects_Academic_Performance'] = df['Affects_Academic_Performance'].str.strip().str.capitalize()\n",
    "\n",
    "# Handle missing values\n",
    "critical_cols = [\n",
    "    'Addicted_Score', 'Academic_Level', 'Gender', 'Age',\n",
    "    'Avg_Daily_Usage_Hours', 'Sleep_Hours_Per_Night'\n",
    "]\n",
    "df = df.dropna(subset=critical_cols)\n",
    "if 'Mental_Health_Score' in df.columns:\n",
    "    df['Mental_Health_Score'] = df['Mental_Health_Score'].fillna(df['Mental_Health_Score'].median())\n",
    "if 'Conflicts_Over_Social_Media' in df.columns:\n",
    "    df['Conflicts_Over_Social_Media'] = df['Conflicts_Over_Social_Media'].fillna(0)\n",
    "for col in ['Most_Used_Platform', 'Country', 'Relationship_Status']:\n",
    "    if col in df.columns:\n",
    "        df[col] = df[col].fillna(df[col].mode()[0])\n"
   ]
  },
  {
   "cell_type": "code",
   "execution_count": 9,
   "id": "3f1101f2-5d0f-4d34-978d-31278f91f336",
   "metadata": {},
   "outputs": [],
   "source": [
    "# Age group categorization\n",
    "df['Age_Group'] = pd.cut(df['Age'], bins=[15, 18, 21, 24, 30, 100],\n",
    "                         labels=['16-18', '19-21', '22-24', '25-30', '31+'])\n",
    "\n",
    "# Normalize Addicted_Score for clustering\n",
    "scaler = StandardScaler()\n",
    "df['Addicted_Score_Norm'] = scaler.fit_transform(df[['Addicted_Score']])\n",
    "\n",
    "# Create categorical addiction levels (tertiles)\n",
    "df['Addiction_Level'] = pd.qcut(df['Addicted_Score'], q=3, labels=['Low', 'Medium', 'High'])\n",
    "\n",
    "# Convert 'Affects_Academic_Performance' to numeric for analysis\n",
    "df['Affects_Academic_Performance_Numeric'] = df['Affects_Academic_Performance'].map({'Yes': 1, 'No': 0})\n"
   ]
  },
  {
   "cell_type": "code",
   "execution_count": 10,
   "id": "7fd67f3c-9251-424e-ab9b-715c8f035e9f",
   "metadata": {},
   "outputs": [
    {
     "name": "stdout",
     "output_type": "stream",
     "text": [
      "Processed data saved.\n"
     ]
    }
   ],
   "source": [
    "df.to_csv('data/Processed_Students_Social_Media_Addiction.csv', index=False)\n",
    "print(\"Processed data saved.\")\n"
   ]
  },
  {
   "cell_type": "code",
   "execution_count": 11,
   "id": "63a8c1b3-632f-4323-bf37-6eaa37ca7d84",
   "metadata": {},
   "outputs": [
    {
     "data": {
      "application/vnd.plotly.v1+json": {
       "config": {
        "plotlyServerURL": "https://plot.ly"
       },
       "data": [
        {
         "bingroup": "x",
         "hovertemplate": "Gender=Female<br>Age_Group=19-21<br>Academic_Level=Undergraduate<br>Addicted_Score=%{x}<br>count=%{y}<extra></extra>",
         "legendgroup": "Female",
         "marker": {
          "color": "#636efa",
          "opacity": 0.5,
          "pattern": {
           "shape": ""
          }
         },
         "name": "Female",
         "orientation": "v",
         "showlegend": true,
         "type": "histogram",
         "x": {
          "_inputArray": {
           "0": 8,
           "1": 9,
           "10": 8,
           "100": 9,
           "101": 5,
           "102": 3,
           "103": 6,
           "104": 9,
           "105": 5,
           "106": 3,
           "107": 6,
           "108": 9,
           "109": 5,
           "11": 7,
           "110": 3,
           "111": 6,
           "112": 9,
           "113": 5,
           "114": 3,
           "115": 6,
           "116": 9,
           "117": 5,
           "118": 3,
           "119": 6,
           "12": 7,
           "120": 9,
           "121": 5,
           "122": 7,
           "123": 6,
           "124": 4,
           "125": 9,
           "126": 5,
           "127": 7,
           "128": 6,
           "129": 4,
           "13": 8,
           "130": 9,
           "131": 5,
           "132": 7,
           "133": 6,
           "134": 4,
           "135": 9,
           "136": 5,
           "137": 7,
           "138": 6,
           "139": 4,
           "14": 7,
           "140": 9,
           "141": 5,
           "142": 7,
           "143": 6,
           "144": 4,
           "145": 9,
           "146": 5,
           "147": 7,
           "148": 6,
           "149": 4,
           "15": 7,
           "150": 9,
           "151": 5,
           "152": 7,
           "153": 6,
           "154": 4,
           "155": 9,
           "156": 5,
           "157": 7,
           "158": 6,
           "159": 4,
           "16": 8,
           "160": 9,
           "161": 5,
           "162": 7,
           "163": 6,
           "164": 4,
           "165": 9,
           "166": 5,
           "167": 7,
           "168": 6,
           "169": 4,
           "17": 8,
           "170": 9,
           "171": 5,
           "172": 7,
           "173": 6,
           "174": 4,
           "175": 9,
           "176": 5,
           "177": 7,
           "178": 6,
           "179": 4,
           "18": 7,
           "180": 9,
           "181": 5,
           "182": 7,
           "183": 6,
           "184": 4,
           "185": 9,
           "186": 5,
           "187": 7,
           "188": 6,
           "189": 4,
           "19": 7,
           "190": 9,
           "191": 5,
           "192": 7,
           "193": 6,
           "194": 4,
           "195": 9,
           "196": 5,
           "197": 7,
           "198": 6,
           "199": 4,
           "2": 9,
           "20": 8,
           "200": 9,
           "201": 5,
           "202": 7,
           "203": 6,
           "204": 4,
           "205": 9,
           "206": 5,
           "207": 7,
           "208": 6,
           "209": 4,
           "21": 7,
           "210": 9,
           "211": 5,
           "212": 7,
           "213": 4,
           "214": 7,
           "215": 8,
           "216": 8,
           "217": 7,
           "218": 4,
           "219": 7,
           "22": 7,
           "220": 8,
           "221": 8,
           "222": 7,
           "223": 4,
           "224": 7,
           "225": 8,
           "226": 8,
           "227": 7,
           "228": 4,
           "229": 7,
           "23": 7,
           "230": 8,
           "231": 8,
           "232": 7,
           "233": 4,
           "234": 7,
           "235": 8,
           "236": 8,
           "237": 7,
           "238": 4,
           "239": 7,
           "24": 7,
           "240": 8,
           "241": 8,
           "242": 7,
           "243": 4,
           "244": 7,
           "245": 8,
           "246": 8,
           "247": 7,
           "248": 8,
           "249": 5,
           "25": 7,
           "250": 7,
           "251": 5,
           "252": 8,
           "253": 8,
           "254": 4,
           "255": 5,
           "256": 5,
           "257": 9,
           "258": 8,
           "259": 8,
           "26": 8,
           "260": 5,
           "261": 8,
           "262": 9,
           "263": 4,
           "264": 5,
           "265": 5,
           "266": 9,
           "267": 8,
           "268": 8,
           "269": 7,
           "27": 7,
           "270": 5,
           "271": 7,
           "272": 8,
           "273": 8,
           "274": 7,
           "275": 5,
           "276": 7,
           "277": 5,
           "278": 8,
           "279": 9,
           "28": 7,
           "280": 4,
           "281": 5,
           "282": 5,
           "283": 9,
           "284": 8,
           "285": 8,
           "286": 7,
           "287": 5,
           "288": 7,
           "289": 8,
           "29": 7,
           "3": 8,
           "30": 5,
           "31": 7,
           "32": 8,
           "33": 5,
           "34": 8,
           "35": 7,
           "36": 5,
           "37": 8,
           "38": 7,
           "39": 5,
           "4": 8,
           "40": 8,
           "41": 7,
           "42": 7,
           "43": 8,
           "44": 5,
           "45": 7,
           "46": 8,
           "47": 5,
           "48": 7,
           "49": 8,
           "5": 7,
           "50": 5,
           "51": 7,
           "52": 8,
           "53": 5,
           "54": 7,
           "55": 8,
           "56": 5,
           "57": 7,
           "58": 8,
           "59": 5,
           "6": 7,
           "60": 7,
           "61": 8,
           "62": 5,
           "63": 7,
           "64": 8,
           "65": 5,
           "66": 7,
           "67": 8,
           "68": 5,
           "69": 7,
           "7": 8,
           "70": 8,
           "71": 5,
           "72": 9,
           "73": 5,
           "74": 3,
           "75": 6,
           "76": 9,
           "77": 5,
           "78": 3,
           "79": 6,
           "8": 7,
           "80": 9,
           "81": 5,
           "82": 3,
           "83": 6,
           "84": 9,
           "85": 5,
           "86": 3,
           "87": 6,
           "88": 9,
           "89": 5,
           "9": 7,
           "90": 3,
           "91": 6,
           "92": 9,
           "93": 5,
           "94": 3,
           "95": 6,
           "96": 9,
           "97": 5,
           "98": 3,
           "99": 6,
           "bdata": "CAkJCAgHBwgHBwgHBwgHBwgIBwcIBwcHBwcIBwcHBQcIBQgHBQgHBQgHBwgFBwgFBwgFBwgFBwgFBwgFBwgFBwgFBwgFBwgFCQUDBgkFAwYJBQMGCQUDBgkFAwYJBQMGCQUDBgkFAwYJBQMGCQUDBgkFAwYJBQMGCQUHBgQJBQcGBAkFBwYECQUHBgQJBQcGBAkFBwYECQUHBgQJBQcGBAkFBwYECQUHBgQJBQcGBAkFBwYECQUHBgQJBQcGBAkFBwYECQUHBgQJBQcGBAkFBwYECQUHBAcICAcEBwgIBwQHCAgHBAcICAcEBwgIBwQHCAgHBAcICAcIBQcFCAgEBQUJCAgFCAkEBQUJCAgHBQcICAcFBwUICQQFBQkICAcFBwg=",
           "dtype": "i1",
           "shape": "290"
          },
          "bdata": "CAkJCAgHBwgHBwgHBwgHBwgIBwcIBwcHBwcIBwcHBQcIBQgHBQgHBQgHBwgFBwgFBwgFBwgFBwgFBwgFBwgFBwgFBwgFBwgFCQUDBgkFAwYJBQMGCQUDBgkFAwYJBQMGCQUDBgkFAwYJBQMGCQUDBgkFAwYJBQMGCQUHBgQJBQcGBAkFBwYECQUHBgQJBQcGBAkFBwYECQUHBgQJBQcGBAkFBwYECQUHBgQJBQcGBAkFBwYECQUHBgQJBQcGBAkFBwYECQUHBgQJBQcGBAkFBwYECQUHBAcICAcEBwgIBwQHCAgHBAcICAcEBwgIBwQHCAgHBAcICAcIBQcFCAgEBQUJCAgFCAkEBQUJCAgHBQcICAcFBwUICQQFBQkICAcFBwg=",
          "dtype": "i1"
         },
         "xaxis": "x7",
         "yaxis": "y7"
        },
        {
         "bingroup": "x",
         "hovertemplate": "Gender=Female<br>Age_Group=19-21<br>Academic_Level=Graduate<br>Addicted_Score=%{x}<br>count=%{y}<extra></extra>",
         "legendgroup": "Female",
         "marker": {
          "color": "#636efa",
          "opacity": 0.5,
          "pattern": {
           "shape": ""
          }
         },
         "name": "Female",
         "orientation": "v",
         "showlegend": false,
         "type": "histogram",
         "x": {
          "_inputArray": {
           "0": 4,
           "1": 5,
           "10": 7,
           "11": 5,
           "2": 5,
           "3": 8,
           "4": 7,
           "5": 5,
           "6": 8,
           "7": 7,
           "8": 5,
           "9": 8,
           "bdata": "BAUFCAcFCAcFCAcF",
           "dtype": "i1",
           "shape": "12"
          },
          "bdata": "BAUFCAcFCAcFCAcF",
          "dtype": "i1"
         },
         "xaxis": "x8",
         "yaxis": "y8"
        },
        {
         "bingroup": "x",
         "hovertemplate": "Gender=Female<br>Age_Group=19-21<br>Academic_Level=High School<br>Addicted_Score=%{x}<br>count=%{y}<extra></extra>",
         "legendgroup": "Female",
         "marker": {
          "color": "#636efa",
          "opacity": 0.5,
          "pattern": {
           "shape": ""
          }
         },
         "name": "Female",
         "orientation": "v",
         "showlegend": false,
         "type": "histogram",
         "x": {
          "_inputArray": {
           "0": 8,
           "1": 9,
           "2": 8,
           "3": 9,
           "4": 8,
           "5": 9,
           "6": 8,
           "7": 8,
           "8": 8,
           "9": 8,
           "bdata": "CAkICQgJCAgICA==",
           "dtype": "i1",
           "shape": "10"
          },
          "bdata": "CAkICQgJCAgICA==",
          "dtype": "i1"
         },
         "xaxis": "x9",
         "yaxis": "y9"
        },
        {
         "bingroup": "x",
         "hovertemplate": "Gender=Female<br>Age_Group=22-24<br>Academic_Level=Graduate<br>Addicted_Score=%{x}<br>count=%{y}<extra></extra>",
         "legendgroup": "Female",
         "marker": {
          "color": "#636efa",
          "opacity": 0.5,
          "pattern": {
           "shape": ""
          }
         },
         "name": "Female",
         "orientation": "v",
         "showlegend": false,
         "type": "histogram",
         "x": {
          "_inputArray": {
           "0": 4,
           "1": 4,
           "10": 7,
           "11": 5,
           "12": 5,
           "13": 7,
           "14": 8,
           "15": 8,
           "16": 7,
           "17": 5,
           "18": 7,
           "19": 5,
           "2": 4,
           "20": 8,
           "21": 9,
           "22": 4,
           "23": 5,
           "24": 5,
           "25": 9,
           "26": 8,
           "27": 8,
           "28": 7,
           "29": 5,
           "3": 4,
           "30": 7,
           "31": 8,
           "32": 8,
           "33": 7,
           "34": 5,
           "35": 7,
           "4": 5,
           "5": 4,
           "6": 4,
           "7": 4,
           "8": 4,
           "9": 8,
           "bdata": "BAQEBAUEBAQECAcFBQcICAcFBwUICQQFBQkICAcFBwgIBwUH",
           "dtype": "i1",
           "shape": "36"
          },
          "bdata": "BAQEBAUEBAQECAcFBQcICAcFBwUICQQFBQkICAcFBwgIBwUH",
          "dtype": "i1"
         },
         "xaxis": "x5",
         "yaxis": "y5"
        },
        {
         "bingroup": "x",
         "hovertemplate": "Gender=Female<br>Age_Group=16-18<br>Academic_Level=High School<br>Addicted_Score=%{x}<br>count=%{y}<extra></extra>",
         "legendgroup": "Female",
         "marker": {
          "color": "#636efa",
          "opacity": 0.5,
          "pattern": {
           "shape": ""
          }
         },
         "name": "Female",
         "orientation": "v",
         "showlegend": false,
         "type": "histogram",
         "x": {
          "_inputArray": {
           "0": 9,
           "1": 9,
           "2": 9,
           "3": 9,
           "4": 8,
           "bdata": "CQkJCQg=",
           "dtype": "i1",
           "shape": "5"
          },
          "bdata": "CQkJCQg=",
          "dtype": "i1"
         },
         "xaxis": "x3",
         "yaxis": "y3"
        },
        {
         "bingroup": "x",
         "hovertemplate": "Gender=Male<br>Age_Group=19-21<br>Academic_Level=Undergraduate<br>Addicted_Score=%{x}<br>count=%{y}<extra></extra>",
         "legendgroup": "Male",
         "marker": {
          "color": "#EF553B",
          "opacity": 0.5,
          "pattern": {
           "shape": ""
          }
         },
         "name": "Male",
         "orientation": "v",
         "showlegend": true,
         "type": "histogram",
         "x": {
          "_inputArray": {
           "0": 7,
           "1": 5,
           "10": 6,
           "11": 5,
           "12": 7,
           "13": 7,
           "14": 6,
           "15": 7,
           "16": 7,
           "17": 6,
           "18": 7,
           "19": 6,
           "2": 5,
           "20": 7,
           "21": 7,
           "22": 6,
           "23": 8,
           "24": 5,
           "25": 7,
           "26": 7,
           "27": 8,
           "28": 5,
           "29": 7,
           "3": 7,
           "30": 5,
           "31": 8,
           "32": 7,
           "33": 5,
           "34": 8,
           "35": 7,
           "36": 5,
           "37": 8,
           "38": 7,
           "39": 8,
           "4": 5,
           "40": 8,
           "41": 4,
           "42": 5,
           "43": 5,
           "44": 9,
           "45": 8,
           "46": 8,
           "47": 7,
           "48": 5,
           "49": 7,
           "5": 5,
           "50": 8,
           "51": 8,
           "52": 7,
           "53": 5,
           "54": 7,
           "55": 5,
           "56": 8,
           "57": 9,
           "58": 4,
           "59": 5,
           "6": 7,
           "60": 5,
           "61": 9,
           "62": 8,
           "7": 6,
           "8": 5,
           "9": 7,
           "bdata": "BwUFBwUFBwYFBwYFBwcGBwcGBwYHBwYIBQcHCAUHBQgHBQgHBQgHCAgEBQUJCAgHBQcICAcFBwUICQQFBQkI",
           "dtype": "i1",
           "shape": "63"
          },
          "bdata": "BwUFBwUFBwYFBwYFBwcGBwcGBwYHBwYIBQcHCAUHBQgHBQgHBQgHCAgEBQUJCAgHBQcICAcFBwUICQQFBQkI",
          "dtype": "i1"
         },
         "xaxis": "x7",
         "yaxis": "y7"
        },
        {
         "bingroup": "x",
         "hovertemplate": "Gender=Male<br>Age_Group=19-21<br>Academic_Level=Graduate<br>Addicted_Score=%{x}<br>count=%{y}<extra></extra>",
         "legendgroup": "Male",
         "marker": {
          "color": "#EF553B",
          "opacity": 0.5,
          "pattern": {
           "shape": ""
          }
         },
         "name": "Male",
         "orientation": "v",
         "showlegend": false,
         "type": "histogram",
         "x": {
          "_inputArray": {
           "0": 7,
           "1": 4,
           "10": 8,
           "100": 6,
           "101": 6,
           "102": 5,
           "103": 5,
           "104": 7,
           "105": 6,
           "11": 7,
           "12": 6,
           "13": 8,
           "14": 7,
           "15": 6,
           "16": 8,
           "17": 7,
           "18": 7,
           "19": 7,
           "2": 8,
           "20": 7,
           "21": 8,
           "22": 7,
           "23": 7,
           "24": 7,
           "25": 8,
           "26": 7,
           "27": 7,
           "28": 7,
           "29": 8,
           "3": 6,
           "30": 7,
           "31": 7,
           "32": 7,
           "33": 8,
           "34": 7,
           "35": 7,
           "36": 7,
           "37": 8,
           "38": 7,
           "39": 7,
           "4": 8,
           "40": 7,
           "41": 8,
           "42": 7,
           "43": 4,
           "44": 7,
           "45": 7,
           "46": 8,
           "47": 7,
           "48": 4,
           "49": 7,
           "5": 7,
           "50": 7,
           "51": 8,
           "52": 7,
           "53": 4,
           "54": 7,
           "55": 7,
           "56": 8,
           "57": 7,
           "58": 4,
           "59": 7,
           "6": 6,
           "60": 7,
           "61": 8,
           "62": 7,
           "63": 4,
           "64": 7,
           "65": 7,
           "66": 8,
           "67": 7,
           "68": 4,
           "69": 7,
           "7": 8,
           "70": 7,
           "71": 8,
           "72": 7,
           "73": 4,
           "74": 7,
           "75": 7,
           "76": 8,
           "77": 7,
           "78": 4,
           "79": 7,
           "8": 7,
           "80": 7,
           "81": 8,
           "82": 7,
           "83": 4,
           "84": 7,
           "85": 7,
           "86": 8,
           "87": 7,
           "88": 5,
           "89": 7,
           "9": 6,
           "90": 6,
           "91": 6,
           "92": 5,
           "93": 5,
           "94": 7,
           "95": 6,
           "96": 6,
           "97": 5,
           "98": 5,
           "99": 7,
           "bdata": "BwQIBggHBggHBggHBggHBggHBwcHCAcHBwgHBwcIBwcHCAcHBwgHBwcIBwQHBwgHBAcHCAcEBwcIBwQHBwgHBAcHCAcEBwcIBwQHBwgHBAcHCAcEBwcIBwUHBgYFBQcGBgUFBwYGBQUHBg==",
           "dtype": "i1",
           "shape": "106"
          },
          "bdata": "BwQIBggHBggHBggHBggHBggHBwcHCAcHBwgHBwcIBwcHCAcHBwgHBwcIBwQHBwgHBAcHCAcEBwcIBwQHBwgHBAcHCAcEBwcIBwQHBwgHBAcHCAcEBwcIBwUHBgYFBQcGBgUFBwYGBQUHBg==",
          "dtype": "i1"
         },
         "xaxis": "x8",
         "yaxis": "y8"
        },
        {
         "bingroup": "x",
         "hovertemplate": "Gender=Male<br>Age_Group=19-21<br>Academic_Level=High School<br>Addicted_Score=%{x}<br>count=%{y}<extra></extra>",
         "legendgroup": "Male",
         "marker": {
          "color": "#EF553B",
          "opacity": 0.5,
          "pattern": {
           "shape": ""
          }
         },
         "name": "Male",
         "orientation": "v",
         "showlegend": false,
         "type": "histogram",
         "x": {
          "_inputArray": {
           "0": 8,
           "1": 8,
           "2": 9,
           "bdata": "CAgJ",
           "dtype": "i1",
           "shape": "3"
          },
          "bdata": "CAgJ",
          "dtype": "i1"
         },
         "xaxis": "x9",
         "yaxis": "y9"
        },
        {
         "bingroup": "x",
         "hovertemplate": "Gender=Male<br>Age_Group=22-24<br>Academic_Level=Graduate<br>Addicted_Score=%{x}<br>count=%{y}<extra></extra>",
         "legendgroup": "Male",
         "marker": {
          "color": "#EF553B",
          "opacity": 0.5,
          "pattern": {
           "shape": ""
          }
         },
         "name": "Male",
         "orientation": "v",
         "showlegend": false,
         "type": "histogram",
         "x": {
          "_inputArray": {
           "0": 3,
           "1": 2,
           "10": 5,
           "100": 7,
           "101": 7,
           "102": 8,
           "103": 7,
           "104": 4,
           "105": 7,
           "106": 7,
           "107": 8,
           "108": 7,
           "109": 4,
           "11": 3,
           "110": 7,
           "111": 7,
           "112": 6,
           "113": 5,
           "114": 5,
           "115": 7,
           "116": 6,
           "117": 6,
           "118": 5,
           "119": 5,
           "12": 4,
           "120": 7,
           "121": 6,
           "122": 6,
           "123": 5,
           "124": 5,
           "125": 7,
           "126": 6,
           "127": 6,
           "128": 5,
           "129": 4,
           "13": 4,
           "130": 9,
           "131": 8,
           "132": 8,
           "133": 6,
           "134": 5,
           "135": 7,
           "136": 8,
           "137": 8,
           "138": 7,
           "139": 5,
           "14": 5,
           "140": 7,
           "141": 8,
           "142": 7,
           "143": 5,
           "144": 7,
           "145": 8,
           "146": 8,
           "147": 7,
           "148": 5,
           "149": 7,
           "15": 4,
           "150": 5,
           "151": 8,
           "152": 9,
           "153": 4,
           "154": 5,
           "155": 5,
           "156": 9,
           "157": 8,
           "158": 8,
           "159": 7,
           "16": 5,
           "160": 5,
           "161": 7,
           "162": 8,
           "163": 8,
           "164": 7,
           "165": 5,
           "166": 7,
           "167": 5,
           "168": 8,
           "169": 9,
           "17": 4,
           "170": 4,
           "18": 5,
           "19": 8,
           "2": 4,
           "20": 7,
           "21": 5,
           "22": 8,
           "23": 7,
           "24": 5,
           "25": 8,
           "26": 7,
           "27": 7,
           "28": 6,
           "29": 8,
           "3": 3,
           "30": 7,
           "31": 6,
           "32": 8,
           "33": 7,
           "34": 6,
           "35": 8,
           "36": 7,
           "37": 6,
           "38": 8,
           "39": 7,
           "4": 5,
           "40": 6,
           "41": 8,
           "42": 4,
           "43": 5,
           "44": 4,
           "45": 5,
           "46": 4,
           "47": 5,
           "48": 4,
           "49": 5,
           "5": 3,
           "50": 4,
           "51": 5,
           "52": 4,
           "53": 5,
           "54": 4,
           "55": 5,
           "56": 4,
           "57": 5,
           "58": 4,
           "59": 5,
           "6": 5,
           "60": 4,
           "61": 5,
           "62": 4,
           "63": 5,
           "64": 4,
           "65": 5,
           "66": 4,
           "67": 8,
           "68": 7,
           "69": 4,
           "7": 4,
           "70": 7,
           "71": 7,
           "72": 8,
           "73": 7,
           "74": 4,
           "75": 7,
           "76": 7,
           "77": 8,
           "78": 7,
           "79": 4,
           "8": 5,
           "80": 7,
           "81": 7,
           "82": 8,
           "83": 7,
           "84": 4,
           "85": 7,
           "86": 7,
           "87": 8,
           "88": 7,
           "89": 4,
           "9": 4,
           "90": 7,
           "91": 7,
           "92": 8,
           "93": 7,
           "94": 4,
           "95": 7,
           "96": 7,
           "97": 8,
           "98": 7,
           "99": 4,
           "bdata": "AwIEAwUDBQQFBAUDBAQFBAUEBQgHBQgHBQgHBwYIBwYIBwYIBwYIBwYIBAUEBQQFBAUEBQQFBAUEBQQFBAUEBQQFBAgHBAcHCAcEBwcIBwQHBwgHBAcHCAcEBwcIBwQHBwgHBAcHCAcEBwcIBwQHBwYFBQcGBgUFBwYGBQUHBgYFBAkICAYFBwgIBwUHCAcFBwgIBwUHBQgJBAUFCQgIBwUHCAgHBQcFCAkE",
           "dtype": "i1",
           "shape": "171"
          },
          "bdata": "AwIEAwUDBQQFBAUDBAQFBAUEBQgHBQgHBQgHBwYIBwYIBwYIBwYIBwYIBAUEBQQFBAUEBQQFBAUEBQQFBAUEBQQFBAgHBAcHCAcEBwcIBwQHBwgHBAcHCAcEBwcIBwQHBwgHBAcHCAcEBwcIBwQHBwYFBQcGBgUFBwYGBQUHBgYFBAkICAYFBwgIBwUHCAcFBwgIBwUHBQgJBAUFCQgIBwUHCAgHBQcFCAkE",
          "dtype": "i1"
         },
         "xaxis": "x5",
         "yaxis": "y5"
        },
        {
         "bingroup": "x",
         "hovertemplate": "Gender=Male<br>Age_Group=16-18<br>Academic_Level=High School<br>Addicted_Score=%{x}<br>count=%{y}<extra></extra>",
         "legendgroup": "Male",
         "marker": {
          "color": "#EF553B",
          "opacity": 0.5,
          "pattern": {
           "shape": ""
          }
         },
         "name": "Male",
         "orientation": "v",
         "showlegend": false,
         "type": "histogram",
         "x": {
          "_inputArray": {
           "0": 4,
           "1": 5,
           "2": 8,
           "3": 8,
           "4": 8,
           "5": 8,
           "6": 8,
           "7": 8,
           "8": 8,
           "bdata": "BAUICAgICAgI",
           "dtype": "i1",
           "shape": "9"
          },
          "bdata": "BAUICAgICAgI",
          "dtype": "i1"
         },
         "xaxis": "x3",
         "yaxis": "y3"
        }
       ],
       "layout": {
        "annotations": [
         {
          "font": {},
          "showarrow": false,
          "text": "Academic_Level=Undergraduate",
          "x": 0.15666666666666665,
          "xanchor": "center",
          "xref": "paper",
          "y": 0.9999999999999998,
          "yanchor": "bottom",
          "yref": "paper"
         },
         {
          "font": {},
          "showarrow": false,
          "text": "Academic_Level=Graduate",
          "x": 0.49,
          "xanchor": "center",
          "xref": "paper",
          "y": 0.9999999999999998,
          "yanchor": "bottom",
          "yref": "paper"
         },
         {
          "font": {},
          "showarrow": false,
          "text": "Academic_Level=High School",
          "x": 0.8233333333333333,
          "xanchor": "center",
          "xref": "paper",
          "y": 0.9999999999999998,
          "yanchor": "bottom",
          "yref": "paper"
         },
         {
          "font": {},
          "showarrow": false,
          "text": "Age_Group=16-18",
          "textangle": 90,
          "x": 0.98,
          "xanchor": "left",
          "xref": "paper",
          "y": 0.15666666666666665,
          "yanchor": "middle",
          "yref": "paper"
         },
         {
          "font": {},
          "showarrow": false,
          "text": "Age_Group=22-24",
          "textangle": 90,
          "x": 0.98,
          "xanchor": "left",
          "xref": "paper",
          "y": 0.4999999999999999,
          "yanchor": "middle",
          "yref": "paper"
         },
         {
          "font": {},
          "showarrow": false,
          "text": "Age_Group=19-21",
          "textangle": 90,
          "x": 0.98,
          "xanchor": "left",
          "xref": "paper",
          "y": 0.8433333333333332,
          "yanchor": "middle",
          "yref": "paper"
         }
        ],
        "autosize": true,
        "barmode": "overlay",
        "legend": {
         "title": {
          "text": "Gender"
         },
         "tracegroupgap": 0
        },
        "template": {
         "data": {
          "bar": [
           {
            "error_x": {
             "color": "#2a3f5f"
            },
            "error_y": {
             "color": "#2a3f5f"
            },
            "marker": {
             "line": {
              "color": "#E5ECF6",
              "width": 0.5
             },
             "pattern": {
              "fillmode": "overlay",
              "size": 10,
              "solidity": 0.2
             }
            },
            "type": "bar"
           }
          ],
          "barpolar": [
           {
            "marker": {
             "line": {
              "color": "#E5ECF6",
              "width": 0.5
             },
             "pattern": {
              "fillmode": "overlay",
              "size": 10,
              "solidity": 0.2
             }
            },
            "type": "barpolar"
           }
          ],
          "carpet": [
           {
            "aaxis": {
             "endlinecolor": "#2a3f5f",
             "gridcolor": "white",
             "linecolor": "white",
             "minorgridcolor": "white",
             "startlinecolor": "#2a3f5f"
            },
            "baxis": {
             "endlinecolor": "#2a3f5f",
             "gridcolor": "white",
             "linecolor": "white",
             "minorgridcolor": "white",
             "startlinecolor": "#2a3f5f"
            },
            "type": "carpet"
           }
          ],
          "choropleth": [
           {
            "colorbar": {
             "outlinewidth": 0,
             "ticks": ""
            },
            "type": "choropleth"
           }
          ],
          "contour": [
           {
            "colorbar": {
             "outlinewidth": 0,
             "ticks": ""
            },
            "colorscale": [
             [
              0,
              "#0d0887"
             ],
             [
              0.1111111111111111,
              "#46039f"
             ],
             [
              0.2222222222222222,
              "#7201a8"
             ],
             [
              0.3333333333333333,
              "#9c179e"
             ],
             [
              0.4444444444444444,
              "#bd3786"
             ],
             [
              0.5555555555555556,
              "#d8576b"
             ],
             [
              0.6666666666666666,
              "#ed7953"
             ],
             [
              0.7777777777777778,
              "#fb9f3a"
             ],
             [
              0.8888888888888888,
              "#fdca26"
             ],
             [
              1,
              "#f0f921"
             ]
            ],
            "type": "contour"
           }
          ],
          "contourcarpet": [
           {
            "colorbar": {
             "outlinewidth": 0,
             "ticks": ""
            },
            "type": "contourcarpet"
           }
          ],
          "heatmap": [
           {
            "colorbar": {
             "outlinewidth": 0,
             "ticks": ""
            },
            "colorscale": [
             [
              0,
              "#0d0887"
             ],
             [
              0.1111111111111111,
              "#46039f"
             ],
             [
              0.2222222222222222,
              "#7201a8"
             ],
             [
              0.3333333333333333,
              "#9c179e"
             ],
             [
              0.4444444444444444,
              "#bd3786"
             ],
             [
              0.5555555555555556,
              "#d8576b"
             ],
             [
              0.6666666666666666,
              "#ed7953"
             ],
             [
              0.7777777777777778,
              "#fb9f3a"
             ],
             [
              0.8888888888888888,
              "#fdca26"
             ],
             [
              1,
              "#f0f921"
             ]
            ],
            "type": "heatmap"
           }
          ],
          "histogram": [
           {
            "marker": {
             "pattern": {
              "fillmode": "overlay",
              "size": 10,
              "solidity": 0.2
             }
            },
            "type": "histogram"
           }
          ],
          "histogram2d": [
           {
            "colorbar": {
             "outlinewidth": 0,
             "ticks": ""
            },
            "colorscale": [
             [
              0,
              "#0d0887"
             ],
             [
              0.1111111111111111,
              "#46039f"
             ],
             [
              0.2222222222222222,
              "#7201a8"
             ],
             [
              0.3333333333333333,
              "#9c179e"
             ],
             [
              0.4444444444444444,
              "#bd3786"
             ],
             [
              0.5555555555555556,
              "#d8576b"
             ],
             [
              0.6666666666666666,
              "#ed7953"
             ],
             [
              0.7777777777777778,
              "#fb9f3a"
             ],
             [
              0.8888888888888888,
              "#fdca26"
             ],
             [
              1,
              "#f0f921"
             ]
            ],
            "type": "histogram2d"
           }
          ],
          "histogram2dcontour": [
           {
            "colorbar": {
             "outlinewidth": 0,
             "ticks": ""
            },
            "colorscale": [
             [
              0,
              "#0d0887"
             ],
             [
              0.1111111111111111,
              "#46039f"
             ],
             [
              0.2222222222222222,
              "#7201a8"
             ],
             [
              0.3333333333333333,
              "#9c179e"
             ],
             [
              0.4444444444444444,
              "#bd3786"
             ],
             [
              0.5555555555555556,
              "#d8576b"
             ],
             [
              0.6666666666666666,
              "#ed7953"
             ],
             [
              0.7777777777777778,
              "#fb9f3a"
             ],
             [
              0.8888888888888888,
              "#fdca26"
             ],
             [
              1,
              "#f0f921"
             ]
            ],
            "type": "histogram2dcontour"
           }
          ],
          "mesh3d": [
           {
            "colorbar": {
             "outlinewidth": 0,
             "ticks": ""
            },
            "type": "mesh3d"
           }
          ],
          "parcoords": [
           {
            "line": {
             "colorbar": {
              "outlinewidth": 0,
              "ticks": ""
             }
            },
            "type": "parcoords"
           }
          ],
          "pie": [
           {
            "automargin": true,
            "type": "pie"
           }
          ],
          "scatter": [
           {
            "fillpattern": {
             "fillmode": "overlay",
             "size": 10,
             "solidity": 0.2
            },
            "type": "scatter"
           }
          ],
          "scatter3d": [
           {
            "line": {
             "colorbar": {
              "outlinewidth": 0,
              "ticks": ""
             }
            },
            "marker": {
             "colorbar": {
              "outlinewidth": 0,
              "ticks": ""
             }
            },
            "type": "scatter3d"
           }
          ],
          "scattercarpet": [
           {
            "marker": {
             "colorbar": {
              "outlinewidth": 0,
              "ticks": ""
             }
            },
            "type": "scattercarpet"
           }
          ],
          "scattergeo": [
           {
            "marker": {
             "colorbar": {
              "outlinewidth": 0,
              "ticks": ""
             }
            },
            "type": "scattergeo"
           }
          ],
          "scattergl": [
           {
            "marker": {
             "colorbar": {
              "outlinewidth": 0,
              "ticks": ""
             }
            },
            "type": "scattergl"
           }
          ],
          "scattermap": [
           {
            "marker": {
             "colorbar": {
              "outlinewidth": 0,
              "ticks": ""
             }
            },
            "type": "scattermap"
           }
          ],
          "scattermapbox": [
           {
            "marker": {
             "colorbar": {
              "outlinewidth": 0,
              "ticks": ""
             }
            },
            "type": "scattermapbox"
           }
          ],
          "scatterpolar": [
           {
            "marker": {
             "colorbar": {
              "outlinewidth": 0,
              "ticks": ""
             }
            },
            "type": "scatterpolar"
           }
          ],
          "scatterpolargl": [
           {
            "marker": {
             "colorbar": {
              "outlinewidth": 0,
              "ticks": ""
             }
            },
            "type": "scatterpolargl"
           }
          ],
          "scatterternary": [
           {
            "marker": {
             "colorbar": {
              "outlinewidth": 0,
              "ticks": ""
             }
            },
            "type": "scatterternary"
           }
          ],
          "surface": [
           {
            "colorbar": {
             "outlinewidth": 0,
             "ticks": ""
            },
            "colorscale": [
             [
              0,
              "#0d0887"
             ],
             [
              0.1111111111111111,
              "#46039f"
             ],
             [
              0.2222222222222222,
              "#7201a8"
             ],
             [
              0.3333333333333333,
              "#9c179e"
             ],
             [
              0.4444444444444444,
              "#bd3786"
             ],
             [
              0.5555555555555556,
              "#d8576b"
             ],
             [
              0.6666666666666666,
              "#ed7953"
             ],
             [
              0.7777777777777778,
              "#fb9f3a"
             ],
             [
              0.8888888888888888,
              "#fdca26"
             ],
             [
              1,
              "#f0f921"
             ]
            ],
            "type": "surface"
           }
          ],
          "table": [
           {
            "cells": {
             "fill": {
              "color": "#EBF0F8"
             },
             "line": {
              "color": "white"
             }
            },
            "header": {
             "fill": {
              "color": "#C8D4E3"
             },
             "line": {
              "color": "white"
             }
            },
            "type": "table"
           }
          ]
         },
         "layout": {
          "annotationdefaults": {
           "arrowcolor": "#2a3f5f",
           "arrowhead": 0,
           "arrowwidth": 1
          },
          "autotypenumbers": "strict",
          "coloraxis": {
           "colorbar": {
            "outlinewidth": 0,
            "ticks": ""
           }
          },
          "colorscale": {
           "diverging": [
            [
             0,
             "#8e0152"
            ],
            [
             0.1,
             "#c51b7d"
            ],
            [
             0.2,
             "#de77ae"
            ],
            [
             0.3,
             "#f1b6da"
            ],
            [
             0.4,
             "#fde0ef"
            ],
            [
             0.5,
             "#f7f7f7"
            ],
            [
             0.6,
             "#e6f5d0"
            ],
            [
             0.7,
             "#b8e186"
            ],
            [
             0.8,
             "#7fbc41"
            ],
            [
             0.9,
             "#4d9221"
            ],
            [
             1,
             "#276419"
            ]
           ],
           "sequential": [
            [
             0,
             "#0d0887"
            ],
            [
             0.1111111111111111,
             "#46039f"
            ],
            [
             0.2222222222222222,
             "#7201a8"
            ],
            [
             0.3333333333333333,
             "#9c179e"
            ],
            [
             0.4444444444444444,
             "#bd3786"
            ],
            [
             0.5555555555555556,
             "#d8576b"
            ],
            [
             0.6666666666666666,
             "#ed7953"
            ],
            [
             0.7777777777777778,
             "#fb9f3a"
            ],
            [
             0.8888888888888888,
             "#fdca26"
            ],
            [
             1,
             "#f0f921"
            ]
           ],
           "sequentialminus": [
            [
             0,
             "#0d0887"
            ],
            [
             0.1111111111111111,
             "#46039f"
            ],
            [
             0.2222222222222222,
             "#7201a8"
            ],
            [
             0.3333333333333333,
             "#9c179e"
            ],
            [
             0.4444444444444444,
             "#bd3786"
            ],
            [
             0.5555555555555556,
             "#d8576b"
            ],
            [
             0.6666666666666666,
             "#ed7953"
            ],
            [
             0.7777777777777778,
             "#fb9f3a"
            ],
            [
             0.8888888888888888,
             "#fdca26"
            ],
            [
             1,
             "#f0f921"
            ]
           ]
          },
          "colorway": [
           "#636efa",
           "#EF553B",
           "#00cc96",
           "#ab63fa",
           "#FFA15A",
           "#19d3f3",
           "#FF6692",
           "#B6E880",
           "#FF97FF",
           "#FECB52"
          ],
          "font": {
           "color": "#2a3f5f"
          },
          "geo": {
           "bgcolor": "white",
           "lakecolor": "white",
           "landcolor": "#E5ECF6",
           "showlakes": true,
           "showland": true,
           "subunitcolor": "white"
          },
          "hoverlabel": {
           "align": "left"
          },
          "hovermode": "closest",
          "mapbox": {
           "style": "light"
          },
          "paper_bgcolor": "white",
          "plot_bgcolor": "#E5ECF6",
          "polar": {
           "angularaxis": {
            "gridcolor": "white",
            "linecolor": "white",
            "ticks": ""
           },
           "bgcolor": "#E5ECF6",
           "radialaxis": {
            "gridcolor": "white",
            "linecolor": "white",
            "ticks": ""
           }
          },
          "scene": {
           "xaxis": {
            "backgroundcolor": "#E5ECF6",
            "gridcolor": "white",
            "gridwidth": 2,
            "linecolor": "white",
            "showbackground": true,
            "ticks": "",
            "zerolinecolor": "white"
           },
           "yaxis": {
            "backgroundcolor": "#E5ECF6",
            "gridcolor": "white",
            "gridwidth": 2,
            "linecolor": "white",
            "showbackground": true,
            "ticks": "",
            "zerolinecolor": "white"
           },
           "zaxis": {
            "backgroundcolor": "#E5ECF6",
            "gridcolor": "white",
            "gridwidth": 2,
            "linecolor": "white",
            "showbackground": true,
            "ticks": "",
            "zerolinecolor": "white"
           }
          },
          "shapedefaults": {
           "line": {
            "color": "#2a3f5f"
           }
          },
          "ternary": {
           "aaxis": {
            "gridcolor": "white",
            "linecolor": "white",
            "ticks": ""
           },
           "baxis": {
            "gridcolor": "white",
            "linecolor": "white",
            "ticks": ""
           },
           "bgcolor": "#E5ECF6",
           "caxis": {
            "gridcolor": "white",
            "linecolor": "white",
            "ticks": ""
           }
          },
          "title": {
           "x": 0.05
          },
          "xaxis": {
           "automargin": true,
           "gridcolor": "white",
           "linecolor": "white",
           "ticks": "",
           "title": {
            "standoff": 15
           },
           "zerolinecolor": "white",
           "zerolinewidth": 2
          },
          "yaxis": {
           "automargin": true,
           "gridcolor": "white",
           "linecolor": "white",
           "ticks": "",
           "title": {
            "standoff": 15
           },
           "zerolinecolor": "white",
           "zerolinewidth": 2
          }
         }
        },
        "title": {
         "text": "Addiction Score Distribution by Demographics"
        },
        "xaxis": {
         "anchor": "y",
         "autorange": true,
         "domain": [
          0,
          0.3133333333333333
         ],
         "range": [
          1.5,
          9.5
         ],
         "title": {
          "text": "Addicted_Score"
         }
        },
        "xaxis2": {
         "anchor": "y2",
         "domain": [
          0.3333333333333333,
          0.6466666666666666
         ],
         "matches": "x",
         "title": {
          "text": "Addicted_Score"
         }
        },
        "xaxis3": {
         "anchor": "y3",
         "autorange": true,
         "domain": [
          0.6666666666666666,
          0.98
         ],
         "matches": "x",
         "range": [
          1.5,
          9.5
         ],
         "title": {
          "text": "Addicted_Score"
         },
         "type": "linear"
        },
        "xaxis4": {
         "anchor": "y4",
         "domain": [
          0,
          0.3133333333333333
         ],
         "matches": "x",
         "showticklabels": false
        },
        "xaxis5": {
         "anchor": "y5",
         "autorange": true,
         "domain": [
          0.3333333333333333,
          0.6466666666666666
         ],
         "matches": "x",
         "range": [
          1.5,
          9.5
         ],
         "showticklabels": false,
         "type": "linear"
        },
        "xaxis6": {
         "anchor": "y6",
         "domain": [
          0.6666666666666666,
          0.98
         ],
         "matches": "x",
         "showticklabels": false
        },
        "xaxis7": {
         "anchor": "y7",
         "autorange": true,
         "domain": [
          0,
          0.3133333333333333
         ],
         "matches": "x",
         "range": [
          1.5,
          9.5
         ],
         "showticklabels": false,
         "type": "linear"
        },
        "xaxis8": {
         "anchor": "y8",
         "autorange": true,
         "domain": [
          0.3333333333333333,
          0.6466666666666666
         ],
         "matches": "x",
         "range": [
          1.5,
          9.5
         ],
         "showticklabels": false,
         "type": "linear"
        },
        "xaxis9": {
         "anchor": "y9",
         "autorange": true,
         "domain": [
          0.6666666666666666,
          0.98
         ],
         "matches": "x",
         "range": [
          1.5,
          9.5
         ],
         "showticklabels": false,
         "type": "linear"
        },
        "yaxis": {
         "anchor": "x",
         "autorange": true,
         "domain": [
          0,
          0.3133333333333333
         ],
         "range": [
          0,
          75.78947368421052
         ],
         "title": {
          "text": "count"
         }
        },
        "yaxis2": {
         "anchor": "x2",
         "domain": [
          0,
          0.3133333333333333
         ],
         "matches": "y",
         "showticklabels": false
        },
        "yaxis3": {
         "anchor": "x3",
         "autorange": true,
         "domain": [
          0,
          0.3133333333333333
         ],
         "matches": "y",
         "range": [
          0,
          75.78947368421052
         ],
         "showticklabels": false
        },
        "yaxis4": {
         "anchor": "x4",
         "domain": [
          0.34333333333333327,
          0.6566666666666665
         ],
         "matches": "y",
         "title": {
          "text": "count"
         }
        },
        "yaxis5": {
         "anchor": "x5",
         "autorange": true,
         "domain": [
          0.34333333333333327,
          0.6566666666666665
         ],
         "matches": "y",
         "range": [
          0,
          75.78947368421052
         ],
         "showticklabels": false
        },
        "yaxis6": {
         "anchor": "x6",
         "domain": [
          0.34333333333333327,
          0.6566666666666665
         ],
         "matches": "y",
         "showticklabels": false
        },
        "yaxis7": {
         "anchor": "x7",
         "autorange": true,
         "domain": [
          0.6866666666666665,
          0.9999999999999998
         ],
         "matches": "y",
         "range": [
          0,
          75.78947368421052
         ],
         "title": {
          "text": "count"
         }
        },
        "yaxis8": {
         "anchor": "x8",
         "autorange": true,
         "domain": [
          0.6866666666666665,
          0.9999999999999998
         ],
         "matches": "y",
         "range": [
          0,
          75.78947368421052
         ],
         "showticklabels": false
        },
        "yaxis9": {
         "anchor": "x9",
         "autorange": true,
         "domain": [
          0.6866666666666665,
          0.9999999999999998
         ],
         "matches": "y",
         "range": [
          0,
          75.78947368421052
         ],
         "showticklabels": false
        }
       }
      },
      "image/png": "[encoded data removed]"
     },
     "metadata": {},
     "output_type": "display_data"
    }
   ],
   "source": [
    "# Interactive bar chart: Addiction Score by demographic\n",
    "fig = px.histogram(df, x='Addicted_Score', color='Gender', barmode='overlay',\n",
    "                   facet_row='Age_Group', facet_col='Academic_Level',\n",
    "                   title='Addiction Score Distribution by Demographics')\n",
    "fig.show()\n"
   ]
  },
  {
   "cell_type": "code",
   "execution_count": 12,
   "id": "7fcca1d8-5287-4f3a-ae0e-fa26eb443338",
   "metadata": {},
   "outputs": [
    {
     "name": "stderr",
     "output_type": "stream",
     "text": [
      "C:\\Users\\rajar\\anaconda3\\Lib\\site-packages\\statsmodels\\regression\\linear_model.py:1781: RuntimeWarning:\n",
      "\n",
      "divide by zero encountered in scalar divide\n",
      "\n"
     ]
    },
    {
     "data": {
      "application/vnd.plotly.v1+json": {
       "config": {
        "plotlyServerURL": "https://plot.ly"
       },
       "data": [
        {
         "hovertemplate": "Gender=Female<br>Academic_Level=Undergraduate<br>Addicted_Score=%{x}<br>Affects Academic Performance (1=Yes, 0=No)=%{y}<extra></extra>",
         "legendgroup": "Female",
         "marker": {
          "color": "#636efa",
          "symbol": "circle"
         },
         "mode": "markers",
         "name": "Female",
         "orientation": "v",
         "showlegend": true,
         "type": "scatter",
         "x": {
          "_inputArray": {
           "0": 8,
           "1": 9,
           "10": 8,
           "100": 9,
           "101": 5,
           "102": 3,
           "103": 6,
           "104": 9,
           "105": 5,
           "106": 3,
           "107": 6,
           "108": 9,
           "109": 5,
           "11": 7,
           "110": 3,
           "111": 6,
           "112": 9,
           "113": 5,
           "114": 3,
           "115": 6,
           "116": 9,
           "117": 5,
           "118": 3,
           "119": 6,
           "12": 7,
           "120": 9,
           "121": 5,
           "122": 7,
           "123": 6,
           "124": 4,
           "125": 9,
           "126": 5,
           "127": 7,
           "128": 6,
           "129": 4,
           "13": 8,
           "130": 9,
           "131": 5,
           "132": 7,
           "133": 6,
           "134": 4,
           "135": 9,
           "136": 5,
           "137": 7,
           "138": 6,
           "139": 4,
           "14": 7,
           "140": 9,
           "141": 5,
           "142": 7,
           "143": 6,
           "144": 4,
           "145": 9,
           "146": 5,
           "147": 7,
           "148": 6,
           "149": 4,
           "15": 7,
           "150": 9,
           "151": 5,
           "152": 7,
           "153": 6,
           "154": 4,
           "155": 9,
           "156": 5,
           "157": 7,
           "158": 6,
           "159": 4,
           "16": 8,
           "160": 9,
           "161": 5,
           "162": 7,
           "163": 6,
           "164": 4,
           "165": 9,
           "166": 5,
           "167": 7,
           "168": 6,
           "169": 4,
           "17": 8,
           "170": 9,
           "171": 5,
           "172": 7,
           "173": 6,
           "174": 4,
           "175": 9,
           "176": 5,
           "177": 7,
           "178": 6,
           "179": 4,
           "18": 7,
           "180": 9,
           "181": 5,
           "182": 7,
           "183": 6,
           "184": 4,
           "185": 9,
           "186": 5,
           "187": 7,
           "188": 6,
           "189": 4,
           "19": 7,
           "190": 9,
           "191": 5,
           "192": 7,
           "193": 6,
           "194": 4,
           "195": 9,
           "196": 5,
           "197": 7,
           "198": 6,
           "199": 4,
           "2": 9,
           "20": 8,
           "200": 9,
           "201": 5,
           "202": 7,
           "203": 6,
           "204": 4,
           "205": 9,
           "206": 5,
           "207": 7,
           "208": 6,
           "209": 4,
           "21": 7,
           "210": 9,
           "211": 5,
           "212": 7,
           "213": 4,
           "214": 7,
           "215": 8,
           "216": 8,
           "217": 7,
           "218": 4,
           "219": 7,
           "22": 7,
           "220": 8,
           "221": 8,
           "222": 7,
           "223": 4,
           "224": 7,
           "225": 8,
           "226": 8,
           "227": 7,
           "228": 4,
           "229": 7,
           "23": 7,
           "230": 8,
           "231": 8,
           "232": 7,
           "233": 4,
           "234": 7,
           "235": 8,
           "236": 8,
           "237": 7,
           "238": 4,
           "239": 7,
           "24": 7,
           "240": 8,
           "241": 8,
           "242": 7,
           "243": 4,
           "244": 7,
           "245": 8,
           "246": 8,
           "247": 7,
           "248": 8,
           "249": 5,
           "25": 7,
           "250": 7,
           "251": 5,
           "252": 8,
           "253": 8,
           "254": 4,
           "255": 5,
           "256": 5,
           "257": 9,
           "258": 8,
           "259": 8,
           "26": 8,
           "260": 5,
           "261": 8,
           "262": 9,
           "263": 4,
           "264": 5,
           "265": 5,
           "266": 9,
           "267": 8,
           "268": 8,
           "269": 7,
           "27": 7,
           "270": 5,
           "271": 7,
           "272": 8,
           "273": 8,
           "274": 7,
           "275": 5,
           "276": 7,
           "277": 5,
           "278": 8,
           "279": 9,
           "28": 7,
           "280": 4,
           "281": 5,
           "282": 5,
           "283": 9,
           "284": 8,
           "285": 8,
           "286": 7,
           "287": 5,
           "288": 7,
           "289": 8,
           "29": 7,
           "3": 8,
           "30": 5,
           "31": 7,
           "32": 8,
           "33": 5,
           "34": 8,
           "35": 7,
           "36": 5,
           "37": 8,
           "38": 7,
           "39": 5,
           "4": 8,
           "40": 8,
           "41": 7,
           "42": 7,
           "43": 8,
           "44": 5,
           "45": 7,
           "46": 8,
           "47": 5,
           "48": 7,
           "49": 8,
           "5": 7,
           "50": 5,
           "51": 7,
           "52": 8,
           "53": 5,
           "54": 7,
           "55": 8,
           "56": 5,
           "57": 7,
           "58": 8,
           "59": 5,
           "6": 7,
           "60": 7,
           "61": 8,
           "62": 5,
           "63": 7,
           "64": 8,
           "65": 5,
           "66": 7,
           "67": 8,
           "68": 5,
           "69": 7,
           "7": 8,
           "70": 8,
           "71": 5,
           "72": 9,
           "73": 5,
           "74": 3,
           "75": 6,
           "76": 9,
           "77": 5,
           "78": 3,
           "79": 6,
           "8": 7,
           "80": 9,
           "81": 5,
           "82": 3,
           "83": 6,
           "84": 9,
           "85": 5,
           "86": 3,
           "87": 6,
           "88": 9,
           "89": 5,
           "9": 7,
           "90": 3,
           "91": 6,
           "92": 9,
           "93": 5,
           "94": 3,
           "95": 6,
           "96": 9,
           "97": 5,
           "98": 3,
           "99": 6,
           "bdata": "CAkJCAgHBwgHBwgHBwgHBwgIBwcIBwcHBwcIBwcHBQcIBQgHBQgHBQgHBwgFBwgFBwgFBwgFBwgFBwgFBwgFBwgFBwgFBwgFCQUDBgkFAwYJBQMGCQUDBgkFAwYJBQMGCQUDBgkFAwYJBQMGCQUDBgkFAwYJBQMGCQUHBgQJBQcGBAkFBwYECQUHBgQJBQcGBAkFBwYECQUHBgQJBQcGBAkFBwYECQUHBgQJBQcGBAkFBwYECQUHBgQJBQcGBAkFBwYECQUHBgQJBQcGBAkFBwYECQUHBAcICAcEBwgIBwQHCAgHBAcICAcEBwgIBwQHCAgHBAcICAcIBQcFCAgEBQUJCAgFCAkEBQUJCAgHBQcICAcFBwUICQQFBQkICAcFBwg=",
           "dtype": "i1",
           "shape": "290"
          },
          "bdata": "CAkJCAgHBwgHBwgHBwgHBwgIBwcIBwcHBwcIBwcHBQcIBQgHBQgHBQgHBwgFBwgFBwgFBwgFBwgFBwgFBwgFBwgFBwgFBwgFCQUDBgkFAwYJBQMGCQUDBgkFAwYJBQMGCQUDBgkFAwYJBQMGCQUDBgkFAwYJBQMGCQUHBgQJBQcGBAkFBwYECQUHBgQJBQcGBAkFBwYECQUHBgQJBQcGBAkFBwYECQUHBgQJBQcGBAkFBwYECQUHBgQJBQcGBAkFBwYECQUHBgQJBQcGBAkFBwYECQUHBAcICAcEBwgIBwQHCAgHBAcICAcEBwgIBwQHCAgHBAcICAcIBQcFCAgEBQUJCAgFCAkEBQUJCAgHBQcICAcFBwUICQQFBQkICAcFBwg=",
          "dtype": "i1"
         },
         "xaxis": "x",
         "y": {
          "_inputArray": {
           "0": 1,
           "1": 1,
           "10": 1,
           "100": 1,
           "101": 0,
           "102": 0,
           "103": 1,
           "104": 1,
           "105": 0,
           "106": 0,
           "107": 1,
           "108": 1,
           "109": 0,
           "11": 1,
           "110": 0,
           "111": 1,
           "112": 1,
           "113": 0,
           "114": 0,
           "115": 1,
           "116": 1,
           "117": 0,
           "118": 0,
           "119": 1,
           "12": 1,
           "120": 1,
           "121": 0,
           "122": 1,
           "123": 1,
           "124": 0,
           "125": 1,
           "126": 0,
           "127": 1,
           "128": 1,
           "129": 0,
           "13": 1,
           "130": 1,
           "131": 0,
           "132": 1,
           "133": 1,
           "134": 0,
           "135": 1,
           "136": 0,
           "137": 1,
           "138": 1,
           "139": 0,
           "14": 1,
           "140": 1,
           "141": 0,
           "142": 1,
           "143": 1,
           "144": 0,
           "145": 1,
           "146": 0,
           "147": 1,
           "148": 1,
           "149": 0,
           "15": 1,
           "150": 1,
           "151": 0,
           "152": 1,
           "153": 1,
           "154": 0,
           "155": 1,
           "156": 0,
           "157": 1,
           "158": 1,
           "159": 0,
           "16": 1,
           "160": 1,
           "161": 0,
           "162": 1,
           "163": 1,
           "164": 0,
           "165": 1,
           "166": 0,
           "167": 1,
           "168": 1,
           "169": 0,
           "17": 1,
           "170": 1,
           "171": 0,
           "172": 1,
           "173": 1,
           "174": 0,
           "175": 1,
           "176": 0,
           "177": 1,
           "178": 1,
           "179": 0,
           "18": 1,
           "180": 1,
           "181": 0,
           "182": 1,
           "183": 1,
           "184": 0,
           "185": 1,
           "186": 0,
           "187": 1,
           "188": 1,
           "189": 0,
           "19": 1,
           "190": 1,
           "191": 0,
           "192": 1,
           "193": 1,
           "194": 0,
           "195": 1,
           "196": 0,
           "197": 1,
           "198": 1,
           "199": 0,
           "2": 1,
           "20": 1,
           "200": 1,
           "201": 0,
           "202": 1,
           "203": 1,
           "204": 0,
           "205": 1,
           "206": 0,
           "207": 1,
           "208": 1,
           "209": 0,
           "21": 1,
           "210": 1,
           "211": 0,
           "212": 1,
           "213": 0,
           "214": 1,
           "215": 1,
           "216": 1,
           "217": 1,
           "218": 0,
           "219": 1,
           "22": 1,
           "220": 1,
           "221": 1,
           "222": 1,
           "223": 0,
           "224": 1,
           "225": 1,
           "226": 1,
           "227": 1,
           "228": 0,
           "229": 1,
           "23": 1,
           "230": 1,
           "231": 1,
           "232": 1,
           "233": 0,
           "234": 1,
           "235": 1,
           "236": 1,
           "237": 1,
           "238": 0,
           "239": 1,
           "24": 1,
           "240": 1,
           "241": 1,
           "242": 1,
           "243": 0,
           "244": 1,
           "245": 1,
           "246": 1,
           "247": 1,
           "248": 1,
           "249": 0,
           "25": 1,
           "250": 1,
           "251": 0,
           "252": 1,
           "253": 1,
           "254": 0,
           "255": 0,
           "256": 0,
           "257": 1,
           "258": 1,
           "259": 1,
           "26": 1,
           "260": 0,
           "261": 1,
           "262": 1,
           "263": 0,
           "264": 0,
           "265": 0,
           "266": 1,
           "267": 1,
           "268": 1,
           "269": 1,
           "27": 1,
           "270": 0,
           "271": 1,
           "272": 1,
           "273": 1,
           "274": 1,
           "275": 0,
           "276": 1,
           "277": 0,
           "278": 1,
           "279": 1,
           "28": 1,
           "280": 0,
           "281": 0,
           "282": 0,
           "283": 1,
           "284": 1,
           "285": 1,
           "286": 1,
           "287": 0,
           "288": 1,
           "289": 1,
           "29": 1,
           "3": 1,
           "30": 0,
           "31": 1,
           "32": 1,
           "33": 0,
           "34": 1,
           "35": 1,
           "36": 0,
           "37": 1,
           "38": 1,
           "39": 0,
           "4": 1,
           "40": 1,
           "41": 1,
           "42": 1,
           "43": 1,
           "44": 0,
           "45": 1,
           "46": 1,
           "47": 0,
           "48": 1,
           "49": 1,
           "5": 1,
           "50": 0,
           "51": 1,
           "52": 1,
           "53": 0,
           "54": 1,
           "55": 1,
           "56": 0,
           "57": 1,
           "58": 1,
           "59": 0,
           "6": 1,
           "60": 1,
           "61": 1,
           "62": 0,
           "63": 1,
           "64": 1,
           "65": 0,
           "66": 1,
           "67": 1,
           "68": 0,
           "69": 1,
           "7": 1,
           "70": 1,
           "71": 0,
           "72": 1,
           "73": 0,
           "74": 0,
           "75": 1,
           "76": 1,
           "77": 0,
           "78": 0,
           "79": 1,
           "8": 1,
           "80": 1,
           "81": 0,
           "82": 0,
           "83": 1,
           "84": 1,
           "85": 0,
           "86": 0,
           "87": 1,
           "88": 1,
           "89": 0,
           "9": 1,
           "90": 0,
           "91": 1,
           "92": 1,
           "93": 0,
           "94": 0,
           "95": 1,
           "96": 1,
           "97": 0,
           "98": 0,
           "99": 1,
           "bdata": "AQEBAQEBAQEBAQEBAQEBAQEBAQEBAQEBAQEBAQEBAAEBAAEBAAEBAAEBAQEAAQEAAQEAAQEAAQEAAQEAAQEAAQEAAQEAAQEAAQAAAQEAAAEBAAABAQAAAQEAAAEBAAABAQAAAQEAAAEBAAABAQAAAQEAAAEBAAABAQABAQABAAEBAAEAAQEAAQABAQABAAEBAAEAAQEAAQABAQABAAEBAAEAAQEAAQABAQABAAEBAAEAAQEAAQABAQABAAEBAAEAAQEAAQABAQABAAEBAAEAAQEAAQABAAEBAQEAAQEBAQABAQEBAAEBAQEAAQEBAQABAQEBAAEBAQEBAAEAAQEAAAABAQEAAQEAAAABAQEBAAEBAQEAAQABAQAAAAEBAQEAAQE=",
           "dtype": "i1",
           "shape": "290"
          },
          "bdata": "AQEBAQEBAQEBAQEBAQEBAQEBAQEBAQEBAQEBAQEBAAEBAAEBAAEBAAEBAQEAAQEAAQEAAQEAAQEAAQEAAQEAAQEAAQEAAQEAAQAAAQEAAAEBAAABAQAAAQEAAAEBAAABAQAAAQEAAAEBAAABAQAAAQEAAAEBAAABAQABAQABAAEBAAEAAQEAAQABAQABAAEBAAEAAQEAAQABAQABAAEBAAEAAQEAAQABAQABAAEBAAEAAQEAAQABAQABAAEBAAEAAQEAAQABAQABAAEBAAEAAQEAAQABAAEBAQEAAQEBAQABAQEBAAEBAQEAAQEBAQABAQEBAAEBAQEBAAEAAQEAAAABAQEAAQEAAAABAQEBAAEBAQEAAQABAQAAAAEBAQEAAQE=",
          "dtype": "i1"
         },
         "yaxis": "y"
        },
        {
         "hovertemplate": "<b>OLS trendline</b><br>Affects_Academic_Performance_Numeric = 0.237034 * Addicted_Score + -0.874565<br>R<sup>2</sup>=0.720827<br><br>Gender=Female<br>Academic_Level=Undergraduate<br>Addicted_Score=%{x}<br>Affects Academic Performance (1=Yes, 0=No)=%{y} <b>(trend)</b><extra></extra>",
         "legendgroup": "Female",
         "marker": {
          "color": "#636efa",
          "symbol": "circle"
         },
         "mode": "lines",
         "name": "Female",
         "showlegend": false,
         "type": "scatter",
         "x": {
          "_inputArray": {
           "0": 3,
           "1": 3,
           "10": 3,
           "100": 6,
           "101": 6,
           "102": 6,
           "103": 6,
           "104": 6,
           "105": 6,
           "106": 6,
           "107": 6,
           "108": 6,
           "109": 6,
           "11": 3,
           "110": 6,
           "111": 6,
           "112": 6,
           "113": 6,
           "114": 6,
           "115": 6,
           "116": 6,
           "117": 6,
           "118": 6,
           "119": 6,
           "12": 4,
           "120": 6,
           "121": 6,
           "122": 6,
           "123": 6,
           "124": 6,
           "125": 6,
           "126": 6,
           "127": 6,
           "128": 7,
           "129": 7,
           "13": 4,
           "130": 7,
           "131": 7,
           "132": 7,
           "133": 7,
           "134": 7,
           "135": 7,
           "136": 7,
           "137": 7,
           "138": 7,
           "139": 7,
           "14": 4,
           "140": 7,
           "141": 7,
           "142": 7,
           "143": 7,
           "144": 7,
           "145": 7,
           "146": 7,
           "147": 7,
           "148": 7,
           "149": 7,
           "15": 4,
           "150": 7,
           "151": 7,
           "152": 7,
           "153": 7,
           "154": 7,
           "155": 7,
           "156": 7,
           "157": 7,
           "158": 7,
           "159": 7,
           "16": 4,
           "160": 7,
           "161": 7,
           "162": 7,
           "163": 7,
           "164": 7,
           "165": 7,
           "166": 7,
           "167": 7,
           "168": 7,
           "169": 7,
           "17": 4,
           "170": 7,
           "171": 7,
           "172": 7,
           "173": 7,
           "174": 7,
           "175": 7,
           "176": 7,
           "177": 7,
           "178": 7,
           "179": 7,
           "18": 4,
           "180": 7,
           "181": 7,
           "182": 7,
           "183": 7,
           "184": 7,
           "185": 7,
           "186": 7,
           "187": 7,
           "188": 7,
           "189": 7,
           "19": 4,
           "190": 7,
           "191": 7,
           "192": 7,
           "193": 7,
           "194": 7,
           "195": 7,
           "196": 7,
           "197": 7,
           "198": 7,
           "199": 7,
           "2": 3,
           "20": 4,
           "200": 8,
           "201": 8,
           "202": 8,
           "203": 8,
           "204": 8,
           "205": 8,
           "206": 8,
           "207": 8,
           "208": 8,
           "209": 8,
           "21": 4,
           "210": 8,
           "211": 8,
           "212": 8,
           "213": 8,
           "214": 8,
           "215": 8,
           "216": 8,
           "217": 8,
           "218": 8,
           "219": 8,
           "22": 4,
           "220": 8,
           "221": 8,
           "222": 8,
           "223": 8,
           "224": 8,
           "225": 8,
           "226": 8,
           "227": 8,
           "228": 8,
           "229": 8,
           "23": 4,
           "230": 8,
           "231": 8,
           "232": 8,
           "233": 8,
           "234": 8,
           "235": 8,
           "236": 8,
           "237": 8,
           "238": 8,
           "239": 8,
           "24": 4,
           "240": 8,
           "241": 8,
           "242": 8,
           "243": 8,
           "244": 8,
           "245": 8,
           "246": 8,
           "247": 8,
           "248": 8,
           "249": 8,
           "25": 4,
           "250": 8,
           "251": 8,
           "252": 9,
           "253": 9,
           "254": 9,
           "255": 9,
           "256": 9,
           "257": 9,
           "258": 9,
           "259": 9,
           "26": 4,
           "260": 9,
           "261": 9,
           "262": 9,
           "263": 9,
           "264": 9,
           "265": 9,
           "266": 9,
           "267": 9,
           "268": 9,
           "269": 9,
           "27": 4,
           "270": 9,
           "271": 9,
           "272": 9,
           "273": 9,
           "274": 9,
           "275": 9,
           "276": 9,
           "277": 9,
           "278": 9,
           "279": 9,
           "28": 4,
           "280": 9,
           "281": 9,
           "282": 9,
           "283": 9,
           "284": 9,
           "285": 9,
           "286": 9,
           "287": 9,
           "288": 9,
           "289": 9,
           "29": 4,
           "3": 3,
           "30": 4,
           "31": 4,
           "32": 4,
           "33": 4,
           "34": 4,
           "35": 4,
           "36": 4,
           "37": 4,
           "38": 4,
           "39": 4,
           "4": 3,
           "40": 5,
           "41": 5,
           "42": 5,
           "43": 5,
           "44": 5,
           "45": 5,
           "46": 5,
           "47": 5,
           "48": 5,
           "49": 5,
           "5": 3,
           "50": 5,
           "51": 5,
           "52": 5,
           "53": 5,
           "54": 5,
           "55": 5,
           "56": 5,
           "57": 5,
           "58": 5,
           "59": 5,
           "6": 3,
           "60": 5,
           "61": 5,
           "62": 5,
           "63": 5,
           "64": 5,
           "65": 5,
           "66": 5,
           "67": 5,
           "68": 5,
           "69": 5,
           "7": 3,
           "70": 5,
           "71": 5,
           "72": 5,
           "73": 5,
           "74": 5,
           "75": 5,
           "76": 5,
           "77": 5,
           "78": 5,
           "79": 5,
           "8": 3,
           "80": 5,
           "81": 5,
           "82": 5,
           "83": 5,
           "84": 5,
           "85": 5,
           "86": 5,
           "87": 5,
           "88": 5,
           "89": 5,
           "9": 3,
           "90": 5,
           "91": 5,
           "92": 5,
           "93": 5,
           "94": 5,
           "95": 5,
           "96": 5,
           "97": 5,
           "98": 6,
           "99": 6,
           "bdata": "AwMDAwMDAwMDAwMDBAQEBAQEBAQEBAQEBAQEBAQEBAQEBAQEBAQEBAUFBQUFBQUFBQUFBQUFBQUFBQUFBQUFBQUFBQUFBQUFBQUFBQUFBQUFBQUFBQUFBQUFBQUFBQUFBQUGBgYGBgYGBgYGBgYGBgYGBgYGBgYGBgYGBgYGBgYHBwcHBwcHBwcHBwcHBwcHBwcHBwcHBwcHBwcHBwcHBwcHBwcHBwcHBwcHBwcHBwcHBwcHBwcHBwcHBwcHBwcHBwcHBwcHBwcICAgICAgICAgICAgICAgICAgICAgICAgICAgICAgICAgICAgICAgICAgICAgICAgICAgICQkJCQkJCQkJCQkJCQkJCQkJCQkJCQkJCQkJCQkJCQkJCQkJCQk=",
           "dtype": "i1",
           "shape": "290"
          },
          "bdata": "AwMDAwMDAwMDAwMDBAQEBAQEBAQEBAQEBAQEBAQEBAQEBAQEBAQEBAUFBQUFBQUFBQUFBQUFBQUFBQUFBQUFBQUFBQUFBQUFBQUFBQUFBQUFBQUFBQUFBQUFBQUFBQUFBQUGBgYGBgYGBgYGBgYGBgYGBgYGBgYGBgYGBgYGBgYHBwcHBwcHBwcHBwcHBwcHBwcHBwcHBwcHBwcHBwcHBwcHBwcHBwcHBwcHBwcHBwcHBwcHBwcHBwcHBwcHBwcHBwcHBwcHBwcICAgICAgICAgICAgICAgICAgICAgICAgICAgICAgICAgICAgICAgICAgICAgICAgICAgICQkJCQkJCQkJCQkJCQkJCQkJCQkJCQkJCQkJCQkJCQkJCQkJCQk=",
          "dtype": "i1"
         },
         "xaxis": "x",
         "y": {
          "_inputArray": {
           "0": -0.16346313173156535,
           "1": -0.16346313173156535,
           "10": -0.16346313173156535,
           "100": 0.5476387738193866,
           "101": 0.5476387738193866,
           "102": 0.5476387738193866,
           "103": 0.5476387738193866,
           "104": 0.5476387738193866,
           "105": 0.5476387738193866,
           "106": 0.5476387738193866,
           "107": 0.5476387738193866,
           "108": 0.5476387738193866,
           "109": 0.5476387738193866,
           "11": -0.16346313173156535,
           "110": 0.5476387738193866,
           "111": 0.5476387738193866,
           "112": 0.5476387738193866,
           "113": 0.5476387738193866,
           "114": 0.5476387738193866,
           "115": 0.5476387738193866,
           "116": 0.5476387738193866,
           "117": 0.5476387738193866,
           "118": 0.5476387738193866,
           "119": 0.5476387738193866,
           "12": 0.07357083678541865,
           "120": 0.5476387738193866,
           "121": 0.5476387738193866,
           "122": 0.5476387738193866,
           "123": 0.5476387738193866,
           "124": 0.5476387738193866,
           "125": 0.5476387738193866,
           "126": 0.5476387738193866,
           "127": 0.5476387738193866,
           "128": 0.7846727423363706,
           "129": 0.7846727423363706,
           "13": 0.07357083678541865,
           "130": 0.7846727423363706,
           "131": 0.7846727423363706,
           "132": 0.7846727423363706,
           "133": 0.7846727423363706,
           "134": 0.7846727423363706,
           "135": 0.7846727423363706,
           "136": 0.7846727423363706,
           "137": 0.7846727423363706,
           "138": 0.7846727423363706,
           "139": 0.7846727423363706,
           "14": 0.07357083678541865,
           "140": 0.7846727423363706,
           "141": 0.7846727423363706,
           "142": 0.7846727423363706,
           "143": 0.7846727423363706,
           "144": 0.7846727423363706,
           "145": 0.7846727423363706,
           "146": 0.7846727423363706,
           "147": 0.7846727423363706,
           "148": 0.7846727423363706,
           "149": 0.7846727423363706,
           "15": 0.07357083678541865,
           "150": 0.7846727423363706,
           "151": 0.7846727423363706,
           "152": 0.7846727423363706,
           "153": 0.7846727423363706,
           "154": 0.7846727423363706,
           "155": 0.7846727423363706,
           "156": 0.7846727423363706,
           "157": 0.7846727423363706,
           "158": 0.7846727423363706,
           "159": 0.7846727423363706,
           "16": 0.07357083678541865,
           "160": 0.7846727423363706,
           "161": 0.7846727423363706,
           "162": 0.7846727423363706,
           "163": 0.7846727423363706,
           "164": 0.7846727423363706,
           "165": 0.7846727423363706,
           "166": 0.7846727423363706,
           "167": 0.7846727423363706,
           "168": 0.7846727423363706,
           "169": 0.7846727423363706,
           "17": 0.07357083678541865,
           "170": 0.7846727423363706,
           "171": 0.7846727423363706,
           "172": 0.7846727423363706,
           "173": 0.7846727423363706,
           "174": 0.7846727423363706,
           "175": 0.7846727423363706,
           "176": 0.7846727423363706,
           "177": 0.7846727423363706,
           "178": 0.7846727423363706,
           "179": 0.7846727423363706,
           "18": 0.07357083678541865,
           "180": 0.7846727423363706,
           "181": 0.7846727423363706,
           "182": 0.7846727423363706,
           "183": 0.7846727423363706,
           "184": 0.7846727423363706,
           "185": 0.7846727423363706,
           "186": 0.7846727423363706,
           "187": 0.7846727423363706,
           "188": 0.7846727423363706,
           "189": 0.7846727423363706,
           "19": 0.07357083678541865,
           "190": 0.7846727423363706,
           "191": 0.7846727423363706,
           "192": 0.7846727423363706,
           "193": 0.7846727423363706,
           "194": 0.7846727423363706,
           "195": 0.7846727423363706,
           "196": 0.7846727423363706,
           "197": 0.7846727423363706,
           "198": 0.7846727423363706,
           "199": 0.7846727423363706,
           "2": -0.16346313173156535,
           "20": 0.07357083678541865,
           "200": 1.0217067108533546,
           "201": 1.0217067108533546,
           "202": 1.0217067108533546,
           "203": 1.0217067108533546,
           "204": 1.0217067108533546,
           "205": 1.0217067108533546,
           "206": 1.0217067108533546,
           "207": 1.0217067108533546,
           "208": 1.0217067108533546,
           "209": 1.0217067108533546,
           "21": 0.07357083678541865,
           "210": 1.0217067108533546,
           "211": 1.0217067108533546,
           "212": 1.0217067108533546,
           "213": 1.0217067108533546,
           "214": 1.0217067108533546,
           "215": 1.0217067108533546,
           "216": 1.0217067108533546,
           "217": 1.0217067108533546,
           "218": 1.0217067108533546,
           "219": 1.0217067108533546,
           "22": 0.07357083678541865,
           "220": 1.0217067108533546,
           "221": 1.0217067108533546,
           "222": 1.0217067108533546,
           "223": 1.0217067108533546,
           "224": 1.0217067108533546,
           "225": 1.0217067108533546,
           "226": 1.0217067108533546,
           "227": 1.0217067108533546,
           "228": 1.0217067108533546,
           "229": 1.0217067108533546,
           "23": 0.07357083678541865,
           "230": 1.0217067108533546,
           "231": 1.0217067108533546,
           "232": 1.0217067108533546,
           "233": 1.0217067108533546,
           "234": 1.0217067108533546,
           "235": 1.0217067108533546,
           "236": 1.0217067108533546,
           "237": 1.0217067108533546,
           "238": 1.0217067108533546,
           "239": 1.0217067108533546,
           "24": 0.07357083678541865,
           "240": 1.0217067108533546,
           "241": 1.0217067108533546,
           "242": 1.0217067108533546,
           "243": 1.0217067108533546,
           "244": 1.0217067108533546,
           "245": 1.0217067108533546,
           "246": 1.0217067108533546,
           "247": 1.0217067108533546,
           "248": 1.0217067108533546,
           "249": 1.0217067108533546,
           "25": 0.07357083678541865,
           "250": 1.0217067108533546,
           "251": 1.0217067108533546,
           "252": 1.2587406793703388,
           "253": 1.2587406793703388,
           "254": 1.2587406793703388,
           "255": 1.2587406793703388,
           "256": 1.2587406793703388,
           "257": 1.2587406793703388,
           "258": 1.2587406793703388,
           "259": 1.2587406793703388,
           "26": 0.07357083678541865,
           "260": 1.2587406793703388,
           "261": 1.2587406793703388,
           "262": 1.2587406793703388,
           "263": 1.2587406793703388,
           "264": 1.2587406793703388,
           "265": 1.2587406793703388,
           "266": 1.2587406793703388,
           "267": 1.2587406793703388,
           "268": 1.2587406793703388,
           "269": 1.2587406793703388,
           "27": 0.07357083678541865,
           "270": 1.2587406793703388,
           "271": 1.2587406793703388,
           "272": 1.2587406793703388,
           "273": 1.2587406793703388,
           "274": 1.2587406793703388,
           "275": 1.2587406793703388,
           "276": 1.2587406793703388,
           "277": 1.2587406793703388,
           "278": 1.2587406793703388,
           "279": 1.2587406793703388,
           "28": 0.07357083678541865,
           "280": 1.2587406793703388,
           "281": 1.2587406793703388,
           "282": 1.2587406793703388,
           "283": 1.2587406793703388,
           "284": 1.2587406793703388,
           "285": 1.2587406793703388,
           "286": 1.2587406793703388,
           "287": 1.2587406793703388,
           "288": 1.2587406793703388,
           "289": 1.2587406793703388,
           "29": 0.07357083678541865,
           "3": -0.16346313173156535,
           "30": 0.07357083678541865,
           "31": 0.07357083678541865,
           "32": 0.07357083678541865,
           "33": 0.07357083678541865,
           "34": 0.07357083678541865,
           "35": 0.07357083678541865,
           "36": 0.07357083678541865,
           "37": 0.07357083678541865,
           "38": 0.07357083678541865,
           "39": 0.07357083678541865,
           "4": -0.16346313173156535,
           "40": 0.31060480530240264,
           "41": 0.31060480530240264,
           "42": 0.31060480530240264,
           "43": 0.31060480530240264,
           "44": 0.31060480530240264,
           "45": 0.31060480530240264,
           "46": 0.31060480530240264,
           "47": 0.31060480530240264,
           "48": 0.31060480530240264,
           "49": 0.31060480530240264,
           "5": -0.16346313173156535,
           "50": 0.31060480530240264,
           "51": 0.31060480530240264,
           "52": 0.31060480530240264,
           "53": 0.31060480530240264,
           "54": 0.31060480530240264,
           "55": 0.31060480530240264,
           "56": 0.31060480530240264,
           "57": 0.31060480530240264,
           "58": 0.31060480530240264,
           "59": 0.31060480530240264,
           "6": -0.16346313173156535,
           "60": 0.31060480530240264,
           "61": 0.31060480530240264,
           "62": 0.31060480530240264,
           "63": 0.31060480530240264,
           "64": 0.31060480530240264,
           "65": 0.31060480530240264,
           "66": 0.31060480530240264,
           "67": 0.31060480530240264,
           "68": 0.31060480530240264,
           "69": 0.31060480530240264,
           "7": -0.16346313173156535,
           "70": 0.31060480530240264,
           "71": 0.31060480530240264,
           "72": 0.31060480530240264,
           "73": 0.31060480530240264,
           "74": 0.31060480530240264,
           "75": 0.31060480530240264,
           "76": 0.31060480530240264,
           "77": 0.31060480530240264,
           "78": 0.31060480530240264,
           "79": 0.31060480530240264,
           "8": -0.16346313173156535,
           "80": 0.31060480530240264,
           "81": 0.31060480530240264,
           "82": 0.31060480530240264,
           "83": 0.31060480530240264,
           "84": 0.31060480530240264,
           "85": 0.31060480530240264,
           "86": 0.31060480530240264,
           "87": 0.31060480530240264,
           "88": 0.31060480530240264,
           "89": 0.31060480530240264,
           "9": -0.16346313173156535,
           "90": 0.31060480530240264,
           "91": 0.31060480530240264,
           "92": 0.31060480530240264,
           "93": 0.31060480530240264,
           "94": 0.31060480530240264,
           "95": 0.31060480530240264,
           "96": 0.31060480530240264,
           "97": 0.31060480530240264,
           "98": 0.5476387738193866,
           "99": 0.5476387738193866,
           "bdata": "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",
           "dtype": "f8",
           "shape": "290"
          },
          "bdata": "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",
          "dtype": "f8"
         },
         "yaxis": "y"
        },
        {
         "hovertemplate": "Gender=Female<br>Academic_Level=Graduate<br>Addicted_Score=%{x}<br>Affects Academic Performance (1=Yes, 0=No)=%{y}<extra></extra>",
         "legendgroup": "Female",
         "marker": {
          "color": "#636efa",
          "symbol": "circle"
         },
         "mode": "markers",
         "name": "Female",
         "orientation": "v",
         "showlegend": false,
         "type": "scatter",
         "x": {
          "_inputArray": {
           "0": 4,
           "1": 4,
           "10": 4,
           "11": 8,
           "12": 5,
           "13": 7,
           "14": 8,
           "15": 7,
           "16": 5,
           "17": 8,
           "18": 7,
           "19": 5,
           "2": 4,
           "20": 8,
           "21": 7,
           "22": 5,
           "23": 5,
           "24": 5,
           "25": 7,
           "26": 8,
           "27": 8,
           "28": 7,
           "29": 5,
           "3": 4,
           "30": 7,
           "31": 5,
           "32": 8,
           "33": 9,
           "34": 4,
           "35": 5,
           "36": 5,
           "37": 9,
           "38": 8,
           "39": 8,
           "4": 4,
           "40": 7,
           "41": 5,
           "42": 7,
           "43": 8,
           "44": 8,
           "45": 7,
           "46": 5,
           "47": 7,
           "5": 5,
           "6": 5,
           "7": 4,
           "8": 4,
           "9": 4,
           "bdata": "BAQEBAQFBQQEBAQIBQcIBwUIBwUIBwUFBQcICAcFBwUICQQFBQkICAcFBwgIBwUH",
           "dtype": "i1",
           "shape": "48"
          },
          "bdata": "BAQEBAQFBQQEBAQIBQcIBwUIBwUIBwUFBQcICAcFBwUICQQFBQkICAcFBwgIBwUH",
          "dtype": "i1"
         },
         "xaxis": "x2",
         "y": {
          "_inputArray": {
           "0": 0,
           "1": 0,
           "10": 0,
           "11": 1,
           "12": 0,
           "13": 1,
           "14": 1,
           "15": 1,
           "16": 0,
           "17": 1,
           "18": 1,
           "19": 0,
           "2": 0,
           "20": 1,
           "21": 1,
           "22": 0,
           "23": 0,
           "24": 0,
           "25": 1,
           "26": 1,
           "27": 1,
           "28": 1,
           "29": 0,
           "3": 0,
           "30": 1,
           "31": 0,
           "32": 1,
           "33": 1,
           "34": 0,
           "35": 0,
           "36": 0,
           "37": 1,
           "38": 1,
           "39": 1,
           "4": 0,
           "40": 1,
           "41": 0,
           "42": 1,
           "43": 1,
           "44": 1,
           "45": 1,
           "46": 0,
           "47": 1,
           "5": 0,
           "6": 0,
           "7": 0,
           "8": 0,
           "9": 0,
           "bdata": "AAAAAAAAAAAAAAABAAEBAQABAQABAQAAAAEBAQEAAQABAQAAAAEBAQEAAQEBAQAB",
           "dtype": "i1",
           "shape": "48"
          },
          "bdata": "AAAAAAAAAAAAAAABAAEBAQABAQABAQAAAAEBAQEAAQABAQAAAAEBAQEAAQEBAQAB",
          "dtype": "i1"
         },
         "yaxis": "y2"
        },
        {
         "hovertemplate": "<b>OLS trendline</b><br>Affects_Academic_Performance_Numeric = 0.288585 * Addicted_Score + -1.26157<br>R<sup>2</sup>=0.877780<br><br>Gender=Female<br>Academic_Level=Graduate<br>Addicted_Score=%{x}<br>Affects Academic Performance (1=Yes, 0=No)=%{y} <b>(trend)</b><extra></extra>",
         "legendgroup": "Female",
         "marker": {
          "color": "#636efa",
          "symbol": "circle"
         },
         "mode": "lines",
         "name": "Female",
         "showlegend": false,
         "type": "scatter",
         "x": {
          "_inputArray": {
           "0": 4,
           "1": 4,
           "10": 5,
           "11": 5,
           "12": 5,
           "13": 5,
           "14": 5,
           "15": 5,
           "16": 5,
           "17": 5,
           "18": 5,
           "19": 5,
           "2": 4,
           "20": 5,
           "21": 5,
           "22": 5,
           "23": 5,
           "24": 7,
           "25": 7,
           "26": 7,
           "27": 7,
           "28": 7,
           "29": 7,
           "3": 4,
           "30": 7,
           "31": 7,
           "32": 7,
           "33": 7,
           "34": 7,
           "35": 8,
           "36": 8,
           "37": 8,
           "38": 8,
           "39": 8,
           "4": 4,
           "40": 8,
           "41": 8,
           "42": 8,
           "43": 8,
           "44": 8,
           "45": 8,
           "46": 9,
           "47": 9,
           "5": 4,
           "6": 4,
           "7": 4,
           "8": 4,
           "9": 4,
           "bdata": "BAQEBAQEBAQEBAUFBQUFBQUFBQUFBQUFBwcHBwcHBwcHBwcICAgICAgICAgICAkJ",
           "dtype": "i1",
           "shape": "48"
          },
          "bdata": "BAQEBAQEBAQEBAUFBQUFBQUFBQUFBQUFBwcHBwcHBwcHBwcICAgICAgICAgICAkJ",
          "dtype": "i1"
         },
         "xaxis": "x2",
         "y": {
          "_inputArray": {
           "0": -0.10723109866578873,
           "1": -0.10723109866578873,
           "10": 0.18135397792785324,
           "11": 0.18135397792785324,
           "12": 0.18135397792785324,
           "13": 0.18135397792785324,
           "14": 0.18135397792785324,
           "15": 0.18135397792785324,
           "16": 0.18135397792785324,
           "17": 0.18135397792785324,
           "18": 0.18135397792785324,
           "19": 0.18135397792785324,
           "2": -0.10723109866578873,
           "20": 0.18135397792785324,
           "21": 0.18135397792785324,
           "22": 0.18135397792785324,
           "23": 0.18135397792785324,
           "24": 0.7585241311151376,
           "25": 0.7585241311151376,
           "26": 0.7585241311151376,
           "27": 0.7585241311151376,
           "28": 0.7585241311151376,
           "29": 0.7585241311151376,
           "3": -0.10723109866578873,
           "30": 0.7585241311151376,
           "31": 0.7585241311151376,
           "32": 0.7585241311151376,
           "33": 0.7585241311151376,
           "34": 0.7585241311151376,
           "35": 1.0471092077087796,
           "36": 1.0471092077087796,
           "37": 1.0471092077087796,
           "38": 1.0471092077087796,
           "39": 1.0471092077087796,
           "4": -0.10723109866578873,
           "40": 1.0471092077087796,
           "41": 1.0471092077087796,
           "42": 1.0471092077087796,
           "43": 1.0471092077087796,
           "44": 1.0471092077087796,
           "45": 1.0471092077087796,
           "46": 1.3356942843024215,
           "47": 1.3356942843024215,
           "5": -0.10723109866578873,
           "6": -0.10723109866578873,
           "7": -0.10723109866578873,
           "8": -0.10723109866578873,
           "9": -0.10723109866578873,
           "bdata": "8DriTX9zu7/wOuJNf3O7v/A64k1/c7u/8DriTX9zu7/wOuJNf3O7v/A64k1/c7u/8DriTX9zu7/wOuJNf3O7v/A64k1/c7u/8DriTX9zu7+ojRlumzbHP6iNGW6bNsc/qI0Zbps2xz+ojRlumzbHP6iNGW6bNsc/qI0Zbps2xz+ojRlumzbHP6iNGW6bNsc/qI0Zbps2xz+ojRlumzbHP6iNGW6bNsc/qI0Zbps2xz+ojRlumzbHP6iNGW6bNsc//rgLZtRF6D/+uAtm1EXoP/64C2bUReg//rgLZtRF6D/+uAtm1EXoP/64C2bUReg//rgLZtRF6D/+uAtm1EXoP/64C2bUReg//rgLZtRF6D/+uAtm1EXoP+Mxp5X1wPA/4zGnlfXA8D/jMaeV9cDwP+Mxp5X1wPA/4zGnlfXA8D/jMaeV9cDwP+Mxp5X1wPA/4zGnlfXA8D/jMaeV9cDwP+Mxp5X1wPA/4zGnlfXA8D9Hh0j4AF/1P0eHSPgAX/U/",
           "dtype": "f8",
           "shape": "48"
          },
          "bdata": "8DriTX9zu7/wOuJNf3O7v/A64k1/c7u/8DriTX9zu7/wOuJNf3O7v/A64k1/c7u/8DriTX9zu7/wOuJNf3O7v/A64k1/c7u/8DriTX9zu7+ojRlumzbHP6iNGW6bNsc/qI0Zbps2xz+ojRlumzbHP6iNGW6bNsc/qI0Zbps2xz+ojRlumzbHP6iNGW6bNsc/qI0Zbps2xz+ojRlumzbHP6iNGW6bNsc/qI0Zbps2xz+ojRlumzbHP6iNGW6bNsc//rgLZtRF6D/+uAtm1EXoP/64C2bUReg//rgLZtRF6D/+uAtm1EXoP/64C2bUReg//rgLZtRF6D/+uAtm1EXoP/64C2bUReg//rgLZtRF6D/+uAtm1EXoP+Mxp5X1wPA/4zGnlfXA8D/jMaeV9cDwP+Mxp5X1wPA/4zGnlfXA8D/jMaeV9cDwP+Mxp5X1wPA/4zGnlfXA8D/jMaeV9cDwP+Mxp5X1wPA/4zGnlfXA8D9Hh0j4AF/1P0eHSPgAX/U/",
          "dtype": "f8"
         },
         "yaxis": "y2"
        },
        {
         "hovertemplate": "Gender=Female<br>Academic_Level=High School<br>Addicted_Score=%{x}<br>Affects Academic Performance (1=Yes, 0=No)=%{y}<extra></extra>",
         "legendgroup": "Female",
         "marker": {
          "color": "#636efa",
          "symbol": "circle"
         },
         "mode": "markers",
         "name": "Female",
         "orientation": "v",
         "showlegend": false,
         "type": "scatter",
         "x": {
          "_inputArray": {
           "0": 9,
           "1": 8,
           "10": 9,
           "11": 9,
           "12": 8,
           "13": 8,
           "14": 8,
           "2": 9,
           "3": 8,
           "4": 9,
           "5": 8,
           "6": 9,
           "7": 8,
           "8": 9,
           "9": 8,
           "bdata": "CQgJCAkICQgJCAkJCAgI",
           "dtype": "i1",
           "shape": "15"
          },
          "bdata": "CQgJCAkICQgJCAkJCAgI",
          "dtype": "i1"
         },
         "xaxis": "x3",
         "y": {
          "_inputArray": {
           "0": 1,
           "1": 1,
           "10": 1,
           "11": 1,
           "12": 1,
           "13": 1,
           "14": 1,
           "2": 1,
           "3": 1,
           "4": 1,
           "5": 1,
           "6": 1,
           "7": 1,
           "8": 1,
           "9": 1,
           "bdata": "AQEBAQEBAQEBAQEBAQEB",
           "dtype": "i1",
           "shape": "15"
          },
          "bdata": "AQEBAQEBAQEBAQEBAQEB",
          "dtype": "i1"
         },
         "yaxis": "y3"
        },
        {
         "hovertemplate": "<b>OLS trendline</b><br>Affects_Academic_Performance_Numeric = 2.22045e-16 * Addicted_Score + 1<br>R<sup>2</sup>=-inf<br><br>Gender=Female<br>Academic_Level=High School<br>Addicted_Score=%{x}<br>Affects Academic Performance (1=Yes, 0=No)=%{y} <b>(trend)</b><extra></extra>",
         "legendgroup": "Female",
         "marker": {
          "color": "#636efa",
          "symbol": "circle"
         },
         "mode": "lines",
         "name": "Female",
         "showlegend": false,
         "type": "scatter",
         "x": {
          "_inputArray": {
           "0": 8,
           "1": 8,
           "10": 9,
           "11": 9,
           "12": 9,
           "13": 9,
           "14": 9,
           "2": 8,
           "3": 8,
           "4": 8,
           "5": 8,
           "6": 8,
           "7": 8,
           "8": 9,
           "9": 9,
           "bdata": "CAgICAgICAgJCQkJCQkJ",
           "dtype": "i1",
           "shape": "15"
          },
          "bdata": "CAgICAgICAgJCQkJCQkJ",
          "dtype": "i1"
         },
         "xaxis": "x3",
         "y": {
          "_inputArray": {
           "0": 0.9999999999999978,
           "1": 0.9999999999999978,
           "10": 0.999999999999998,
           "11": 0.999999999999998,
           "12": 0.999999999999998,
           "13": 0.999999999999998,
           "14": 0.999999999999998,
           "2": 0.9999999999999978,
           "3": 0.9999999999999978,
           "4": 0.9999999999999978,
           "5": 0.9999999999999978,
           "6": 0.9999999999999978,
           "7": 0.9999999999999978,
           "8": 0.999999999999998,
           "9": 0.999999999999998,
           "bdata": "7P//////7z/s///////vP+z//////+8/7P//////7z/s///////vP+z//////+8/7P//////7z/s///////vP+7//////+8/7v//////7z/u///////vP+7//////+8/7v//////7z/u///////vP+7//////+8/",
           "dtype": "f8",
           "shape": "15"
          },
          "bdata": "7P//////7z/s///////vP+z//////+8/7P//////7z/s///////vP+z//////+8/7P//////7z/s///////vP+7//////+8/7v//////7z/u///////vP+7//////+8/7v//////7z/u///////vP+7//////+8/",
          "dtype": "f8"
         },
         "yaxis": "y3"
        },
        {
         "hovertemplate": "Gender=Male<br>Academic_Level=Undergraduate<br>Addicted_Score=%{x}<br>Affects Academic Performance (1=Yes, 0=No)=%{y}<extra></extra>",
         "legendgroup": "Male",
         "marker": {
          "color": "#EF553B",
          "symbol": "circle"
         },
         "mode": "markers",
         "name": "Male",
         "orientation": "v",
         "showlegend": true,
         "type": "scatter",
         "x": {
          "_inputArray": {
           "0": 7,
           "1": 5,
           "10": 6,
           "11": 5,
           "12": 7,
           "13": 7,
           "14": 6,
           "15": 7,
           "16": 7,
           "17": 6,
           "18": 7,
           "19": 6,
           "2": 5,
           "20": 7,
           "21": 7,
           "22": 6,
           "23": 8,
           "24": 5,
           "25": 7,
           "26": 7,
           "27": 8,
           "28": 5,
           "29": 7,
           "3": 7,
           "30": 5,
           "31": 8,
           "32": 7,
           "33": 5,
           "34": 8,
           "35": 7,
           "36": 5,
           "37": 8,
           "38": 7,
           "39": 8,
           "4": 5,
           "40": 8,
           "41": 4,
           "42": 5,
           "43": 5,
           "44": 9,
           "45": 8,
           "46": 8,
           "47": 7,
           "48": 5,
           "49": 7,
           "5": 5,
           "50": 8,
           "51": 8,
           "52": 7,
           "53": 5,
           "54": 7,
           "55": 5,
           "56": 8,
           "57": 9,
           "58": 4,
           "59": 5,
           "6": 7,
           "60": 5,
           "61": 9,
           "62": 8,
           "7": 6,
           "8": 5,
           "9": 7,
           "bdata": "BwUFBwUFBwYFBwYFBwcGBwcGBwYHBwYIBQcHCAUHBQgHBQgHBQgHCAgEBQUJCAgHBQcICAcFBwUICQQFBQkI",
           "dtype": "i1",
           "shape": "63"
          },
          "bdata": "BwUFBwUFBwYFBwYFBwcGBwcGBwYHBwYIBQcHCAUHBQgHBQgHBQgHCAgEBQUJCAgHBQcICAcFBwUICQQFBQkI",
          "dtype": "i1"
         },
         "xaxis": "x",
         "y": {
          "_inputArray": {
           "0": 1,
           "1": 0,
           "10": 0,
           "11": 0,
           "12": 1,
           "13": 1,
           "14": 0,
           "15": 1,
           "16": 1,
           "17": 0,
           "18": 1,
           "19": 0,
           "2": 0,
           "20": 1,
           "21": 1,
           "22": 0,
           "23": 1,
           "24": 0,
           "25": 1,
           "26": 1,
           "27": 1,
           "28": 0,
           "29": 1,
           "3": 1,
           "30": 0,
           "31": 1,
           "32": 1,
           "33": 0,
           "34": 1,
           "35": 1,
           "36": 0,
           "37": 1,
           "38": 1,
           "39": 1,
           "4": 0,
           "40": 1,
           "41": 0,
           "42": 0,
           "43": 0,
           "44": 1,
           "45": 1,
           "46": 1,
           "47": 1,
           "48": 0,
           "49": 1,
           "5": 0,
           "50": 1,
           "51": 1,
           "52": 1,
           "53": 0,
           "54": 1,
           "55": 0,
           "56": 1,
           "57": 1,
           "58": 0,
           "59": 0,
           "6": 1,
           "60": 0,
           "61": 1,
           "62": 1,
           "7": 0,
           "8": 0,
           "9": 1,
           "bdata": "AQAAAQAAAQAAAQAAAQEAAQEAAQABAQABAAEBAQABAAEBAAEBAAEBAQEAAAABAQEBAAEBAQEAAQABAQAAAAEB",
           "dtype": "i1",
           "shape": "63"
          },
          "bdata": "AQAAAQAAAQAAAQAAAQEAAQEAAQABAQABAAEBAQABAAEBAAEBAAEBAQEAAAABAQEBAAEBAQEAAQABAQAAAAEB",
          "dtype": "i1"
         },
         "yaxis": "y"
        },
        {
         "hovertemplate": "<b>OLS trendline</b><br>Affects_Academic_Performance_Numeric = 0.33471 * Addicted_Score + -1.60159<br>R<sup>2</sup>=0.789803<br><br>Gender=Male<br>Academic_Level=Undergraduate<br>Addicted_Score=%{x}<br>Affects Academic Performance (1=Yes, 0=No)=%{y} <b>(trend)</b><extra></extra>",
         "legendgroup": "Male",
         "marker": {
          "color": "#EF553B",
          "symbol": "circle"
         },
         "mode": "lines",
         "name": "Male",
         "showlegend": false,
         "type": "scatter",
         "x": {
          "_inputArray": {
           "0": 4,
           "1": 4,
           "10": 5,
           "11": 5,
           "12": 5,
           "13": 5,
           "14": 5,
           "15": 5,
           "16": 5,
           "17": 5,
           "18": 5,
           "19": 5,
           "2": 5,
           "20": 6,
           "21": 6,
           "22": 6,
           "23": 6,
           "24": 6,
           "25": 6,
           "26": 7,
           "27": 7,
           "28": 7,
           "29": 7,
           "3": 5,
           "30": 7,
           "31": 7,
           "32": 7,
           "33": 7,
           "34": 7,
           "35": 7,
           "36": 7,
           "37": 7,
           "38": 7,
           "39": 7,
           "4": 5,
           "40": 7,
           "41": 7,
           "42": 7,
           "43": 7,
           "44": 7,
           "45": 7,
           "46": 7,
           "47": 8,
           "48": 8,
           "49": 8,
           "5": 5,
           "50": 8,
           "51": 8,
           "52": 8,
           "53": 8,
           "54": 8,
           "55": 8,
           "56": 8,
           "57": 8,
           "58": 8,
           "59": 8,
           "6": 5,
           "60": 9,
           "61": 9,
           "62": 9,
           "7": 5,
           "8": 5,
           "9": 5,
           "bdata": "BAQFBQUFBQUFBQUFBQUFBQUFBQUGBgYGBgYHBwcHBwcHBwcHBwcHBwcHBwcHBwcICAgICAgICAgICAgICQkJ",
           "dtype": "i1",
           "shape": "63"
          },
          "bdata": "BAQFBQUFBQUFBQUFBQUFBQUFBQUGBgYGBgYHBwcHBwcHBwcHBwcHBwcHBwcHBwcICAgICAgICAgICAgICQkJ",
          "dtype": "i1"
         },
         "xaxis": "x",
         "y": {
          "_inputArray": {
           "0": -0.26275434974933654,
           "1": -0.26275434974933654,
           "10": 0.0719551754644645,
           "11": 0.0719551754644645,
           "12": 0.0719551754644645,
           "13": 0.0719551754644645,
           "14": 0.0719551754644645,
           "15": 0.0719551754644645,
           "16": 0.0719551754644645,
           "17": 0.0719551754644645,
           "18": 0.0719551754644645,
           "19": 0.0719551754644645,
           "2": 0.0719551754644645,
           "20": 0.406664700678266,
           "21": 0.406664700678266,
           "22": 0.406664700678266,
           "23": 0.406664700678266,
           "24": 0.406664700678266,
           "25": 0.406664700678266,
           "26": 0.741374225892067,
           "27": 0.741374225892067,
           "28": 0.741374225892067,
           "29": 0.741374225892067,
           "3": 0.0719551754644645,
           "30": 0.741374225892067,
           "31": 0.741374225892067,
           "32": 0.741374225892067,
           "33": 0.741374225892067,
           "34": 0.741374225892067,
           "35": 0.741374225892067,
           "36": 0.741374225892067,
           "37": 0.741374225892067,
           "38": 0.741374225892067,
           "39": 0.741374225892067,
           "4": 0.0719551754644645,
           "40": 0.741374225892067,
           "41": 0.741374225892067,
           "42": 0.741374225892067,
           "43": 0.741374225892067,
           "44": 0.741374225892067,
           "45": 0.741374225892067,
           "46": 0.741374225892067,
           "47": 1.076083751105868,
           "48": 1.076083751105868,
           "49": 1.076083751105868,
           "5": 0.0719551754644645,
           "50": 1.076083751105868,
           "51": 1.076083751105868,
           "52": 1.076083751105868,
           "53": 1.076083751105868,
           "54": 1.076083751105868,
           "55": 1.076083751105868,
           "56": 1.076083751105868,
           "57": 1.076083751105868,
           "58": 1.076083751105868,
           "59": 1.076083751105868,
           "6": 0.0719551754644645,
           "60": 1.410793276319669,
           "61": 1.410793276319669,
           "62": 1.410793276319669,
           "7": 0.0719551754644645,
           "8": 0.0719551754644645,
           "9": 0.0719551754644645,
           "bdata": "hIfDnvfQ0L+Eh8Oe99DQv1DXZYWna7I/UNdlhadrsj9Q12WFp2uyP1DXZYWna7I/UNdlhadrsj9Q12WFp2uyP1DXZYWna7I/UNdlhadrsj9Q12WFp2uyP1DXZYWna7I/UNdlhadrsj9Q12WFp2uyP1DXZYWna7I/UNdlhadrsj9Q12WFp2uyP1DXZYWna7I/UNdlhadrsj9Q12WFp2uyPzRzdmHLBto/NHN2YcsG2j80c3ZhywbaPzRzdmHLBto/NHN2YcsG2j80c3ZhywbaP0a4yXBWuec/RrjJcFa55z9GuMlwVrnnP0a4yXBWuec/RrjJcFa55z9GuMlwVrnnP0a4yXBWuec/RrjJcFa55z9GuMlwVrnnP0a4yXBWuec/RrjJcFa55z9GuMlwVrnnP0a4yXBWuec/RrjJcFa55z9GuMlwVrnnP0a4yXBWuec/RrjJcFa55z9GuMlwVrnnP0a4yXBWuec/RrjJcFa55z9GuMlwVrnnP3kbbJijN/E/eRtsmKM38T95G2yYozfxP3kbbJijN/E/eRtsmKM38T95G2yYozfxP3kbbJijN/E/eRtsmKM38T95G2yYozfxP3kbbJijN/E/eRtsmKM38T95G2yYozfxP3kbbJijN/E/z1pz+JuS9j/PWnP4m5L2P89ac/ibkvY/",
           "dtype": "f8",
           "shape": "63"
          },
          "bdata": "hIfDnvfQ0L+Eh8Oe99DQv1DXZYWna7I/UNdlhadrsj9Q12WFp2uyP1DXZYWna7I/UNdlhadrsj9Q12WFp2uyP1DXZYWna7I/UNdlhadrsj9Q12WFp2uyP1DXZYWna7I/UNdlhadrsj9Q12WFp2uyP1DXZYWna7I/UNdlhadrsj9Q12WFp2uyP1DXZYWna7I/UNdlhadrsj9Q12WFp2uyPzRzdmHLBto/NHN2YcsG2j80c3ZhywbaPzRzdmHLBto/NHN2YcsG2j80c3ZhywbaP0a4yXBWuec/RrjJcFa55z9GuMlwVrnnP0a4yXBWuec/RrjJcFa55z9GuMlwVrnnP0a4yXBWuec/RrjJcFa55z9GuMlwVrnnP0a4yXBWuec/RrjJcFa55z9GuMlwVrnnP0a4yXBWuec/RrjJcFa55z9GuMlwVrnnP0a4yXBWuec/RrjJcFa55z9GuMlwVrnnP0a4yXBWuec/RrjJcFa55z9GuMlwVrnnP3kbbJijN/E/eRtsmKM38T95G2yYozfxP3kbbJijN/E/eRtsmKM38T95G2yYozfxP3kbbJijN/E/eRtsmKM38T95G2yYozfxP3kbbJijN/E/eRtsmKM38T95G2yYozfxP3kbbJijN/E/z1pz+JuS9j/PWnP4m5L2P89ac/ibkvY/",
          "dtype": "f8"
         },
         "yaxis": "y"
        },
        {
         "hovertemplate": "Gender=Male<br>Academic_Level=Graduate<br>Addicted_Score=%{x}<br>Affects Academic Performance (1=Yes, 0=No)=%{y}<extra></extra>",
         "legendgroup": "Male",
         "marker": {
          "color": "#EF553B",
          "symbol": "circle"
         },
         "mode": "markers",
         "name": "Male",
         "orientation": "v",
         "showlegend": false,
         "type": "scatter",
         "x": {
          "_inputArray": {
           "0": 3,
           "1": 7,
           "10": 4,
           "100": 7,
           "101": 4,
           "102": 7,
           "103": 5,
           "104": 7,
           "105": 4,
           "106": 8,
           "107": 5,
           "108": 7,
           "109": 4,
           "11": 5,
           "110": 4,
           "111": 8,
           "112": 7,
           "113": 7,
           "114": 7,
           "115": 4,
           "116": 8,
           "117": 7,
           "118": 7,
           "119": 7,
           "12": 3,
           "120": 4,
           "121": 8,
           "122": 7,
           "123": 7,
           "124": 7,
           "125": 4,
           "126": 8,
           "127": 7,
           "128": 7,
           "129": 7,
           "13": 4,
           "130": 4,
           "131": 8,
           "132": 7,
           "133": 7,
           "134": 7,
           "135": 4,
           "136": 8,
           "137": 7,
           "138": 7,
           "139": 7,
           "14": 4,
           "140": 4,
           "141": 8,
           "142": 7,
           "143": 7,
           "144": 7,
           "145": 4,
           "146": 8,
           "147": 7,
           "148": 7,
           "149": 7,
           "15": 4,
           "150": 4,
           "151": 8,
           "152": 7,
           "153": 7,
           "154": 7,
           "155": 4,
           "156": 8,
           "157": 7,
           "158": 7,
           "159": 7,
           "16": 5,
           "160": 4,
           "161": 8,
           "162": 7,
           "163": 7,
           "164": 7,
           "165": 4,
           "166": 8,
           "167": 7,
           "168": 7,
           "169": 7,
           "17": 4,
           "170": 4,
           "171": 8,
           "172": 7,
           "173": 7,
           "174": 7,
           "175": 4,
           "176": 8,
           "177": 7,
           "178": 7,
           "179": 7,
           "18": 5,
           "180": 4,
           "181": 8,
           "182": 7,
           "183": 7,
           "184": 7,
           "185": 4,
           "186": 8,
           "187": 7,
           "188": 7,
           "189": 7,
           "19": 4,
           "190": 4,
           "191": 8,
           "192": 7,
           "193": 7,
           "194": 7,
           "195": 4,
           "196": 8,
           "197": 7,
           "198": 7,
           "199": 7,
           "2": 2,
           "20": 8,
           "200": 5,
           "201": 6,
           "202": 7,
           "203": 5,
           "204": 6,
           "205": 5,
           "206": 6,
           "207": 7,
           "208": 5,
           "209": 6,
           "21": 5,
           "210": 5,
           "211": 6,
           "212": 7,
           "213": 5,
           "214": 6,
           "215": 5,
           "216": 6,
           "217": 7,
           "218": 5,
           "219": 6,
           "22": 8,
           "220": 5,
           "221": 6,
           "222": 7,
           "223": 5,
           "224": 6,
           "225": 5,
           "226": 6,
           "227": 7,
           "228": 5,
           "229": 6,
           "23": 7,
           "230": 5,
           "231": 6,
           "232": 7,
           "233": 5,
           "234": 6,
           "235": 4,
           "236": 9,
           "237": 8,
           "238": 8,
           "239": 6,
           "24": 5,
           "240": 5,
           "241": 7,
           "242": 8,
           "243": 8,
           "244": 7,
           "245": 5,
           "246": 7,
           "247": 8,
           "248": 7,
           "249": 5,
           "25": 8,
           "250": 7,
           "251": 8,
           "252": 8,
           "253": 7,
           "254": 5,
           "255": 7,
           "256": 5,
           "257": 8,
           "258": 9,
           "259": 4,
           "26": 7,
           "260": 5,
           "261": 5,
           "262": 9,
           "263": 8,
           "264": 8,
           "265": 7,
           "266": 5,
           "267": 7,
           "268": 8,
           "269": 8,
           "27": 5,
           "270": 7,
           "271": 5,
           "272": 7,
           "273": 5,
           "274": 8,
           "275": 9,
           "276": 4,
           "28": 8,
           "29": 7,
           "3": 4,
           "30": 6,
           "31": 7,
           "32": 8,
           "33": 6,
           "34": 7,
           "35": 8,
           "36": 6,
           "37": 7,
           "38": 8,
           "39": 6,
           "4": 3,
           "40": 7,
           "41": 8,
           "42": 6,
           "43": 7,
           "44": 8,
           "45": 6,
           "46": 7,
           "47": 8,
           "48": 6,
           "49": 7,
           "5": 5,
           "50": 8,
           "51": 6,
           "52": 7,
           "53": 8,
           "54": 6,
           "55": 7,
           "56": 8,
           "57": 6,
           "58": 7,
           "59": 8,
           "6": 3,
           "60": 7,
           "61": 4,
           "62": 7,
           "63": 5,
           "64": 7,
           "65": 4,
           "66": 8,
           "67": 5,
           "68": 7,
           "69": 4,
           "7": 5,
           "70": 7,
           "71": 5,
           "72": 7,
           "73": 4,
           "74": 8,
           "75": 5,
           "76": 7,
           "77": 4,
           "78": 7,
           "79": 5,
           "8": 4,
           "80": 7,
           "81": 4,
           "82": 8,
           "83": 5,
           "84": 7,
           "85": 4,
           "86": 7,
           "87": 5,
           "88": 7,
           "89": 4,
           "9": 5,
           "90": 8,
           "91": 5,
           "92": 7,
           "93": 4,
           "94": 7,
           "95": 5,
           "96": 7,
           "97": 4,
           "98": 8,
           "99": 5,
           "bdata": "AwcCBAMFAwUEBQQFAwQEBAUEBQQIBQgHBQgHBQgHBgcIBgcIBgcIBgcIBgcIBgcIBgcIBgcIBgcIBgcIBwQHBQcECAUHBAcFBwQIBQcEBwUHBAgFBwQHBQcECAUHBAcFBwQIBQcEBwUHBAgFBwQECAcHBwQIBwcHBAgHBwcECAcHBwQIBwcHBAgHBwcECAcHBwQIBwcHBAgHBwcECAcHBwQIBwcHBAgHBwcECAcHBwQIBwcHBAgHBwcECAcHBwQIBwcHBAgHBwcFBgcFBgUGBwUGBQYHBQYFBgcFBgUGBwUGBQYHBQYFBgcFBgQJCAgGBQcICAcFBwgHBQcICAcFBwUICQQFBQkICAcFBwgIBwUHBQgJBA==",
           "dtype": "i1",
           "shape": "277"
          },
          "bdata": "AwcCBAMFAwUEBQQFAwQEBAUEBQQIBQgHBQgHBQgHBgcIBgcIBgcIBgcIBgcIBgcIBgcIBgcIBgcIBgcIBwQHBQcECAUHBAcFBwQIBQcEBwUHBAgFBwQHBQcECAUHBAcFBwQIBQcEBwUHBAgFBwQECAcHBwQIBwcHBAgHBwcECAcHBwQIBwcHBAgHBwcECAcHBwQIBwcHBAgHBwcECAcHBwQIBwcHBAgHBwcECAcHBwQIBwcHBAgHBwcECAcHBwQIBwcHBAgHBwcFBgcFBgUGBwUGBQYHBQYFBgcFBgUGBwUGBQYHBQYFBgcFBgQJCAgGBQcICAcFBwgHBQcICAcFBwUICQQFBQkICAcFBwgIBwUHBQgJBA==",
          "dtype": "i1"
         },
         "xaxis": "x2",
         "y": {
          "_inputArray": {
           "0": 0,
           "1": 1,
           "10": 0,
           "100": 1,
           "101": 0,
           "102": 1,
           "103": 0,
           "104": 1,
           "105": 0,
           "106": 1,
           "107": 0,
           "108": 1,
           "109": 0,
           "11": 0,
           "110": 0,
           "111": 1,
           "112": 1,
           "113": 1,
           "114": 1,
           "115": 0,
           "116": 1,
           "117": 1,
           "118": 1,
           "119": 1,
           "12": 0,
           "120": 0,
           "121": 1,
           "122": 1,
           "123": 1,
           "124": 1,
           "125": 0,
           "126": 1,
           "127": 1,
           "128": 1,
           "129": 1,
           "13": 0,
           "130": 0,
           "131": 1,
           "132": 1,
           "133": 1,
           "134": 1,
           "135": 0,
           "136": 1,
           "137": 1,
           "138": 1,
           "139": 1,
           "14": 0,
           "140": 0,
           "141": 1,
           "142": 1,
           "143": 1,
           "144": 1,
           "145": 0,
           "146": 1,
           "147": 1,
           "148": 1,
           "149": 1,
           "15": 0,
           "150": 0,
           "151": 1,
           "152": 1,
           "153": 1,
           "154": 1,
           "155": 0,
           "156": 1,
           "157": 1,
           "158": 1,
           "159": 1,
           "16": 0,
           "160": 0,
           "161": 1,
           "162": 1,
           "163": 1,
           "164": 1,
           "165": 0,
           "166": 1,
           "167": 1,
           "168": 1,
           "169": 1,
           "17": 0,
           "170": 0,
           "171": 1,
           "172": 1,
           "173": 1,
           "174": 1,
           "175": 0,
           "176": 1,
           "177": 1,
           "178": 1,
           "179": 1,
           "18": 0,
           "180": 0,
           "181": 1,
           "182": 1,
           "183": 1,
           "184": 1,
           "185": 0,
           "186": 1,
           "187": 1,
           "188": 1,
           "189": 1,
           "19": 0,
           "190": 0,
           "191": 1,
           "192": 1,
           "193": 1,
           "194": 1,
           "195": 0,
           "196": 1,
           "197": 1,
           "198": 1,
           "199": 1,
           "2": 0,
           "20": 1,
           "200": 0,
           "201": 1,
           "202": 1,
           "203": 0,
           "204": 1,
           "205": 0,
           "206": 1,
           "207": 1,
           "208": 0,
           "209": 1,
           "21": 0,
           "210": 0,
           "211": 1,
           "212": 1,
           "213": 0,
           "214": 1,
           "215": 0,
           "216": 1,
           "217": 1,
           "218": 0,
           "219": 1,
           "22": 1,
           "220": 0,
           "221": 1,
           "222": 1,
           "223": 0,
           "224": 1,
           "225": 0,
           "226": 1,
           "227": 1,
           "228": 0,
           "229": 1,
           "23": 1,
           "230": 0,
           "231": 1,
           "232": 1,
           "233": 0,
           "234": 1,
           "235": 0,
           "236": 1,
           "237": 1,
           "238": 1,
           "239": 1,
           "24": 0,
           "240": 0,
           "241": 1,
           "242": 1,
           "243": 1,
           "244": 1,
           "245": 0,
           "246": 1,
           "247": 1,
           "248": 1,
           "249": 0,
           "25": 1,
           "250": 1,
           "251": 1,
           "252": 1,
           "253": 1,
           "254": 0,
           "255": 1,
           "256": 0,
           "257": 1,
           "258": 1,
           "259": 0,
           "26": 1,
           "260": 0,
           "261": 0,
           "262": 1,
           "263": 1,
           "264": 1,
           "265": 1,
           "266": 0,
           "267": 1,
           "268": 1,
           "269": 1,
           "27": 0,
           "270": 1,
           "271": 0,
           "272": 1,
           "273": 0,
           "274": 1,
           "275": 1,
           "276": 0,
           "28": 1,
           "29": 1,
           "3": 0,
           "30": 0,
           "31": 1,
           "32": 1,
           "33": 0,
           "34": 1,
           "35": 1,
           "36": 0,
           "37": 1,
           "38": 1,
           "39": 0,
           "4": 0,
           "40": 1,
           "41": 1,
           "42": 0,
           "43": 1,
           "44": 1,
           "45": 0,
           "46": 1,
           "47": 1,
           "48": 0,
           "49": 1,
           "5": 0,
           "50": 1,
           "51": 0,
           "52": 1,
           "53": 1,
           "54": 0,
           "55": 1,
           "56": 1,
           "57": 0,
           "58": 1,
           "59": 1,
           "6": 0,
           "60": 1,
           "61": 0,
           "62": 1,
           "63": 0,
           "64": 1,
           "65": 0,
           "66": 1,
           "67": 0,
           "68": 1,
           "69": 0,
           "7": 0,
           "70": 1,
           "71": 0,
           "72": 1,
           "73": 0,
           "74": 1,
           "75": 0,
           "76": 1,
           "77": 0,
           "78": 1,
           "79": 0,
           "8": 0,
           "80": 1,
           "81": 0,
           "82": 1,
           "83": 0,
           "84": 1,
           "85": 0,
           "86": 1,
           "87": 0,
           "88": 1,
           "89": 0,
           "9": 0,
           "90": 1,
           "91": 0,
           "92": 1,
           "93": 0,
           "94": 1,
           "95": 0,
           "96": 1,
           "97": 0,
           "98": 1,
           "99": 0,
           "bdata": "AAEAAAAAAAAAAAAAAAAAAAAAAAABAAEBAAEBAAEBAAEBAAEBAAEBAAEBAAEBAAEBAAEBAAEBAAEBAAEBAQABAAEAAQABAAEAAQABAAEAAQABAAEAAQABAAEAAQABAAEAAQABAAEAAQABAAEAAQAAAQEBAQABAQEBAAEBAQEAAQEBAQABAQEBAAEBAQEAAQEBAQABAQEBAAEBAQEAAQEBAQABAQEBAAEBAQEAAQEBAQABAQEBAAEBAQEAAQEBAQABAQEBAAEBAQEAAQEAAQABAQABAAEBAAEAAQEAAQABAQABAAEBAAEAAQEAAQABAQEBAAEBAQEAAQEBAAEBAQEAAQABAQAAAAEBAQEAAQEBAQABAAEBAA==",
           "dtype": "i1",
           "shape": "277"
          },
          "bdata": "AAEAAAAAAAAAAAAAAAAAAAAAAAABAAEBAAEBAAEBAAEBAAEBAAEBAAEBAAEBAAEBAAEBAAEBAAEBAAEBAQABAAEAAQABAAEAAQABAAEAAQABAAEAAQABAAEAAQABAAEAAQABAAEAAQABAAEAAQAAAQEBAQABAQEBAAEBAQEAAQEBAQABAQEBAAEBAQEAAQEBAQABAQEBAAEBAQEAAQEBAQABAQEBAAEBAQEAAQEBAQABAQEBAAEBAQEAAQEBAQABAQEBAAEBAQEAAQEAAQABAQABAAEBAAEAAQEAAQABAQABAAEBAAEAAQEAAQABAQEBAAEBAQEAAQEBAAEBAQEAAQABAQAAAAEBAQEAAQEBAQABAAEBAA==",
          "dtype": "i1"
         },
         "yaxis": "y2"
        },
        {
         "hovertemplate": "<b>OLS trendline</b><br>Affects_Academic_Performance_Numeric = 0.291833 * Addicted_Score + -1.19719<br>R<sup>2</sup>=0.780070<br><br>Gender=Male<br>Academic_Level=Graduate<br>Addicted_Score=%{x}<br>Affects Academic Performance (1=Yes, 0=No)=%{y} <b>(trend)</b><extra></extra>",
         "legendgroup": "Male",
         "marker": {
          "color": "#EF553B",
          "symbol": "circle"
         },
         "mode": "lines",
         "name": "Male",
         "showlegend": false,
         "type": "scatter",
         "x": {
          "_inputArray": {
           "0": 2,
           "1": 3,
           "10": 4,
           "100": 6,
           "101": 6,
           "102": 6,
           "103": 6,
           "104": 6,
           "105": 6,
           "106": 6,
           "107": 6,
           "108": 6,
           "109": 6,
           "11": 4,
           "110": 6,
           "111": 6,
           "112": 6,
           "113": 6,
           "114": 6,
           "115": 6,
           "116": 6,
           "117": 7,
           "118": 7,
           "119": 7,
           "12": 4,
           "120": 7,
           "121": 7,
           "122": 7,
           "123": 7,
           "124": 7,
           "125": 7,
           "126": 7,
           "127": 7,
           "128": 7,
           "129": 7,
           "13": 4,
           "130": 7,
           "131": 7,
           "132": 7,
           "133": 7,
           "134": 7,
           "135": 7,
           "136": 7,
           "137": 7,
           "138": 7,
           "139": 7,
           "14": 4,
           "140": 7,
           "141": 7,
           "142": 7,
           "143": 7,
           "144": 7,
           "145": 7,
           "146": 7,
           "147": 7,
           "148": 7,
           "149": 7,
           "15": 4,
           "150": 7,
           "151": 7,
           "152": 7,
           "153": 7,
           "154": 7,
           "155": 7,
           "156": 7,
           "157": 7,
           "158": 7,
           "159": 7,
           "16": 4,
           "160": 7,
           "161": 7,
           "162": 7,
           "163": 7,
           "164": 7,
           "165": 7,
           "166": 7,
           "167": 7,
           "168": 7,
           "169": 7,
           "17": 4,
           "170": 7,
           "171": 7,
           "172": 7,
           "173": 7,
           "174": 7,
           "175": 7,
           "176": 7,
           "177": 7,
           "178": 7,
           "179": 7,
           "18": 4,
           "180": 7,
           "181": 7,
           "182": 7,
           "183": 7,
           "184": 7,
           "185": 7,
           "186": 7,
           "187": 7,
           "188": 7,
           "189": 7,
           "19": 4,
           "190": 7,
           "191": 7,
           "192": 7,
           "193": 7,
           "194": 7,
           "195": 7,
           "196": 7,
           "197": 7,
           "198": 7,
           "199": 7,
           "2": 3,
           "20": 4,
           "200": 7,
           "201": 7,
           "202": 7,
           "203": 7,
           "204": 7,
           "205": 7,
           "206": 7,
           "207": 7,
           "208": 7,
           "209": 7,
           "21": 4,
           "210": 7,
           "211": 7,
           "212": 7,
           "213": 7,
           "214": 7,
           "215": 7,
           "216": 7,
           "217": 7,
           "218": 7,
           "219": 7,
           "22": 4,
           "220": 7,
           "221": 7,
           "222": 8,
           "223": 8,
           "224": 8,
           "225": 8,
           "226": 8,
           "227": 8,
           "228": 8,
           "229": 8,
           "23": 4,
           "230": 8,
           "231": 8,
           "232": 8,
           "233": 8,
           "234": 8,
           "235": 8,
           "236": 8,
           "237": 8,
           "238": 8,
           "239": 8,
           "24": 4,
           "240": 8,
           "241": 8,
           "242": 8,
           "243": 8,
           "244": 8,
           "245": 8,
           "246": 8,
           "247": 8,
           "248": 8,
           "249": 8,
           "25": 4,
           "250": 8,
           "251": 8,
           "252": 8,
           "253": 8,
           "254": 8,
           "255": 8,
           "256": 8,
           "257": 8,
           "258": 8,
           "259": 8,
           "26": 4,
           "260": 8,
           "261": 8,
           "262": 8,
           "263": 8,
           "264": 8,
           "265": 8,
           "266": 8,
           "267": 8,
           "268": 8,
           "269": 8,
           "27": 4,
           "270": 8,
           "271": 8,
           "272": 8,
           "273": 9,
           "274": 9,
           "275": 9,
           "276": 9,
           "28": 4,
           "29": 4,
           "3": 3,
           "30": 4,
           "31": 4,
           "32": 4,
           "33": 4,
           "34": 4,
           "35": 4,
           "36": 4,
           "37": 4,
           "38": 4,
           "39": 4,
           "4": 3,
           "40": 4,
           "41": 4,
           "42": 4,
           "43": 4,
           "44": 4,
           "45": 4,
           "46": 4,
           "47": 5,
           "48": 5,
           "49": 5,
           "5": 4,
           "50": 5,
           "51": 5,
           "52": 5,
           "53": 5,
           "54": 5,
           "55": 5,
           "56": 5,
           "57": 5,
           "58": 5,
           "59": 5,
           "6": 4,
           "60": 5,
           "61": 5,
           "62": 5,
           "63": 5,
           "64": 5,
           "65": 5,
           "66": 5,
           "67": 5,
           "68": 5,
           "69": 5,
           "7": 4,
           "70": 5,
           "71": 5,
           "72": 5,
           "73": 5,
           "74": 5,
           "75": 5,
           "76": 5,
           "77": 5,
           "78": 5,
           "79": 5,
           "8": 4,
           "80": 5,
           "81": 5,
           "82": 5,
           "83": 5,
           "84": 5,
           "85": 5,
           "86": 5,
           "87": 5,
           "88": 5,
           "89": 5,
           "9": 4,
           "90": 5,
           "91": 5,
           "92": 6,
           "93": 6,
           "94": 6,
           "95": 6,
           "96": 6,
           "97": 6,
           "98": 6,
           "99": 6,
           "bdata": "AgMDAwMEBAQEBAQEBAQEBAQEBAQEBAQEBAQEBAQEBAQEBAQEBAQEBAQEBAQEBAQFBQUFBQUFBQUFBQUFBQUFBQUFBQUFBQUFBQUFBQUFBQUFBQUFBQUFBQUFBQUGBgYGBgYGBgYGBgYGBgYGBgYGBgYGBgYGBwcHBwcHBwcHBwcHBwcHBwcHBwcHBwcHBwcHBwcHBwcHBwcHBwcHBwcHBwcHBwcHBwcHBwcHBwcHBwcHBwcHBwcHBwcHBwcHBwcHBwcHBwcHBwcHBwcHBwcHBwcHBwcHBwcHBwcHBwcHCAgICAgICAgICAgICAgICAgICAgICAgICAgICAgICAgICAgICAgICAgICAgICAgICAgICQkJCQ==",
           "dtype": "i1",
           "shape": "277"
          },
          "bdata": "AgMDAwMEBAQEBAQEBAQEBAQEBAQEBAQEBAQEBAQEBAQEBAQEBAQEBAQEBAQEBAQFBQUFBQUFBQUFBQUFBQUFBQUFBQUFBQUFBQUFBQUFBQUFBQUFBQUFBQUFBQUGBgYGBgYGBgYGBgYGBgYGBgYGBgYGBgYGBwcHBwcHBwcHBwcHBwcHBwcHBwcHBwcHBwcHBwcHBwcHBwcHBwcHBwcHBwcHBwcHBwcHBwcHBwcHBwcHBwcHBwcHBwcHBwcHBwcHBwcHBwcHBwcHBwcHBwcHBwcHBwcHBwcHBwcHBwcHCAgICAgICAgICAgICAgICAgICAgICAgICAgICAgICAgICAgICAgICAgICAgICAgICAgICQkJCQ==",
          "dtype": "i1"
         },
         "xaxis": "x2",
         "y": {
          "_inputArray": {
           "0": -0.6135271019119977,
           "1": -0.3216937624622317,
           "10": -0.02986042301246572,
           "100": 0.5538062558870662,
           "101": 0.5538062558870662,
           "102": 0.5538062558870662,
           "103": 0.5538062558870662,
           "104": 0.5538062558870662,
           "105": 0.5538062558870662,
           "106": 0.5538062558870662,
           "107": 0.5538062558870662,
           "108": 0.5538062558870662,
           "109": 0.5538062558870662,
           "11": -0.02986042301246572,
           "110": 0.5538062558870662,
           "111": 0.5538062558870662,
           "112": 0.5538062558870662,
           "113": 0.5538062558870662,
           "114": 0.5538062558870662,
           "115": 0.5538062558870662,
           "116": 0.5538062558870662,
           "117": 0.8456395953368321,
           "118": 0.8456395953368321,
           "119": 0.8456395953368321,
           "12": -0.02986042301246572,
           "120": 0.8456395953368321,
           "121": 0.8456395953368321,
           "122": 0.8456395953368321,
           "123": 0.8456395953368321,
           "124": 0.8456395953368321,
           "125": 0.8456395953368321,
           "126": 0.8456395953368321,
           "127": 0.8456395953368321,
           "128": 0.8456395953368321,
           "129": 0.8456395953368321,
           "13": -0.02986042301246572,
           "130": 0.8456395953368321,
           "131": 0.8456395953368321,
           "132": 0.8456395953368321,
           "133": 0.8456395953368321,
           "134": 0.8456395953368321,
           "135": 0.8456395953368321,
           "136": 0.8456395953368321,
           "137": 0.8456395953368321,
           "138": 0.8456395953368321,
           "139": 0.8456395953368321,
           "14": -0.02986042301246572,
           "140": 0.8456395953368321,
           "141": 0.8456395953368321,
           "142": 0.8456395953368321,
           "143": 0.8456395953368321,
           "144": 0.8456395953368321,
           "145": 0.8456395953368321,
           "146": 0.8456395953368321,
           "147": 0.8456395953368321,
           "148": 0.8456395953368321,
           "149": 0.8456395953368321,
           "15": -0.02986042301246572,
           "150": 0.8456395953368321,
           "151": 0.8456395953368321,
           "152": 0.8456395953368321,
           "153": 0.8456395953368321,
           "154": 0.8456395953368321,
           "155": 0.8456395953368321,
           "156": 0.8456395953368321,
           "157": 0.8456395953368321,
           "158": 0.8456395953368321,
           "159": 0.8456395953368321,
           "16": -0.02986042301246572,
           "160": 0.8456395953368321,
           "161": 0.8456395953368321,
           "162": 0.8456395953368321,
           "163": 0.8456395953368321,
           "164": 0.8456395953368321,
           "165": 0.8456395953368321,
           "166": 0.8456395953368321,
           "167": 0.8456395953368321,
           "168": 0.8456395953368321,
           "169": 0.8456395953368321,
           "17": -0.02986042301246572,
           "170": 0.8456395953368321,
           "171": 0.8456395953368321,
           "172": 0.8456395953368321,
           "173": 0.8456395953368321,
           "174": 0.8456395953368321,
           "175": 0.8456395953368321,
           "176": 0.8456395953368321,
           "177": 0.8456395953368321,
           "178": 0.8456395953368321,
           "179": 0.8456395953368321,
           "18": -0.02986042301246572,
           "180": 0.8456395953368321,
           "181": 0.8456395953368321,
           "182": 0.8456395953368321,
           "183": 0.8456395953368321,
           "184": 0.8456395953368321,
           "185": 0.8456395953368321,
           "186": 0.8456395953368321,
           "187": 0.8456395953368321,
           "188": 0.8456395953368321,
           "189": 0.8456395953368321,
           "19": -0.02986042301246572,
           "190": 0.8456395953368321,
           "191": 0.8456395953368321,
           "192": 0.8456395953368321,
           "193": 0.8456395953368321,
           "194": 0.8456395953368321,
           "195": 0.8456395953368321,
           "196": 0.8456395953368321,
           "197": 0.8456395953368321,
           "198": 0.8456395953368321,
           "199": 0.8456395953368321,
           "2": -0.3216937624622317,
           "20": -0.02986042301246572,
           "200": 0.8456395953368321,
           "201": 0.8456395953368321,
           "202": 0.8456395953368321,
           "203": 0.8456395953368321,
           "204": 0.8456395953368321,
           "205": 0.8456395953368321,
           "206": 0.8456395953368321,
           "207": 0.8456395953368321,
           "208": 0.8456395953368321,
           "209": 0.8456395953368321,
           "21": -0.02986042301246572,
           "210": 0.8456395953368321,
           "211": 0.8456395953368321,
           "212": 0.8456395953368321,
           "213": 0.8456395953368321,
           "214": 0.8456395953368321,
           "215": 0.8456395953368321,
           "216": 0.8456395953368321,
           "217": 0.8456395953368321,
           "218": 0.8456395953368321,
           "219": 0.8456395953368321,
           "22": -0.02986042301246572,
           "220": 0.8456395953368321,
           "221": 0.8456395953368321,
           "222": 1.1374729347865982,
           "223": 1.1374729347865982,
           "224": 1.1374729347865982,
           "225": 1.1374729347865982,
           "226": 1.1374729347865982,
           "227": 1.1374729347865982,
           "228": 1.1374729347865982,
           "229": 1.1374729347865982,
           "23": -0.02986042301246572,
           "230": 1.1374729347865982,
           "231": 1.1374729347865982,
           "232": 1.1374729347865982,
           "233": 1.1374729347865982,
           "234": 1.1374729347865982,
           "235": 1.1374729347865982,
           "236": 1.1374729347865982,
           "237": 1.1374729347865982,
           "238": 1.1374729347865982,
           "239": 1.1374729347865982,
           "24": -0.02986042301246572,
           "240": 1.1374729347865982,
           "241": 1.1374729347865982,
           "242": 1.1374729347865982,
           "243": 1.1374729347865982,
           "244": 1.1374729347865982,
           "245": 1.1374729347865982,
           "246": 1.1374729347865982,
           "247": 1.1374729347865982,
           "248": 1.1374729347865982,
           "249": 1.1374729347865982,
           "25": -0.02986042301246572,
           "250": 1.1374729347865982,
           "251": 1.1374729347865982,
           "252": 1.1374729347865982,
           "253": 1.1374729347865982,
           "254": 1.1374729347865982,
           "255": 1.1374729347865982,
           "256": 1.1374729347865982,
           "257": 1.1374729347865982,
           "258": 1.1374729347865982,
           "259": 1.1374729347865982,
           "26": -0.02986042301246572,
           "260": 1.1374729347865982,
           "261": 1.1374729347865982,
           "262": 1.1374729347865982,
           "263": 1.1374729347865982,
           "264": 1.1374729347865982,
           "265": 1.1374729347865982,
           "266": 1.1374729347865982,
           "267": 1.1374729347865982,
           "268": 1.1374729347865982,
           "269": 1.1374729347865982,
           "27": -0.02986042301246572,
           "270": 1.1374729347865982,
           "271": 1.1374729347865982,
           "272": 1.1374729347865982,
           "273": 1.4293062742363642,
           "274": 1.4293062742363642,
           "275": 1.4293062742363642,
           "276": 1.4293062742363642,
           "28": -0.02986042301246572,
           "29": -0.02986042301246572,
           "3": -0.3216937624622317,
           "30": -0.02986042301246572,
           "31": -0.02986042301246572,
           "32": -0.02986042301246572,
           "33": -0.02986042301246572,
           "34": -0.02986042301246572,
           "35": -0.02986042301246572,
           "36": -0.02986042301246572,
           "37": -0.02986042301246572,
           "38": -0.02986042301246572,
           "39": -0.02986042301246572,
           "4": -0.3216937624622317,
           "40": -0.02986042301246572,
           "41": -0.02986042301246572,
           "42": -0.02986042301246572,
           "43": -0.02986042301246572,
           "44": -0.02986042301246572,
           "45": -0.02986042301246572,
           "46": -0.02986042301246572,
           "47": 0.26197291643730036,
           "48": 0.26197291643730036,
           "49": 0.26197291643730036,
           "5": -0.02986042301246572,
           "50": 0.26197291643730036,
           "51": 0.26197291643730036,
           "52": 0.26197291643730036,
           "53": 0.26197291643730036,
           "54": 0.26197291643730036,
           "55": 0.26197291643730036,
           "56": 0.26197291643730036,
           "57": 0.26197291643730036,
           "58": 0.26197291643730036,
           "59": 0.26197291643730036,
           "6": -0.02986042301246572,
           "60": 0.26197291643730036,
           "61": 0.26197291643730036,
           "62": 0.26197291643730036,
           "63": 0.26197291643730036,
           "64": 0.26197291643730036,
           "65": 0.26197291643730036,
           "66": 0.26197291643730036,
           "67": 0.26197291643730036,
           "68": 0.26197291643730036,
           "69": 0.26197291643730036,
           "7": -0.02986042301246572,
           "70": 0.26197291643730036,
           "71": 0.26197291643730036,
           "72": 0.26197291643730036,
           "73": 0.26197291643730036,
           "74": 0.26197291643730036,
           "75": 0.26197291643730036,
           "76": 0.26197291643730036,
           "77": 0.26197291643730036,
           "78": 0.26197291643730036,
           "79": 0.26197291643730036,
           "8": -0.02986042301246572,
           "80": 0.26197291643730036,
           "81": 0.26197291643730036,
           "82": 0.26197291643730036,
           "83": 0.26197291643730036,
           "84": 0.26197291643730036,
           "85": 0.26197291643730036,
           "86": 0.26197291643730036,
           "87": 0.26197291643730036,
           "88": 0.26197291643730036,
           "89": 0.26197291643730036,
           "9": -0.02986042301246572,
           "90": 0.26197291643730036,
           "91": 0.26197291643730036,
           "92": 0.5538062558870662,
           "93": 0.5538062558870662,
           "94": 0.5538062558870662,
           "95": 0.5538062558870662,
           "96": 0.5538062558870662,
           "97": 0.5538062558870662,
           "98": 0.5538062558870662,
           "99": 0.5538062558870662,
           "bdata": "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",
           "dtype": "f8",
           "shape": "277"
          },
          "bdata": "en69lgOi47/+jkZvoZbUv/6ORm+hltS//o5Gb6GW1L/+jkZvoZbUv4AQIhG7k56/gBAiEbuTnr+AECIRu5Oev4AQIhG7k56/gBAiEbuTnr+AECIRu5Oev4AQIhG7k56/gBAiEbuTnr+AECIRu5Oev4AQIhG7k56/gBAiEbuTnr+AECIRu5Oev4AQIhG7k56/gBAiEbuTnr+AECIRu5Oev4AQIhG7k56/gBAiEbuTnr+AECIRu5Oev4AQIhG7k56/gBAiEbuTnr+AECIRu5Oev4AQIhG7k56/gBAiEbuTnr+AECIRu5Oev4AQIhG7k56/gBAiEbuTnr+AECIRu5Oev4AQIhG7k56/gBAiEbuTnr+AECIRu5Oev4AQIhG7k56/gBAiEbuTnr+AECIRu5Oev4AQIhG7k56/gBAiEbuTnr+AECIRu5Oev4AQIhG7k56/gBAiEbuTnr+AECIRu5Oev4AQIhG7k56/gBAiEbuTnr+AECIRu5Oev/BMIg0qxNA/8EwiDSrE0D/wTCINKsTQP/BMIg0qxNA/8EwiDSrE0D/wTCINKsTQP/BMIg0qxNA/8EwiDSrE0D/wTCINKsTQP/BMIg0qxNA/8EwiDSrE0D/wTCINKsTQP/BMIg0qxNA/8EwiDSrE0D/wTCINKsTQP/BMIg0qxNA/8EwiDSrE0D/wTCINKsTQP/BMIg0qxNA/8EwiDSrE0D/wTCINKsTQP/BMIg0qxNA/8EwiDSrE0D/wTCINKsTQP/BMIg0qxNA/8EwiDSrE0D/wTCINKsTQP/BMIg0qxNA/8EwiDSrE0D/wTCINKsTQP/BMIg0qxNA/8EwiDSrE0D/wTCINKsTQP/BMIg0qxNA/8EwiDSrE0D/wTCINKsTQP/BMIg0qxNA/8EwiDSrE0D/wTCINKsTQP/BMIg0qxNA/8EwiDSrE0D/wTCINKsTQP/BMIg0qxNA/8EwiDSrE0D/wTCINKsTQP3Jdq+XHuOE/cl2r5ce44T9yXavlx7jhP3Jdq+XHuOE/cl2r5ce44T9yXavlx7jhP3Jdq+XHuOE/cl2r5ce44T9yXavlx7jhP3Jdq+XHuOE/cl2r5ce44T9yXavlx7jhP3Jdq+XHuOE/cl2r5ce44T9yXavlx7jhP3Jdq+XHuOE/cl2r5ce44T9yXavlx7jhP3Jdq+XHuOE/cl2r5ce44T9yXavlx7jhP3Jdq+XHuOE/cl2r5ce44T9yXavlx7jhP3Jdq+XHuOE/bJTFxHoP6z9slMXEeg/rP2yUxcR6D+s/bJTFxHoP6z9slMXEeg/rP2yUxcR6D+s/bJTFxHoP6z9slMXEeg/rP2yUxcR6D+s/bJTFxHoP6z9slMXEeg/rP2yUxcR6D+s/bJTFxHoP6z9slMXEeg/rP2yUxcR6D+s/bJTFxHoP6z9slMXEeg/rP2yUxcR6D+s/bJTFxHoP6z9slMXEeg/rP2yUxcR6D+s/bJTFxHoP6z9slMXEeg/rP2yUxcR6D+s/bJTFxHoP6z9slMXEeg/rP2yUxcR6D+s/bJTFxHoP6z9slMXEeg/rP2yUxcR6D+s/bJTFxHoP6z9slMXEeg/rP2yUxcR6D+s/bJTFxHoP6z9slMXEeg/rP2yUxcR6D+s/bJTFxHoP6z9slMXEeg/rP2yUxcR6D+s/bJTFxHoP6z9slMXEeg/rP2yUxcR6D+s/bJTFxHoP6z9slMXEeg/rP2yUxcR6D+s/bJTFxHoP6z9slMXEeg/rP2yUxcR6D+s/bJTFxHoP6z9slMXEeg/rP2yUxcR6D+s/bJTFxHoP6z9slMXEeg/rP2yUxcR6D+s/bJTFxHoP6z9slMXEeg/rP2yUxcR6D+s/bJTFxHoP6z9slMXEeg/rP2yUxcR6D+s/bJTFxHoP6z9slMXEeg/rP2yUxcR6D+s/bJTFxHoP6z9slMXEeg/rP2yUxcR6D+s/bJTFxHoP6z9slMXEeg/rP2yUxcR6D+s/bJTFxHoP6z9slMXEeg/rP2yUxcR6D+s/bJTFxHoP6z9slMXEeg/rP2yUxcR6D+s/bJTFxHoP6z9slMXEeg/rP2yUxcR6D+s/bJTFxHoP6z9slMXEeg/rP2yUxcR6D+s/bJTFxHoP6z9slMXEeg/rP2yUxcR6D+s/bJTFxHoP6z9slMXEeg/rP2yUxcR6D+s/bJTFxHoP6z9slMXEeg/rP2yUxcR6D+s/bJTFxHoP6z9slMXEeg/rP2yUxcR6D+s/bJTFxHoP6z9slMXEeg/rP2yUxcR6D+s/bJTFxHoP6z9slMXEeg/rP2yUxcR6D+s/bJTFxHoP6z9slMXEeg/rP2yUxcR6D+s/bJTFxHoP6z9slMXEeg/rP2yUxcR6D+s/tOXv0RYz8j+05e/RFjPyP7Tl79EWM/I/tOXv0RYz8j+05e/RFjPyP7Tl79EWM/I/tOXv0RYz8j+05e/RFjPyP7Tl79EWM/I/tOXv0RYz8j+05e/RFjPyP7Tl79EWM/I/tOXv0RYz8j+05e/RFjPyP7Tl79EWM/I/tOXv0RYz8j+05e/RFjPyP7Tl79EWM/I/tOXv0RYz8j+05e/RFjPyP7Tl79EWM/I/tOXv0RYz8j+05e/RFjPyP7Tl79EWM/I/tOXv0RYz8j+05e/RFjPyP7Tl79EWM/I/tOXv0RYz8j+05e/RFjPyP7Tl79EWM/I/tOXv0RYz8j+05e/RFjPyP7Tl79EWM/I/tOXv0RYz8j+05e/RFjPyP7Tl79EWM/I/tOXv0RYz8j+05e/RFjPyP7Tl79EWM/I/tOXv0RYz8j+05e/RFjPyP7Tl79EWM/I/tOXv0RYz8j+05e/RFjPyP7Tl79EWM/I/tOXv0RYz8j+05e/RFjPyP7Tl79EWM/I/tOXv0RYz8j+05e/RFjPyP7Tl79EWM/I/MgF9QXDe9j8yAX1BcN72PzIBfUFw3vY/MgF9QXDe9j8=",
          "dtype": "f8"
         },
         "yaxis": "y2"
        },
        {
         "hovertemplate": "Gender=Male<br>Academic_Level=High School<br>Addicted_Score=%{x}<br>Affects Academic Performance (1=Yes, 0=No)=%{y}<extra></extra>",
         "legendgroup": "Male",
         "marker": {
          "color": "#EF553B",
          "symbol": "circle"
         },
         "mode": "markers",
         "name": "Male",
         "orientation": "v",
         "showlegend": false,
         "type": "scatter",
         "x": {
          "_inputArray": {
           "0": 4,
           "1": 5,
           "10": 8,
           "11": 9,
           "2": 8,
           "3": 8,
           "4": 8,
           "5": 8,
           "6": 8,
           "7": 8,
           "8": 8,
           "9": 8,
           "bdata": "BAUICAgICAgICAgJ",
           "dtype": "i1",
           "shape": "12"
          },
          "bdata": "BAUICAgICAgICAgJ",
          "dtype": "i1"
         },
         "xaxis": "x3",
         "y": {
          "_inputArray": {
           "0": 0,
           "1": 0,
           "10": 1,
           "11": 1,
           "2": 1,
           "3": 1,
           "4": 1,
           "5": 1,
           "6": 1,
           "7": 1,
           "8": 1,
           "9": 1,
           "bdata": "AAABAQEBAQEBAQEB",
           "dtype": "i1",
           "shape": "12"
          },
          "bdata": "AAABAQEBAQEBAQEB",
          "dtype": "i1"
         },
         "yaxis": "y3"
        },
        {
         "hovertemplate": "<b>OLS trendline</b><br>Affects_Academic_Performance_Numeric = 0.26087 * Addicted_Score + -1.12319<br>R<sup>2</sup>=0.939130<br><br>Gender=Male<br>Academic_Level=High School<br>Addicted_Score=%{x}<br>Affects Academic Performance (1=Yes, 0=No)=%{y} <b>(trend)</b><extra></extra>",
         "legendgroup": "Male",
         "marker": {
          "color": "#EF553B",
          "symbol": "circle"
         },
         "mode": "lines",
         "name": "Male",
         "showlegend": false,
         "type": "scatter",
         "x": {
          "_inputArray": {
           "0": 4,
           "1": 5,
           "10": 8,
           "11": 9,
           "2": 8,
           "3": 8,
           "4": 8,
           "5": 8,
           "6": 8,
           "7": 8,
           "8": 8,
           "9": 8,
           "bdata": "BAUICAgICAgICAgJ",
           "dtype": "i1",
           "shape": "12"
          },
          "bdata": "BAUICAgICAgICAgJ",
          "dtype": "i1"
         },
         "xaxis": "x3",
         "y": {
          "_inputArray": {
           "0": -0.0797101449275357,
           "1": 0.18115942028985565,
           "10": 0.9637681159420297,
           "11": 1.2246376811594213,
           "2": 0.9637681159420297,
           "3": 0.9637681159420297,
           "4": 0.9637681159420297,
           "5": 0.9637681159420297,
           "6": 0.9637681159420297,
           "7": 0.9637681159420297,
           "8": 0.9637681159420297,
           "9": 0.9637681159420297,
           "bdata": "IImfUeJntL+I7cBcOzDHP/TAXDsw1+4/9MBcOzDX7j/0wFw7MNfuP/TAXDsw1+4/9MBcOzDX7j/0wFw7MNfuP/TAXDsw1+4/9MBcOzDX7j/0wFw7MNfuP752YK4dmPM/",
           "dtype": "f8",
           "shape": "12"
          },
          "bdata": "IImfUeJntL+I7cBcOzDHP/TAXDsw1+4/9MBcOzDX7j/0wFw7MNfuP/TAXDsw1+4/9MBcOzDX7j/0wFw7MNfuP/TAXDsw1+4/9MBcOzDX7j/0wFw7MNfuP752YK4dmPM/",
          "dtype": "f8"
         },
         "yaxis": "y3"
        }
       ],
       "layout": {
        "annotations": [
         {
          "font": {},
          "showarrow": false,
          "text": "Academic_Level=Undergraduate",
          "x": 0.15999999999999998,
          "xanchor": "center",
          "xref": "paper",
          "y": 1,
          "yanchor": "bottom",
          "yref": "paper"
         },
         {
          "font": {},
          "showarrow": false,
          "text": "Academic_Level=Graduate",
          "x": 0.49999999999999994,
          "xanchor": "center",
          "xref": "paper",
          "y": 1,
          "yanchor": "bottom",
          "yref": "paper"
         },
         {
          "font": {},
          "showarrow": false,
          "text": "Academic_Level=High School",
          "x": 0.8399999999999999,
          "xanchor": "center",
          "xref": "paper",
          "y": 1,
          "yanchor": "bottom",
          "yref": "paper"
         }
        ],
        "autosize": true,
        "legend": {
         "title": {
          "text": "Gender"
         },
         "tracegroupgap": 0
        },
        "template": {
         "data": {
          "bar": [
           {
            "error_x": {
             "color": "#2a3f5f"
            },
            "error_y": {
             "color": "#2a3f5f"
            },
            "marker": {
             "line": {
              "color": "#E5ECF6",
              "width": 0.5
             },
             "pattern": {
              "fillmode": "overlay",
              "size": 10,
              "solidity": 0.2
             }
            },
            "type": "bar"
           }
          ],
          "barpolar": [
           {
            "marker": {
             "line": {
              "color": "#E5ECF6",
              "width": 0.5
             },
             "pattern": {
              "fillmode": "overlay",
              "size": 10,
              "solidity": 0.2
             }
            },
            "type": "barpolar"
           }
          ],
          "carpet": [
           {
            "aaxis": {
             "endlinecolor": "#2a3f5f",
             "gridcolor": "white",
             "linecolor": "white",
             "minorgridcolor": "white",
             "startlinecolor": "#2a3f5f"
            },
            "baxis": {
             "endlinecolor": "#2a3f5f",
             "gridcolor": "white",
             "linecolor": "white",
             "minorgridcolor": "white",
             "startlinecolor": "#2a3f5f"
            },
            "type": "carpet"
           }
          ],
          "choropleth": [
           {
            "colorbar": {
             "outlinewidth": 0,
             "ticks": ""
            },
            "type": "choropleth"
           }
          ],
          "contour": [
           {
            "colorbar": {
             "outlinewidth": 0,
             "ticks": ""
            },
            "colorscale": [
             [
              0,
              "#0d0887"
             ],
             [
              0.1111111111111111,
              "#46039f"
             ],
             [
              0.2222222222222222,
              "#7201a8"
             ],
             [
              0.3333333333333333,
              "#9c179e"
             ],
             [
              0.4444444444444444,
              "#bd3786"
             ],
             [
              0.5555555555555556,
              "#d8576b"
             ],
             [
              0.6666666666666666,
              "#ed7953"
             ],
             [
              0.7777777777777778,
              "#fb9f3a"
             ],
             [
              0.8888888888888888,
              "#fdca26"
             ],
             [
              1,
              "#f0f921"
             ]
            ],
            "type": "contour"
           }
          ],
          "contourcarpet": [
           {
            "colorbar": {
             "outlinewidth": 0,
             "ticks": ""
            },
            "type": "contourcarpet"
           }
          ],
          "heatmap": [
           {
            "colorbar": {
             "outlinewidth": 0,
             "ticks": ""
            },
            "colorscale": [
             [
              0,
              "#0d0887"
             ],
             [
              0.1111111111111111,
              "#46039f"
             ],
             [
              0.2222222222222222,
              "#7201a8"
             ],
             [
              0.3333333333333333,
              "#9c179e"
             ],
             [
              0.4444444444444444,
              "#bd3786"
             ],
             [
              0.5555555555555556,
              "#d8576b"
             ],
             [
              0.6666666666666666,
              "#ed7953"
             ],
             [
              0.7777777777777778,
              "#fb9f3a"
             ],
             [
              0.8888888888888888,
              "#fdca26"
             ],
             [
              1,
              "#f0f921"
             ]
            ],
            "type": "heatmap"
           }
          ],
          "histogram": [
           {
            "marker": {
             "pattern": {
              "fillmode": "overlay",
              "size": 10,
              "solidity": 0.2
             }
            },
            "type": "histogram"
           }
          ],
          "histogram2d": [
           {
            "colorbar": {
             "outlinewidth": 0,
             "ticks": ""
            },
            "colorscale": [
             [
              0,
              "#0d0887"
             ],
             [
              0.1111111111111111,
              "#46039f"
             ],
             [
              0.2222222222222222,
              "#7201a8"
             ],
             [
              0.3333333333333333,
              "#9c179e"
             ],
             [
              0.4444444444444444,
              "#bd3786"
             ],
             [
              0.5555555555555556,
              "#d8576b"
             ],
             [
              0.6666666666666666,
              "#ed7953"
             ],
             [
              0.7777777777777778,
              "#fb9f3a"
             ],
             [
              0.8888888888888888,
              "#fdca26"
             ],
             [
              1,
              "#f0f921"
             ]
            ],
            "type": "histogram2d"
           }
          ],
          "histogram2dcontour": [
           {
            "colorbar": {
             "outlinewidth": 0,
             "ticks": ""
            },
            "colorscale": [
             [
              0,
              "#0d0887"
             ],
             [
              0.1111111111111111,
              "#46039f"
             ],
             [
              0.2222222222222222,
              "#7201a8"
             ],
             [
              0.3333333333333333,
              "#9c179e"
             ],
             [
              0.4444444444444444,
              "#bd3786"
             ],
             [
              0.5555555555555556,
              "#d8576b"
             ],
             [
              0.6666666666666666,
              "#ed7953"
             ],
             [
              0.7777777777777778,
              "#fb9f3a"
             ],
             [
              0.8888888888888888,
              "#fdca26"
             ],
             [
              1,
              "#f0f921"
             ]
            ],
            "type": "histogram2dcontour"
           }
          ],
          "mesh3d": [
           {
            "colorbar": {
             "outlinewidth": 0,
             "ticks": ""
            },
            "type": "mesh3d"
           }
          ],
          "parcoords": [
           {
            "line": {
             "colorbar": {
              "outlinewidth": 0,
              "ticks": ""
             }
            },
            "type": "parcoords"
           }
          ],
          "pie": [
           {
            "automargin": true,
            "type": "pie"
           }
          ],
          "scatter": [
           {
            "fillpattern": {
             "fillmode": "overlay",
             "size": 10,
             "solidity": 0.2
            },
            "type": "scatter"
           }
          ],
          "scatter3d": [
           {
            "line": {
             "colorbar": {
              "outlinewidth": 0,
              "ticks": ""
             }
            },
            "marker": {
             "colorbar": {
              "outlinewidth": 0,
              "ticks": ""
             }
            },
            "type": "scatter3d"
           }
          ],
          "scattercarpet": [
           {
            "marker": {
             "colorbar": {
              "outlinewidth": 0,
              "ticks": ""
             }
            },
            "type": "scattercarpet"
           }
          ],
          "scattergeo": [
           {
            "marker": {
             "colorbar": {
              "outlinewidth": 0,
              "ticks": ""
             }
            },
            "type": "scattergeo"
           }
          ],
          "scattergl": [
           {
            "marker": {
             "colorbar": {
              "outlinewidth": 0,
              "ticks": ""
             }
            },
            "type": "scattergl"
           }
          ],
          "scattermap": [
           {
            "marker": {
             "colorbar": {
              "outlinewidth": 0,
              "ticks": ""
             }
            },
            "type": "scattermap"
           }
          ],
          "scattermapbox": [
           {
            "marker": {
             "colorbar": {
              "outlinewidth": 0,
              "ticks": ""
             }
            },
            "type": "scattermapbox"
           }
          ],
          "scatterpolar": [
           {
            "marker": {
             "colorbar": {
              "outlinewidth": 0,
              "ticks": ""
             }
            },
            "type": "scatterpolar"
           }
          ],
          "scatterpolargl": [
           {
            "marker": {
             "colorbar": {
              "outlinewidth": 0,
              "ticks": ""
             }
            },
            "type": "scatterpolargl"
           }
          ],
          "scatterternary": [
           {
            "marker": {
             "colorbar": {
              "outlinewidth": 0,
              "ticks": ""
             }
            },
            "type": "scatterternary"
           }
          ],
          "surface": [
           {
            "colorbar": {
             "outlinewidth": 0,
             "ticks": ""
            },
            "colorscale": [
             [
              0,
              "#0d0887"
             ],
             [
              0.1111111111111111,
              "#46039f"
             ],
             [
              0.2222222222222222,
              "#7201a8"
             ],
             [
              0.3333333333333333,
              "#9c179e"
             ],
             [
              0.4444444444444444,
              "#bd3786"
             ],
             [
              0.5555555555555556,
              "#d8576b"
             ],
             [
              0.6666666666666666,
              "#ed7953"
             ],
             [
              0.7777777777777778,
              "#fb9f3a"
             ],
             [
              0.8888888888888888,
              "#fdca26"
             ],
             [
              1,
              "#f0f921"
             ]
            ],
            "type": "surface"
           }
          ],
          "table": [
           {
            "cells": {
             "fill": {
              "color": "#EBF0F8"
             },
             "line": {
              "color": "white"
             }
            },
            "header": {
             "fill": {
              "color": "#C8D4E3"
             },
             "line": {
              "color": "white"
             }
            },
            "type": "table"
           }
          ]
         },
         "layout": {
          "annotationdefaults": {
           "arrowcolor": "#2a3f5f",
           "arrowhead": 0,
           "arrowwidth": 1
          },
          "autotypenumbers": "strict",
          "coloraxis": {
           "colorbar": {
            "outlinewidth": 0,
            "ticks": ""
           }
          },
          "colorscale": {
           "diverging": [
            [
             0,
             "#8e0152"
            ],
            [
             0.1,
             "#c51b7d"
            ],
            [
             0.2,
             "#de77ae"
            ],
            [
             0.3,
             "#f1b6da"
            ],
            [
             0.4,
             "#fde0ef"
            ],
            [
             0.5,
             "#f7f7f7"
            ],
            [
             0.6,
             "#e6f5d0"
            ],
            [
             0.7,
             "#b8e186"
            ],
            [
             0.8,
             "#7fbc41"
            ],
            [
             0.9,
             "#4d9221"
            ],
            [
             1,
             "#276419"
            ]
           ],
           "sequential": [
            [
             0,
             "#0d0887"
            ],
            [
             0.1111111111111111,
             "#46039f"
            ],
            [
             0.2222222222222222,
             "#7201a8"
            ],
            [
             0.3333333333333333,
             "#9c179e"
            ],
            [
             0.4444444444444444,
             "#bd3786"
            ],
            [
             0.5555555555555556,
             "#d8576b"
            ],
            [
             0.6666666666666666,
             "#ed7953"
            ],
            [
             0.7777777777777778,
             "#fb9f3a"
            ],
            [
             0.8888888888888888,
             "#fdca26"
            ],
            [
             1,
             "#f0f921"
            ]
           ],
           "sequentialminus": [
            [
             0,
             "#0d0887"
            ],
            [
             0.1111111111111111,
             "#46039f"
            ],
            [
             0.2222222222222222,
             "#7201a8"
            ],
            [
             0.3333333333333333,
             "#9c179e"
            ],
            [
             0.4444444444444444,
             "#bd3786"
            ],
            [
             0.5555555555555556,
             "#d8576b"
            ],
            [
             0.6666666666666666,
             "#ed7953"
            ],
            [
             0.7777777777777778,
             "#fb9f3a"
            ],
            [
             0.8888888888888888,
             "#fdca26"
            ],
            [
             1,
             "#f0f921"
            ]
           ]
          },
          "colorway": [
           "#636efa",
           "#EF553B",
           "#00cc96",
           "#ab63fa",
           "#FFA15A",
           "#19d3f3",
           "#FF6692",
           "#B6E880",
           "#FF97FF",
           "#FECB52"
          ],
          "font": {
           "color": "#2a3f5f"
          },
          "geo": {
           "bgcolor": "white",
           "lakecolor": "white",
           "landcolor": "#E5ECF6",
           "showlakes": true,
           "showland": true,
           "subunitcolor": "white"
          },
          "hoverlabel": {
           "align": "left"
          },
          "hovermode": "closest",
          "mapbox": {
           "style": "light"
          },
          "paper_bgcolor": "white",
          "plot_bgcolor": "#E5ECF6",
          "polar": {
           "angularaxis": {
            "gridcolor": "white",
            "linecolor": "white",
            "ticks": ""
           },
           "bgcolor": "#E5ECF6",
           "radialaxis": {
            "gridcolor": "white",
            "linecolor": "white",
            "ticks": ""
           }
          },
          "scene": {
           "xaxis": {
            "backgroundcolor": "#E5ECF6",
            "gridcolor": "white",
            "gridwidth": 2,
            "linecolor": "white",
            "showbackground": true,
            "ticks": "",
            "zerolinecolor": "white"
           },
           "yaxis": {
            "backgroundcolor": "#E5ECF6",
            "gridcolor": "white",
            "gridwidth": 2,
            "linecolor": "white",
            "showbackground": true,
            "ticks": "",
            "zerolinecolor": "white"
           },
           "zaxis": {
            "backgroundcolor": "#E5ECF6",
            "gridcolor": "white",
            "gridwidth": 2,
            "linecolor": "white",
            "showbackground": true,
            "ticks": "",
            "zerolinecolor": "white"
           }
          },
          "shapedefaults": {
           "line": {
            "color": "#2a3f5f"
           }
          },
          "ternary": {
           "aaxis": {
            "gridcolor": "white",
            "linecolor": "white",
            "ticks": ""
           },
           "baxis": {
            "gridcolor": "white",
            "linecolor": "white",
            "ticks": ""
           },
           "bgcolor": "#E5ECF6",
           "caxis": {
            "gridcolor": "white",
            "linecolor": "white",
            "ticks": ""
           }
          },
          "title": {
           "x": 0.05
          },
          "xaxis": {
           "automargin": true,
           "gridcolor": "white",
           "linecolor": "white",
           "ticks": "",
           "title": {
            "standoff": 15
           },
           "zerolinecolor": "white",
           "zerolinewidth": 2
          },
          "yaxis": {
           "automargin": true,
           "gridcolor": "white",
           "linecolor": "white",
           "ticks": "",
           "title": {
            "standoff": 15
           },
           "zerolinecolor": "white",
           "zerolinewidth": 2
          }
         }
        },
        "title": {
         "text": "Addiction Score vs Academic Performance"
        },
        "xaxis": {
         "anchor": "y",
         "autorange": true,
         "domain": [
          0,
          0.31999999999999995
         ],
         "range": [
          1.495760365747552,
          9.504239634252448
         ],
         "title": {
          "text": "Addicted_Score"
         },
         "type": "linear"
        },
        "xaxis2": {
         "anchor": "y2",
         "autorange": true,
         "domain": [
          0.33999999999999997,
          0.6599999999999999
         ],
         "matches": "x",
         "range": [
          1.495760365747552,
          9.504239634252448
         ],
         "title": {
          "text": "Addicted_Score"
         },
         "type": "linear"
        },
        "xaxis3": {
         "anchor": "y3",
         "autorange": true,
         "domain": [
          0.6799999999999999,
          0.9999999999999999
         ],
         "matches": "x",
         "range": [
          1.495760365747552,
          9.504239634252448
         ],
         "title": {
          "text": "Addicted_Score"
         },
         "type": "linear"
        },
        "yaxis": {
         "anchor": "x",
         "autorange": true,
         "domain": [
          0,
          1
         ],
         "range": [
          -0.7270178450313511,
          1.5427970173557177
         ],
         "title": {
          "text": "Affects Academic Performance (1=Yes, 0=No)"
         },
         "type": "linear"
        },
        "yaxis2": {
         "anchor": "x2",
         "autorange": true,
         "domain": [
          0,
          1
         ],
         "matches": "y",
         "range": [
          -0.7270178450313511,
          1.5427970173557177
         ],
         "showticklabels": false,
         "type": "linear"
        },
        "yaxis3": {
         "anchor": "x3",
         "autorange": true,
         "domain": [
          0,
          1
         ],
         "matches": "y",
         "range": [
          -0.7270178450313511,
          1.5427970173557177
         ],
         "showticklabels": false,
         "type": "linear"
        }
       }
      },
      "image/png": "[encoded data removed]"
     },
     "metadata": {},
     "output_type": "display_data"
    }
   ],
   "source": [
    "# Scatter plot with regression line\n",
    "fig = px.scatter(\n",
    "    df,\n",
    "    x='Addicted_Score',\n",
    "    y='Affects_Academic_Performance_Numeric',\n",
    "    color='Gender',\n",
    "    facet_col='Academic_Level',\n",
    "    trendline='ols',\n",
    "    labels={'Affects_Academic_Performance_Numeric': 'Affects Academic Performance (1=Yes, 0=No)'},\n",
    "    title='Addiction Score vs Academic Performance'\n",
    ")\n",
    "fig.show()\n"
   ]
  },
  {
   "cell_type": "code",
   "execution_count": 13,
   "id": "0e4a6276-b1a6-45bd-ab1c-68a1e49ffea3",
   "metadata": {},
   "outputs": [
    {
     "data": {
      "application/vnd.plotly.v1+json": {
       "config": {
        "plotlyServerURL": "https://plot.ly"
       },
       "data": [
        {
         "alignmentgroup": "True",
         "hovertemplate": "Academic_Level=Undergraduate<br>Age_Group=19-21<br>Gender=%{x}<br>Addicted_Score=%{y}<extra></extra>",
         "legendgroup": "Undergraduate",
         "marker": {
          "color": "#636efa"
         },
         "name": "Undergraduate",
         "notched": false,
         "offsetgroup": "Undergraduate",
         "orientation": "v",
         "showlegend": true,
         "type": "box",
         "x": [
          "Female",
          "Female",
          "Female",
          "Female",
          "Male",
          "Female",
          "Male",
          "Female",
          "Male",
          "Female",
          "Male",
          "Female",
          "Male",
          "Female",
          "Male",
          "Female",
          "Male",
          "Female",
          "Male",
          "Female",
          "Male",
          "Female",
          "Male",
          "Female",
          "Male",
          "Female",
          "Male",
          "Female",
          "Male",
          "Female",
          "Female",
          "Male",
          "Female",
          "Male",
          "Female",
          "Male",
          "Female",
          "Female",
          "Male",
          "Female",
          "Male",
          "Female",
          "Male",
          "Female",
          "Male",
          "Female",
          "Male",
          "Female",
          "Male",
          "Female",
          "Male",
          "Female",
          "Male",
          "Female",
          "Male",
          "Male",
          "Female",
          "Female",
          "Female",
          "Male",
          "Male",
          "Male",
          "Male",
          "Female",
          "Male",
          "Female",
          "Male",
          "Female",
          "Male",
          "Female",
          "Male",
          "Female",
          "Male",
          "Female",
          "Male",
          "Female",
          "Male",
          "Female",
          "Male",
          "Female",
          "Female",
          "Female",
          "Female",
          "Female",
          "Female",
          "Female",
          "Female",
          "Female",
          "Female",
          "Female",
          "Female",
          "Female",
          "Female",
          "Female",
          "Female",
          "Female",
          "Female",
          "Female",
          "Female",
          "Female",
          "Female",
          "Female",
          "Female",
          "Female",
          "Female",
          "Female",
          "Female",
          "Female",
          "Female",
          "Female",
          "Female",
          "Female",
          "Female",
          "Female",
          "Female",
          "Female",
          "Female",
          "Female",
          "Female",
          "Female",
          "Female",
          "Female",
          "Female",
          "Female",
          "Female",
          "Female",
          "Female",
          "Female",
          "Female",
          "Female",
          "Female",
          "Female",
          "Female",
          "Female",
          "Female",
          "Female",
          "Female",
          "Female",
          "Female",
          "Female",
          "Female",
          "Female",
          "Female",
          "Female",
          "Female",
          "Female",
          "Female",
          "Female",
          "Female",
          "Female",
          "Female",
          "Female",
          "Female",
          "Female",
          "Female",
          "Female",
          "Female",
          "Female",
          "Female",
          "Female",
          "Female",
          "Female",
          "Female",
          "Female",
          "Female",
          "Female",
          "Female",
          "Female",
          "Female",
          "Female",
          "Female",
          "Female",
          "Female",
          "Female",
          "Female",
          "Female",
          "Female",
          "Female",
          "Female",
          "Female",
          "Female",
          "Female",
          "Female",
          "Female",
          "Female",
          "Female",
          "Female",
          "Female",
          "Female",
          "Female",
          "Female",
          "Female",
          "Female",
          "Female",
          "Female",
          "Female",
          "Female",
          "Female",
          "Female",
          "Female",
          "Female",
          "Female",
          "Female",
          "Female",
          "Female",
          "Female",
          "Female",
          "Female",
          "Female",
          "Female",
          "Female",
          "Female",
          "Female",
          "Female",
          "Female",
          "Female",
          "Female",
          "Female",
          "Female",
          "Female",
          "Female",
          "Female",
          "Female",
          "Female",
          "Female",
          "Female",
          "Female",
          "Female",
          "Female",
          "Female",
          "Female",
          "Female",
          "Female",
          "Female",
          "Female",
          "Female",
          "Female",
          "Female",
          "Female",
          "Female",
          "Female",
          "Female",
          "Female",
          "Female",
          "Female",
          "Female",
          "Female",
          "Female",
          "Female",
          "Female",
          "Female",
          "Female",
          "Female",
          "Female",
          "Female",
          "Female",
          "Female",
          "Female",
          "Female",
          "Female",
          "Female",
          "Female",
          "Female",
          "Female",
          "Female",
          "Female",
          "Female",
          "Female",
          "Female",
          "Female",
          "Female",
          "Female",
          "Female",
          "Female",
          "Female",
          "Female",
          "Female",
          "Female",
          "Female",
          "Female",
          "Female",
          "Female",
          "Female",
          "Female",
          "Female",
          "Female",
          "Female",
          "Female",
          "Female",
          "Female",
          "Female",
          "Female",
          "Female",
          "Female",
          "Female",
          "Female",
          "Female",
          "Female",
          "Male",
          "Male",
          "Male",
          "Male",
          "Male",
          "Male",
          "Male",
          "Male",
          "Male",
          "Male",
          "Male",
          "Male",
          "Male",
          "Male",
          "Male",
          "Male",
          "Male",
          "Male",
          "Male",
          "Male",
          "Male",
          "Male",
          "Male",
          "Male",
          "Male",
          "Female",
          "Female",
          "Female",
          "Female",
          "Female",
          "Female",
          "Female",
          "Female",
          "Female",
          "Female",
          "Female",
          "Female",
          "Female",
          "Female",
          "Female",
          "Female",
          "Female",
          "Female",
          "Female",
          "Female",
          "Female",
          "Female",
          "Female",
          "Female",
          "Female",
          "Female",
          "Female",
          "Female",
          "Female",
          "Female"
         ],
         "x0": " ",
         "xaxis": "x",
         "y": {
          "_inputArray": {
           "0": 8,
           "1": 9,
           "10": 7,
           "100": 5,
           "101": 7,
           "102": 8,
           "103": 5,
           "104": 7,
           "105": 8,
           "106": 5,
           "107": 7,
           "108": 8,
           "109": 5,
           "11": 8,
           "110": 9,
           "111": 5,
           "112": 3,
           "113": 6,
           "114": 9,
           "115": 5,
           "116": 3,
           "117": 6,
           "118": 9,
           "119": 5,
           "12": 5,
           "120": 3,
           "121": 6,
           "122": 9,
           "123": 5,
           "124": 3,
           "125": 6,
           "126": 9,
           "127": 5,
           "128": 3,
           "129": 6,
           "13": 7,
           "130": 9,
           "131": 5,
           "132": 3,
           "133": 6,
           "134": 9,
           "135": 5,
           "136": 3,
           "137": 6,
           "138": 9,
           "139": 5,
           "14": 5,
           "140": 3,
           "141": 6,
           "142": 9,
           "143": 5,
           "144": 3,
           "145": 6,
           "146": 9,
           "147": 5,
           "148": 3,
           "149": 6,
           "15": 7,
           "150": 9,
           "151": 5,
           "152": 3,
           "153": 6,
           "154": 9,
           "155": 5,
           "156": 3,
           "157": 6,
           "158": 9,
           "159": 5,
           "16": 7,
           "160": 7,
           "161": 6,
           "162": 4,
           "163": 9,
           "164": 5,
           "165": 7,
           "166": 6,
           "167": 4,
           "168": 9,
           "169": 5,
           "17": 8,
           "170": 7,
           "171": 6,
           "172": 4,
           "173": 9,
           "174": 5,
           "175": 7,
           "176": 6,
           "177": 4,
           "178": 9,
           "179": 5,
           "18": 6,
           "180": 7,
           "181": 6,
           "182": 4,
           "183": 9,
           "184": 5,
           "185": 7,
           "186": 6,
           "187": 4,
           "188": 9,
           "189": 5,
           "19": 7,
           "190": 7,
           "191": 6,
           "192": 4,
           "193": 9,
           "194": 5,
           "195": 7,
           "196": 6,
           "197": 4,
           "198": 9,
           "199": 5,
           "2": 9,
           "20": 5,
           "200": 7,
           "201": 6,
           "202": 4,
           "203": 9,
           "204": 5,
           "205": 7,
           "206": 6,
           "207": 4,
           "208": 9,
           "209": 5,
           "21": 7,
           "210": 7,
           "211": 6,
           "212": 4,
           "213": 9,
           "214": 5,
           "215": 7,
           "216": 6,
           "217": 4,
           "218": 9,
           "219": 5,
           "22": 7,
           "220": 7,
           "221": 6,
           "222": 4,
           "223": 9,
           "224": 5,
           "225": 7,
           "226": 6,
           "227": 4,
           "228": 9,
           "229": 5,
           "23": 8,
           "230": 7,
           "231": 6,
           "232": 4,
           "233": 9,
           "234": 5,
           "235": 7,
           "236": 6,
           "237": 4,
           "238": 9,
           "239": 5,
           "24": 6,
           "240": 7,
           "241": 6,
           "242": 4,
           "243": 9,
           "244": 5,
           "245": 7,
           "246": 6,
           "247": 4,
           "248": 9,
           "249": 5,
           "25": 7,
           "250": 7,
           "251": 4,
           "252": 7,
           "253": 8,
           "254": 8,
           "255": 7,
           "256": 4,
           "257": 7,
           "258": 8,
           "259": 8,
           "26": 5,
           "260": 7,
           "261": 4,
           "262": 7,
           "263": 8,
           "264": 8,
           "265": 7,
           "266": 4,
           "267": 7,
           "268": 8,
           "269": 8,
           "27": 7,
           "270": 7,
           "271": 4,
           "272": 7,
           "273": 8,
           "274": 8,
           "275": 7,
           "276": 4,
           "277": 7,
           "278": 8,
           "279": 8,
           "28": 7,
           "280": 7,
           "281": 4,
           "282": 7,
           "283": 8,
           "284": 8,
           "285": 7,
           "286": 8,
           "287": 5,
           "288": 7,
           "289": 5,
           "29": 8,
           "290": 8,
           "291": 8,
           "292": 4,
           "293": 5,
           "294": 5,
           "295": 9,
           "296": 8,
           "297": 8,
           "298": 7,
           "299": 8,
           "3": 8,
           "30": 8,
           "300": 8,
           "301": 4,
           "302": 5,
           "303": 5,
           "304": 9,
           "305": 8,
           "306": 8,
           "307": 7,
           "308": 5,
           "309": 7,
           "31": 7,
           "310": 8,
           "311": 8,
           "312": 7,
           "313": 5,
           "314": 7,
           "315": 5,
           "316": 8,
           "317": 9,
           "318": 4,
           "319": 5,
           "32": 7,
           "320": 5,
           "321": 9,
           "322": 8,
           "323": 5,
           "324": 8,
           "325": 9,
           "326": 4,
           "327": 5,
           "328": 5,
           "329": 9,
           "33": 6,
           "330": 8,
           "331": 8,
           "332": 7,
           "333": 5,
           "334": 7,
           "335": 8,
           "336": 8,
           "337": 7,
           "338": 5,
           "339": 7,
           "34": 7,
           "340": 5,
           "341": 8,
           "342": 9,
           "343": 4,
           "344": 5,
           "345": 5,
           "346": 9,
           "347": 8,
           "348": 8,
           "349": 7,
           "35": 7,
           "350": 5,
           "351": 7,
           "352": 8,
           "36": 8,
           "37": 7,
           "38": 7,
           "39": 7,
           "4": 7,
           "40": 6,
           "41": 7,
           "42": 7,
           "43": 7,
           "44": 6,
           "45": 7,
           "46": 7,
           "47": 8,
           "48": 7,
           "49": 7,
           "5": 8,
           "50": 6,
           "51": 7,
           "52": 8,
           "53": 7,
           "54": 5,
           "55": 7,
           "56": 5,
           "57": 7,
           "58": 8,
           "59": 7,
           "6": 5,
           "60": 8,
           "61": 5,
           "62": 7,
           "63": 5,
           "64": 5,
           "65": 8,
           "66": 8,
           "67": 7,
           "68": 7,
           "69": 5,
           "7": 7,
           "70": 5,
           "71": 8,
           "72": 8,
           "73": 7,
           "74": 7,
           "75": 5,
           "76": 5,
           "77": 8,
           "78": 8,
           "79": 7,
           "8": 5,
           "80": 7,
           "81": 8,
           "82": 5,
           "83": 7,
           "84": 8,
           "85": 5,
           "86": 7,
           "87": 8,
           "88": 5,
           "89": 7,
           "9": 7,
           "90": 8,
           "91": 5,
           "92": 7,
           "93": 8,
           "94": 5,
           "95": 7,
           "96": 8,
           "97": 5,
           "98": 7,
           "99": 8,
           "bdata": "CAkJCAcIBQcFBwcIBQcFBwcIBgcFBwcIBgcFBwcICAcHBgcHCAcHBwYHBwcGBwcIBwcGBwgHBQcFBwgHCAUHBQUICAcHBQUICAcHBQUICAcHCAUHCAUHCAUHCAUHCAUHCAUHCAUHCAUHCAUHCAUJBQMGCQUDBgkFAwYJBQMGCQUDBgkFAwYJBQMGCQUDBgkFAwYJBQMGCQUDBgkFAwYJBQcGBAkFBwYECQUHBgQJBQcGBAkFBwYECQUHBgQJBQcGBAkFBwYECQUHBgQJBQcGBAkFBwYECQUHBgQJBQcGBAkFBwYECQUHBgQJBQcGBAkFBwYECQUHBgQJBQcEBwgIBwQHCAgHBAcICAcEBwgIBwQHCAgHBAcICAcEBwgIBwgFBwUICAQFBQkICAcICAQFBQkICAcFBwgIBwUHBQgJBAUFCQgFCAkEBQUJCAgHBQcICAcFBwUICQQFBQkICAcFBwg=",
           "dtype": "i1",
           "shape": "353"
          },
          "bdata": "CAkJCAcIBQcFBwcIBQcFBwcIBgcFBwcIBgcFBwcICAcHBgcHCAcHBwYHBwcGBwcIBwcGBwgHBQcFBwgHCAUHBQUICAcHBQUICAcHBQUICAcHCAUHCAUHCAUHCAUHCAUHCAUHCAUHCAUHCAUHCAUJBQMGCQUDBgkFAwYJBQMGCQUDBgkFAwYJBQMGCQUDBgkFAwYJBQMGCQUDBgkFAwYJBQcGBAkFBwYECQUHBgQJBQcGBAkFBwYECQUHBgQJBQcGBAkFBwYECQUHBgQJBQcGBAkFBwYECQUHBgQJBQcGBAkFBwYECQUHBgQJBQcGBAkFBwYECQUHBgQJBQcEBwgIBwQHCAgHBAcICAcEBwgIBwQHCAgHBAcICAcEBwgIBwgFBwUICAQFBQkICAcICAQFBQkICAcFBwgIBwUHBQgJBAUFCQgFCAkEBQUJCAgHBQcICAcFBwUICQQFBQkICAcFBwg=",
          "dtype": "i1"
         },
         "y0": " ",
         "yaxis": "y"
        },
        {
         "alignmentgroup": "True",
         "hovertemplate": "Academic_Level=Graduate<br>Age_Group=19-21<br>Gender=%{x}<br>Addicted_Score=%{y}<extra></extra>",
         "legendgroup": "Graduate",
         "marker": {
          "color": "#EF553B"
         },
         "name": "Graduate",
         "notched": false,
         "offsetgroup": "Graduate",
         "orientation": "v",
         "showlegend": true,
         "type": "box",
         "x": [
          "Male",
          "Female",
          "Female",
          "Male",
          "Male",
          "Female",
          "Female",
          "Female",
          "Female",
          "Female",
          "Female",
          "Female",
          "Female",
          "Female",
          "Female",
          "Male",
          "Male",
          "Male",
          "Male",
          "Male",
          "Male",
          "Male",
          "Male",
          "Male",
          "Male",
          "Male",
          "Male",
          "Male",
          "Male",
          "Male",
          "Male",
          "Male",
          "Male",
          "Male",
          "Male",
          "Male",
          "Male",
          "Male",
          "Male",
          "Male",
          "Male",
          "Male",
          "Male",
          "Male",
          "Male",
          "Male",
          "Male",
          "Male",
          "Male",
          "Male",
          "Male",
          "Male",
          "Male",
          "Male",
          "Male",
          "Male",
          "Male",
          "Male",
          "Male",
          "Male",
          "Male",
          "Male",
          "Male",
          "Male",
          "Male",
          "Male",
          "Male",
          "Male",
          "Male",
          "Male",
          "Male",
          "Male",
          "Male",
          "Male",
          "Male",
          "Male",
          "Male",
          "Male",
          "Male",
          "Male",
          "Male",
          "Male",
          "Male",
          "Male",
          "Male",
          "Male",
          "Male",
          "Male",
          "Male",
          "Male",
          "Male",
          "Male",
          "Male",
          "Male",
          "Male",
          "Male",
          "Male",
          "Male",
          "Male",
          "Male",
          "Male",
          "Male",
          "Male",
          "Male",
          "Male",
          "Male",
          "Male",
          "Male",
          "Male",
          "Male",
          "Male",
          "Male",
          "Male",
          "Male",
          "Male",
          "Male",
          "Male",
          "Male"
         ],
         "x0": " ",
         "xaxis": "x",
         "y": {
          "_inputArray": {
           "0": 7,
           "1": 4,
           "10": 7,
           "100": 5,
           "101": 7,
           "102": 6,
           "103": 6,
           "104": 5,
           "105": 5,
           "106": 7,
           "107": 6,
           "108": 6,
           "109": 5,
           "11": 5,
           "110": 5,
           "111": 7,
           "112": 6,
           "113": 6,
           "114": 5,
           "115": 5,
           "116": 7,
           "117": 6,
           "12": 8,
           "13": 7,
           "14": 5,
           "15": 6,
           "16": 8,
           "17": 7,
           "18": 6,
           "19": 8,
           "2": 5,
           "20": 7,
           "21": 6,
           "22": 8,
           "23": 7,
           "24": 6,
           "25": 8,
           "26": 7,
           "27": 6,
           "28": 8,
           "29": 7,
           "3": 4,
           "30": 7,
           "31": 7,
           "32": 7,
           "33": 8,
           "34": 7,
           "35": 7,
           "36": 7,
           "37": 8,
           "38": 7,
           "39": 7,
           "4": 8,
           "40": 7,
           "41": 8,
           "42": 7,
           "43": 7,
           "44": 7,
           "45": 8,
           "46": 7,
           "47": 7,
           "48": 7,
           "49": 8,
           "5": 5,
           "50": 7,
           "51": 7,
           "52": 7,
           "53": 8,
           "54": 7,
           "55": 4,
           "56": 7,
           "57": 7,
           "58": 8,
           "59": 7,
           "6": 8,
           "60": 4,
           "61": 7,
           "62": 7,
           "63": 8,
           "64": 7,
           "65": 4,
           "66": 7,
           "67": 7,
           "68": 8,
           "69": 7,
           "7": 7,
           "70": 4,
           "71": 7,
           "72": 7,
           "73": 8,
           "74": 7,
           "75": 4,
           "76": 7,
           "77": 7,
           "78": 8,
           "79": 7,
           "8": 5,
           "80": 4,
           "81": 7,
           "82": 7,
           "83": 8,
           "84": 7,
           "85": 4,
           "86": 7,
           "87": 7,
           "88": 8,
           "89": 7,
           "9": 8,
           "90": 4,
           "91": 7,
           "92": 7,
           "93": 8,
           "94": 7,
           "95": 4,
           "96": 7,
           "97": 7,
           "98": 8,
           "99": 7,
           "bdata": "BwQFBAgFCAcFCAcFCAcFBggHBggHBggHBggHBggHBwcHCAcHBwgHBwcIBwcHCAcHBwgHBwcIBwQHBwgHBAcHCAcEBwcIBwQHBwgHBAcHCAcEBwcIBwQHBwgHBAcHCAcEBwcIBwUHBgYFBQcGBgUFBwYGBQUHBg==",
           "dtype": "i1",
           "shape": "118"
          },
          "bdata": "BwQFBAgFCAcFCAcFCAcFBggHBggHBggHBggHBggHBwcHCAcHBwgHBwcIBwcHCAcHBwgHBwcIBwQHBwgHBAcHCAcEBwcIBwQHBwgHBAcHCAcEBwcIBwQHBwgHBAcHCAcEBwcIBwUHBgYFBQcGBgUFBwYGBQUHBg==",
          "dtype": "i1"
         },
         "y0": " ",
         "yaxis": "y"
        },
        {
         "alignmentgroup": "True",
         "hovertemplate": "Academic_Level=Graduate<br>Age_Group=22-24<br>Gender=%{x}<br>Addicted_Score=%{y}<extra></extra>",
         "legendgroup": "Graduate",
         "marker": {
          "color": "#EF553B"
         },
         "name": "Graduate",
         "notched": false,
         "offsetgroup": "Graduate",
         "orientation": "v",
         "showlegend": false,
         "type": "box",
         "x": [
          "Male",
          "Male",
          "Male",
          "Male",
          "Female",
          "Male",
          "Male",
          "Female",
          "Male",
          "Male",
          "Female",
          "Male",
          "Male",
          "Female",
          "Male",
          "Male",
          "Male",
          "Male",
          "Female",
          "Female",
          "Female",
          "Male",
          "Male",
          "Female",
          "Female",
          "Male",
          "Male",
          "Female",
          "Male",
          "Female",
          "Male",
          "Male",
          "Male",
          "Male",
          "Male",
          "Male",
          "Male",
          "Male",
          "Male",
          "Male",
          "Male",
          "Male",
          "Male",
          "Male",
          "Male",
          "Male",
          "Male",
          "Male",
          "Male",
          "Male",
          "Male",
          "Male",
          "Male",
          "Male",
          "Male",
          "Male",
          "Male",
          "Male",
          "Male",
          "Male",
          "Male",
          "Male",
          "Male",
          "Male",
          "Male",
          "Male",
          "Male",
          "Male",
          "Male",
          "Male",
          "Male",
          "Male",
          "Male",
          "Male",
          "Male",
          "Male",
          "Male",
          "Male",
          "Male",
          "Male",
          "Male",
          "Male",
          "Male",
          "Male",
          "Male",
          "Male",
          "Male",
          "Male",
          "Male",
          "Male",
          "Male",
          "Male",
          "Male",
          "Male",
          "Male",
          "Male",
          "Male",
          "Male",
          "Male",
          "Male",
          "Male",
          "Male",
          "Male",
          "Male",
          "Male",
          "Male",
          "Male",
          "Male",
          "Male",
          "Male",
          "Male",
          "Male",
          "Male",
          "Male",
          "Male",
          "Male",
          "Male",
          "Male",
          "Male",
          "Male",
          "Male",
          "Male",
          "Male",
          "Male",
          "Male",
          "Male",
          "Male",
          "Male",
          "Male",
          "Male",
          "Male",
          "Male",
          "Male",
          "Male",
          "Male",
          "Male",
          "Male",
          "Male",
          "Male",
          "Male",
          "Male",
          "Male",
          "Male",
          "Male",
          "Male",
          "Male",
          "Male",
          "Male",
          "Male",
          "Male",
          "Male",
          "Male",
          "Female",
          "Female",
          "Female",
          "Female",
          "Female",
          "Female",
          "Female",
          "Female",
          "Female",
          "Female",
          "Female",
          "Female",
          "Female",
          "Female",
          "Female",
          "Female",
          "Female",
          "Female",
          "Female",
          "Female",
          "Female",
          "Female",
          "Female",
          "Female",
          "Female",
          "Male",
          "Male",
          "Male",
          "Male",
          "Male",
          "Male",
          "Male",
          "Male",
          "Male",
          "Male",
          "Male",
          "Male",
          "Male",
          "Male",
          "Male",
          "Male",
          "Male",
          "Male",
          "Male",
          "Male",
          "Male",
          "Male",
          "Male",
          "Male",
          "Male",
          "Male",
          "Male",
          "Male",
          "Male",
          "Male"
         ],
         "x0": " ",
         "xaxis": "x2",
         "y": {
          "_inputArray": {
           "0": 3,
           "1": 2,
           "10": 4,
           "100": 4,
           "101": 7,
           "102": 7,
           "103": 8,
           "104": 7,
           "105": 4,
           "106": 7,
           "107": 7,
           "108": 8,
           "109": 7,
           "11": 5,
           "110": 4,
           "111": 7,
           "112": 7,
           "113": 8,
           "114": 7,
           "115": 4,
           "116": 7,
           "117": 7,
           "118": 8,
           "119": 7,
           "12": 4,
           "120": 4,
           "121": 7,
           "122": 7,
           "123": 6,
           "124": 5,
           "125": 5,
           "126": 7,
           "127": 6,
           "128": 6,
           "129": 5,
           "13": 4,
           "130": 5,
           "131": 7,
           "132": 6,
           "133": 6,
           "134": 5,
           "135": 5,
           "136": 7,
           "137": 6,
           "138": 6,
           "139": 5,
           "14": 5,
           "140": 4,
           "141": 9,
           "142": 8,
           "143": 8,
           "144": 6,
           "145": 5,
           "146": 7,
           "147": 8,
           "148": 8,
           "149": 7,
           "15": 3,
           "150": 5,
           "151": 7,
           "152": 5,
           "153": 5,
           "154": 7,
           "155": 8,
           "156": 8,
           "157": 7,
           "158": 5,
           "159": 7,
           "16": 4,
           "160": 5,
           "161": 8,
           "162": 9,
           "163": 4,
           "164": 5,
           "165": 5,
           "166": 9,
           "167": 8,
           "168": 8,
           "169": 7,
           "17": 4,
           "170": 5,
           "171": 7,
           "172": 8,
           "173": 8,
           "174": 7,
           "175": 5,
           "176": 7,
           "177": 8,
           "178": 7,
           "179": 5,
           "18": 5,
           "180": 7,
           "181": 8,
           "182": 8,
           "183": 7,
           "184": 5,
           "185": 7,
           "186": 5,
           "187": 8,
           "188": 9,
           "189": 4,
           "19": 4,
           "190": 5,
           "191": 5,
           "192": 9,
           "193": 8,
           "194": 8,
           "195": 7,
           "196": 5,
           "197": 7,
           "198": 8,
           "199": 8,
           "2": 4,
           "20": 4,
           "200": 7,
           "201": 5,
           "202": 7,
           "203": 5,
           "204": 8,
           "205": 9,
           "206": 4,
           "21": 5,
           "22": 4,
           "23": 4,
           "24": 4,
           "25": 5,
           "26": 4,
           "27": 8,
           "28": 5,
           "29": 7,
           "3": 3,
           "30": 8,
           "31": 7,
           "32": 5,
           "33": 8,
           "34": 7,
           "35": 5,
           "36": 8,
           "37": 7,
           "38": 7,
           "39": 6,
           "4": 4,
           "40": 8,
           "41": 7,
           "42": 6,
           "43": 8,
           "44": 7,
           "45": 6,
           "46": 8,
           "47": 7,
           "48": 6,
           "49": 8,
           "5": 5,
           "50": 7,
           "51": 6,
           "52": 8,
           "53": 4,
           "54": 5,
           "55": 4,
           "56": 5,
           "57": 4,
           "58": 5,
           "59": 4,
           "6": 3,
           "60": 5,
           "61": 4,
           "62": 5,
           "63": 4,
           "64": 5,
           "65": 4,
           "66": 5,
           "67": 4,
           "68": 5,
           "69": 4,
           "7": 4,
           "70": 5,
           "71": 4,
           "72": 5,
           "73": 4,
           "74": 5,
           "75": 4,
           "76": 5,
           "77": 4,
           "78": 8,
           "79": 7,
           "8": 5,
           "80": 4,
           "81": 7,
           "82": 7,
           "83": 8,
           "84": 7,
           "85": 4,
           "86": 7,
           "87": 7,
           "88": 8,
           "89": 7,
           "9": 4,
           "90": 4,
           "91": 7,
           "92": 7,
           "93": 8,
           "94": 7,
           "95": 4,
           "96": 7,
           "97": 7,
           "98": 8,
           "99": 7,
           "bdata": "AwIEAwQFAwQFBAQFBAQFAwQEBQQEBQQEBAUECAUHCAcFCAcFCAcHBggHBggHBggHBggHBggEBQQFBAUEBQQFBAUEBQQFBAUEBQQFBAUECAcEBwcIBwQHBwgHBAcHCAcEBwcIBwQHBwgHBAcHCAcEBwcIBwQHBwgHBAcHBgUFBwYGBQUHBgYFBQcGBgUECQgIBgUHCAgHBQcFBQcICAcFBwUICQQFBQkICAcFBwgIBwUHCAcFBwgIBwUHBQgJBAUFCQgIBwUHCAgHBQcFCAkE",
           "dtype": "i1",
           "shape": "207"
          },
          "bdata": "AwIEAwQFAwQFBAQFBAQFAwQEBQQEBQQEBAUECAUHCAcFCAcFCAcHBggHBggHBggHBggHBggEBQQFBAUEBQQFBAUEBQQFBAUEBQQFBAUECAcEBwcIBwQHBwgHBAcHCAcEBwcIBwQHBwgHBAcHCAcEBwcIBwQHBwgHBAcHBgUFBwYGBQUHBgYFBQcGBgUECQgIBgUHCAgHBQcFBQcICAcFBwUICQQFBQkICAcFBwgIBwUHCAcFBwgIBwUHBQgJBAUFCQgIBwUHCAgHBQcFCAkE",
          "dtype": "i1"
         },
         "y0": " ",
         "yaxis": "y2"
        },
        {
         "alignmentgroup": "True",
         "hovertemplate": "Academic_Level=High School<br>Age_Group=19-21<br>Gender=%{x}<br>Addicted_Score=%{y}<extra></extra>",
         "legendgroup": "High School",
         "marker": {
          "color": "#00cc96"
         },
         "name": "High School",
         "notched": false,
         "offsetgroup": "High School",
         "orientation": "v",
         "showlegend": true,
         "type": "box",
         "x": [
          "Female",
          "Female",
          "Female",
          "Female",
          "Female",
          "Female",
          "Female",
          "Female",
          "Male",
          "Male",
          "Female",
          "Male",
          "Female"
         ],
         "x0": " ",
         "xaxis": "x",
         "y": {
          "_inputArray": {
           "0": 8,
           "1": 9,
           "10": 8,
           "11": 9,
           "12": 8,
           "2": 8,
           "3": 9,
           "4": 8,
           "5": 9,
           "6": 8,
           "7": 8,
           "8": 8,
           "9": 8,
           "bdata": "CAkICQgJCAgICAgJCA==",
           "dtype": "i1",
           "shape": "13"
          },
          "bdata": "CAkICQgJCAgICAgJCA==",
          "dtype": "i1"
         },
         "y0": " ",
         "yaxis": "y"
        },
        {
         "alignmentgroup": "True",
         "hovertemplate": "Academic_Level=High School<br>Age_Group=16-18<br>Gender=%{x}<br>Addicted_Score=%{y}<extra></extra>",
         "legendgroup": "High School",
         "marker": {
          "color": "#00cc96"
         },
         "name": "High School",
         "notched": false,
         "offsetgroup": "High School",
         "orientation": "v",
         "showlegend": false,
         "type": "box",
         "x": [
          "Male",
          "Male",
          "Female",
          "Male",
          "Male",
          "Male",
          "Male",
          "Female",
          "Male",
          "Female",
          "Male",
          "Female",
          "Male",
          "Female"
         ],
         "x0": " ",
         "xaxis": "x3",
         "y": {
          "_inputArray": {
           "0": 4,
           "1": 5,
           "10": 8,
           "11": 9,
           "12": 8,
           "13": 8,
           "2": 9,
           "3": 8,
           "4": 8,
           "5": 8,
           "6": 8,
           "7": 9,
           "8": 8,
           "9": 9,
           "bdata": "BAUJCAgICAkICQgJCAg=",
           "dtype": "i1",
           "shape": "14"
          },
          "bdata": "BAUJCAgICAkICQgJCAg=",
          "dtype": "i1"
         },
         "y0": " ",
         "yaxis": "y3"
        }
       ],
       "layout": {
        "annotations": [
         {
          "font": {},
          "showarrow": false,
          "text": "Age_Group=19-21",
          "x": 0.15999999999999998,
          "xanchor": "center",
          "xref": "paper",
          "y": 1,
          "yanchor": "bottom",
          "yref": "paper"
         },
         {
          "font": {},
          "showarrow": false,
          "text": "Age_Group=22-24",
          "x": 0.49999999999999994,
          "xanchor": "center",
          "xref": "paper",
          "y": 1,
          "yanchor": "bottom",
          "yref": "paper"
         },
         {
          "font": {},
          "showarrow": false,
          "text": "Age_Group=16-18",
          "x": 0.8399999999999999,
          "xanchor": "center",
          "xref": "paper",
          "y": 1,
          "yanchor": "bottom",
          "yref": "paper"
         }
        ],
        "autosize": true,
        "boxmode": "group",
        "legend": {
         "title": {
          "text": "Academic_Level"
         },
         "tracegroupgap": 0
        },
        "template": {
         "data": {
          "bar": [
           {
            "error_x": {
             "color": "#2a3f5f"
            },
            "error_y": {
             "color": "#2a3f5f"
            },
            "marker": {
             "line": {
              "color": "#E5ECF6",
              "width": 0.5
             },
             "pattern": {
              "fillmode": "overlay",
              "size": 10,
              "solidity": 0.2
             }
            },
            "type": "bar"
           }
          ],
          "barpolar": [
           {
            "marker": {
             "line": {
              "color": "#E5ECF6",
              "width": 0.5
             },
             "pattern": {
              "fillmode": "overlay",
              "size": 10,
              "solidity": 0.2
             }
            },
            "type": "barpolar"
           }
          ],
          "carpet": [
           {
            "aaxis": {
             "endlinecolor": "#2a3f5f",
             "gridcolor": "white",
             "linecolor": "white",
             "minorgridcolor": "white",
             "startlinecolor": "#2a3f5f"
            },
            "baxis": {
             "endlinecolor": "#2a3f5f",
             "gridcolor": "white",
             "linecolor": "white",
             "minorgridcolor": "white",
             "startlinecolor": "#2a3f5f"
            },
            "type": "carpet"
           }
          ],
          "choropleth": [
           {
            "colorbar": {
             "outlinewidth": 0,
             "ticks": ""
            },
            "type": "choropleth"
           }
          ],
          "contour": [
           {
            "colorbar": {
             "outlinewidth": 0,
             "ticks": ""
            },
            "colorscale": [
             [
              0,
              "#0d0887"
             ],
             [
              0.1111111111111111,
              "#46039f"
             ],
             [
              0.2222222222222222,
              "#7201a8"
             ],
             [
              0.3333333333333333,
              "#9c179e"
             ],
             [
              0.4444444444444444,
              "#bd3786"
             ],
             [
              0.5555555555555556,
              "#d8576b"
             ],
             [
              0.6666666666666666,
              "#ed7953"
             ],
             [
              0.7777777777777778,
              "#fb9f3a"
             ],
             [
              0.8888888888888888,
              "#fdca26"
             ],
             [
              1,
              "#f0f921"
             ]
            ],
            "type": "contour"
           }
          ],
          "contourcarpet": [
           {
            "colorbar": {
             "outlinewidth": 0,
             "ticks": ""
            },
            "type": "contourcarpet"
           }
          ],
          "heatmap": [
           {
            "colorbar": {
             "outlinewidth": 0,
             "ticks": ""
            },
            "colorscale": [
             [
              0,
              "#0d0887"
             ],
             [
              0.1111111111111111,
              "#46039f"
             ],
             [
              0.2222222222222222,
              "#7201a8"
             ],
             [
              0.3333333333333333,
              "#9c179e"
             ],
             [
              0.4444444444444444,
              "#bd3786"
             ],
             [
              0.5555555555555556,
              "#d8576b"
             ],
             [
              0.6666666666666666,
              "#ed7953"
             ],
             [
              0.7777777777777778,
              "#fb9f3a"
             ],
             [
              0.8888888888888888,
              "#fdca26"
             ],
             [
              1,
              "#f0f921"
             ]
            ],
            "type": "heatmap"
           }
          ],
          "histogram": [
           {
            "marker": {
             "pattern": {
              "fillmode": "overlay",
              "size": 10,
              "solidity": 0.2
             }
            },
            "type": "histogram"
           }
          ],
          "histogram2d": [
           {
            "colorbar": {
             "outlinewidth": 0,
             "ticks": ""
            },
            "colorscale": [
             [
              0,
              "#0d0887"
             ],
             [
              0.1111111111111111,
              "#46039f"
             ],
             [
              0.2222222222222222,
              "#7201a8"
             ],
             [
              0.3333333333333333,
              "#9c179e"
             ],
             [
              0.4444444444444444,
              "#bd3786"
             ],
             [
              0.5555555555555556,
              "#d8576b"
             ],
             [
              0.6666666666666666,
              "#ed7953"
             ],
             [
              0.7777777777777778,
              "#fb9f3a"
             ],
             [
              0.8888888888888888,
              "#fdca26"
             ],
             [
              1,
              "#f0f921"
             ]
            ],
            "type": "histogram2d"
           }
          ],
          "histogram2dcontour": [
           {
            "colorbar": {
             "outlinewidth": 0,
             "ticks": ""
            },
            "colorscale": [
             [
              0,
              "#0d0887"
             ],
             [
              0.1111111111111111,
              "#46039f"
             ],
             [
              0.2222222222222222,
              "#7201a8"
             ],
             [
              0.3333333333333333,
              "#9c179e"
             ],
             [
              0.4444444444444444,
              "#bd3786"
             ],
             [
              0.5555555555555556,
              "#d8576b"
             ],
             [
              0.6666666666666666,
              "#ed7953"
             ],
             [
              0.7777777777777778,
              "#fb9f3a"
             ],
             [
              0.8888888888888888,
              "#fdca26"
             ],
             [
              1,
              "#f0f921"
             ]
            ],
            "type": "histogram2dcontour"
           }
          ],
          "mesh3d": [
           {
            "colorbar": {
             "outlinewidth": 0,
             "ticks": ""
            },
            "type": "mesh3d"
           }
          ],
          "parcoords": [
           {
            "line": {
             "colorbar": {
              "outlinewidth": 0,
              "ticks": ""
             }
            },
            "type": "parcoords"
           }
          ],
          "pie": [
           {
            "automargin": true,
            "type": "pie"
           }
          ],
          "scatter": [
           {
            "fillpattern": {
             "fillmode": "overlay",
             "size": 10,
             "solidity": 0.2
            },
            "type": "scatter"
           }
          ],
          "scatter3d": [
           {
            "line": {
             "colorbar": {
              "outlinewidth": 0,
              "ticks": ""
             }
            },
            "marker": {
             "colorbar": {
              "outlinewidth": 0,
              "ticks": ""
             }
            },
            "type": "scatter3d"
           }
          ],
          "scattercarpet": [
           {
            "marker": {
             "colorbar": {
              "outlinewidth": 0,
              "ticks": ""
             }
            },
            "type": "scattercarpet"
           }
          ],
          "scattergeo": [
           {
            "marker": {
             "colorbar": {
              "outlinewidth": 0,
              "ticks": ""
             }
            },
            "type": "scattergeo"
           }
          ],
          "scattergl": [
           {
            "marker": {
             "colorbar": {
              "outlinewidth": 0,
              "ticks": ""
             }
            },
            "type": "scattergl"
           }
          ],
          "scattermap": [
           {
            "marker": {
             "colorbar": {
              "outlinewidth": 0,
              "ticks": ""
             }
            },
            "type": "scattermap"
           }
          ],
          "scattermapbox": [
           {
            "marker": {
             "colorbar": {
              "outlinewidth": 0,
              "ticks": ""
             }
            },
            "type": "scattermapbox"
           }
          ],
          "scatterpolar": [
           {
            "marker": {
             "colorbar": {
              "outlinewidth": 0,
              "ticks": ""
             }
            },
            "type": "scatterpolar"
           }
          ],
          "scatterpolargl": [
           {
            "marker": {
             "colorbar": {
              "outlinewidth": 0,
              "ticks": ""
             }
            },
            "type": "scatterpolargl"
           }
          ],
          "scatterternary": [
           {
            "marker": {
             "colorbar": {
              "outlinewidth": 0,
              "ticks": ""
             }
            },
            "type": "scatterternary"
           }
          ],
          "surface": [
           {
            "colorbar": {
             "outlinewidth": 0,
             "ticks": ""
            },
            "colorscale": [
             [
              0,
              "#0d0887"
             ],
             [
              0.1111111111111111,
              "#46039f"
             ],
             [
              0.2222222222222222,
              "#7201a8"
             ],
             [
              0.3333333333333333,
              "#9c179e"
             ],
             [
              0.4444444444444444,
              "#bd3786"
             ],
             [
              0.5555555555555556,
              "#d8576b"
             ],
             [
              0.6666666666666666,
              "#ed7953"
             ],
             [
              0.7777777777777778,
              "#fb9f3a"
             ],
             [
              0.8888888888888888,
              "#fdca26"
             ],
             [
              1,
              "#f0f921"
             ]
            ],
            "type": "surface"
           }
          ],
          "table": [
           {
            "cells": {
             "fill": {
              "color": "#EBF0F8"
             },
             "line": {
              "color": "white"
             }
            },
            "header": {
             "fill": {
              "color": "#C8D4E3"
             },
             "line": {
              "color": "white"
             }
            },
            "type": "table"
           }
          ]
         },
         "layout": {
          "annotationdefaults": {
           "arrowcolor": "#2a3f5f",
           "arrowhead": 0,
           "arrowwidth": 1
          },
          "autotypenumbers": "strict",
          "coloraxis": {
           "colorbar": {
            "outlinewidth": 0,
            "ticks": ""
           }
          },
          "colorscale": {
           "diverging": [
            [
             0,
             "#8e0152"
            ],
            [
             0.1,
             "#c51b7d"
            ],
            [
             0.2,
             "#de77ae"
            ],
            [
             0.3,
             "#f1b6da"
            ],
            [
             0.4,
             "#fde0ef"
            ],
            [
             0.5,
             "#f7f7f7"
            ],
            [
             0.6,
             "#e6f5d0"
            ],
            [
             0.7,
             "#b8e186"
            ],
            [
             0.8,
             "#7fbc41"
            ],
            [
             0.9,
             "#4d9221"
            ],
            [
             1,
             "#276419"
            ]
           ],
           "sequential": [
            [
             0,
             "#0d0887"
            ],
            [
             0.1111111111111111,
             "#46039f"
            ],
            [
             0.2222222222222222,
             "#7201a8"
            ],
            [
             0.3333333333333333,
             "#9c179e"
            ],
            [
             0.4444444444444444,
             "#bd3786"
            ],
            [
             0.5555555555555556,
             "#d8576b"
            ],
            [
             0.6666666666666666,
             "#ed7953"
            ],
            [
             0.7777777777777778,
             "#fb9f3a"
            ],
            [
             0.8888888888888888,
             "#fdca26"
            ],
            [
             1,
             "#f0f921"
            ]
           ],
           "sequentialminus": [
            [
             0,
             "#0d0887"
            ],
            [
             0.1111111111111111,
             "#46039f"
            ],
            [
             0.2222222222222222,
             "#7201a8"
            ],
            [
             0.3333333333333333,
             "#9c179e"
            ],
            [
             0.4444444444444444,
             "#bd3786"
            ],
            [
             0.5555555555555556,
             "#d8576b"
            ],
            [
             0.6666666666666666,
             "#ed7953"
            ],
            [
             0.7777777777777778,
             "#fb9f3a"
            ],
            [
             0.8888888888888888,
             "#fdca26"
            ],
            [
             1,
             "#f0f921"
            ]
           ]
          },
          "colorway": [
           "#636efa",
           "#EF553B",
           "#00cc96",
           "#ab63fa",
           "#FFA15A",
           "#19d3f3",
           "#FF6692",
           "#B6E880",
           "#FF97FF",
           "#FECB52"
          ],
          "font": {
           "color": "#2a3f5f"
          },
          "geo": {
           "bgcolor": "white",
           "lakecolor": "white",
           "landcolor": "#E5ECF6",
           "showlakes": true,
           "showland": true,
           "subunitcolor": "white"
          },
          "hoverlabel": {
           "align": "left"
          },
          "hovermode": "closest",
          "mapbox": {
           "style": "light"
          },
          "paper_bgcolor": "white",
          "plot_bgcolor": "#E5ECF6",
          "polar": {
           "angularaxis": {
            "gridcolor": "white",
            "linecolor": "white",
            "ticks": ""
           },
           "bgcolor": "#E5ECF6",
           "radialaxis": {
            "gridcolor": "white",
            "linecolor": "white",
            "ticks": ""
           }
          },
          "scene": {
           "xaxis": {
            "backgroundcolor": "#E5ECF6",
            "gridcolor": "white",
            "gridwidth": 2,
            "linecolor": "white",
            "showbackground": true,
            "ticks": "",
            "zerolinecolor": "white"
           },
           "yaxis": {
            "backgroundcolor": "#E5ECF6",
            "gridcolor": "white",
            "gridwidth": 2,
            "linecolor": "white",
            "showbackground": true,
            "ticks": "",
            "zerolinecolor": "white"
           },
           "zaxis": {
            "backgroundcolor": "#E5ECF6",
            "gridcolor": "white",
            "gridwidth": 2,
            "linecolor": "white",
            "showbackground": true,
            "ticks": "",
            "zerolinecolor": "white"
           }
          },
          "shapedefaults": {
           "line": {
            "color": "#2a3f5f"
           }
          },
          "ternary": {
           "aaxis": {
            "gridcolor": "white",
            "linecolor": "white",
            "ticks": ""
           },
           "baxis": {
            "gridcolor": "white",
            "linecolor": "white",
            "ticks": ""
           },
           "bgcolor": "#E5ECF6",
           "caxis": {
            "gridcolor": "white",
            "linecolor": "white",
            "ticks": ""
           }
          },
          "title": {
           "x": 0.05
          },
          "xaxis": {
           "automargin": true,
           "gridcolor": "white",
           "linecolor": "white",
           "ticks": "",
           "title": {
            "standoff": 15
           },
           "zerolinecolor": "white",
           "zerolinewidth": 2
          },
          "yaxis": {
           "automargin": true,
           "gridcolor": "white",
           "linecolor": "white",
           "ticks": "",
           "title": {
            "standoff": 15
           },
           "zerolinecolor": "white",
           "zerolinewidth": 2
          }
         }
        },
        "title": {
         "text": "Addiction Score by Gender, Academic Level, and Age Group"
        },
        "xaxis": {
         "anchor": "y",
         "autorange": true,
         "domain": [
          0,
          0.31999999999999995
         ],
         "range": [
          -0.5223413762287757,
          1.5223413762287756
         ],
         "title": {
          "text": "Gender"
         },
         "type": "category"
        },
        "xaxis2": {
         "anchor": "y2",
         "autorange": true,
         "domain": [
          0.33999999999999997,
          0.6599999999999999
         ],
         "matches": "x",
         "range": [
          -0.5223413762287757,
          1.5223413762287756
         ],
         "title": {
          "text": "Gender"
         },
         "type": "category"
        },
        "xaxis3": {
         "anchor": "y3",
         "autorange": true,
         "domain": [
          0.6799999999999999,
          0.9999999999999999
         ],
         "matches": "x",
         "range": [
          -0.5223413762287757,
          1.5223413762287756
         ],
         "title": {
          "text": "Gender"
         },
         "type": "category"
        },
        "yaxis": {
         "anchor": "x",
         "autorange": true,
         "domain": [
          0,
          1
         ],
         "range": [
          1.6111111111111112,
          9.38888888888889
         ],
         "title": {
          "text": "Addicted_Score"
         },
         "type": "linear"
        },
        "yaxis2": {
         "anchor": "x2",
         "autorange": true,
         "domain": [
          0,
          1
         ],
         "matches": "y",
         "range": [
          1.6111111111111112,
          9.38888888888889
         ],
         "showticklabels": false,
         "type": "linear"
        },
        "yaxis3": {
         "anchor": "x3",
         "autorange": true,
         "domain": [
          0,
          1
         ],
         "matches": "y",
         "range": [
          1.6111111111111112,
          9.38888888888889
         ],
         "showticklabels": false,
         "type": "linear"
        }
       }
      },
      "image/png": "[encoded data removed]"
     },
     "metadata": {},
     "output_type": "display_data"
    }
   ],
   "source": [
    "# Box plot: Addiction by Gender, Age Group, Academic Level\n",
    "fig = px.box(df, x='Gender', y='Addicted_Score', color='Academic_Level',\n",
    "             facet_col='Age_Group', title='Addiction Score by Gender, Academic Level, and Age Group')\n",
    "fig.show()\n"
   ]
  },
  {
   "cell_type": "code",
   "execution_count": 14,
   "id": "14580d71-d23f-49db-be34-b3ca4db9a193",
   "metadata": {},
   "outputs": [
    {
     "data": {
      "application/vnd.plotly.v1+json": {
       "config": {
        "plotlyServerURL": "https://plot.ly"
       },
       "data": [
        {
         "alignmentgroup": "True",
         "hovertemplate": "Gender=Female<br>Addiction_Level=%{x}<br>Sleep_Hours_Per_Night=%{y}<extra></extra>",
         "legendgroup": "Female",
         "marker": {
          "color": "#636efa",
          "pattern": {
           "shape": ""
          }
         },
         "name": "Female",
         "offsetgroup": "Female",
         "orientation": "v",
         "showlegend": true,
         "textposition": "auto",
         "type": "bar",
         "x": [
          "High",
          "High",
          "High",
          "High",
          "Low",
          "High",
          "High",
          "Medium",
          "High",
          "Medium",
          "Low",
          "High",
          "High",
          "Medium",
          "High",
          "Medium",
          "Low",
          "High",
          "High",
          "Medium",
          "High",
          "Medium",
          "Low",
          "High",
          "High",
          "Medium",
          "High",
          "Medium",
          "Low",
          "High",
          "High",
          "High",
          "Medium",
          "High",
          "Medium",
          "Low",
          "High",
          "Medium",
          "Low",
          "High",
          "Medium",
          "Low",
          "Medium",
          "Low",
          "High",
          "Medium",
          "High",
          "Medium",
          "Low",
          "High",
          "Low",
          "High",
          "Medium",
          "High",
          "Medium",
          "Medium",
          "High",
          "Low",
          "Medium",
          "High",
          "Low",
          "Medium",
          "High",
          "Low",
          "Medium",
          "High",
          "Low",
          "Medium",
          "High",
          "Low",
          "Medium",
          "High",
          "Low",
          "Medium",
          "High",
          "Low",
          "Medium",
          "High",
          "Low",
          "Medium",
          "Medium",
          "High",
          "Low",
          "Medium",
          "High",
          "Low",
          "Medium",
          "High",
          "Low",
          "Medium",
          "High",
          "Low",
          "Medium",
          "High",
          "Low",
          "Medium",
          "High",
          "Low",
          "Medium",
          "High",
          "Low",
          "Medium",
          "High",
          "Low",
          "Medium",
          "High",
          "Low",
          "Medium",
          "High",
          "Low",
          "High",
          "Low",
          "Low",
          "Medium",
          "High",
          "Low",
          "Low",
          "Medium",
          "High",
          "Low",
          "Low",
          "Medium",
          "High",
          "Low",
          "Low",
          "Medium",
          "High",
          "Low",
          "Low",
          "Medium",
          "High",
          "Low",
          "Low",
          "Medium",
          "High",
          "Low",
          "Low",
          "Medium",
          "High",
          "Low",
          "Low",
          "Medium",
          "High",
          "Low",
          "Low",
          "Medium",
          "High",
          "Low",
          "Low",
          "Medium",
          "High",
          "Low",
          "Low",
          "Medium",
          "High",
          "Low",
          "Low",
          "Medium",
          "High",
          "Low",
          "Medium",
          "Medium",
          "Low",
          "High",
          "Low",
          "Medium",
          "Medium",
          "Low",
          "High",
          "Low",
          "Medium",
          "Medium",
          "Low",
          "High",
          "Low",
          "Medium",
          "Medium",
          "Low",
          "High",
          "Low",
          "Medium",
          "Medium",
          "Low",
          "High",
          "Low",
          "Medium",
          "Medium",
          "Low",
          "High",
          "Low",
          "Medium",
          "Medium",
          "Low",
          "High",
          "Low",
          "Medium",
          "Medium",
          "Low",
          "High",
          "Low",
          "Medium",
          "Medium",
          "Low",
          "High",
          "Low",
          "Medium",
          "Medium",
          "Low",
          "High",
          "Low",
          "Medium",
          "Medium",
          "Low",
          "High",
          "Low",
          "Medium",
          "Medium",
          "Low",
          "High",
          "Low",
          "Medium",
          "Medium",
          "Low",
          "High",
          "Low",
          "Medium",
          "Medium",
          "Low",
          "High",
          "Low",
          "Medium",
          "Medium",
          "Low",
          "High",
          "Low",
          "Medium",
          "Medium",
          "Low",
          "High",
          "Low",
          "Medium",
          "Medium",
          "Low",
          "High",
          "Low",
          "Medium",
          "Medium",
          "Low",
          "High",
          "Low",
          "Medium",
          "Low",
          "Medium",
          "High",
          "High",
          "Medium",
          "Low",
          "Medium",
          "High",
          "High",
          "Medium",
          "Low",
          "Medium",
          "High",
          "High",
          "Medium",
          "Low",
          "Medium",
          "High",
          "High",
          "Medium",
          "Low",
          "Medium",
          "High",
          "High",
          "Medium",
          "Low",
          "Medium",
          "High",
          "High",
          "Medium",
          "Low",
          "Medium",
          "High",
          "High",
          "Medium",
          "High",
          "Low",
          "Medium",
          "Low",
          "High",
          "High",
          "Low",
          "Low",
          "Low",
          "High",
          "High",
          "High",
          "Low",
          "Low",
          "Medium",
          "High",
          "High",
          "Medium",
          "Low",
          "Medium",
          "Low",
          "High",
          "High",
          "Low",
          "Low",
          "Low",
          "High",
          "High",
          "High",
          "Medium",
          "Low",
          "Medium",
          "High",
          "High",
          "Medium",
          "Low",
          "Medium",
          "Low",
          "High",
          "High",
          "Low",
          "Low",
          "Low",
          "High",
          "High",
          "High",
          "Medium",
          "Low",
          "Medium",
          "High",
          "High",
          "Medium",
          "Low",
          "Medium",
          "Low",
          "High",
          "High",
          "Low",
          "Low",
          "Low",
          "High",
          "High",
          "High",
          "Medium",
          "Low",
          "Medium",
          "High"
         ],
         "xaxis": "x",
         "y": {
          "_inputArray": {
           "0": 6.5,
           "1": 5,
           "10": 7.3,
           "100": 8.3,
           "101": 7.6,
           "102": 4.6,
           "103": 8.5,
           "104": 7.8,
           "105": 4.4,
           "106": 8.7,
           "107": 8,
           "108": 4.2,
           "109": 8.9,
           "11": 5.4,
           "110": 6,
           "111": 7.5,
           "112": 7.9,
           "113": 6.5,
           "114": 5.8,
           "115": 7.4,
           "116": 8,
           "117": 6.8,
           "118": 5.9,
           "119": 7.3,
           "12": 5.2,
           "120": 7.8,
           "121": 6.6,
           "122": 5.7,
           "123": 7.2,
           "124": 8.1,
           "125": 6.9,
           "126": 5.8,
           "127": 7.4,
           "128": 8.2,
           "129": 6.7,
           "13": 5.9,
           "130": 5.6,
           "131": 7.5,
           "132": 8.3,
           "133": 7,
           "134": 5.7,
           "135": 7.3,
           "136": 8.4,
           "137": 7.1,
           "138": 5.5,
           "139": 7.4,
           "14": 5.3,
           "140": 8.5,
           "141": 7.2,
           "142": 5.4,
           "143": 7.5,
           "144": 8.6,
           "145": 7.3,
           "146": 5.3,
           "147": 7.6,
           "148": 8.7,
           "149": 7.4,
           "15": 5.7,
           "150": 5.2,
           "151": 7.7,
           "152": 8.8,
           "153": 7.5,
           "154": 5.1,
           "155": 7.8,
           "156": 8.9,
           "157": 7.6,
           "158": 5,
           "159": 7.9,
           "16": 7.2,
           "160": 6.8,
           "161": 7,
           "162": 7.9,
           "163": 5.5,
           "164": 7.5,
           "165": 6.7,
           "166": 7.1,
           "167": 8,
           "168": 5.4,
           "169": 7.6,
           "17": 5.5,
           "170": 6.9,
           "171": 7.2,
           "172": 8.1,
           "173": 5.3,
           "174": 7.7,
           "175": 7,
           "176": 7.3,
           "177": 8.2,
           "178": 5.2,
           "179": 7.8,
           "18": 5.1,
           "180": 7.1,
           "181": 7.4,
           "182": 8.3,
           "183": 5.1,
           "184": 7.9,
           "185": 7.2,
           "186": 7.5,
           "187": 8.4,
           "188": 5,
           "189": 8,
           "19": 5.8,
           "190": 7.3,
           "191": 7.6,
           "192": 8.5,
           "193": 4.9,
           "194": 8.1,
           "195": 7.4,
           "196": 7.7,
           "197": 8.6,
           "198": 4.8,
           "199": 8.2,
           "2": 4.5,
           "20": 5.4,
           "200": 7.5,
           "201": 7.8,
           "202": 8.7,
           "203": 4.7,
           "204": 8.3,
           "205": 7.6,
           "206": 7.9,
           "207": 8.8,
           "208": 4.6,
           "209": 8.4,
           "21": 5.7,
           "210": 7.7,
           "211": 8,
           "212": 8.9,
           "213": 4.5,
           "214": 8.5,
           "215": 7.8,
           "216": 8.1,
           "217": 9,
           "218": 4.4,
           "219": 8.6,
           "22": 7.1,
           "220": 7.9,
           "221": 8.2,
           "222": 9.1,
           "223": 4.3,
           "224": 8.7,
           "225": 8,
           "226": 8.3,
           "227": 9.2,
           "228": 4.2,
           "229": 8.8,
           "23": 5.6,
           "230": 8.1,
           "231": 8.4,
           "232": 9.3,
           "233": 4.1,
           "234": 8.9,
           "235": 8.2,
           "236": 8.5,
           "237": 9.4,
           "238": 4,
           "239": 9,
           "24": 5.2,
           "240": 8.3,
           "241": 8.6,
           "242": 9.5,
           "243": 3.9,
           "244": 9.1,
           "245": 8.4,
           "246": 8.7,
           "247": 9.6,
           "248": 3.8,
           "249": 9.2,
           "25": 5.8,
           "250": 6.3,
           "251": 8.2,
           "252": 7,
           "253": 6.5,
           "254": 6,
           "255": 6.4,
           "256": 8.3,
           "257": 6.9,
           "258": 6.4,
           "259": 5.9,
           "26": 5.5,
           "260": 6.5,
           "261": 8.4,
           "262": 6.8,
           "263": 6.3,
           "264": 5.8,
           "265": 6.6,
           "266": 8.5,
           "267": 6.7,
           "268": 6.2,
           "269": 5.7,
           "27": 5.6,
           "270": 6.7,
           "271": 8.6,
           "272": 6.6,
           "273": 6.1,
           "274": 5.6,
           "275": 6.8,
           "276": 8.7,
           "277": 6.5,
           "278": 6,
           "279": 5.5,
           "28": 7,
           "280": 6.9,
           "281": 8.8,
           "282": 6.4,
           "283": 5.9,
           "284": 5.4,
           "285": 7.2,
           "286": 6.8,
           "287": 7.5,
           "288": 6.7,
           "289": 7.4,
           "29": 5.7,
           "290": 6.4,
           "291": 6,
           "292": 7.6,
           "293": 7.7,
           "294": 7.4,
           "295": 5.8,
           "296": 6.1,
           "297": 6.3,
           "298": 7.3,
           "299": 7.1,
           "3": 6,
           "30": 5.6,
           "300": 6.8,
           "301": 6.4,
           "302": 6.3,
           "303": 6.6,
           "304": 7.4,
           "305": 6.9,
           "306": 7.3,
           "307": 6.4,
           "308": 5.9,
           "309": 7.5,
           "31": 5.2,
           "310": 7.4,
           "311": 7.3,
           "312": 5.8,
           "313": 6.1,
           "314": 6.2,
           "315": 6.7,
           "316": 7.1,
           "317": 6.7,
           "318": 6.4,
           "319": 6.2,
           "32": 5.8,
           "320": 6.5,
           "321": 7.2,
           "322": 6.8,
           "323": 7.1,
           "324": 6.3,
           "325": 5.9,
           "326": 7.5,
           "327": 7.4,
           "328": 7.3,
           "329": 5.8,
           "33": 5.4,
           "330": 6,
           "331": 6.2,
           "332": 6.7,
           "333": 7.1,
           "334": 6.7,
           "335": 6.4,
           "336": 6.2,
           "337": 6.5,
           "338": 7.2,
           "339": 6.8,
           "34": 5.9,
           "340": 7.2,
           "341": 6.4,
           "342": 6,
           "343": 7.5,
           "344": 7.4,
           "345": 7.3,
           "346": 5.8,
           "347": 6.1,
           "348": 6.2,
           "349": 6.6,
           "35": 6.8,
           "350": 7.2,
           "351": 6.7,
           "352": 6.3,
           "36": 5.3,
           "37": 5.8,
           "38": 7,
           "39": 5.2,
           "4": 7,
           "40": 5.7,
           "41": 7.2,
           "42": 5.8,
           "43": 7.3,
           "44": 5.2,
           "45": 5.8,
           "46": 5.4,
           "47": 5.7,
           "48": 7.1,
           "49": 5.5,
           "5": 5.8,
           "50": 7.3,
           "51": 5.4,
           "52": 5.7,
           "53": 5.5,
           "54": 5.8,
           "55": 5.9,
           "56": 6,
           "57": 7.2,
           "58": 6.1,
           "59": 6.2,
           "6": 5.5,
           "60": 7.4,
           "61": 5.8,
           "62": 6.4,
           "63": 7.6,
           "64": 5.6,
           "65": 6.6,
           "66": 7.8,
           "67": 5.4,
           "68": 6.8,
           "69": 8,
           "7": 6,
           "70": 5.2,
           "71": 7,
           "72": 8.2,
           "73": 5,
           "74": 7.2,
           "75": 8.4,
           "76": 4.8,
           "77": 7.4,
           "78": 8.6,
           "79": 4.6,
           "8": 5.7,
           "80": 6.1,
           "81": 5.9,
           "82": 7,
           "83": 6.4,
           "84": 5.8,
           "85": 7.3,
           "86": 6.6,
           "87": 5.6,
           "88": 7.5,
           "89": 6.8,
           "9": 5.9,
           "90": 5.4,
           "91": 7.7,
           "92": 7,
           "93": 5.2,
           "94": 7.9,
           "95": 7.2,
           "96": 5,
           "97": 8.1,
           "98": 7.4,
           "99": 4.8,
           "bdata": "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",
           "dtype": "f8",
           "shape": "353"
          },
          "bdata": "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",
          "dtype": "f8"
         },
         "yaxis": "y"
        },
        {
         "alignmentgroup": "True",
         "hovertemplate": "Gender=Male<br>Addiction_Level=%{x}<br>Sleep_Hours_Per_Night=%{y}<extra></extra>",
         "legendgroup": "Male",
         "marker": {
          "color": "#EF553B",
          "pattern": {
           "shape": ""
          }
         },
         "name": "Male",
         "offsetgroup": "Male",
         "orientation": "v",
         "showlegend": true,
         "textposition": "auto",
         "type": "bar",
         "x": [
          "Low",
          "Low",
          "Medium",
          "Low",
          "Low",
          "Medium",
          "Low",
          "Low",
          "Low",
          "Low",
          "High",
          "Medium",
          "Low",
          "Low",
          "Low",
          "Low",
          "High",
          "Medium",
          "Low",
          "Medium",
          "Low",
          "Low",
          "High",
          "Medium",
          "Low",
          "Medium",
          "Low",
          "Low",
          "High",
          "Medium",
          "Low",
          "Medium",
          "Low",
          "Medium",
          "Low",
          "High",
          "Medium",
          "Low",
          "High",
          "Medium",
          "Low",
          "Medium",
          "High",
          "High",
          "Medium",
          "Low",
          "Medium",
          "Low",
          "High",
          "Medium",
          "High",
          "Medium",
          "Low",
          "Medium",
          "Low",
          "High",
          "Low",
          "Medium",
          "High",
          "Low",
          "Medium",
          "High",
          "Low",
          "Medium",
          "High",
          "Low",
          "Medium",
          "High",
          "Low",
          "Medium",
          "High",
          "Low",
          "Medium",
          "High",
          "Low",
          "Medium",
          "High",
          "Low",
          "Medium",
          "High",
          "Medium",
          "Medium",
          "High",
          "Medium",
          "Medium",
          "High",
          "Medium",
          "Medium",
          "High",
          "Medium",
          "Medium",
          "High",
          "Medium",
          "Medium",
          "High",
          "Medium",
          "Medium",
          "High",
          "Medium",
          "Medium",
          "High",
          "Medium",
          "Medium",
          "High",
          "Medium",
          "Medium",
          "High",
          "Medium",
          "Medium",
          "High",
          "Medium",
          "Low",
          "Medium",
          "Low",
          "Medium",
          "Low",
          "High",
          "Low",
          "Medium",
          "Low",
          "Medium",
          "Low",
          "Medium",
          "Low",
          "High",
          "Low",
          "Medium",
          "Low",
          "Medium",
          "Low",
          "Medium",
          "Low",
          "High",
          "Low",
          "Medium",
          "Low",
          "Medium",
          "Low",
          "Medium",
          "Low",
          "High",
          "Low",
          "Medium",
          "Low",
          "Medium",
          "Low",
          "Medium",
          "Low",
          "High",
          "Low",
          "Medium",
          "Low",
          "Medium",
          "Low",
          "Medium",
          "Low",
          "High",
          "Low",
          "Medium",
          "Low",
          "Low",
          "High",
          "Medium",
          "Medium",
          "Medium",
          "Low",
          "High",
          "Medium",
          "Medium",
          "Medium",
          "Low",
          "High",
          "Medium",
          "Medium",
          "Medium",
          "Low",
          "High",
          "Medium",
          "Medium",
          "Medium",
          "Low",
          "High",
          "Medium",
          "Medium",
          "Medium",
          "Low",
          "High",
          "Medium",
          "Medium",
          "Medium",
          "Low",
          "High",
          "Medium",
          "Medium",
          "Medium",
          "Low",
          "High",
          "Medium",
          "Medium",
          "Medium",
          "Low",
          "High",
          "Medium",
          "Medium",
          "Medium",
          "Low",
          "High",
          "Medium",
          "Medium",
          "Medium",
          "Low",
          "High",
          "Medium",
          "Medium",
          "Medium",
          "Low",
          "High",
          "Medium",
          "Medium",
          "Medium",
          "Low",
          "High",
          "Medium",
          "Medium",
          "Medium",
          "Low",
          "High",
          "Medium",
          "Medium",
          "Medium",
          "Low",
          "High",
          "Medium",
          "Medium",
          "Medium",
          "Low",
          "High",
          "Medium",
          "Medium",
          "Medium",
          "Low",
          "High",
          "Medium",
          "Medium",
          "Medium",
          "Low",
          "High",
          "Medium",
          "Medium",
          "Medium",
          "Low",
          "Medium",
          "Medium",
          "Low",
          "Medium",
          "Low",
          "Medium",
          "Medium",
          "Low",
          "Medium",
          "Low",
          "Medium",
          "Medium",
          "Low",
          "Medium",
          "Low",
          "Medium",
          "Medium",
          "Low",
          "Medium",
          "Low",
          "Medium",
          "Medium",
          "Low",
          "Medium",
          "Low",
          "Medium",
          "Medium",
          "Low",
          "Medium",
          "Low",
          "Medium",
          "Medium",
          "Low",
          "Medium",
          "Low",
          "High",
          "High",
          "High",
          "Medium",
          "Low",
          "Medium",
          "High",
          "High",
          "Medium",
          "Low",
          "Medium",
          "Medium",
          "High",
          "High",
          "Low",
          "Low",
          "Low",
          "High",
          "High",
          "High",
          "Medium",
          "Low",
          "Medium",
          "High",
          "High",
          "Medium",
          "Low",
          "Medium",
          "Low",
          "High",
          "High",
          "Low",
          "Low",
          "Low",
          "High",
          "High",
          "High",
          "Medium",
          "Low",
          "Medium",
          "High",
          "High",
          "Medium",
          "Low",
          "Medium",
          "Low",
          "High",
          "High",
          "Low",
          "Low",
          "Low",
          "High",
          "High",
          "High",
          "Medium",
          "Low",
          "Medium",
          "High",
          "High",
          "Medium",
          "Low",
          "Medium",
          "Low",
          "High",
          "High",
          "Low"
         ],
         "xaxis": "x",
         "y": {
          "_inputArray": {
           "0": 7.5,
           "1": 7,
           "10": 5.5,
           "100": 4.7,
           "101": 8.4,
           "102": 7.7,
           "103": 4.5,
           "104": 8.6,
           "105": 7.9,
           "106": 4.3,
           "107": 8.8,
           "108": 8.1,
           "109": 4.1,
           "11": 5.8,
           "110": 6.5,
           "111": 7.8,
           "112": 6.8,
           "113": 7.2,
           "114": 6.7,
           "115": 7.9,
           "116": 6.5,
           "117": 7.4,
           "118": 6.6,
           "119": 7.7,
           "12": 6.9,
           "120": 6.7,
           "121": 7.3,
           "122": 6.4,
           "123": 7.8,
           "124": 6.6,
           "125": 7.5,
           "126": 6.5,
           "127": 7.6,
           "128": 6.8,
           "129": 7.6,
           "13": 6.6,
           "130": 6.3,
           "131": 7.7,
           "132": 6.9,
           "133": 7.7,
           "134": 6.4,
           "135": 7.8,
           "136": 6.7,
           "137": 7.8,
           "138": 6.5,
           "139": 7.9,
           "14": 7.4,
           "140": 6.8,
           "141": 7.9,
           "142": 6.6,
           "143": 8,
           "144": 6.9,
           "145": 8,
           "146": 6.7,
           "147": 8.1,
           "148": 7,
           "149": 8.1,
           "15": 6.7,
           "150": 6.8,
           "151": 8.2,
           "152": 7.1,
           "153": 8.2,
           "154": 6.9,
           "155": 8.3,
           "156": 7.2,
           "157": 8.3,
           "158": 7,
           "159": 8.4,
           "16": 5.4,
           "160": 7.8,
           "161": 6.5,
           "162": 6.7,
           "163": 6.6,
           "164": 6.9,
           "165": 7.9,
           "166": 6.4,
           "167": 6.8,
           "168": 6.5,
           "169": 7,
           "17": 5.8,
           "170": 8,
           "171": 6.3,
           "172": 6.9,
           "173": 6.4,
           "174": 7.1,
           "175": 8.1,
           "176": 6.2,
           "177": 7,
           "178": 6.3,
           "179": 7.2,
           "18": 6.8,
           "180": 8.2,
           "181": 6.1,
           "182": 7.1,
           "183": 6.2,
           "184": 7.3,
           "185": 8.3,
           "186": 6,
           "187": 7.2,
           "188": 6.1,
           "189": 7.4,
           "19": 6.5,
           "190": 8.4,
           "191": 5.9,
           "192": 7.3,
           "193": 6,
           "194": 7.5,
           "195": 8.5,
           "196": 5.8,
           "197": 7.4,
           "198": 5.9,
           "199": 7.6,
           "2": 6,
           "20": 7.3,
           "200": 8.6,
           "201": 5.7,
           "202": 7.5,
           "203": 5.8,
           "204": 7.7,
           "205": 8.7,
           "206": 5.6,
           "207": 7.6,
           "208": 5.7,
           "209": 7.8,
           "21": 6.6,
           "210": 8.8,
           "211": 5.5,
           "212": 7.7,
           "213": 5.6,
           "214": 7.9,
           "215": 8.9,
           "216": 5.4,
           "217": 7.8,
           "218": 5.5,
           "219": 8,
           "22": 5.3,
           "220": 9,
           "221": 5.3,
           "222": 7.9,
           "223": 5.4,
           "224": 8.1,
           "225": 9.1,
           "226": 5.2,
           "227": 8,
           "228": 5.3,
           "229": 8.2,
           "23": 5.9,
           "230": 9.2,
           "231": 5.1,
           "232": 8.1,
           "233": 5.2,
           "234": 8.3,
           "235": 9.3,
           "236": 5,
           "237": 8.2,
           "238": 5.1,
           "239": 8.4,
           "24": 6.7,
           "240": 9.4,
           "241": 4.9,
           "242": 8.3,
           "243": 5,
           "244": 8.5,
           "245": 9.5,
           "246": 4.8,
           "247": 8.4,
           "248": 4.9,
           "249": 8.6,
           "25": 6.4,
           "250": 7.8,
           "251": 7.5,
           "252": 6.8,
           "253": 7.9,
           "254": 7.4,
           "255": 7.9,
           "256": 7.6,
           "257": 6.7,
           "258": 8,
           "259": 7.5,
           "26": 7.2,
           "260": 8,
           "261": 7.7,
           "262": 6.6,
           "263": 8.1,
           "264": 7.6,
           "265": 8.1,
           "266": 7.8,
           "267": 6.5,
           "268": 8.2,
           "269": 7.7,
           "27": 6.5,
           "270": 8.2,
           "271": 7.9,
           "272": 6.4,
           "273": 8.3,
           "274": 7.8,
           "275": 8.3,
           "276": 8,
           "277": 6.3,
           "278": 8.4,
           "279": 7.9,
           "28": 5.2,
           "280": 8.4,
           "281": 8.1,
           "282": 6.2,
           "283": 8.5,
           "284": 8,
           "285": 7.8,
           "286": 5.9,
           "287": 6.2,
           "288": 6.1,
           "289": 7,
           "29": 5.9,
           "290": 7.3,
           "291": 6.5,
           "292": 6.3,
           "293": 6.2,
           "294": 6.8,
           "295": 7.5,
           "296": 6.9,
           "297": 6.7,
           "298": 6.2,
           "299": 6,
           "3": 8,
           "30": 7.1,
           "300": 7.6,
           "301": 7.4,
           "302": 7.2,
           "303": 5.7,
           "304": 6.2,
           "305": 6.1,
           "306": 6.7,
           "307": 7.2,
           "308": 6.8,
           "309": 6.3,
           "31": 6,
           "310": 6.2,
           "311": 6.6,
           "312": 7.3,
           "313": 6.8,
           "314": 7.2,
           "315": 6.3,
           "316": 5.9,
           "317": 7.4,
           "318": 7.5,
           "319": 7.3,
           "32": 7.4,
           "320": 5.7,
           "321": 6,
           "322": 6.2,
           "323": 6.6,
           "324": 7.2,
           "325": 6.7,
           "326": 6.3,
           "327": 6.1,
           "328": 6.6,
           "329": 7.3,
           "33": 6.5,
           "330": 6.8,
           "331": 7.2,
           "332": 6.2,
           "333": 5.9,
           "334": 7.4,
           "335": 7.5,
           "336": 7.3,
           "337": 5.7,
           "338": 6,
           "339": 6.3,
           "34": 7.2,
           "340": 6.6,
           "341": 7.1,
           "342": 6.8,
           "343": 6.2,
           "344": 6.1,
           "345": 6.5,
           "346": 7.3,
           "347": 6.7,
           "348": 7.1,
           "349": 6.3,
           "35": 5.5,
           "350": 5.9,
           "351": 7.5,
           "36": 5.7,
           "37": 7.3,
           "38": 5.4,
           "39": 5.9,
           "4": 6.5,
           "40": 7.1,
           "41": 6.6,
           "42": 5.3,
           "43": 5.5,
           "44": 6,
           "45": 7,
           "46": 6.5,
           "47": 7.4,
           "48": 5.3,
           "49": 5.9,
           "5": 6.2,
           "50": 5.2,
           "51": 5.8,
           "52": 7,
           "53": 6.6,
           "54": 7.2,
           "55": 6.2,
           "56": 7.1,
           "57": 6.3,
           "58": 5.8,
           "59": 7.3,
           "6": 7.2,
           "60": 5.9,
           "61": 6.3,
           "62": 7.5,
           "63": 5.7,
           "64": 6.5,
           "65": 7.7,
           "66": 5.5,
           "67": 6.7,
           "68": 7.9,
           "69": 5.3,
           "7": 6.8,
           "70": 6.9,
           "71": 8.1,
           "72": 5.1,
           "73": 7.1,
           "74": 8.3,
           "75": 4.9,
           "76": 7.3,
           "77": 8.5,
           "78": 4.7,
           "79": 7.5,
           "8": 7.8,
           "80": 7.2,
           "81": 6.3,
           "82": 6,
           "83": 7.1,
           "84": 6.5,
           "85": 5.7,
           "86": 7.4,
           "87": 6.7,
           "88": 5.5,
           "89": 7.6,
           "9": 6.7,
           "90": 6.9,
           "91": 5.3,
           "92": 7.8,
           "93": 7.1,
           "94": 5.1,
           "95": 8,
           "96": 7.3,
           "97": 4.9,
           "98": 8.2,
           "99": 7.5,
           "bdata": "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",
           "dtype": "f8",
           "shape": "352"
          },
          "bdata": "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",
          "dtype": "f8"
         },
         "yaxis": "y"
        }
       ],
       "layout": {
        "autosize": true,
        "barmode": "group",
        "legend": {
         "title": {
          "text": "Gender"
         },
         "tracegroupgap": 0
        },
        "template": {
         "data": {
          "bar": [
           {
            "error_x": {
             "color": "#2a3f5f"
            },
            "error_y": {
             "color": "#2a3f5f"
            },
            "marker": {
             "line": {
              "color": "#E5ECF6",
              "width": 0.5
             },
             "pattern": {
              "fillmode": "overlay",
              "size": 10,
              "solidity": 0.2
             }
            },
            "type": "bar"
           }
          ],
          "barpolar": [
           {
            "marker": {
             "line": {
              "color": "#E5ECF6",
              "width": 0.5
             },
             "pattern": {
              "fillmode": "overlay",
              "size": 10,
              "solidity": 0.2
             }
            },
            "type": "barpolar"
           }
          ],
          "carpet": [
           {
            "aaxis": {
             "endlinecolor": "#2a3f5f",
             "gridcolor": "white",
             "linecolor": "white",
             "minorgridcolor": "white",
             "startlinecolor": "#2a3f5f"
            },
            "baxis": {
             "endlinecolor": "#2a3f5f",
             "gridcolor": "white",
             "linecolor": "white",
             "minorgridcolor": "white",
             "startlinecolor": "#2a3f5f"
            },
            "type": "carpet"
           }
          ],
          "choropleth": [
           {
            "colorbar": {
             "outlinewidth": 0,
             "ticks": ""
            },
            "type": "choropleth"
           }
          ],
          "contour": [
           {
            "colorbar": {
             "outlinewidth": 0,
             "ticks": ""
            },
            "colorscale": [
             [
              0,
              "#0d0887"
             ],
             [
              0.1111111111111111,
              "#46039f"
             ],
             [
              0.2222222222222222,
              "#7201a8"
             ],
             [
              0.3333333333333333,
              "#9c179e"
             ],
             [
              0.4444444444444444,
              "#bd3786"
             ],
             [
              0.5555555555555556,
              "#d8576b"
             ],
             [
              0.6666666666666666,
              "#ed7953"
             ],
             [
              0.7777777777777778,
              "#fb9f3a"
             ],
             [
              0.8888888888888888,
              "#fdca26"
             ],
             [
              1,
              "#f0f921"
             ]
            ],
            "type": "contour"
           }
          ],
          "contourcarpet": [
           {
            "colorbar": {
             "outlinewidth": 0,
             "ticks": ""
            },
            "type": "contourcarpet"
           }
          ],
          "heatmap": [
           {
            "colorbar": {
             "outlinewidth": 0,
             "ticks": ""
            },
            "colorscale": [
             [
              0,
              "#0d0887"
             ],
             [
              0.1111111111111111,
              "#46039f"
             ],
             [
              0.2222222222222222,
              "#7201a8"
             ],
             [
              0.3333333333333333,
              "#9c179e"
             ],
             [
              0.4444444444444444,
              "#bd3786"
             ],
             [
              0.5555555555555556,
              "#d8576b"
             ],
             [
              0.6666666666666666,
              "#ed7953"
             ],
             [
              0.7777777777777778,
              "#fb9f3a"
             ],
             [
              0.8888888888888888,
              "#fdca26"
             ],
             [
              1,
              "#f0f921"
             ]
            ],
            "type": "heatmap"
           }
          ],
          "histogram": [
           {
            "marker": {
             "pattern": {
              "fillmode": "overlay",
              "size": 10,
              "solidity": 0.2
             }
            },
            "type": "histogram"
           }
          ],
          "histogram2d": [
           {
            "colorbar": {
             "outlinewidth": 0,
             "ticks": ""
            },
            "colorscale": [
             [
              0,
              "#0d0887"
             ],
             [
              0.1111111111111111,
              "#46039f"
             ],
             [
              0.2222222222222222,
              "#7201a8"
             ],
             [
              0.3333333333333333,
              "#9c179e"
             ],
             [
              0.4444444444444444,
              "#bd3786"
             ],
             [
              0.5555555555555556,
              "#d8576b"
             ],
             [
              0.6666666666666666,
              "#ed7953"
             ],
             [
              0.7777777777777778,
              "#fb9f3a"
             ],
             [
              0.8888888888888888,
              "#fdca26"
             ],
             [
              1,
              "#f0f921"
             ]
            ],
            "type": "histogram2d"
           }
          ],
          "histogram2dcontour": [
           {
            "colorbar": {
             "outlinewidth": 0,
             "ticks": ""
            },
            "colorscale": [
             [
              0,
              "#0d0887"
             ],
             [
              0.1111111111111111,
              "#46039f"
             ],
             [
              0.2222222222222222,
              "#7201a8"
             ],
             [
              0.3333333333333333,
              "#9c179e"
             ],
             [
              0.4444444444444444,
              "#bd3786"
             ],
             [
              0.5555555555555556,
              "#d8576b"
             ],
             [
              0.6666666666666666,
              "#ed7953"
             ],
             [
              0.7777777777777778,
              "#fb9f3a"
             ],
             [
              0.8888888888888888,
              "#fdca26"
             ],
             [
              1,
              "#f0f921"
             ]
            ],
            "type": "histogram2dcontour"
           }
          ],
          "mesh3d": [
           {
            "colorbar": {
             "outlinewidth": 0,
             "ticks": ""
            },
            "type": "mesh3d"
           }
          ],
          "parcoords": [
           {
            "line": {
             "colorbar": {
              "outlinewidth": 0,
              "ticks": ""
             }
            },
            "type": "parcoords"
           }
          ],
          "pie": [
           {
            "automargin": true,
            "type": "pie"
           }
          ],
          "scatter": [
           {
            "fillpattern": {
             "fillmode": "overlay",
             "size": 10,
             "solidity": 0.2
            },
            "type": "scatter"
           }
          ],
          "scatter3d": [
           {
            "line": {
             "colorbar": {
              "outlinewidth": 0,
              "ticks": ""
             }
            },
            "marker": {
             "colorbar": {
              "outlinewidth": 0,
              "ticks": ""
             }
            },
            "type": "scatter3d"
           }
          ],
          "scattercarpet": [
           {
            "marker": {
             "colorbar": {
              "outlinewidth": 0,
              "ticks": ""
             }
            },
            "type": "scattercarpet"
           }
          ],
          "scattergeo": [
           {
            "marker": {
             "colorbar": {
              "outlinewidth": 0,
              "ticks": ""
             }
            },
            "type": "scattergeo"
           }
          ],
          "scattergl": [
           {
            "marker": {
             "colorbar": {
              "outlinewidth": 0,
              "ticks": ""
             }
            },
            "type": "scattergl"
           }
          ],
          "scattermap": [
           {
            "marker": {
             "colorbar": {
              "outlinewidth": 0,
              "ticks": ""
             }
            },
            "type": "scattermap"
           }
          ],
          "scattermapbox": [
           {
            "marker": {
             "colorbar": {
              "outlinewidth": 0,
              "ticks": ""
             }
            },
            "type": "scattermapbox"
           }
          ],
          "scatterpolar": [
           {
            "marker": {
             "colorbar": {
              "outlinewidth": 0,
              "ticks": ""
             }
            },
            "type": "scatterpolar"
           }
          ],
          "scatterpolargl": [
           {
            "marker": {
             "colorbar": {
              "outlinewidth": 0,
              "ticks": ""
             }
            },
            "type": "scatterpolargl"
           }
          ],
          "scatterternary": [
           {
            "marker": {
             "colorbar": {
              "outlinewidth": 0,
              "ticks": ""
             }
            },
            "type": "scatterternary"
           }
          ],
          "surface": [
           {
            "colorbar": {
             "outlinewidth": 0,
             "ticks": ""
            },
            "colorscale": [
             [
              0,
              "#0d0887"
             ],
             [
              0.1111111111111111,
              "#46039f"
             ],
             [
              0.2222222222222222,
              "#7201a8"
             ],
             [
              0.3333333333333333,
              "#9c179e"
             ],
             [
              0.4444444444444444,
              "#bd3786"
             ],
             [
              0.5555555555555556,
              "#d8576b"
             ],
             [
              0.6666666666666666,
              "#ed7953"
             ],
             [
              0.7777777777777778,
              "#fb9f3a"
             ],
             [
              0.8888888888888888,
              "#fdca26"
             ],
             [
              1,
              "#f0f921"
             ]
            ],
            "type": "surface"
           }
          ],
          "table": [
           {
            "cells": {
             "fill": {
              "color": "#EBF0F8"
             },
             "line": {
              "color": "white"
             }
            },
            "header": {
             "fill": {
              "color": "#C8D4E3"
             },
             "line": {
              "color": "white"
             }
            },
            "type": "table"
           }
          ]
         },
         "layout": {
          "annotationdefaults": {
           "arrowcolor": "#2a3f5f",
           "arrowhead": 0,
           "arrowwidth": 1
          },
          "autotypenumbers": "strict",
          "coloraxis": {
           "colorbar": {
            "outlinewidth": 0,
            "ticks": ""
           }
          },
          "colorscale": {
           "diverging": [
            [
             0,
             "#8e0152"
            ],
            [
             0.1,
             "#c51b7d"
            ],
            [
             0.2,
             "#de77ae"
            ],
            [
             0.3,
             "#f1b6da"
            ],
            [
             0.4,
             "#fde0ef"
            ],
            [
             0.5,
             "#f7f7f7"
            ],
            [
             0.6,
             "#e6f5d0"
            ],
            [
             0.7,
             "#b8e186"
            ],
            [
             0.8,
             "#7fbc41"
            ],
            [
             0.9,
             "#4d9221"
            ],
            [
             1,
             "#276419"
            ]
           ],
           "sequential": [
            [
             0,
             "#0d0887"
            ],
            [
             0.1111111111111111,
             "#46039f"
            ],
            [
             0.2222222222222222,
             "#7201a8"
            ],
            [
             0.3333333333333333,
             "#9c179e"
            ],
            [
             0.4444444444444444,
             "#bd3786"
            ],
            [
             0.5555555555555556,
             "#d8576b"
            ],
            [
             0.6666666666666666,
             "#ed7953"
            ],
            [
             0.7777777777777778,
             "#fb9f3a"
            ],
            [
             0.8888888888888888,
             "#fdca26"
            ],
            [
             1,
             "#f0f921"
            ]
           ],
           "sequentialminus": [
            [
             0,
             "#0d0887"
            ],
            [
             0.1111111111111111,
             "#46039f"
            ],
            [
             0.2222222222222222,
             "#7201a8"
            ],
            [
             0.3333333333333333,
             "#9c179e"
            ],
            [
             0.4444444444444444,
             "#bd3786"
            ],
            [
             0.5555555555555556,
             "#d8576b"
            ],
            [
             0.6666666666666666,
             "#ed7953"
            ],
            [
             0.7777777777777778,
             "#fb9f3a"
            ],
            [
             0.8888888888888888,
             "#fdca26"
            ],
            [
             1,
             "#f0f921"
            ]
           ]
          },
          "colorway": [
           "#636efa",
           "#EF553B",
           "#00cc96",
           "#ab63fa",
           "#FFA15A",
           "#19d3f3",
           "#FF6692",
           "#B6E880",
           "#FF97FF",
           "#FECB52"
          ],
          "font": {
           "color": "#2a3f5f"
          },
          "geo": {
           "bgcolor": "white",
           "lakecolor": "white",
           "landcolor": "#E5ECF6",
           "showlakes": true,
           "showland": true,
           "subunitcolor": "white"
          },
          "hoverlabel": {
           "align": "left"
          },
          "hovermode": "closest",
          "mapbox": {
           "style": "light"
          },
          "paper_bgcolor": "white",
          "plot_bgcolor": "#E5ECF6",
          "polar": {
           "angularaxis": {
            "gridcolor": "white",
            "linecolor": "white",
            "ticks": ""
           },
           "bgcolor": "#E5ECF6",
           "radialaxis": {
            "gridcolor": "white",
            "linecolor": "white",
            "ticks": ""
           }
          },
          "scene": {
           "xaxis": {
            "backgroundcolor": "#E5ECF6",
            "gridcolor": "white",
            "gridwidth": 2,
            "linecolor": "white",
            "showbackground": true,
            "ticks": "",
            "zerolinecolor": "white"
           },
           "yaxis": {
            "backgroundcolor": "#E5ECF6",
            "gridcolor": "white",
            "gridwidth": 2,
            "linecolor": "white",
            "showbackground": true,
            "ticks": "",
            "zerolinecolor": "white"
           },
           "zaxis": {
            "backgroundcolor": "#E5ECF6",
            "gridcolor": "white",
            "gridwidth": 2,
            "linecolor": "white",
            "showbackground": true,
            "ticks": "",
            "zerolinecolor": "white"
           }
          },
          "shapedefaults": {
           "line": {
            "color": "#2a3f5f"
           }
          },
          "ternary": {
           "aaxis": {
            "gridcolor": "white",
            "linecolor": "white",
            "ticks": ""
           },
           "baxis": {
            "gridcolor": "white",
            "linecolor": "white",
            "ticks": ""
           },
           "bgcolor": "#E5ECF6",
           "caxis": {
            "gridcolor": "white",
            "linecolor": "white",
            "ticks": ""
           }
          },
          "title": {
           "x": 0.05
          },
          "xaxis": {
           "automargin": true,
           "gridcolor": "white",
           "linecolor": "white",
           "ticks": "",
           "title": {
            "standoff": 15
           },
           "zerolinecolor": "white",
           "zerolinewidth": 2
          },
          "yaxis": {
           "automargin": true,
           "gridcolor": "white",
           "linecolor": "white",
           "ticks": "",
           "title": {
            "standoff": 15
           },
           "zerolinecolor": "white",
           "zerolinewidth": 2
          }
         }
        },
        "title": {
         "text": "Average Sleep Hours by Addiction Level and Gender"
        },
        "xaxis": {
         "anchor": "y",
         "autorange": true,
         "domain": [
          0,
          1
         ],
         "range": [
          -0.5,
          2.5
         ],
         "title": {
          "text": "Addiction_Level"
         },
         "type": "category"
        },
        "yaxis": {
         "anchor": "x",
         "autorange": true,
         "domain": [
          0,
          1
         ],
         "range": [
          0,
          1135.1578947368416
         ],
         "title": {
          "text": "Sleep_Hours_Per_Night"
         },
         "type": "linear"
        }
       }
      },
      "image/png": "[encoded data removed]"
     },
     "metadata": {},
     "output_type": "display_data"
    }
   ],
   "source": [
    "# Sleep hours by addiction level\n",
    "fig = px.bar(df, x='Addiction_Level', y='Sleep_Hours_Per_Night', color='Gender', barmode='group',\n",
    "             title='Average Sleep Hours by Addiction Level and Gender')\n",
    "fig.show()\n",
    "\n",
    "# (If study hours are available)\n",
    "if 'Study_Hours' in df.columns:\n",
    "    fig = px.bar(df, x='Addiction_Level', y='Study_Hours', color='Gender', barmode='group',\n",
    "                 title='Average Study Hours by Addiction Level and Gender')\n",
    "    fig.show()\n"
   ]
  },
  {
   "cell_type": "code",
   "execution_count": 15,
   "id": "f87e1807-461a-4332-832b-39c7eb8c319b",
   "metadata": {},
   "outputs": [
    {
     "name": "stderr",
     "output_type": "stream",
     "text": [
      "C:\\Users\\rajar\\anaconda3\\Lib\\site-packages\\sklearn\\cluster\\_kmeans.py:1419: UserWarning:\n",
      "\n",
      "KMeans is known to have a memory leak on Windows with MKL, when there are less chunks than available threads. You can avoid it by setting the environment variable OMP_NUM_THREADS=3.\n",
      "\n"
     ]
    },
    {
     "data": {
      "application/vnd.plotly.v1+json": {
       "config": {
        "plotlyServerURL": "https://plot.ly"
       },
       "data": [
        {
         "hovertemplate": "Gender=Female<br>TSNE-1=%{x}<br>TSNE-2=%{y}<br>Cluster=%{marker.color}<extra></extra>",
         "legendgroup": "Female",
         "marker": {
          "color": {
           "_inputArray": {
            "0": 2,
            "1": 1,
            "10": 0,
            "100": 0,
            "101": 2,
            "102": 1,
            "103": 0,
            "104": 2,
            "105": 1,
            "106": 0,
            "107": 2,
            "108": 1,
            "109": 0,
            "11": 1,
            "110": 1,
            "111": 0,
            "112": 0,
            "113": 2,
            "114": 1,
            "115": 0,
            "116": 0,
            "117": 2,
            "118": 1,
            "119": 0,
            "12": 1,
            "120": 0,
            "121": 2,
            "122": 1,
            "123": 0,
            "124": 0,
            "125": 2,
            "126": 1,
            "127": 0,
            "128": 0,
            "129": 2,
            "13": 2,
            "130": 1,
            "131": 0,
            "132": 0,
            "133": 2,
            "134": 1,
            "135": 0,
            "136": 0,
            "137": 2,
            "138": 1,
            "139": 0,
            "14": 1,
            "140": 0,
            "141": 2,
            "142": 1,
            "143": 0,
            "144": 0,
            "145": 2,
            "146": 1,
            "147": 0,
            "148": 0,
            "149": 2,
            "15": 2,
            "150": 1,
            "151": 0,
            "152": 0,
            "153": 0,
            "154": 1,
            "155": 0,
            "156": 0,
            "157": 0,
            "158": 1,
            "159": 0,
            "16": 0,
            "160": 2,
            "161": 2,
            "162": 0,
            "163": 1,
            "164": 0,
            "165": 2,
            "166": 2,
            "167": 0,
            "168": 1,
            "169": 0,
            "17": 1,
            "170": 2,
            "171": 2,
            "172": 0,
            "173": 1,
            "174": 0,
            "175": 2,
            "176": 2,
            "177": 0,
            "178": 1,
            "179": 0,
            "18": 1,
            "180": 2,
            "181": 2,
            "182": 0,
            "183": 1,
            "184": 0,
            "185": 2,
            "186": 2,
            "187": 0,
            "188": 1,
            "189": 0,
            "19": 2,
            "190": 2,
            "191": 0,
            "192": 0,
            "193": 1,
            "194": 0,
            "195": 2,
            "196": 0,
            "197": 0,
            "198": 1,
            "199": 0,
            "2": 1,
            "20": 1,
            "200": 2,
            "201": 0,
            "202": 0,
            "203": 1,
            "204": 0,
            "205": 2,
            "206": 0,
            "207": 0,
            "208": 1,
            "209": 0,
            "21": 2,
            "210": 2,
            "211": 0,
            "212": 0,
            "213": 1,
            "214": 0,
            "215": 2,
            "216": 0,
            "217": 0,
            "218": 1,
            "219": 0,
            "22": 0,
            "220": 2,
            "221": 0,
            "222": 0,
            "223": 1,
            "224": 0,
            "225": 2,
            "226": 0,
            "227": 0,
            "228": 1,
            "229": 0,
            "23": 1,
            "230": 0,
            "231": 0,
            "232": 0,
            "233": 1,
            "234": 0,
            "235": 0,
            "236": 0,
            "237": 0,
            "238": 1,
            "239": 0,
            "24": 1,
            "240": 0,
            "241": 0,
            "242": 0,
            "243": 1,
            "244": 0,
            "245": 0,
            "246": 0,
            "247": 0,
            "248": 1,
            "249": 0,
            "25": 2,
            "250": 1,
            "251": 0,
            "252": 2,
            "253": 1,
            "254": 1,
            "255": 2,
            "256": 0,
            "257": 2,
            "258": 1,
            "259": 1,
            "26": 1,
            "260": 2,
            "261": 0,
            "262": 2,
            "263": 1,
            "264": 1,
            "265": 2,
            "266": 0,
            "267": 2,
            "268": 1,
            "269": 1,
            "27": 2,
            "270": 2,
            "271": 0,
            "272": 2,
            "273": 1,
            "274": 1,
            "275": 2,
            "276": 0,
            "277": 2,
            "278": 1,
            "279": 1,
            "28": 0,
            "280": 2,
            "281": 0,
            "282": 2,
            "283": 1,
            "284": 1,
            "285": 2,
            "286": 2,
            "287": 0,
            "288": 2,
            "289": 0,
            "29": 1,
            "290": 1,
            "291": 1,
            "292": 0,
            "293": 0,
            "294": 0,
            "295": 1,
            "296": 1,
            "297": 1,
            "298": 0,
            "299": 2,
            "3": 1,
            "30": 1,
            "300": 2,
            "301": 1,
            "302": 1,
            "303": 2,
            "304": 0,
            "305": 2,
            "306": 0,
            "307": 1,
            "308": 1,
            "309": 0,
            "31": 1,
            "310": 0,
            "311": 0,
            "312": 1,
            "313": 1,
            "314": 1,
            "315": 2,
            "316": 0,
            "317": 2,
            "318": 1,
            "319": 1,
            "32": 2,
            "320": 2,
            "321": 0,
            "322": 2,
            "323": 0,
            "324": 1,
            "325": 1,
            "326": 0,
            "327": 0,
            "328": 0,
            "329": 1,
            "33": 1,
            "330": 1,
            "331": 1,
            "332": 2,
            "333": 0,
            "334": 2,
            "335": 1,
            "336": 1,
            "337": 2,
            "338": 0,
            "339": 2,
            "34": 2,
            "340": 0,
            "341": 1,
            "342": 1,
            "343": 0,
            "344": 0,
            "345": 0,
            "346": 1,
            "347": 1,
            "348": 1,
            "349": 2,
            "35": 0,
            "350": 0,
            "351": 2,
            "352": 1,
            "36": 1,
            "37": 2,
            "38": 0,
            "39": 1,
            "4": 0,
            "40": 2,
            "41": 0,
            "42": 2,
            "43": 0,
            "44": 1,
            "45": 2,
            "46": 1,
            "47": 2,
            "48": 0,
            "49": 1,
            "5": 1,
            "50": 0,
            "51": 1,
            "52": 2,
            "53": 1,
            "54": 2,
            "55": 1,
            "56": 1,
            "57": 0,
            "58": 2,
            "59": 1,
            "6": 1,
            "60": 0,
            "61": 1,
            "62": 2,
            "63": 0,
            "64": 1,
            "65": 2,
            "66": 0,
            "67": 1,
            "68": 2,
            "69": 0,
            "7": 2,
            "70": 1,
            "71": 2,
            "72": 0,
            "73": 1,
            "74": 2,
            "75": 0,
            "76": 1,
            "77": 2,
            "78": 0,
            "79": 1,
            "8": 1,
            "80": 2,
            "81": 1,
            "82": 2,
            "83": 2,
            "84": 1,
            "85": 0,
            "86": 2,
            "87": 1,
            "88": 0,
            "89": 2,
            "9": 2,
            "90": 1,
            "91": 0,
            "92": 2,
            "93": 1,
            "94": 0,
            "95": 2,
            "96": 1,
            "97": 0,
            "98": 2,
            "99": 1,
            "bdata": "AgAAAAEAAAABAAAAAQAAAAAAAAABAAAAAQAAAAIAAAABAAAAAgAAAAAAAAABAAAAAQAAAAIAAAABAAAAAgAAAAAAAAABAAAAAQAAAAIAAAABAAAAAgAAAAAAAAABAAAAAQAAAAIAAAABAAAAAgAAAAAAAAABAAAAAQAAAAEAAAACAAAAAQAAAAIAAAAAAAAAAQAAAAIAAAAAAAAAAQAAAAIAAAAAAAAAAgAAAAAAAAABAAAAAgAAAAEAAAACAAAAAAAAAAEAAAAAAAAAAQAAAAIAAAABAAAAAgAAAAEAAAABAAAAAAAAAAIAAAABAAAAAAAAAAEAAAACAAAAAAAAAAEAAAACAAAAAAAAAAEAAAACAAAAAAAAAAEAAAACAAAAAAAAAAEAAAACAAAAAAAAAAEAAAACAAAAAAAAAAEAAAACAAAAAQAAAAIAAAACAAAAAQAAAAAAAAACAAAAAQAAAAAAAAACAAAAAQAAAAAAAAACAAAAAQAAAAAAAAACAAAAAQAAAAAAAAACAAAAAQAAAAAAAAACAAAAAQAAAAAAAAACAAAAAQAAAAAAAAACAAAAAQAAAAAAAAABAAAAAAAAAAAAAAACAAAAAQAAAAAAAAAAAAAAAgAAAAEAAAAAAAAAAAAAAAIAAAABAAAAAAAAAAAAAAACAAAAAQAAAAAAAAAAAAAAAgAAAAEAAAAAAAAAAAAAAAIAAAABAAAAAAAAAAAAAAACAAAAAQAAAAAAAAAAAAAAAgAAAAEAAAAAAAAAAAAAAAIAAAABAAAAAAAAAAAAAAACAAAAAQAAAAAAAAAAAAAAAAAAAAEAAAAAAAAAAAAAAAAAAAABAAAAAAAAAAIAAAACAAAAAAAAAAEAAAAAAAAAAgAAAAIAAAAAAAAAAQAAAAAAAAACAAAAAgAAAAAAAAABAAAAAAAAAAIAAAACAAAAAAAAAAEAAAAAAAAAAgAAAAIAAAAAAAAAAQAAAAAAAAACAAAAAgAAAAAAAAABAAAAAAAAAAIAAAAAAAAAAAAAAAEAAAAAAAAAAgAAAAAAAAAAAAAAAQAAAAAAAAACAAAAAAAAAAAAAAABAAAAAAAAAAIAAAAAAAAAAAAAAAEAAAAAAAAAAgAAAAAAAAAAAAAAAQAAAAAAAAACAAAAAAAAAAAAAAABAAAAAAAAAAIAAAAAAAAAAAAAAAEAAAAAAAAAAgAAAAAAAAAAAAAAAQAAAAAAAAAAAAAAAAAAAAAAAAABAAAAAAAAAAAAAAAAAAAAAAAAAAEAAAAAAAAAAAAAAAAAAAAAAAAAAQAAAAAAAAAAAAAAAAAAAAAAAAABAAAAAAAAAAEAAAAAAAAAAgAAAAEAAAABAAAAAgAAAAAAAAACAAAAAQAAAAEAAAACAAAAAAAAAAIAAAABAAAAAQAAAAIAAAAAAAAAAgAAAAEAAAABAAAAAgAAAAAAAAACAAAAAQAAAAEAAAACAAAAAAAAAAIAAAABAAAAAQAAAAIAAAAAAAAAAgAAAAEAAAABAAAAAgAAAAIAAAAAAAAAAgAAAAAAAAABAAAAAQAAAAAAAAAAAAAAAAAAAAEAAAABAAAAAQAAAAAAAAACAAAAAgAAAAEAAAABAAAAAgAAAAAAAAACAAAAAAAAAAEAAAABAAAAAAAAAAAAAAAAAAAAAQAAAAEAAAABAAAAAgAAAAAAAAACAAAAAQAAAAEAAAACAAAAAAAAAAIAAAAAAAAAAQAAAAEAAAAAAAAAAAAAAAAAAAABAAAAAQAAAAEAAAACAAAAAAAAAAIAAAABAAAAAQAAAAIAAAAAAAAAAgAAAAAAAAABAAAAAQAAAAAAAAAAAAAAAAAAAAEAAAABAAAAAQAAAAIAAAAAAAAAAgAAAAEAAAA=",
            "dtype": "i4",
            "shape": "353"
           },
           "bdata": "AgAAAAEAAAABAAAAAQAAAAAAAAABAAAAAQAAAAIAAAABAAAAAgAAAAAAAAABAAAAAQAAAAIAAAABAAAAAgAAAAAAAAABAAAAAQAAAAIAAAABAAAAAgAAAAAAAAABAAAAAQAAAAIAAAABAAAAAgAAAAAAAAABAAAAAQAAAAEAAAACAAAAAQAAAAIAAAAAAAAAAQAAAAIAAAAAAAAAAQAAAAIAAAAAAAAAAgAAAAAAAAABAAAAAgAAAAEAAAACAAAAAAAAAAEAAAAAAAAAAQAAAAIAAAABAAAAAgAAAAEAAAABAAAAAAAAAAIAAAABAAAAAAAAAAEAAAACAAAAAAAAAAEAAAACAAAAAAAAAAEAAAACAAAAAAAAAAEAAAACAAAAAAAAAAEAAAACAAAAAAAAAAEAAAACAAAAAAAAAAEAAAACAAAAAQAAAAIAAAACAAAAAQAAAAAAAAACAAAAAQAAAAAAAAACAAAAAQAAAAAAAAACAAAAAQAAAAAAAAACAAAAAQAAAAAAAAACAAAAAQAAAAAAAAACAAAAAQAAAAAAAAACAAAAAQAAAAAAAAACAAAAAQAAAAAAAAABAAAAAAAAAAAAAAACAAAAAQAAAAAAAAAAAAAAAgAAAAEAAAAAAAAAAAAAAAIAAAABAAAAAAAAAAAAAAACAAAAAQAAAAAAAAAAAAAAAgAAAAEAAAAAAAAAAAAAAAIAAAABAAAAAAAAAAAAAAACAAAAAQAAAAAAAAAAAAAAAgAAAAEAAAAAAAAAAAAAAAIAAAABAAAAAAAAAAAAAAACAAAAAQAAAAAAAAAAAAAAAAAAAAEAAAAAAAAAAAAAAAAAAAABAAAAAAAAAAIAAAACAAAAAAAAAAEAAAAAAAAAAgAAAAIAAAAAAAAAAQAAAAAAAAACAAAAAgAAAAAAAAABAAAAAAAAAAIAAAACAAAAAAAAAAEAAAAAAAAAAgAAAAIAAAAAAAAAAQAAAAAAAAACAAAAAgAAAAAAAAABAAAAAAAAAAIAAAAAAAAAAAAAAAEAAAAAAAAAAgAAAAAAAAAAAAAAAQAAAAAAAAACAAAAAAAAAAAAAAABAAAAAAAAAAIAAAAAAAAAAAAAAAEAAAAAAAAAAgAAAAAAAAAAAAAAAQAAAAAAAAACAAAAAAAAAAAAAAABAAAAAAAAAAIAAAAAAAAAAAAAAAEAAAAAAAAAAgAAAAAAAAAAAAAAAQAAAAAAAAAAAAAAAAAAAAAAAAABAAAAAAAAAAAAAAAAAAAAAAAAAAEAAAAAAAAAAAAAAAAAAAAAAAAAAQAAAAAAAAAAAAAAAAAAAAAAAAABAAAAAAAAAAEAAAAAAAAAAgAAAAEAAAABAAAAAgAAAAAAAAACAAAAAQAAAAEAAAACAAAAAAAAAAIAAAABAAAAAQAAAAIAAAAAAAAAAgAAAAEAAAABAAAAAgAAAAAAAAACAAAAAQAAAAEAAAACAAAAAAAAAAIAAAABAAAAAQAAAAIAAAAAAAAAAgAAAAEAAAABAAAAAgAAAAIAAAAAAAAAAgAAAAAAAAABAAAAAQAAAAAAAAAAAAAAAAAAAAEAAAABAAAAAQAAAAAAAAACAAAAAgAAAAEAAAABAAAAAgAAAAAAAAACAAAAAAAAAAEAAAABAAAAAAAAAAAAAAAAAAAAAQAAAAEAAAABAAAAAgAAAAAAAAACAAAAAQAAAAEAAAACAAAAAAAAAAIAAAAAAAAAAQAAAAEAAAAAAAAAAAAAAAAAAAABAAAAAQAAAAEAAAACAAAAAAAAAAIAAAABAAAAAQAAAAIAAAAAAAAAAgAAAAAAAAABAAAAAQAAAAAAAAAAAAAAAAAAAAEAAAABAAAAAQAAAAIAAAAAAAAAAgAAAAEAAAA=",
           "dtype": "i4"
          },
          "coloraxis": "coloraxis",
          "symbol": "circle"
         },
         "mode": "markers",
         "name": "Female",
         "orientation": "v",
         "showlegend": true,
         "type": "scatter",
         "x": {
          "_inputArray": {
           "0": 10.526366233825684,
           "1": 31.062612533569336,
           "10": -48.020565032958984,
           "100": -25.539447784423828,
           "101": -1.9788105487823486,
           "102": 26.599550247192383,
           "103": -25.60476303100586,
           "104": -3.610550880432129,
           "105": 26.88916778564453,
           "106": -25.62074089050293,
           "107": -5.153573513031006,
           "108": 27.048206329345703,
           "109": -25.619625091552734,
           "11": 22.738935470581055,
           "110": 36.86172103881836,
           "111": -25.93219757080078,
           "112": -43.74739074707031,
           "113": -6.862713813781738,
           "114": 38.29021453857422,
           "115": -23.75863265991211,
           "116": -43.135414123535156,
           "117": -7.777709484100342,
           "118": 37.447303771972656,
           "119": -25.11168098449707,
           "12": 31.64710235595703,
           "120": -43.76677703857422,
           "121": -7.085146427154541,
           "122": 36.92427062988281,
           "123": -23.18538475036621,
           "124": -43.08713912963867,
           "125": -8.253205299377441,
           "126": 36.62510299682617,
           "127": -27.256027221679688,
           "128": -42.475826263427734,
           "129": -7.431039333343506,
           "13": 7.456867694854736,
           "130": 35.69898986816406,
           "131": -27.84081268310547,
           "132": -41.997833251953125,
           "133": -8.86252212524414,
           "134": 35.5041389465332,
           "135": -26.141645431518555,
           "136": -41.49674987792969,
           "137": -9.449649810791016,
           "138": 35.25363540649414,
           "139": -27.034360885620117,
           "14": 24.043798446655273,
           "140": -41.014461517333984,
           "141": -10.123056411743164,
           "142": 35.173954010009766,
           "143": -28.134063720703125,
           "144": -40.55543899536133,
           "145": -10.797451972961426,
           "146": 35.17390060424805,
           "147": -28.23348045349121,
           "148": -40.146793365478516,
           "149": -11.529480934143066,
           "15": 10.004863739013672,
           "150": 35.14200973510742,
           "151": -28.681943893432617,
           "152": -39.76060485839844,
           "153": -12.274209022521973,
           "154": 35.08403778076172,
           "155": -29.057260513305664,
           "156": -39.39086151123047,
           "157": -13.046037673950195,
           "158": 35.00077819824219,
           "159": -29.335792541503906,
           "16": -46.871131896972656,
           "160": 8.5427827835083,
           "161": -8.635022163391113,
           "162": -45.50444793701172,
           "163": 35.93860626220703,
           "164": -25.93219757080078,
           "165": 8.003283500671387,
           "166": -9.393234252929688,
           "167": -44.392303466796875,
           "168": 35.87263488769531,
           "169": -26.878129959106445,
           "17": 21.85662078857422,
           "170": 6.1295013427734375,
           "171": -10.072778701782227,
           "172": -43.55659484863281,
           "173": 35.75800704956055,
           "174": -27.620628356933594,
           "175": 4.854172229766846,
           "176": -10.740591049194336,
           "177": -42.6433219909668,
           "178": 35.61968231201172,
           "179": -28.03446388244629,
           "18": 31.706378936767578,
           "180": 3.670177936553955,
           "181": -11.435362815856934,
           "182": -41.726444244384766,
           "183": 35.48746109008789,
           "184": -28.410884857177734,
           "185": 2.497593641281128,
           "186": -12.177201271057129,
           "187": -40.829750061035156,
           "188": 35.27408981323242,
           "189": -28.815933227539062,
           "19": 8.263162612915039,
           "190": 1.309624433517456,
           "191": -12.917335510253906,
           "192": -39.97639083862305,
           "193": 35.15974426269531,
           "194": -28.792734146118164,
           "195": 0.2581069767475128,
           "196": -13.66637897491455,
           "197": -39.22599792480469,
           "198": 35.221275329589844,
           "199": -29.222698211669922,
           "2": 34.50418472290039,
           "20": 23.316265106201172,
           "200": -0.928350031375885,
           "201": -14.377044677734375,
           "202": -38.59234619140625,
           "203": 35.24008560180664,
           "204": -29.61966323852539,
           "205": -1.978509783744812,
           "206": -15.142327308654785,
           "207": -37.81208419799805,
           "208": 35.03438186645508,
           "209": -29.688283920288086,
           "21": 9.253098487854004,
           "210": -3.0184707641601562,
           "211": -15.871932983398438,
           "212": -37.043251037597656,
           "213": 34.97943115234375,
           "214": -29.98784637451172,
           "215": -4.124361991882324,
           "216": -16.46028709411621,
           "217": -36.73611068725586,
           "218": 35.58616638183594,
           "219": -30.467226028442383,
           "22": -46.41435241699219,
           "220": -4.977644920349121,
           "221": -16.996810913085938,
           "222": -35.97638702392578,
           "223": 35.19081115722656,
           "224": -30.853612899780273,
           "225": -5.921830177307129,
           "226": -17.457551956176758,
           "227": -35.860260009765625,
           "228": 35.35026931762695,
           "229": -31.313257217407227,
           "23": 20.8774471282959,
           "230": -6.694149017333984,
           "231": -17.848487854003906,
           "232": -35.12690734863281,
           "233": 35.98003005981445,
           "234": -31.738296508789062,
           "235": -7.398974418640137,
           "236": -18.18080711364746,
           "237": -35.158042907714844,
           "238": 35.63133239746094,
           "239": -32.08073043823242,
           "24": 32.27613830566406,
           "240": -7.941554546356201,
           "241": -18.457277297973633,
           "242": -34.497310638427734,
           "243": 36.137821197509766,
           "244": -32.3609733581543,
           "245": -8.458087921142578,
           "246": -18.674028396606445,
           "247": -34.482383728027344,
           "248": 36.062286376953125,
           "249": -32.60337448120117,
           "25": 9.18289566040039,
           "250": 22.512432098388672,
           "251": -43.1314811706543,
           "252": 6.207277774810791,
           "253": 40.01655578613281,
           "254": 37.06822204589844,
           "255": 21.725465774536133,
           "256": -42.227874755859375,
           "257": 7.833560943603516,
           "258": 39.70403289794922,
           "259": 36.47616958618164,
           "26": 22.4227237701416,
           "260": 20.844030380249023,
           "261": -41.317081451416016,
           "262": 9.590851783752441,
           "263": 39.121219635009766,
           "264": 35.967552185058594,
           "265": 19.370718002319336,
           "266": -40.40092468261719,
           "267": 11.4812650680542,
           "268": 38.49560546875,
           "269": 35.47947692871094,
           "27": 10.860817909240723,
           "270": 17.479082107543945,
           "271": -39.537498474121094,
           "272": 13.606632232666016,
           "273": 37.98343276977539,
           "274": 35.02821731567383,
           "275": 15.277039527893066,
           "276": -38.79405975341797,
           "277": 16.62472152709961,
           "278": 37.25718688964844,
           "279": 34.702369689941406,
           "28": -46.156150817871094,
           "280": 13.471470832824707,
           "281": -38.08018493652344,
           "282": 18.74258804321289,
           "283": 36.5960807800293,
           "284": 34.46146011352539,
           "285": 16.187849044799805,
           "286": 10.815399169921875,
           "287": -28.476314544677734,
           "288": 18.55280303955078,
           "289": -23.758712768554688,
           "29": 20.115453720092773,
           "290": 39.09238815307617,
           "291": 37.022586822509766,
           "292": -47.9460563659668,
           "293": -28.681894302368164,
           "294": -27.034360885620117,
           "295": 37.71601104736328,
           "296": 37.98343276977539,
           "297": 37.744911193847656,
           "298": -22.091659545898438,
           "299": -21.551252365112305,
           "3": 20.624223709106445,
           "30": 21.42569923400879,
           "300": 12.256446838378906,
           "301": 38.63778305053711,
           "302": 38.367252349853516,
           "303": 19.370718002319336,
           "304": -27.505596160888672,
           "305": 10.049922943115234,
           "306": -22.921579360961914,
           "307": 38.102176666259766,
           "308": 37.447303771972656,
           "309": -47.85147476196289,
           "31": 31.64699935913086,
           "310": -27.658443450927734,
           "311": -25.4596004486084,
           "312": 37.71601104736328,
           "313": 37.6958122253418,
           "314": 38.02817916870117,
           "315": 14.56390380859375,
           "316": -23.141460418701172,
           "317": 16.135498046875,
           "318": 37.437049865722656,
           "319": 38.028289794921875,
           "32": 9.372489929199219,
           "320": 20.00016975402832,
           "321": -25.528095245361328,
           "322": 9.601143836975098,
           "323": -23.65671157836914,
           "324": 37.384761810302734,
           "325": 37.447303771972656,
           "326": -47.87430953979492,
           "327": -27.505596160888672,
           "328": -25.4596004486084,
           "329": 38.442108154296875,
           "33": 22.739425659179688,
           "330": 36.74059295654297,
           "331": 37.309322357177734,
           "332": 14.56390380859375,
           "333": -23.90241813659668,
           "334": 16.08307647705078,
           "335": 37.439632415771484,
           "336": 37.30945587158203,
           "337": 19.98031997680664,
           "338": -25.528095245361328,
           "339": 9.564969062805176,
           "34": 7.669958114624023,
           "340": -24.16781234741211,
           "341": 37.95960998535156,
           "342": 37.596153259277344,
           "343": -47.851478576660156,
           "344": -27.867515563964844,
           "345": -25.4596004486084,
           "346": 37.71601104736328,
           "347": 37.38856506347656,
           "348": 37.55482864379883,
           "349": 16.95832633972168,
           "35": -43.11784362792969,
           "350": -24.179357528686523,
           "351": 14.56390380859375,
           "352": 37.31477355957031,
           "36": 23.651174545288086,
           "37": 8.538933753967285,
           "38": -44.209266662597656,
           "39": 31.11454200744629,
           "4": -46.11620330810547,
           "40": 10.004863739013672,
           "41": -47.14090347290039,
           "42": 8.263162612915039,
           "43": -47.80913162231445,
           "44": 30.822402954101562,
           "45": 8.980240821838379,
           "46": 21.611446380615234,
           "47": 10.31988525390625,
           "48": -46.61006546020508,
           "49": 20.73465919494629,
           "5": 20.15337371826172,
           "50": -47.615570068359375,
           "51": 22.186792373657227,
           "52": 10.004863739013672,
           "53": 21.327953338623047,
           "54": 9.672135353088379,
           "55": 22.592395782470703,
           "56": 19.69533920288086,
           "57": -23.18538475036621,
           "58": 21.766477584838867,
           "59": 11.725231170654297,
           "6": 34.8857536315918,
           "60": -24.89010238647461,
           "61": 22.83251953125,
           "62": 10.749972343444824,
           "63": -26.9023380279541,
           "64": 13.65687084197998,
           "65": 9.675543785095215,
           "66": -27.788686752319336,
           "67": 13.79407787322998,
           "68": 8.557584762573242,
           "69": -28.3784236907959,
           "7": 6.551006317138672,
           "70": 14.32686710357666,
           "71": 7.5236430168151855,
           "72": -28.8316593170166,
           "73": 15.109625816345215,
           "74": 6.649528503417969,
           "75": -29.688283920288086,
           "76": 15.81430721282959,
           "77": 5.98014497756958,
           "78": -30.270130157470703,
           "79": 16.337074279785156,
           "8": 18.954755783081055,
           "80": 10.716130256652832,
           "81": 19.904571533203125,
           "82": -21.721256256103516,
           "83": 7.9080657958984375,
           "84": 20.641490936279297,
           "85": -21.57335662841797,
           "86": 6.411595821380615,
           "87": 21.985074996948242,
           "88": -22.03447723388672,
           "89": 4.909801959991455,
           "9": 8.251164436340332,
           "90": 23.3117618560791,
           "91": -23.5117244720459,
           "92": 3.390026807785034,
           "93": 24.34526824951172,
           "94": -25.121395111083984,
           "95": 1.610307216644287,
           "96": 25.285621643066406,
           "97": -25.353652954101562,
           "98": -0.27045685052871704,
           "99": 26.084491729736328,
           "bdata": "/2soQTuA+EFJBApCaf6kQf52OMIcOqFBA4sLQtih0UBXo5dBxQQEQQ8VQMJX6bVBRC39Qame7kCzWcBB7BMgQQp8O8Jc2q5Bqqb9Qeo1BEG2h7pBsQwUQUyoOcIDBadBxBoBQiTtEkG9YbNB6cUtQeafOMJz7KBB1WerQQ4t/UG49RVBWOq1QUxw9UCseCzCmzW9QXmfCEFK1jDCler4QewTIEFJkDzC6jUEQY08P8JIlPZBEa8PQT7krEFAHiVBtXA6wpXgpUFYdj7CjX6xQewTIEGmn6pBEcEaQTq9tEEOkJ1Bq3u5wb8hrkGMmjtB7h7HwQCptkHj/ytB/TfXwYuCWkEHzxpBO0/ewYu0XEHe6whBAwfjwdk6ZUGvwfBAPafmwQfBcUHwyNRAm4HtwWcHfUFZXb9AOinywVSygkFFdStBkDyfQSLFrcHgDv1AxiGlQTyWrMHLK81Ab+GvQZxGsMEZHZ1AfX66QQMYvMEz9lhAHMPCQZ74yMGMHs4/9EjKQUjUysFSeYq+Cq3QQcpQzMGqSf2/4cvUQY7WzMFEE2fABB3XQUf3zMET6qTAumLYQf70zMFnchNCJHXPwVT9LsJam9vALikZQq4RvsGqiizC/+L4wArKFUK55MjBLhEvwoW54sB0shNCq3u5wTtZLMIhDQTBG4ASQlgM2sE/5ynCE8vtwMTLDkL8ud7ByP0nwuTMDcE9BA5CFyLRwaz8JcLEMRfBuQMNQl9G2MHPDiTCCvghwSGyDEKQEuHBxTgiwl3CLMETsgxCK97hwVGWIMLBeDjBa5EMQp905cHcCh/CKWNEwQ5WDEJFdejBPpAdwpK8UMHMAAxCtK/qwT2vCEENKQrBjgQ2wiLBD0Ikdc/Bcw0AQbBKFsG4kTHClH0PQmkG18HgJMRAGiohwfQ5LsIzCA9CDPfcwWFVm0B22SvBw5Iqwo56DkKVRuDBMuRqQD/3NsHh5ybCKfMNQn5J48GT2B9A0dVCwapRI8KrGA1CCIfmwcahpz9orU7B0+cfwpSjDEKFV+bBmSaEPn2pWsFs5xzCluIMQhbI6cFZqG2/YAhmwZBeGsLZ9QxCEvXswc8//b/5RnLBkz8XwjUjDEKbge3BoC5BwHDzfcFKLBTC8OoLQhzn78HG+oPAq66DwcfxEsI8WA5C4bzzwd5In8B4+YfB0ucPwmTDDEIz1PbBon+9wBGpi8HocA/CrWYNQo2B+sF4NtbAtMmOwfSBDMKN6w9CCOj9wWbE7MBLcpHB1qEMwnyGDkKrUgDCNyH+wIGok8E//QnCIY0QQqNxAcJUVAfBaWSVwfbtCcLIPxBC22kCwnYZtEGjhizCBaLGQPQQIELcRRRCwc2tQVjpKMKIrPpA7tAeQpnnEUKTwKZBsUQlwiF0GUEhfBxCxt4PQjv3mkGMmiHCQ7M3QYD7GUL86g1CKdWLQWYmHsLEtFlBCe8XQuUcDELBbnRBHi0bwm7/hEFcBxVCOs8KQiWLV0EcUhjC0vCVQWNiEkKJ2AlCt4CBQeALLUF+z+PBJGyUQdgRvsGbXhxCIRcUQsPIP8KFdOXBX0bYwTLdFkIJ7xdCyvoWQri7sMH3aKzBaBpEQReNGkIReBlCO/eaQXYL3MF8zCBBZV+3waFoGEIKyhVC6Wc/wn5E3cFDrcvBMt0WQoPIFkLbHBhCwAVpQbYhucGAFYFBir8VQvgcGEJZAKBBijnMwUmeGUHyQL3B/4kVQgrKFUJLfz/CdgvcwUOty8G4xBlCXvYSQr88FULABWlBJzi/wSSqgEEvwhVC4jwVQrLXn0GKOczBHQoZQa5XwcGk1hdCdmIWQupnP8Ks8N7BQ63LwTLdFkLkjRVCJTgWQqeqh0FTb8HBwAVpQVRCFUI=",
           "dtype": "f4",
           "shape": "353"
          },
          "bdata": "/2soQTuA+EFJBApCaf6kQf52OMIcOqFBA4sLQtih0UBXo5dBxQQEQQ8VQMJX6bVBRC39Qame7kCzWcBB7BMgQQp8O8Jc2q5Bqqb9Qeo1BEG2h7pBsQwUQUyoOcIDBadBxBoBQiTtEkG9YbNB6cUtQeafOMJz7KBB1WerQQ4t/UG49RVBWOq1QUxw9UCseCzCmzW9QXmfCEFK1jDCler4QewTIEFJkDzC6jUEQY08P8JIlPZBEa8PQT7krEFAHiVBtXA6wpXgpUFYdj7CjX6xQewTIEGmn6pBEcEaQTq9tEEOkJ1Bq3u5wb8hrkGMmjtB7h7HwQCptkHj/ytB/TfXwYuCWkEHzxpBO0/ewYu0XEHe6whBAwfjwdk6ZUGvwfBAPafmwQfBcUHwyNRAm4HtwWcHfUFZXb9AOinywVSygkFFdStBkDyfQSLFrcHgDv1AxiGlQTyWrMHLK81Ab+GvQZxGsMEZHZ1AfX66QQMYvMEz9lhAHMPCQZ74yMGMHs4/9EjKQUjUysFSeYq+Cq3QQcpQzMGqSf2/4cvUQY7WzMFEE2fABB3XQUf3zMET6qTAumLYQf70zMFnchNCJHXPwVT9LsJam9vALikZQq4RvsGqiizC/+L4wArKFUK55MjBLhEvwoW54sB0shNCq3u5wTtZLMIhDQTBG4ASQlgM2sE/5ynCE8vtwMTLDkL8ud7ByP0nwuTMDcE9BA5CFyLRwaz8JcLEMRfBuQMNQl9G2MHPDiTCCvghwSGyDEKQEuHBxTgiwl3CLMETsgxCK97hwVGWIMLBeDjBa5EMQp905cHcCh/CKWNEwQ5WDEJFdejBPpAdwpK8UMHMAAxCtK/qwT2vCEENKQrBjgQ2wiLBD0Ikdc/Bcw0AQbBKFsG4kTHClH0PQmkG18HgJMRAGiohwfQ5LsIzCA9CDPfcwWFVm0B22SvBw5Iqwo56DkKVRuDBMuRqQD/3NsHh5ybCKfMNQn5J48GT2B9A0dVCwapRI8KrGA1CCIfmwcahpz9orU7B0+cfwpSjDEKFV+bBmSaEPn2pWsFs5xzCluIMQhbI6cFZqG2/YAhmwZBeGsLZ9QxCEvXswc8//b/5RnLBkz8XwjUjDEKbge3BoC5BwHDzfcFKLBTC8OoLQhzn78HG+oPAq66DwcfxEsI8WA5C4bzzwd5In8B4+YfB0ucPwmTDDEIz1PbBon+9wBGpi8HocA/CrWYNQo2B+sF4NtbAtMmOwfSBDMKN6w9CCOj9wWbE7MBLcpHB1qEMwnyGDkKrUgDCNyH+wIGok8E//QnCIY0QQqNxAcJUVAfBaWSVwfbtCcLIPxBC22kCwnYZtEGjhizCBaLGQPQQIELcRRRCwc2tQVjpKMKIrPpA7tAeQpnnEUKTwKZBsUQlwiF0GUEhfBxCxt4PQjv3mkGMmiHCQ7M3QYD7GUL86g1CKdWLQWYmHsLEtFlBCe8XQuUcDELBbnRBHi0bwm7/hEFcBxVCOs8KQiWLV0EcUhjC0vCVQWNiEkKJ2AlCt4CBQeALLUF+z+PBJGyUQdgRvsGbXhxCIRcUQsPIP8KFdOXBX0bYwTLdFkIJ7xdCyvoWQri7sMH3aKzBaBpEQReNGkIReBlCO/eaQXYL3MF8zCBBZV+3waFoGEIKyhVC6Wc/wn5E3cFDrcvBMt0WQoPIFkLbHBhCwAVpQbYhucGAFYFBir8VQvgcGEJZAKBBijnMwUmeGUHyQL3B/4kVQgrKFUJLfz/CdgvcwUOty8G4xBlCXvYSQr88FULABWlBJzi/wSSqgEEvwhVC4jwVQrLXn0GKOczBHQoZQa5XwcGk1hdCdmIWQupnP8Ks8N7BQ63LwTLdFkLkjRVCJTgWQqeqh0FTb8HBwAVpQVRCFUI=",
          "dtype": "f4"
         },
         "xaxis": "x",
         "y": {
          "_inputArray": {
           "0": 1.1708239316940308,
           "1": -9.307121276855469,
           "10": -15.240191459655762,
           "100": -3.5046768188476562,
           "101": 13.025157928466797,
           "102": -10.782912254333496,
           "103": -2.343935251235962,
           "104": 13.405277252197266,
           "105": -10.713702201843262,
           "106": -1.6483571529388428,
           "107": 13.692221641540527,
           "108": -10.668987274169922,
           "109": -1.3263152837753296,
           "11": -10.714936256408691,
           "110": -10.001524925231934,
           "111": -12.397896766662598,
           "112": 8.545997619628906,
           "113": -1.6251158714294434,
           "114": -8.152929306030273,
           "115": -15.884883880615234,
           "116": 8.789116859436035,
           "117": -1.3842757940292358,
           "118": -9.074694633483887,
           "119": -16.280555725097656,
           "12": -9.568337440490723,
           "120": 8.54702377319336,
           "121": -1.5772613286972046,
           "122": -7.885794639587402,
           "123": -18.967405319213867,
           "124": 8.79698657989502,
           "125": -1.0268831253051758,
           "126": -8.923007011413574,
           "127": -12.754579544067383,
           "128": 8.983427047729492,
           "129": -1.4515358209609985,
           "13": -17.86298942565918,
           "130": -8.406679153442383,
           "131": -10.901800155639648,
           "132": 9.10052490234375,
           "133": -0.6845288276672363,
           "134": -9.171868324279785,
           "135": -15.340359687805176,
           "136": 9.20045280456543,
           "137": -0.2048383355140686,
           "138": -7.997254371643066,
           "139": -13.119054794311523,
           "14": -10.6360445022583,
           "140": 9.273215293884277,
           "141": 0.2892284691333771,
           "142": -7.288439750671387,
           "143": -11.326837539672852,
           "144": 9.32499885559082,
           "145": 0.8674769401550293,
           "146": -6.5252838134765625,
           "147": -9.337712287902832,
           "148": 9.354000091552734,
           "149": 1.4802597761154175,
           "15": -17.059236526489258,
           "150": -5.783685207366943,
           "151": -7.392821788787842,
           "152": 9.366762161254883,
           "153": 2.0633039474487305,
           "154": -5.105706691741943,
           "155": -5.882401466369629,
           "156": 9.364500045776367,
           "157": 2.603198289871216,
           "158": -4.464524745941162,
           "159": -4.416296482086182,
           "16": -14.776693344116211,
           "160": 13.19679069519043,
           "161": -1.3475604057312012,
           "162": 2.936347723007202,
           "163": -7.348572731018066,
           "164": -12.397896766662598,
           "165": 11.733963966369629,
           "166": -0.7497467398643494,
           "167": 3.742265224456787,
           "168": -6.561675071716309,
           "169": -10.132425308227539,
           "17": -10.290483474731445,
           "170": 12.841662406921387,
           "171": -0.20598936080932617,
           "172": 4.219522953033447,
           "173": -5.809523105621338,
           "174": -8.418124198913574,
           "175": 12.843287467956543,
           "176": 0.31177935004234314,
           "177": 4.565699577331543,
           "178": -5.111462593078613,
           "179": -6.682896137237549,
           "18": -9.146265983581543,
           "180": 12.854857444763184,
           "181": 0.9414821863174438,
           "182": 4.881471633911133,
           "183": -4.473809719085693,
           "184": -5.297912120819092,
           "185": 12.834027290344238,
           "186": 1.529958724975586,
           "187": 5.210246562957764,
           "188": -3.9248909950256348,
           "189": -3.856616497039795,
           "19": -17.96160888671875,
           "190": 12.87267017364502,
           "191": 2.1033551692962646,
           "192": 5.581837177276611,
           "193": -3.457305669784546,
           "194": -2.5275018215179443,
           "195": 12.90467357635498,
           "196": 2.7109692096710205,
           "197": 6.082484722137451,
           "198": -3.0011990070343018,
           "199": -1.3677220344543457,
           "2": -2.8569509983062744,
           "20": -10.2352294921875,
           "200": 12.947105407714844,
           "201": 3.2010927200317383,
           "202": 6.638949394226074,
           "203": -2.5907416343688965,
           "204": -0.36802324652671814,
           "205": 13.025333404541016,
           "206": 3.6161766052246094,
           "207": 6.8171539306640625,
           "208": -2.2009599208831787,
           "209": 0.5957067608833313,
           "21": -17.94792366027832,
           "210": 13.021369934082031,
           "211": 3.928239107131958,
           "212": 6.783231258392334,
           "213": -1.8364802598953247,
           "214": 1.4147493839263916,
           "215": 13.125998497009277,
           "216": 4.3083295822143555,
           "217": 7.522561550140381,
           "218": -1.7600555419921875,
           "219": 2.040822982788086,
           "22": -15.035112380981445,
           "220": 13.097537994384766,
           "221": 4.71152925491333,
           "222": 7.192722320556641,
           "223": -1.3024952411651611,
           "224": 2.676159143447876,
           "225": 13.169812202453613,
           "226": 5.036476135253906,
           "227": 8.03290843963623,
           "228": -1.0745224952697754,
           "229": 3.211590051651001,
           "23": -9.925087928771973,
           "230": 13.129055976867676,
           "231": 5.287269115447998,
           "232": 7.514838218688965,
           "233": -1.234163522720337,
           "234": 3.684701442718506,
           "235": 13.1015043258667,
           "236": 5.476083278656006,
           "237": 8.445394515991211,
           "238": -0.7264164090156555,
           "239": 4.061128616333008,
           "24": -9.108710289001465,
           "240": 13.089607238769531,
           "241": 5.6106061935424805,
           "242": 7.97456693649292,
           "243": -0.8729569315910339,
           "244": 4.370838165283203,
           "245": 13.135122299194336,
           "246": 5.70059871673584,
           "247": 8.594369888305664,
           "248": -0.6266830563545227,
           "249": 4.658574104309082,
           "25": -17.38983726501465,
           "250": 10.64907169342041,
           "251": 3.6418912410736084,
           "252": 13.820870399475098,
           "253": 12.287315368652344,
           "254": 7.591836452484131,
           "255": 11.248257637023926,
           "256": 3.9589974880218506,
           "257": 13.869368553161621,
           "258": 11.177483558654785,
           "259": 6.784302234649658,
           "26": -9.924251556396484,
           "260": 12.102948188781738,
           "261": 4.2656989097595215,
           "262": 14.082164764404297,
           "263": 9.561212539672852,
           "264": 5.9698615074157715,
           "265": 13.193338394165039,
           "266": 4.616527557373047,
           "267": 13.13770866394043,
           "268": 8.384894371032715,
           "269": 5.238869667053223,
           "27": -16.57558822631836,
           "270": 14.092057228088379,
           "271": 5.02970552444458,
           "272": 12.06915283203125,
           "273": 7.3565826416015625,
           "274": 4.631412029266357,
           "275": 15.073805809020996,
           "276": 5.475914478302002,
           "277": 11.19074535369873,
           "278": 6.521889686584473,
           "279": 4.121981620788574,
           "28": -15.443086624145508,
           "280": 15.742966651916504,
           "281": 5.894693851470947,
           "282": 10.55064868927002,
           "283": 5.907927989959717,
           "284": 3.6642236709594727,
           "285": 16.289348602294922,
           "286": 2.4029150009155273,
           "287": -10.455700874328613,
           "288": 14.177885055541992,
           "289": -15.884439468383789,
           "29": -9.665069580078125,
           "290": 14.82387924194336,
           "291": 8.454778671264648,
           "292": 1.4161527156829834,
           "293": -7.392881393432617,
           "294": -13.119054794311523,
           "295": -7.955370903015137,
           "296": 7.3565826416015625,
           "297": 15.420693397521973,
           "298": -18.235586166381836,
           "299": -20.031511306762695,
           "3": -7.024869918823242,
           "30": -9.623697280883789,
           "300": 14.96127986907959,
           "301": 15.891692161560059,
           "302": 14.099969863891602,
           "303": 13.193338394165039,
           "304": -13.573630332946777,
           "305": 14.95520305633545,
           "306": -17.783031463623047,
           "307": 16.55497932434082,
           "308": -9.074694633483887,
           "309": 2.560715913772583,
           "31": -9.568477630615234,
           "310": -12.878554344177246,
           "311": -16.54914093017578,
           "312": -7.955370903015137,
           "313": 8.807510375976562,
           "314": 12.329530715942383,
           "315": 13.74514389038086,
           "316": -20.058866500854492,
           "317": 13.98947525024414,
           "318": 16.483739852905273,
           "319": 12.329842567443848,
           "32": -16.266803741455078,
           "320": 12.221546173095703,
           "321": -17.921571731567383,
           "322": 13.401487350463867,
           "323": -20.263795852661133,
           "324": 15.373924255371094,
           "325": -9.074694633483887,
           "326": 1.9417210817337036,
           "327": -13.573630332946777,
           "328": -16.54914093017578,
           "329": -7.634294033050537,
           "33": -10.71786880493164,
           "330": 8.446968078613281,
           "331": 12.293938636779785,
           "332": 13.74514389038086,
           "333": -19.98625946044922,
           "334": 13.81959056854248,
           "335": 16.485116958618164,
           "336": 12.293919563293457,
           "337": 11.897290229797363,
           "338": -17.921571731567383,
           "339": 13.714587211608887,
           "34": -17.332101821899414,
           "340": -18.327838897705078,
           "341": 16.647449493408203,
           "342": -9.822172164916992,
           "343": 2.560716152191162,
           "344": -13.160762786865234,
           "345": -16.54914093017578,
           "346": -7.955370903015137,
           "347": 9.625761985778809,
           "348": 13.47634506225586,
           "349": 12.57499885559082,
           "35": -17.206045150756836,
           "350": -18.325897216796875,
           "351": 13.74514389038086,
           "352": 14.928356170654297,
           "36": -11.141422271728516,
           "37": -17.392770767211914,
           "38": -16.808622360229492,
           "39": -9.815741539001465,
           "4": -16.635356903076172,
           "40": -17.059236526489258,
           "41": -15.416457176208496,
           "42": -17.96160888671875,
           "43": -15.503950119018555,
           "44": -9.835609436035156,
           "45": -16.886993408203125,
           "46": -11.380420684814453,
           "47": -16.181411743164062,
           "48": -15.612781524658203,
           "49": -10.838400840759277,
           "5": -8.85537052154541,
           "50": -14.79875373840332,
           "51": -11.004666328430176,
           "52": -17.059236526489258,
           "53": -10.558609962463379,
           "54": -15.730342864990234,
           "55": 7.980850696563721,
           "56": -7.754150867462158,
           "57": -18.967405319213867,
           "58": 8.500216484069824,
           "59": 0.033997584134340286,
           "6": -8.372572898864746,
           "60": -14.87327766418457,
           "61": 7.624170780181885,
           "62": 0.8077110052108765,
           "63": -10.118582725524902,
           "64": -13.264209747314453,
           "65": 1.426979899406433,
           "66": -6.783168315887451,
           "67": -14.148640632629395,
           "68": 2.1091158390045166,
           "69": -3.835437536239624,
           "7": -17.73676109313965,
           "70": -14.885403633117676,
           "71": 2.7435359954833984,
           "72": -1.2606275081634521,
           "73": -15.319355964660645,
           "74": 3.2061431407928467,
           "75": 0.5957067608833313,
           "76": -15.497925758361816,
           "77": 3.4935176372528076,
           "78": 2.1636884212493896,
           "79": -15.543068885803223,
           "8": -10.692794799804688,
           "80": 8.986268997192383,
           "81": -8.280632019042969,
           "82": -20.541255950927734,
           "83": 9.607769966125488,
           "84": -8.482388496398926,
           "85": -18.660303115844727,
           "86": 10.27539348602295,
           "87": -9.345937728881836,
           "88": -16.491823196411133,
           "89": 10.94782543182373,
           "9": -16.06142234802246,
           "90": -10.223455429077148,
           "91": -11.867300987243652,
           "92": 11.574267387390137,
           "93": -11.155828475952148,
           "94": -7.2523298263549805,
           "95": 12.125055313110352,
           "96": -10.989295959472656,
           "97": -5.747042179107666,
           "98": 12.599119186401367,
           "99": -10.883323669433594,
           "bdata": "j92VP/jpFMFJ2DbAvMvgwDYVhcGZrw3BD/YFwePkjcGwFSvBy32AwdPXc8FhcCvB6RcZwWfnjsE9LSrBUXmIwVZtbMHSpSTBG1cSwWCxj8GAwyPBWZWPwdKPcMEpzR7BR70RwWMei8G8yR7BzpqEweIWd8EgpBrBqvoZwXwYGcFqIoLBZHwrwSWoisH7pYnBREMywWUki8EPeIbBRw0dwVF5iMHPqXbBYLGPwS4QeMGoXh3BkBiHwTQWNsGIc4HB9M15wRdqLcGyx2zBHRMwwVF5iMER8CjBfK97wSFj/0ABIvjAP72XweMACEENQQs98vhtwTX580Amxk4/t+UhwTQ6VMFHp7Y/tw/ZwNVgYsHB+wZAz3d1wJ0qbsEYli9APlyhvxUcdcFzMU1APYAYP4H3d8HLlV9A33kKQGmweMHCxw9BeH0EwX5UpMFtuRlB3bcHwU1IlcEDaCRB9ogVwUHvg8FLKi9BRpMjwXfgPcEzMDlBRn4ywRYT6MA6AEJBKNQvwcXnt8D+lUlBGCIuwaBMYMAMZ1BBz4YswQkDFsAEfFZBU2srwV790r9XE1tBLLQqwbPEqb8/BiDByV1GwWi8CEHMA9C/ZnICwXwofsE5oAxB8y+xv/MxEcGUPoLBnMAIQbPjyb9uWPzAP72XwXXADEHocIO/o8QOwcISTMEevA9B7cu5v8KBBsHGbS7BwJsRQUg9L7/5vxLBHXJ1wQ41E0EkwVG+gun/wKbnUcEXXxRBwRWUPuY66cC6OjXBMjMVQfgSXj8gz9DARWcVwfypFUEneb0/8xO5wP+R7MBC3hVBLA0EQPNho8CiPLzA/tQVQc2aJkBj3Y7ATVKNwA4mU0HcfKy/H+07QIIn68DJXUbBUb47QWfvP79GgW9APvnRwGoeIsFzd01B4O5SvlUGh0Cd57nAo7AGwRt+TUGLoZ8+NhqSQBqRo8BJ2tXAf61NQfoEcT8ENZxAcymPwH+IqcAtWE1BsNXDP1e6pkBqMXvAztJ2wHX2TUFfnQZAaZ6yQH9EXcCXwiHAi3lOQYWALUC3o8JApRNAwIQRr79YJ09BtN5MQEZy1EC2ziXAi228vsRnUEFwb2dAICbaQIfcDMA9gBg/iFdQQUVoe0A7ENlAyRHrv4IWtT8XBFJB1t2JQNO48ECASeG/2JwCQISPUUHZxJZAyCrmQCq4pr8xRitAjbdSQdAqoUDLhgBB9ImJv7GKTUCdEFJBTzGpQI558EAS+Z2/JtJrQMOfUUETPK9AViAHQW32Ob/E9IFACG9RQRaKs0CnL/9AG3pfv+jdi0B2KVJBTmu2QIqCCUFNbiC/ChOVQJliKkG/FGlASSJdQdiYREFT8PJA3fgzQTdgfUDv6F1B+dYyQQEZ2UCtpUFBm4CIQIxQYUG6+hhBGwm/QOoXU0GYupNADjRSQYcoBkHSpKdAEXlhQVnzoEBAG0FBIGnrQIc0lEBPLnFBsTqvQEsNM0FSs9BARueDQDHje0FVobxAdc8oQb8NvUCkgmpAllCCQVzJGUCNSifBnthiQaomfsGcLm1BxkYHQX5EtT98kuzApudRwWaS/sAgaetAKbt2QXvikcGJQKDBZ2FvQV9EfkF6mWFB6hdTQZctWcGDSG9BpkOOwZlwhEHzMRHBxeIjQI8OTsGkZITBZpL+wJDrDEHCRUVBHOxbQY94oMHk1F9Bs96DQQlHRUF0i0NBYV+PwX5sVkFBHKLBmPt1QfMxEcFRivg/ly1ZwaRkhMEjTPTAyCYHQfmzREEc7FtB3OOfwQsdXUGF4YNB5bNEQU1bPkFhX4/B825bQWqfksH6LYVBnicdwcbiI0B8klLBpGSEwWaS/sAfAxpBHJ9XQTIzSUFwm5LBHOxbQYzabkE=",
           "dtype": "f4",
           "shape": "353"
          },
          "bdata": "j92VP/jpFMFJ2DbAvMvgwDYVhcGZrw3BD/YFwePkjcGwFSvBy32AwdPXc8FhcCvB6RcZwWfnjsE9LSrBUXmIwVZtbMHSpSTBG1cSwWCxj8GAwyPBWZWPwdKPcMEpzR7BR70RwWMei8G8yR7BzpqEweIWd8EgpBrBqvoZwXwYGcFqIoLBZHwrwSWoisH7pYnBREMywWUki8EPeIbBRw0dwVF5iMHPqXbBYLGPwS4QeMGoXh3BkBiHwTQWNsGIc4HB9M15wRdqLcGyx2zBHRMwwVF5iMER8CjBfK97wSFj/0ABIvjAP72XweMACEENQQs98vhtwTX580Amxk4/t+UhwTQ6VMFHp7Y/tw/ZwNVgYsHB+wZAz3d1wJ0qbsEYli9APlyhvxUcdcFzMU1APYAYP4H3d8HLlV9A33kKQGmweMHCxw9BeH0EwX5UpMFtuRlB3bcHwU1IlcEDaCRB9ogVwUHvg8FLKi9BRpMjwXfgPcEzMDlBRn4ywRYT6MA6AEJBKNQvwcXnt8D+lUlBGCIuwaBMYMAMZ1BBz4YswQkDFsAEfFZBU2srwV790r9XE1tBLLQqwbPEqb8/BiDByV1GwWi8CEHMA9C/ZnICwXwofsE5oAxB8y+xv/MxEcGUPoLBnMAIQbPjyb9uWPzAP72XwXXADEHocIO/o8QOwcISTMEevA9B7cu5v8KBBsHGbS7BwJsRQUg9L7/5vxLBHXJ1wQ41E0EkwVG+gun/wKbnUcEXXxRBwRWUPuY66cC6OjXBMjMVQfgSXj8gz9DARWcVwfypFUEneb0/8xO5wP+R7MBC3hVBLA0EQPNho8CiPLzA/tQVQc2aJkBj3Y7ATVKNwA4mU0HcfKy/H+07QIIn68DJXUbBUb47QWfvP79GgW9APvnRwGoeIsFzd01B4O5SvlUGh0Cd57nAo7AGwRt+TUGLoZ8+NhqSQBqRo8BJ2tXAf61NQfoEcT8ENZxAcymPwH+IqcAtWE1BsNXDP1e6pkBqMXvAztJ2wHX2TUFfnQZAaZ6yQH9EXcCXwiHAi3lOQYWALUC3o8JApRNAwIQRr79YJ09BtN5MQEZy1EC2ziXAi228vsRnUEFwb2dAICbaQIfcDMA9gBg/iFdQQUVoe0A7ENlAyRHrv4IWtT8XBFJB1t2JQNO48ECASeG/2JwCQISPUUHZxJZAyCrmQCq4pr8xRitAjbdSQdAqoUDLhgBB9ImJv7GKTUCdEFJBTzGpQI558EAS+Z2/JtJrQMOfUUETPK9AViAHQW32Ob/E9IFACG9RQRaKs0CnL/9AG3pfv+jdi0B2KVJBTmu2QIqCCUFNbiC/ChOVQJliKkG/FGlASSJdQdiYREFT8PJA3fgzQTdgfUDv6F1B+dYyQQEZ2UCtpUFBm4CIQIxQYUG6+hhBGwm/QOoXU0GYupNADjRSQYcoBkHSpKdAEXlhQVnzoEBAG0FBIGnrQIc0lEBPLnFBsTqvQEsNM0FSs9BARueDQDHje0FVobxAdc8oQb8NvUCkgmpAllCCQVzJGUCNSifBnthiQaomfsGcLm1BxkYHQX5EtT98kuzApudRwWaS/sAgaetAKbt2QXvikcGJQKDBZ2FvQV9EfkF6mWFB6hdTQZctWcGDSG9BpkOOwZlwhEHzMRHBxeIjQI8OTsGkZITBZpL+wJDrDEHCRUVBHOxbQY94oMHk1F9Bs96DQQlHRUF0i0NBYV+PwX5sVkFBHKLBmPt1QfMxEcFRivg/ly1ZwaRkhMEjTPTAyCYHQfmzREEc7FtB3OOfwQsdXUGF4YNB5bNEQU1bPkFhX4/B825bQWqfksH6LYVBnicdwcbiI0B8klLBpGSEwWaS/sAfAxpBHJ9XQTIzSUFwm5LBHOxbQYzabkE=",
          "dtype": "f4"
         },
         "yaxis": "y"
        },
        {
         "hovertemplate": "Gender=Male<br>TSNE-1=%{x}<br>TSNE-2=%{y}<br>Cluster=%{marker.color}<extra></extra>",
         "legendgroup": "Male",
         "marker": {
          "color": {
           "_inputArray": {
            "0": 0,
            "1": 0,
            "10": 1,
            "100": 1,
            "101": 0,
            "102": 2,
            "103": 1,
            "104": 0,
            "105": 2,
            "106": 1,
            "107": 0,
            "108": 0,
            "109": 1,
            "11": 2,
            "110": 2,
            "111": 0,
            "112": 2,
            "113": 0,
            "114": 2,
            "115": 0,
            "116": 2,
            "117": 0,
            "118": 2,
            "119": 0,
            "12": 0,
            "120": 2,
            "121": 0,
            "122": 2,
            "123": 0,
            "124": 2,
            "125": 0,
            "126": 2,
            "127": 0,
            "128": 2,
            "129": 0,
            "13": 0,
            "130": 2,
            "131": 0,
            "132": 2,
            "133": 0,
            "134": 2,
            "135": 0,
            "136": 2,
            "137": 0,
            "138": 2,
            "139": 0,
            "14": 0,
            "140": 2,
            "141": 0,
            "142": 2,
            "143": 0,
            "144": 2,
            "145": 0,
            "146": 2,
            "147": 0,
            "148": 2,
            "149": 0,
            "15": 0,
            "150": 2,
            "151": 0,
            "152": 2,
            "153": 0,
            "154": 2,
            "155": 0,
            "156": 2,
            "157": 0,
            "158": 2,
            "159": 0,
            "16": 1,
            "160": 0,
            "161": 1,
            "162": 2,
            "163": 2,
            "164": 2,
            "165": 0,
            "166": 1,
            "167": 2,
            "168": 2,
            "169": 2,
            "17": 2,
            "170": 0,
            "171": 1,
            "172": 2,
            "173": 2,
            "174": 2,
            "175": 0,
            "176": 1,
            "177": 2,
            "178": 2,
            "179": 2,
            "18": 0,
            "180": 0,
            "181": 1,
            "182": 2,
            "183": 1,
            "184": 2,
            "185": 0,
            "186": 1,
            "187": 2,
            "188": 1,
            "189": 2,
            "19": 2,
            "190": 0,
            "191": 1,
            "192": 2,
            "193": 1,
            "194": 2,
            "195": 0,
            "196": 1,
            "197": 2,
            "198": 1,
            "199": 2,
            "2": 2,
            "20": 0,
            "200": 0,
            "201": 1,
            "202": 2,
            "203": 1,
            "204": 2,
            "205": 0,
            "206": 1,
            "207": 2,
            "208": 1,
            "209": 2,
            "21": 0,
            "210": 0,
            "211": 1,
            "212": 2,
            "213": 1,
            "214": 2,
            "215": 0,
            "216": 1,
            "217": 2,
            "218": 1,
            "219": 2,
            "22": 1,
            "220": 0,
            "221": 1,
            "222": 2,
            "223": 1,
            "224": 2,
            "225": 0,
            "226": 1,
            "227": 2,
            "228": 1,
            "229": 2,
            "23": 2,
            "230": 0,
            "231": 1,
            "232": 2,
            "233": 1,
            "234": 0,
            "235": 0,
            "236": 1,
            "237": 2,
            "238": 1,
            "239": 0,
            "24": 0,
            "240": 0,
            "241": 1,
            "242": 0,
            "243": 1,
            "244": 0,
            "245": 0,
            "246": 1,
            "247": 0,
            "248": 1,
            "249": 0,
            "25": 2,
            "250": 0,
            "251": 2,
            "252": 2,
            "253": 0,
            "254": 2,
            "255": 0,
            "256": 2,
            "257": 2,
            "258": 0,
            "259": 2,
            "26": 0,
            "260": 0,
            "261": 0,
            "262": 2,
            "263": 0,
            "264": 2,
            "265": 0,
            "266": 0,
            "267": 2,
            "268": 0,
            "269": 0,
            "27": 0,
            "270": 0,
            "271": 0,
            "272": 2,
            "273": 0,
            "274": 0,
            "275": 0,
            "276": 0,
            "277": 2,
            "278": 0,
            "279": 0,
            "28": 1,
            "280": 0,
            "281": 0,
            "282": 1,
            "283": 0,
            "284": 0,
            "285": 0,
            "286": 1,
            "287": 1,
            "288": 1,
            "289": 2,
            "29": 2,
            "290": 0,
            "291": 2,
            "292": 1,
            "293": 1,
            "294": 2,
            "295": 0,
            "296": 2,
            "297": 2,
            "298": 1,
            "299": 1,
            "3": 0,
            "30": 0,
            "300": 0,
            "301": 0,
            "302": 0,
            "303": 1,
            "304": 1,
            "305": 1,
            "306": 2,
            "307": 0,
            "308": 2,
            "309": 1,
            "31": 2,
            "310": 1,
            "311": 2,
            "312": 0,
            "313": 2,
            "314": 0,
            "315": 1,
            "316": 1,
            "317": 0,
            "318": 0,
            "319": 0,
            "32": 0,
            "320": 1,
            "321": 1,
            "322": 1,
            "323": 2,
            "324": 0,
            "325": 2,
            "326": 1,
            "327": 1,
            "328": 2,
            "329": 0,
            "33": 2,
            "330": 2,
            "331": 0,
            "332": 1,
            "333": 1,
            "334": 0,
            "335": 0,
            "336": 0,
            "337": 1,
            "338": 1,
            "339": 1,
            "34": 0,
            "340": 2,
            "341": 0,
            "342": 2,
            "343": 1,
            "344": 1,
            "345": 2,
            "346": 0,
            "347": 2,
            "348": 0,
            "349": 1,
            "35": 1,
            "350": 1,
            "351": 0,
            "36": 2,
            "37": 0,
            "38": 1,
            "39": 2,
            "4": 0,
            "40": 0,
            "41": 2,
            "42": 1,
            "43": 1,
            "44": 2,
            "45": 0,
            "46": 2,
            "47": 0,
            "48": 1,
            "49": 2,
            "5": 2,
            "50": 1,
            "51": 2,
            "52": 0,
            "53": 2,
            "54": 0,
            "55": 1,
            "56": 0,
            "57": 2,
            "58": 1,
            "59": 0,
            "6": 0,
            "60": 1,
            "61": 2,
            "62": 0,
            "63": 1,
            "64": 2,
            "65": 0,
            "66": 1,
            "67": 2,
            "68": 0,
            "69": 1,
            "7": 0,
            "70": 2,
            "71": 0,
            "72": 1,
            "73": 2,
            "74": 0,
            "75": 1,
            "76": 2,
            "77": 0,
            "78": 1,
            "79": 2,
            "8": 0,
            "80": 2,
            "81": 2,
            "82": 1,
            "83": 2,
            "84": 2,
            "85": 1,
            "86": 2,
            "87": 2,
            "88": 1,
            "89": 2,
            "9": 0,
            "90": 2,
            "91": 1,
            "92": 2,
            "93": 2,
            "94": 1,
            "95": 0,
            "96": 2,
            "97": 1,
            "98": 0,
            "99": 2,
            "bdata": "AAAAAAAAAAACAAAAAAAAAAAAAAACAAAAAAAAAAAAAAAAAAAAAAAAAAEAAAACAAAAAAAAAAAAAAAAAAAAAAAAAAEAAAACAAAAAAAAAAIAAAAAAAAAAAAAAAEAAAACAAAAAAAAAAIAAAAAAAAAAAAAAAEAAAACAAAAAAAAAAIAAAAAAAAAAgAAAAAAAAABAAAAAgAAAAAAAAABAAAAAgAAAAAAAAACAAAAAQAAAAEAAAACAAAAAAAAAAIAAAAAAAAAAQAAAAIAAAABAAAAAgAAAAAAAAACAAAAAAAAAAEAAAAAAAAAAgAAAAEAAAAAAAAAAQAAAAIAAAAAAAAAAQAAAAIAAAAAAAAAAQAAAAIAAAAAAAAAAQAAAAIAAAAAAAAAAQAAAAIAAAAAAAAAAQAAAAIAAAAAAAAAAQAAAAIAAAACAAAAAgAAAAEAAAACAAAAAgAAAAEAAAACAAAAAgAAAAEAAAACAAAAAgAAAAEAAAACAAAAAgAAAAEAAAAAAAAAAgAAAAEAAAAAAAAAAgAAAAEAAAAAAAAAAgAAAAEAAAAAAAAAAgAAAAEAAAAAAAAAAAAAAAEAAAACAAAAAAAAAAIAAAAAAAAAAgAAAAAAAAACAAAAAAAAAAIAAAAAAAAAAgAAAAAAAAACAAAAAAAAAAIAAAAAAAAAAgAAAAAAAAACAAAAAAAAAAIAAAAAAAAAAgAAAAAAAAACAAAAAAAAAAIAAAAAAAAAAgAAAAAAAAACAAAAAAAAAAIAAAAAAAAAAgAAAAAAAAACAAAAAAAAAAIAAAAAAAAAAgAAAAAAAAACAAAAAAAAAAIAAAAAAAAAAgAAAAAAAAACAAAAAAAAAAAAAAABAAAAAgAAAAIAAAACAAAAAAAAAAEAAAACAAAAAgAAAAIAAAAAAAAAAQAAAAIAAAACAAAAAgAAAAAAAAABAAAAAgAAAAIAAAACAAAAAAAAAAEAAAACAAAAAQAAAAIAAAAAAAAAAQAAAAIAAAABAAAAAgAAAAAAAAABAAAAAgAAAAEAAAACAAAAAAAAAAEAAAACAAAAAQAAAAIAAAAAAAAAAQAAAAIAAAABAAAAAgAAAAAAAAABAAAAAgAAAAEAAAACAAAAAAAAAAEAAAACAAAAAQAAAAIAAAAAAAAAAQAAAAIAAAABAAAAAgAAAAAAAAABAAAAAgAAAAEAAAACAAAAAAAAAAEAAAACAAAAAQAAAAIAAAAAAAAAAQAAAAIAAAABAAAAAAAAAAAAAAABAAAAAgAAAAEAAAAAAAAAAAAAAAEAAAAAAAAAAQAAAAAAAAAAAAAAAQAAAAAAAAABAAAAAAAAAAAAAAACAAAAAgAAAAAAAAACAAAAAAAAAAIAAAACAAAAAAAAAAIAAAAAAAAAAAAAAAIAAAAAAAAAAgAAAAAAAAAAAAAAAgAAAAAAAAAAAAAAAAAAAAAAAAACAAAAAAAAAAAAAAAAAAAAAAAAAAIAAAAAAAAAAAAAAAAAAAAAAAAAAQAAAAAAAAAAAAAAAAAAAAEAAAABAAAAAQAAAAIAAAAAAAAAAgAAAAEAAAABAAAAAgAAAAAAAAACAAAAAgAAAAEAAAABAAAAAAAAAAAAAAAAAAAAAQAAAAEAAAABAAAAAgAAAAAAAAACAAAAAQAAAAEAAAACAAAAAAAAAAIAAAAAAAAAAQAAAAEAAAAAAAAAAAAAAAAAAAABAAAAAQAAAAEAAAACAAAAAAAAAAIAAAABAAAAAQAAAAIAAAAAAAAAAgAAAAAAAAABAAAAAQAAAAAAAAAAAAAAAAAAAAEAAAABAAAAAQAAAAIAAAAAAAAAAgAAAAEAAAABAAAAAgAAAAAAAAACAAAAAAAAAAEAAAABAAAAAAAAAA==",
            "dtype": "i4",
            "shape": "352"
           },
           "bdata": "AAAAAAAAAAACAAAAAAAAAAAAAAACAAAAAAAAAAAAAAAAAAAAAAAAAAEAAAACAAAAAAAAAAAAAAAAAAAAAAAAAAEAAAACAAAAAAAAAAIAAAAAAAAAAAAAAAEAAAACAAAAAAAAAAIAAAAAAAAAAAAAAAEAAAACAAAAAAAAAAIAAAAAAAAAAgAAAAAAAAABAAAAAgAAAAAAAAABAAAAAgAAAAAAAAACAAAAAQAAAAEAAAACAAAAAAAAAAIAAAAAAAAAAQAAAAIAAAABAAAAAgAAAAAAAAACAAAAAAAAAAEAAAAAAAAAAgAAAAEAAAAAAAAAAQAAAAIAAAAAAAAAAQAAAAIAAAAAAAAAAQAAAAIAAAAAAAAAAQAAAAIAAAAAAAAAAQAAAAIAAAAAAAAAAQAAAAIAAAAAAAAAAQAAAAIAAAACAAAAAgAAAAEAAAACAAAAAgAAAAEAAAACAAAAAgAAAAEAAAACAAAAAgAAAAEAAAACAAAAAgAAAAEAAAAAAAAAAgAAAAEAAAAAAAAAAgAAAAEAAAAAAAAAAgAAAAEAAAAAAAAAAgAAAAEAAAAAAAAAAAAAAAEAAAACAAAAAAAAAAIAAAAAAAAAAgAAAAAAAAACAAAAAAAAAAIAAAAAAAAAAgAAAAAAAAACAAAAAAAAAAIAAAAAAAAAAgAAAAAAAAACAAAAAAAAAAIAAAAAAAAAAgAAAAAAAAACAAAAAAAAAAIAAAAAAAAAAgAAAAAAAAACAAAAAAAAAAIAAAAAAAAAAgAAAAAAAAACAAAAAAAAAAIAAAAAAAAAAgAAAAAAAAACAAAAAAAAAAIAAAAAAAAAAgAAAAAAAAACAAAAAAAAAAAAAAABAAAAAgAAAAIAAAACAAAAAAAAAAEAAAACAAAAAgAAAAIAAAAAAAAAAQAAAAIAAAACAAAAAgAAAAAAAAABAAAAAgAAAAIAAAACAAAAAAAAAAEAAAACAAAAAQAAAAIAAAAAAAAAAQAAAAIAAAABAAAAAgAAAAAAAAABAAAAAgAAAAEAAAACAAAAAAAAAAEAAAACAAAAAQAAAAIAAAAAAAAAAQAAAAIAAAABAAAAAgAAAAAAAAABAAAAAgAAAAEAAAACAAAAAAAAAAEAAAACAAAAAQAAAAIAAAAAAAAAAQAAAAIAAAABAAAAAgAAAAAAAAABAAAAAgAAAAEAAAACAAAAAAAAAAEAAAACAAAAAQAAAAIAAAAAAAAAAQAAAAIAAAABAAAAAAAAAAAAAAABAAAAAgAAAAEAAAAAAAAAAAAAAAEAAAAAAAAAAQAAAAAAAAAAAAAAAQAAAAAAAAABAAAAAAAAAAAAAAACAAAAAgAAAAAAAAACAAAAAAAAAAIAAAACAAAAAAAAAAIAAAAAAAAAAAAAAAIAAAAAAAAAAgAAAAAAAAAAAAAAAgAAAAAAAAAAAAAAAAAAAAAAAAACAAAAAAAAAAAAAAAAAAAAAAAAAAIAAAAAAAAAAAAAAAAAAAAAAAAAAQAAAAAAAAAAAAAAAAAAAAEAAAABAAAAAQAAAAIAAAAAAAAAAgAAAAEAAAABAAAAAgAAAAAAAAACAAAAAgAAAAEAAAABAAAAAAAAAAAAAAAAAAAAAQAAAAEAAAABAAAAAgAAAAAAAAACAAAAAQAAAAEAAAACAAAAAAAAAAIAAAAAAAAAAQAAAAEAAAAAAAAAAAAAAAAAAAABAAAAAQAAAAEAAAACAAAAAAAAAAIAAAABAAAAAQAAAAIAAAAAAAAAAgAAAAAAAAABAAAAAQAAAAAAAAAAAAAAAAAAAAEAAAABAAAAAQAAAAIAAAAAAAAAAgAAAAEAAAABAAAAAgAAAAAAAAACAAAAAAAAAAEAAAABAAAAAAAAAA==",
           "dtype": "i4"
          },
          "coloraxis": "coloraxis",
          "symbol": "diamond"
         },
         "mode": "markers",
         "name": "Male",
         "orientation": "v",
         "showlegend": true,
         "type": "scatter",
         "x": {
          "_inputArray": {
           "0": -48.8510856628418,
           "1": -46.16350555419922,
           "10": 20.176607131958008,
           "100": 18.161325454711914,
           "101": -16.5960636138916,
           "102": -3.8941524028778076,
           "103": 17.933513641357422,
           "104": -17.093029022216797,
           "105": -5.438675403594971,
           "106": 17.851959228515625,
           "107": -17.331581115722656,
           "108": -6.694272041320801,
           "109": 17.84186363220215,
           "11": 9.672135353088379,
           "110": 18.974071502685547,
           "111": -46.54668045043945,
           "112": 12.406402587890625,
           "113": -23.18538475036621,
           "114": 12.939136505126953,
           "115": -45.50444793701172,
           "116": 36.03629684448242,
           "117": -26.252084732055664,
           "118": 15.464458465576172,
           "119": -46.838035583496094,
           "12": -43.208251953125,
           "120": 11.482022285461426,
           "121": -24.047992706298828,
           "122": 18.74258804321289,
           "123": -45.900794982910156,
           "124": 11.519041061401367,
           "125": -24.97928237915039,
           "126": 12.297675132751465,
           "127": -47.06971740722656,
           "128": 9.564969062805176,
           "129": -26.644472122192383,
           "13": -41.33662033081055,
           "130": 10.506217956542969,
           "131": -46.14896774291992,
           "132": 9.722013473510742,
           "133": -27.39055633544922,
           "134": 9.882126808166504,
           "135": -45.26016616821289,
           "136": 11.480640411376953,
           "137": -27.78888511657715,
           "138": 8.852487564086914,
           "139": -44.507564544677734,
           "14": -48.68404006958008,
           "140": 10.228337287902832,
           "141": -28.097150802612305,
           "142": 7.665373802185059,
           "143": -43.633480072021484,
           "144": 7.833560943603516,
           "145": -28.619869232177734,
           "146": 6.567649841308594,
           "147": -42.69854736328125,
           "148": 9.194701194763184,
           "149": -29.197961807250977,
           "15": -41.946266174316406,
           "150": 5.446845054626465,
           "151": -41.782958984375,
           "152": 4.822123050689697,
           "153": -29.37571144104004,
           "154": 4.367365837097168,
           "155": -40.93801498413086,
           "156": 8.179443359375,
           "157": -28.954368591308594,
           "158": 3.3900279998779297,
           "159": -40.13623809814453,
           "16": 20.974546432495117,
           "160": -46.304054260253906,
           "161": 36.36677169799805,
           "162": 12.939136505126953,
           "163": 15.464437484741211,
           "164": 8.70606803894043,
           "165": -45.156837463378906,
           "166": 36.81057357788086,
           "167": 10.828778266906738,
           "168": 17.8773193359375,
           "169": 6.935452461242676,
           "17": 8.980240821838379,
           "170": -44.392303466796875,
           "171": 36.590171813964844,
           "172": 8.706218719482422,
           "173": 19.678682327270508,
           "174": 5.441175937652588,
           "175": -43.556671142578125,
           "176": 36.35267639160156,
           "177": 6.935452461242676,
           "178": 21.0085506439209,
           "179": 4.091228485107422,
           "18": -43.53997802734375,
           "180": -42.6433219909668,
           "181": 36.080867767333984,
           "182": 5.441227912902832,
           "183": 22.113218307495117,
           "184": 2.868166446685791,
           "185": -41.726444244384766,
           "186": 35.789276123046875,
           "187": 4.091013431549072,
           "188": 23.056732177734375,
           "189": 1.6797131299972534,
           "19": -39.4228515625,
           "190": -40.82949447631836,
           "191": 35.451560974121094,
           "192": 2.867987871170044,
           "193": 23.902605056762695,
           "194": 0.5421128869056702,
           "195": -39.97616195678711,
           "196": 35.115509033203125,
           "197": 1.6777257919311523,
           "198": 24.98154640197754,
           "199": -0.5562886595726013,
           "2": 7.1458611488342285,
           "20": -47.67681884765625,
           "200": -39.22599792480469,
           "201": 34.85615539550781,
           "202": 0.5421128869056702,
           "203": 26.332073211669922,
           "204": -1.635763168334961,
           "205": -38.4213752746582,
           "206": 34.57147979736328,
           "207": -0.5562886595726013,
           "208": 27.226354598999023,
           "209": -2.7159624099731445,
           "21": -41.58986282348633,
           "210": -37.81208419799805,
           "211": 34.29432678222656,
           "212": -1.635733962059021,
           "213": 27.855262756347656,
           "214": -3.7622921466827393,
           "215": -37.043251037597656,
           "216": 34.03016662597656,
           "217": -2.7159624099731445,
           "218": 28.380035400390625,
           "219": -4.721819877624512,
           "22": 21.935152053833008,
           "220": -36.73611068725586,
           "221": 33.81330490112305,
           "222": -3.7624428272247314,
           "223": 28.838302612304688,
           "224": -5.68236780166626,
           "225": -35.97638702392578,
           "226": 33.685890197753906,
           "227": -4.721819877624512,
           "228": 29.241424560546875,
           "229": -6.472970008850098,
           "23": 8.783795356750488,
           "230": -35.860260009765625,
           "231": 33.631961822509766,
           "232": -5.68236780166626,
           "233": 29.5983829498291,
           "234": -7.222195148468018,
           "235": -35.12690734863281,
           "236": 33.593299865722656,
           "237": -6.4963531494140625,
           "238": 29.90230941772461,
           "239": -7.8452301025390625,
           "24": -42.79384231567383,
           "240": -35.158042907714844,
           "241": 33.59432601928711,
           "242": -7.222195148468018,
           "243": 30.175607681274414,
           "244": -8.395573616027832,
           "245": -34.497310638427734,
           "246": 33.64611053466797,
           "247": -7.89806604385376,
           "248": 30.39208221435547,
           "249": -8.787064552307129,
           "25": -39.661067962646484,
           "250": -25.98822021484375,
           "251": -11.85987377166748,
           "252": 12.406402587890625,
           "253": -27.552099227905273,
           "254": -11.137979507446289,
           "255": -26.40623664855957,
           "256": -12.58775520324707,
           "257": 14.520748138427734,
           "258": -27.880653381347656,
           "259": -11.85987377166748,
           "26": -47.11479187011719,
           "260": -26.807764053344727,
           "261": -13.315312385559082,
           "262": 16.95832633972168,
           "263": -28.194210052490234,
           "264": -12.587721824645996,
           "265": -27.179922103881836,
           "266": -14.014137268066406,
           "267": 18.97402000427246,
           "268": -28.431142807006836,
           "269": -13.31531047821045,
           "27": -41.82701873779297,
           "270": -27.519779205322266,
           "271": -14.66309642791748,
           "272": 20.491832733154297,
           "273": -28.648557662963867,
           "274": -14.013603210449219,
           "275": -27.772960662841797,
           "276": -15.269209861755371,
           "277": 21.646520614624023,
           "278": -28.85955047607422,
           "279": -14.663019180297852,
           "28": 22.995098114013672,
           "280": -28.03077507019043,
           "281": -15.795382499694824,
           "282": 22.616594314575195,
           "283": -29.31251335144043,
           "284": -15.269209861755371,
           "285": -45.53072738647461,
           "286": 38.915897369384766,
           "287": 38.49560546875,
           "288": 37.41102981567383,
           "289": -8.420018196105957,
           "29": 7.93766450881958,
           "290": -22.09174919128418,
           "291": 18.97402000427246,
           "292": 38.70164108276367,
           "293": 38.29833221435547,
           "294": 15.27735424041748,
           "295": -28.10359764099121,
           "296": 13.471388816833496,
           "297": 17.479082107543945,
           "298": 37.708343505859375,
           "299": 36.72468948364258,
           "3": -49.35785675048828,
           "30": -43.709808349609375,
           "300": -47.450260162353516,
           "301": -26.251310348510742,
           "302": -24.361658096313477,
           "303": 37.55561065673828,
           "304": 38.299320220947266,
           "305": 36.9110221862793,
           "306": 16.08307647705078,
           "307": -25.528095245361328,
           "308": 13.836989402770996,
           "309": 38.36663818359375,
           "31": 6.759483814239502,
           "310": 38.10563659667969,
           "311": 18.258974075317383,
           "312": -26.141361236572266,
           "313": 11.984407424926758,
           "314": -24.729877471923828,
           "315": 38.22291564941406,
           "316": 38.28065872192383,
           "317": -48.47117614746094,
           "318": -27.482952117919922,
           "319": -26.559114456176758,
           "32": -48.7400016784668,
           "320": 38.07032012939453,
           "321": 37.06822204589844,
           "322": 37.054779052734375,
           "323": 16.95832633972168,
           "324": -24.72780990600586,
           "325": 14.520748138427734,
           "326": 37.31526184082031,
           "327": 37.15369415283203,
           "328": 18.258974075317383,
           "329": -26.852920532226562,
           "33": -39.4228515625,
           "330": 10.828778266906738,
           "331": -24.361658096313477,
           "332": 37.05497741699219,
           "333": 38.280662536621094,
           "334": -48.47117233276367,
           "335": -27.482952117919922,
           "336": -26.553905487060547,
           "337": 38.2149543762207,
           "338": 37.06822204589844,
           "339": 37.82954025268555,
           "34": -47.22453689575195,
           "340": 18.299028396606445,
           "341": -23.187063217163086,
           "342": 12.406402587890625,
           "343": 37.55467987060547,
           "344": 37.15369415283203,
           "345": 20.00016975402832,
           "346": -26.852920532226562,
           "347": 13.029115676879883,
           "348": -23.65671157836914,
           "349": 38.221702575683594,
           "35": 20.73465919494629,
           "350": 37.447303771972656,
           "351": -48.094600677490234,
           "36": 10.320107460021973,
           "37": -47.615570068359375,
           "38": 21.611446380615234,
           "39": 8.251164436340332,
           "4": -41.0208625793457,
           "40": -46.594093322753906,
           "41": -39.55984878540039,
           "42": 22.564727783203125,
           "43": 20.176607131958008,
           "44": 6.920234203338623,
           "45": -44.209266662597656,
           "46": -39.82062911987305,
           "47": -48.19512939453125,
           "48": 23.19607925415039,
           "49": 7.93766450881958,
           "5": 7.134829998016357,
           "50": 30.822402954101562,
           "51": 8.886696815490723,
           "52": -44.209266662597656,
           "53": -39.55984878540039,
           "54": -46.871131896972656,
           "55": 36.35272979736328,
           "56": -22.477027893066406,
           "57": 10.181305885314941,
           "58": 21.415441513061523,
           "59": -24.047992706298828,
           "6": -47.23884201049805,
           "60": 22.967119216918945,
           "61": 11.216983795166016,
           "62": -25.93219757080078,
           "63": 22.70673370361328,
           "64": 10.197674751281738,
           "65": -27.39055633544922,
           "66": 13.682281494140625,
           "67": 9.110711097717285,
           "68": -28.380142211914062,
           "69": 14.006376266479492,
           "7": -41.719539642333984,
           "70": 8.026823043823242,
           "71": -28.792734146118164,
           "72": 14.713098526000977,
           "73": 7.079333782196045,
           "74": -29.3911190032959,
           "75": 15.47889232635498,
           "76": 6.272958755493164,
           "77": -29.98784637451172,
           "78": 16.104177474975586,
           "79": 5.773440837860107,
           "8": -49.04555130004883,
           "80": -9.97248363494873,
           "81": 6.738617897033691,
           "82": 19.310914993286133,
           "83": -8.858521461486816,
           "84": 5.747067451477051,
           "85": 19.67357063293457,
           "86": -10.85245418548584,
           "87": 4.631824493408203,
           "88": 19.666921615600586,
           "89": -12.149969100952148,
           "9": -42.28041076660156,
           "90": 3.290961980819702,
           "91": 19.701515197753906,
           "92": -13.454574584960938,
           "93": 1.6696605682373047,
           "94": 19.072235107421875,
           "95": -14.777246475219727,
           "96": -0.37684565782546997,
           "97": 18.537567138671875,
           "98": -15.819376945495605,
           "99": -2.2019290924072266,
           "bdata": "g2dDwm6nOMLlquRAcm5Fwl0VJMKHUORAk/Q8ws/gJsKlLkTCJB8pwrFpoUERwRpBQNUswrNYJcJ1vELC+sgnwt/Lp0ERrw9B8CguwgCxHcIQtT7CBVwmwjF7r0FtigxB5Swrwu+kHsKMdTzC3k4nwvb1t0FZAf5A2NYuwrFN2EDD9ULCALEdwu3lPMKV4KVBKR8lQVh2PsI+5KxBxQQEQVpgOsJJPR7CkIS0QbFpoUGPct1AStYwwlNIH8LQx0DCkpG5QVkB/kBIlPZB6S8OQUrWMMJJPR7CCnw7wjJpEUL00LPBoeYiQdNSq0FKYsDBqby3QcR4M0Ekdc/BZKe1Qa0pI0HcH9vBoOpaQXnFEUGICuPBHhpgQd5tAEGFV+bB2mhrQeeJ4kADIevBi6l3QRS8yEAc5+/BW9WAQQfAuEBLjx/BwqLXQMF8mkGBvA3B+ue3QHljnUGnoy3B6DeUQNtVnUFGZkLBH59SQLScnUHwRVfBcLfVP/CTmEGab2zB6vHAvvBMlEErHH3BaOwMwGVKkUG9xITByzl5wNZ3j0GGvojBoQmuwNDQjkEUp4rBejfWwCO8jkHmypdBzS86wqCARkGre7nBtAZPQY4ENsIrJRBCRQTSwWxud0EmWjvCXbY3QUpiwMHS8JVBapo3wv5NOEGS1cfBR8NEQWRHPMIdChlB4SfVwXgZKEGLmDjCXo0bQdwf28ExHR5BaQo1wrSwN0GjT97ByqMNQb8HMsJFpyNB98bgwb5K9UCviC7CiKz6QH715MEwKtJAUMsqwn8dE0FtlenBjkyuQMAhJ8LVTppAdQHrwXbBi0CHwCPCAN8CQYyi58E49lhAgosgwlo3OcKTdxFCtAZPQVZud0EOTAtBmqA0wgc+E0KtQi1BwASPQTrv3UC4kTHCVlwSQqxMC0HxbZ1BHR6uQAg6LsIkaRFCOu/dQIMRqEFY64JAw5Iqws9SEEKKHq5A3+ewQQqQN0Dh5ybCOCgPQpXpgkAwdLhB1wDXP2dRI8Jmzg1CHY03QIk4v0Hpxwo/l+cfwkh2DEK4v9Y/NdrHQe9oDr9s5xzCtGwLQunHCj8WqNJBsGDRv32vGcIySQpC72gOv5PP2UFU0i3Akz8XwmQtCUK7X9G/lNfeQWXJcMBKLBTC5B4IQlTSLcBQCuNBJhmXwMfxEsLTQAdC3ctwwNi05kH11bXA0ucPwlq+BkImGZfAcO7pQZIiz8DocA/CIYcGQvXVtcB9yexBORznwPSBDMKKXwZCIOLPwO4370EgDPvA1qEMwpdgBkI5HOfApWfxQUVUBsE//QnCnpUGQvW8/MD8IvNB0ZcMweDnz8ELwj3BoIBGQbNq3MEqNTLB+T/TwXJnScH8VGhBlAvfwQvCPcFNdtbBhQtVwaeqh0G+jeHBT2dJwXtw2cHoOWDBy8qXQfty48GDC1XBgijcwQucasFG76NBPzDlwbg3YMEGL97Br050wRMsrUFc4ObBuptqwQc/4MHjuXzBye60QQeA6sGvTnTBdx82wuGpG0KA+xlC5aQVQmW4BsHnu7DBy8qXQXvOGkJ+MRlCC3B0QSvU4MHPildBKdWLQVjVFkIV5hJCEc09wq8C0sGt5MLB8jgWQoEyGULjpBNCJKqAQYo5zMFPZF1BcHcZQixsGEJhEpJBgiHRwSLAP0HK1sXBROQYQmUfGUJ84kHCFt3bwRF51MECSBhC3EUUQhg4FEKnqodBjtLFwfxUaEHUQhVCYp0UQmESkkHI0tbBrUItQa3kwsFMOBRCZh8ZQnviQcIW3dvBZm7UwR3cGELcRRRCc1EXQmlkkkEbf7nBoIBGQf43FkJinRRCWQCgQcjS1sFCd1BB8kC9wQbjGEIKyhVC32BAwg==",
           "dtype": "f4",
           "shape": "352"
          },
          "bdata": "g2dDwm6nOMLlquRAcm5Fwl0VJMKHUORAk/Q8ws/gJsKlLkTCJB8pwrFpoUERwRpBQNUswrNYJcJ1vELC+sgnwt/Lp0ERrw9B8CguwgCxHcIQtT7CBVwmwjF7r0FtigxB5Swrwu+kHsKMdTzC3k4nwvb1t0FZAf5A2NYuwrFN2EDD9ULCALEdwu3lPMKV4KVBKR8lQVh2PsI+5KxBxQQEQVpgOsJJPR7CkIS0QbFpoUGPct1AStYwwlNIH8LQx0DCkpG5QVkB/kBIlPZB6S8OQUrWMMJJPR7CCnw7wjJpEUL00LPBoeYiQdNSq0FKYsDBqby3QcR4M0Ekdc/BZKe1Qa0pI0HcH9vBoOpaQXnFEUGICuPBHhpgQd5tAEGFV+bB2mhrQeeJ4kADIevBi6l3QRS8yEAc5+/BW9WAQQfAuEBLjx/BwqLXQMF8mkGBvA3B+ue3QHljnUGnoy3B6DeUQNtVnUFGZkLBH59SQLScnUHwRVfBcLfVP/CTmEGab2zB6vHAvvBMlEErHH3BaOwMwGVKkUG9xITByzl5wNZ3j0GGvojBoQmuwNDQjkEUp4rBejfWwCO8jkHmypdBzS86wqCARkGre7nBtAZPQY4ENsIrJRBCRQTSwWxud0EmWjvCXbY3QUpiwMHS8JVBapo3wv5NOEGS1cfBR8NEQWRHPMIdChlB4SfVwXgZKEGLmDjCXo0bQdwf28ExHR5BaQo1wrSwN0GjT97ByqMNQb8HMsJFpyNB98bgwb5K9UCviC7CiKz6QH715MEwKtJAUMsqwn8dE0FtlenBjkyuQMAhJ8LVTppAdQHrwXbBi0CHwCPCAN8CQYyi58E49lhAgosgwlo3OcKTdxFCtAZPQVZud0EOTAtBmqA0wgc+E0KtQi1BwASPQTrv3UC4kTHCVlwSQqxMC0HxbZ1BHR6uQAg6LsIkaRFCOu/dQIMRqEFY64JAw5Iqws9SEEKKHq5A3+ewQQqQN0Dh5ybCOCgPQpXpgkAwdLhB1wDXP2dRI8Jmzg1CHY03QIk4v0Hpxwo/l+cfwkh2DEK4v9Y/NdrHQe9oDr9s5xzCtGwLQunHCj8WqNJBsGDRv32vGcIySQpC72gOv5PP2UFU0i3Akz8XwmQtCUK7X9G/lNfeQWXJcMBKLBTC5B4IQlTSLcBQCuNBJhmXwMfxEsLTQAdC3ctwwNi05kH11bXA0ucPwlq+BkImGZfAcO7pQZIiz8DocA/CIYcGQvXVtcB9yexBORznwPSBDMKKXwZCIOLPwO4370EgDPvA1qEMwpdgBkI5HOfApWfxQUVUBsE//QnCnpUGQvW8/MD8IvNB0ZcMweDnz8ELwj3BoIBGQbNq3MEqNTLB+T/TwXJnScH8VGhBlAvfwQvCPcFNdtbBhQtVwaeqh0G+jeHBT2dJwXtw2cHoOWDBy8qXQfty48GDC1XBgijcwQucasFG76NBPzDlwbg3YMEGL97Br050wRMsrUFc4ObBuptqwQc/4MHjuXzBye60QQeA6sGvTnTBdx82wuGpG0KA+xlC5aQVQmW4BsHnu7DBy8qXQXvOGkJ+MRlCC3B0QSvU4MHPildBKdWLQVjVFkIV5hJCEc09wq8C0sGt5MLB8jgWQoEyGULjpBNCJKqAQYo5zMFPZF1BcHcZQixsGEJhEpJBgiHRwSLAP0HK1sXBROQYQmUfGUJ84kHCFt3bwRF51MECSBhC3EUUQhg4FEKnqodBjtLFwfxUaEHUQhVCYp0UQmESkkHI0tbBrUItQa3kwsFMOBRCZh8ZQnviQcIW3dvBZm7UwR3cGELcRRRCc1EXQmlkkkEbf7nBoIBGQf43FkJinRRCWQCgQcjS1sFCd1BB8kC9wQbjGEIKyhVC32BAwg==",
          "dtype": "f4"
         },
         "xaxis": "x",
         "y": {
          "_inputArray": {
           "0": -13.195013046264648,
           "1": -16.070598602294922,
           "10": -11.217575073242188,
           "100": -14.550965309143066,
           "101": 0.5929479598999023,
           "102": 12.523648262023926,
           "103": -14.904228210449219,
           "104": 0.5819723010063171,
           "105": 12.807333946228027,
           "106": -15.177889823913574,
           "107": 0.5672282576560974,
           "108": 13.128908157348633,
           "109": -15.35234260559082,
           "11": -15.730342864990234,
           "110": 11.768594741821289,
           "111": 2.2539639472961426,
           "112": 14.467405319213867,
           "113": -18.967405319213867,
           "114": 13.244945526123047,
           "115": 2.936347723007202,
           "116": 18.067384719848633,
           "117": -13.958146095275879,
           "118": 12.275114059448242,
           "119": 2.7901077270507812,
           "12": -16.91679573059082,
           "120": 13.13624095916748,
           "121": -17.18629264831543,
           "122": 10.55064868927002,
           "123": 3.5442779064178467,
           "124": 2.095898151397705,
           "125": -13.200213432312012,
           "126": 10.935050010681152,
           "127": 3.2459945678710938,
           "128": 13.714587211608887,
           "129": -10.3460693359375,
           "13": -17.76017189025879,
           "130": 9.420851707458496,
           "131": 4.015564441680908,
           "132": 2.4369680881500244,
           "133": -8.414042472839355,
           "134": 9.704346656799316,
           "135": 4.390063762664795,
           "136": 13.139702796936035,
           "137": -6.784448623657227,
           "138": 10.092801094055176,
           "139": 4.7163987159729,
           "14": -13.347726821899414,
           "140": 2.2524664402008057,
           "141": -5.227720260620117,
           "142": 10.61194896697998,
           "143": 5.109943866729736,
           "144": 13.869368553161621,
           "145": -3.8743412494659424,
           "146": 10.941408157348633,
           "147": 5.451263427734375,
           "148": 2.6300668716430664,
           "149": -2.6168735027313232,
           "15": -17.484027862548828,
           "150": 11.21743106842041,
           "151": 5.766153335571289,
           "152": 13.734907150268555,
           "153": -1.405360460281372,
           "154": 11.421504974365234,
           "155": 6.0723419189453125,
           "156": 3.006164073944092,
           "157": -0.10271657258272171,
           "158": 11.574264526367188,
           "159": 6.399458408355713,
           "16": -11.788978576660156,
           "160": 2.7248315811157227,
           "161": 17.861743927001953,
           "162": 13.244945526123047,
           "163": 12.275106430053711,
           "164": 14.456113815307617,
           "165": 3.414055585861206,
           "166": 17.401765823364258,
           "167": 14.211526870727539,
           "168": 11.379950523376465,
           "169": 14.295520782470703,
           "17": -16.886993408203125,
           "170": 3.742265224456787,
           "171": 16.46396255493164,
           "172": 14.456315040588379,
           "173": 10.800140380859375,
           "174": 14.213186264038086,
           "175": 4.219698905944824,
           "176": 15.310276985168457,
           "177": 14.295520782470703,
           "178": 10.300826072692871,
           "179": 14.07804012298584,
           "18": -17.414413452148438,
           "180": 4.565699577331543,
           "181": 13.852458953857422,
           "182": 14.213174819946289,
           "183": 9.79719352722168,
           "184": 13.956610679626465,
           "185": 4.881471633911133,
           "186": 11.892291069030762,
           "187": 14.077022552490234,
           "188": 9.441715240478516,
           "189": 13.902976036071777,
           "19": -19.053207397460938,
           "190": 5.209719657897949,
           "191": 10.130537986755371,
           "192": 13.956249237060547,
           "193": 8.93893814086914,
           "194": 13.895434379577637,
           "195": 5.581267356872559,
           "196": 8.65054988861084,
           "197": 13.90307903289795,
           "198": 8.291845321655273,
           "199": 13.925390243530273,
           "2": -16.621431350708008,
           "20": -14.188558578491211,
           "200": 6.082484722137451,
           "201": 7.447710990905762,
           "202": 13.895434379577637,
           "203": 7.642294883728027,
           "204": 14.015750885009766,
           "205": 6.302974700927734,
           "206": 6.435874938964844,
           "207": 13.925390243530273,
           "208": 7.218893051147461,
           "209": 14.049847602844238,
           "21": -17.845096588134766,
           "210": 6.8171539306640625,
           "211": 5.601127624511719,
           "212": 14.015740394592285,
           "213": 6.9023871421813965,
           "214": 14.163912773132324,
           "215": 6.783231258392334,
           "216": 4.8949079513549805,
           "217": 14.049847602844238,
           "218": 6.61774206161499,
           "219": 14.204794883728027,
           "22": -12.05609130859375,
           "220": 7.522561550140381,
           "221": 4.26144552230835,
           "222": 14.163888931274414,
           "223": 6.351175785064697,
           "224": 14.21114444732666,
           "225": 7.192722320556641,
           "226": 3.682142496109009,
           "227": 14.204794883728027,
           "228": 6.099903106689453,
           "229": 14.003824234008789,
           "23": -15.646024703979492,
           "230": 8.03290843963623,
           "231": 3.1801748275756836,
           "232": 14.21114444732666,
           "233": 5.865050315856934,
           "234": 14.122493743896484,
           "235": 7.514838218688965,
           "236": 2.7442920207977295,
           "237": 14.32906436920166,
           "238": 5.647038459777832,
           "239": 13.78841495513916,
           "24": -17.583711624145508,
           "240": 8.445394515991211,
           "241": 2.349799871444702,
           "242": 14.122493743896484,
           "243": 5.418177127838135,
           "244": 13.939305305480957,
           "245": 7.97456693649292,
           "246": 1.9975030422210693,
           "247": 14.22559928894043,
           "248": 5.202503681182861,
           "249": 13.680429458618164,
           "25": -19.18450355529785,
           "250": -7.70448637008667,
           "251": 0.027925333008170128,
           "252": 14.467405319213867,
           "253": -5.75429630279541,
           "254": -0.5045967102050781,
           "255": -6.624481201171875,
           "256": 0.593962550163269,
           "257": 13.248493194580078,
           "258": -4.367596626281738,
           "259": 0.027925333008170128,
           "26": -14.207777976989746,
           "260": -5.271540641784668,
           "261": 1.178395390510559,
           "262": 12.57499885559082,
           "263": -3.01051926612854,
           "264": 0.5939403176307678,
           "265": -3.9498374462127686,
           "266": 1.7699739933013916,
           "267": 11.768575668334961,
           "268": -1.7600489854812622,
           "269": 1.1783974170684814,
           "27": -18.104602813720703,
           "270": -2.6652774810791016,
           "271": 2.316781997680664,
           "272": 11.084057807922363,
           "273": -0.6129118204116821,
           "274": 1.7699265480041504,
           "275": -1.5090646743774414,
           "276": 2.798564910888672,
           "277": 10.468992233276367,
           "278": 0.4751569330692291,
           "279": 2.316873788833618,
           "28": -12.045244216918945,
           "280": -0.46789196133613586,
           "281": 3.241934299468994,
           "282": 9.996626853942871,
           "283": 1.2646385431289673,
           "284": 2.798564910888672,
           "285": 4.002740383148193,
           "286": -7.774255275726318,
           "287": 8.384907722473145,
           "288": 10.696308135986328,
           "289": -1.8813977241516113,
           "29": -16.754642486572266,
           "290": -18.23594093322754,
           "291": 11.768575668334961,
           "292": 13.039348602294922,
           "293": 10.077447891235352,
           "294": 15.073857307434082,
           "295": -11.371118545532227,
           "296": 15.74295425415039,
           "297": 14.092057228088379,
           "298": 12.284194946289062,
           "299": 8.441282272338867,
           "3": -12.34009838104248,
           "30": -16.557144165039062,
           "300": 1.9251124858856201,
           "301": -13.957780838012695,
           "302": -18.70122528076172,
           "303": -7.149718761444092,
           "304": 10.0797758102417,
           "305": 10.669279098510742,
           "306": 13.81959056854248,
           "307": -17.921571731567383,
           "308": 14.83010482788086,
           "309": 14.099876403808594,
           "31": -18.075870513916016,
           "310": 11.205151557922363,
           "311": 12.88015365600586,
           "312": -15.341296195983887,
           "313": 14.735605239868164,
           "314": -18.997100830078125,
           "315": 15.2039794921875,
           "316": -8.867570877075195,
           "317": 1.8371315002441406,
           "318": -11.237931251525879,
           "319": -15.891313552856445,
           "32": -13.499295234680176,
           "320": -6.915053367614746,
           "321": 7.591836452484131,
           "322": 13.480122566223145,
           "323": 12.57499885559082,
           "324": -18.99935531616211,
           "325": 13.248493194580078,
           "326": 14.926875114440918,
           "327": 10.672929763793945,
           "328": 12.88015365600586,
           "329": -15.580345153808594,
           "33": -19.053207397460938,
           "330": 14.211526870727539,
           "331": -18.70122528076172,
           "332": 13.480524063110352,
           "333": -8.867565155029297,
           "334": 1.8371284008026123,
           "335": -11.237931251525879,
           "336": -15.199520111083984,
           "337": -6.958338260650635,
           "338": 7.591836452484131,
           "339": 14.894314765930176,
           "34": -15.93447208404541,
           "340": 12.987602233886719,
           "341": -19.903099060058594,
           "342": 14.467405319213867,
           "343": 13.476495742797852,
           "344": 10.672929763793945,
           "345": 12.221546173095703,
           "346": -15.580345153808594,
           "347": 13.398303985595703,
           "348": -20.263795852661133,
           "349": 15.204483032226562,
           "35": -10.838400840759277,
           "350": -9.074694633483887,
           "351": 2.18652081489563,
           "36": -16.170244216918945,
           "37": -14.79875373840332,
           "38": -11.380420684814453,
           "39": -16.06142234802246,
           "4": -17.82535743713379,
           "40": -16.278888702392578,
           "41": -18.81923484802246,
           "42": -11.673881530761719,
           "43": -11.217575073242188,
           "44": -17.159038543701172,
           "45": -16.808622360229492,
           "46": -18.975854873657227,
           "47": -14.73537826538086,
           "48": -11.385912895202637,
           "49": -16.754642486572266,
           "5": -14.995125770568848,
           "50": -9.835609436035156,
           "51": -16.486608505249023,
           "52": -16.808622360229492,
           "53": -18.81923484802246,
           "54": -14.776693344116211,
           "55": 15.31057357788086,
           "56": -20.078149795532227,
           "57": 9.409911155700684,
           "58": -6.9134674072265625,
           "59": -17.18629264831543,
           "6": -15.945917129516602,
           "60": 8.195054054260254,
           "61": 0.48289191722869873,
           "62": -12.397896766662598,
           "63": 7.133822917938232,
           "64": 1.1170871257781982,
           "65": -8.414042472839355,
           "66": -13.730408668518066,
           "67": 1.7517825365066528,
           "68": -5.296799659729004,
           "69": -14.547090530395508,
           "7": -17.325857162475586,
           "70": 2.4206178188323975,
           "71": -2.5275018215179443,
           "72": -15.139065742492676,
           "73": 3.004394292831421,
           "74": -0.29332271218299866,
           "75": -15.43460750579834,
           "76": 3.3735849857330322,
           "77": 1.4147493839263916,
           "78": -15.526473045349121,
           "79": 3.587327480316162,
           "8": -12.905134201049805,
           "80": -0.7150449156761169,
           "81": -14.799388885498047,
           "82": -8.02617359161377,
           "83": -1.9116246700286865,
           "84": 9.66761589050293,
           "85": -10.006936073303223,
           "86": -1.5053231716156006,
           "87": 10.236572265625,
           "88": -11.408121109008789,
           "89": -1.0483983755111694,
           "9": -17.610637664794922,
           "90": 10.742204666137695,
           "91": -12.511571884155273,
           "92": -0.4635404944419861,
           "93": 11.290958404541016,
           "94": -13.454544067382812,
           "95": 0.14317135512828827,
           "96": 11.789911270141602,
           "97": -14.103466033935547,
           "98": 0.5016326904296875,
           "99": 12.176797866821289,
           "bdata": "xh5TwZaQgMGx+ITBC3FFwVWajsEJ7G/BeiJ/wVubisFue07BluKMwTB7M8F8r3vBmVWHwdUUjsFKkFXBSt+LwaifPMGQGIfBuFCLwfhsmMFWBGPBwsKOwcDlQMEeVnrBcauMwd15mcEPU2PBOtaQwVK5QMGCCYbBCHWEwWKbkMEd/VfB+GyYwZnzfsEXai3BqVyBwbLHbME0FjbBy32AwSo7gsHLjZbBOMg6wTB7M8G2RYnBD3iGwY3Ol8EcxGvBsyw2wYIJhsGoXh3Bk+SDwQ94hsHLjZbBVm1swRz4dEENoKDB/44WQSA73cCHfYnB8R4DQZw99z7JXUbBR0jkQLb8jj/rnwbBwa9bwWk64D9if6nA4sBowWfrGkCXwiHAnTlywf9HQEBlLpa+J/R2wdHoV0CCFrU/b2x4wcaWZUAvDTe/TMpswTVrAMEesPS/jq4aQWkcIMFursC/AMkjQaqHNsHrMYa/EuArQWYvSMEuVe2+xKc0QdBFV8GDmxI+eqM8QcynYcEAawA/KtRCQcHQaMFwyxc/3WBIQbh3bsEj/BQ/1+pMQaPYcsHfNRE/AhBSQTKjdcEqTDxB8kAQQH56Z0E/vZfBTOtTQR/tO0ABipBBkVRfwd5mREEgkTJACy5SQYd9icF1zyhBc9ViQDIjBkATNFPB9/UuQWC+T0DzbltBgIklwc+7FkGBf4BASfcbQOufBsEBRRtBZ3uMQDk8UkE0GtnAHXwhQb3slkBpKBBAfEmnwIvKKUGphKNA7+hdQTX1d8ACEC9BwHCuQARTKEDbeifAmXozQVSEuEAuwltB2uKzv3y+NkGgUMJA/mRAQBFd0r0wMDlBXcjMQKRjLkDa5I5BTOtTQdZmREE+TGdB439aQNE2i0FqYmNBRxQ2QXS6ZEFGgW9AMraDQRFNZ0FgzSxBNmljQcYHh0Dl9nRBdLpkQS/QJEGnP2FBNhqSQKyjXUEqaWNBTsEcQUdOX0EENZxA00Y+QXw7YUFEERdBl3JeQQa2pkCvFiJBzExfQeQFD0GzU15BvpmyQKdoCkEDc15BZqsEQWbOXkG3o8JAplPuQLNTXkGujfRAhEBgQfixyUCw8s1AZs5eQSwB50AtzGBBICbaQHA8s0B5QGBBW+DcQGOfYkE7ENlAFqOcQC3MYEGLxNNA10ZjQdO48EDDXYhASp9iQdU8y0DZYGNByCrmQDmoa0DXRmNBaDLDQKoPYEHLhgBB/IdLQNlgY0F+rrtAvPVhQY558EB7oi9A2UNlQYq0tEBZnVxBViAHQR9jFkC89WFBtWGtQGUHX0GnL/9ALq7/Pw6cY0HpeqZACuNaQSeL9sCrw+Q8fnpnQTIjuMBALQG/wPvTwO4NGD/U+VNBWsOLwKvD5Dx2sKjAqdWWPzIzSUFZrEDAeQwYPyPKfMCCjuI/Fkw8QUlJ4b+61ZY/6JMqwChGFEBNWDFByuccv/SM4j8IKcG/sBszQP6AJ0HFR/M+qUcUQImP777ae09AL/IfQa3foT+wGzNAcxaAQLPG+MCVKAZBFCQrQaTR8L8145HBFkw8QSyhUEE6PSFBhS5xQRrwNcEk43tBEXlhQRCMREF+DwdBFmr2PxJTX8EcnJXBf8rkwMNGIUFetSpBCx1dQWFfj8EcSG1BGJlhQU1IM0EcFU5B83V1wQrFa0EQ+pfBgENzQZLhDcEgJ+s/kc4zwdJCfsEeSN3AU/DyQJWuV0EyM0lBrv6XwdT5U0F71G5BUsQqQRwVTkEYSXnBamJjQRyclcE6sFdBjOENwQYn6z+RzjPBPDFzwbWq3sBT8PJAHU9uQTjNT0GMOZ/BfnpnQbqfV0FSxCpBdItDQRhJecF0X1ZBQRyiwZBFc0HzMRHB9e8LQA==",
           "dtype": "f4",
           "shape": "352"
          },
          "bdata": "xh5TwZaQgMGx+ITBC3FFwVWajsEJ7G/BeiJ/wVubisFue07BluKMwTB7M8F8r3vBmVWHwdUUjsFKkFXBSt+LwaifPMGQGIfBuFCLwfhsmMFWBGPBwsKOwcDlQMEeVnrBcauMwd15mcEPU2PBOtaQwVK5QMGCCYbBCHWEwWKbkMEd/VfB+GyYwZnzfsEXai3BqVyBwbLHbME0FjbBy32AwSo7gsHLjZbBOMg6wTB7M8G2RYnBD3iGwY3Ol8EcxGvBsyw2wYIJhsGoXh3Bk+SDwQ94hsHLjZbBVm1swRz4dEENoKDB/44WQSA73cCHfYnB8R4DQZw99z7JXUbBR0jkQLb8jj/rnwbBwa9bwWk64D9if6nA4sBowWfrGkCXwiHAnTlywf9HQEBlLpa+J/R2wdHoV0CCFrU/b2x4wcaWZUAvDTe/TMpswTVrAMEesPS/jq4aQWkcIMFursC/AMkjQaqHNsHrMYa/EuArQWYvSMEuVe2+xKc0QdBFV8GDmxI+eqM8QcynYcEAawA/KtRCQcHQaMFwyxc/3WBIQbh3bsEj/BQ/1+pMQaPYcsHfNRE/AhBSQTKjdcEqTDxB8kAQQH56Z0E/vZfBTOtTQR/tO0ABipBBkVRfwd5mREEgkTJACy5SQYd9icF1zyhBc9ViQDIjBkATNFPB9/UuQWC+T0DzbltBgIklwc+7FkGBf4BASfcbQOufBsEBRRtBZ3uMQDk8UkE0GtnAHXwhQb3slkBpKBBAfEmnwIvKKUGphKNA7+hdQTX1d8ACEC9BwHCuQARTKEDbeifAmXozQVSEuEAuwltB2uKzv3y+NkGgUMJA/mRAQBFd0r0wMDlBXcjMQKRjLkDa5I5BTOtTQdZmREE+TGdB439aQNE2i0FqYmNBRxQ2QXS6ZEFGgW9AMraDQRFNZ0FgzSxBNmljQcYHh0Dl9nRBdLpkQS/QJEGnP2FBNhqSQKyjXUEqaWNBTsEcQUdOX0EENZxA00Y+QXw7YUFEERdBl3JeQQa2pkCvFiJBzExfQeQFD0GzU15BvpmyQKdoCkEDc15BZqsEQWbOXkG3o8JAplPuQLNTXkGujfRAhEBgQfixyUCw8s1AZs5eQSwB50AtzGBBICbaQHA8s0B5QGBBW+DcQGOfYkE7ENlAFqOcQC3MYEGLxNNA10ZjQdO48EDDXYhASp9iQdU8y0DZYGNByCrmQDmoa0DXRmNBaDLDQKoPYEHLhgBB/IdLQNlgY0F+rrtAvPVhQY558EB7oi9A2UNlQYq0tEBZnVxBViAHQR9jFkC89WFBtWGtQGUHX0GnL/9ALq7/Pw6cY0HpeqZACuNaQSeL9sCrw+Q8fnpnQTIjuMBALQG/wPvTwO4NGD/U+VNBWsOLwKvD5Dx2sKjAqdWWPzIzSUFZrEDAeQwYPyPKfMCCjuI/Fkw8QUlJ4b+61ZY/6JMqwChGFEBNWDFByuccv/SM4j8IKcG/sBszQP6AJ0HFR/M+qUcUQImP777ae09AL/IfQa3foT+wGzNAcxaAQLPG+MCVKAZBFCQrQaTR8L8145HBFkw8QSyhUEE6PSFBhS5xQRrwNcEk43tBEXlhQRCMREF+DwdBFmr2PxJTX8EcnJXBf8rkwMNGIUFetSpBCx1dQWFfj8EcSG1BGJlhQU1IM0EcFU5B83V1wQrFa0EQ+pfBgENzQZLhDcEgJ+s/kc4zwdJCfsEeSN3AU/DyQJWuV0EyM0lBrv6XwdT5U0F71G5BUsQqQRwVTkEYSXnBamJjQRyclcE6sFdBjOENwQYn6z+RzjPBPDFzwbWq3sBT8PJAHU9uQTjNT0GMOZ/BfnpnQbqfV0FSxCpBdItDQRhJecF0X1ZBQRyiwZBFc0HzMRHB9e8LQA==",
          "dtype": "f4"
         },
         "yaxis": "y"
        }
       ],
       "layout": {
        "autosize": true,
        "coloraxis": {
         "colorbar": {
          "title": {
           "text": "Cluster"
          }
         },
         "colorscale": [
          [
           0,
           "#0d0887"
          ],
          [
           0.1111111111111111,
           "#46039f"
          ],
          [
           0.2222222222222222,
           "#7201a8"
          ],
          [
           0.3333333333333333,
           "#9c179e"
          ],
          [
           0.4444444444444444,
           "#bd3786"
          ],
          [
           0.5555555555555556,
           "#d8576b"
          ],
          [
           0.6666666666666666,
           "#ed7953"
          ],
          [
           0.7777777777777778,
           "#fb9f3a"
          ],
          [
           0.8888888888888888,
           "#fdca26"
          ],
          [
           1,
           "#f0f921"
          ]
         ]
        },
        "legend": {
         "title": {
          "text": "Gender"
         },
         "tracegroupgap": 0
        },
        "template": {
         "data": {
          "bar": [
           {
            "error_x": {
             "color": "#2a3f5f"
            },
            "error_y": {
             "color": "#2a3f5f"
            },
            "marker": {
             "line": {
              "color": "#E5ECF6",
              "width": 0.5
             },
             "pattern": {
              "fillmode": "overlay",
              "size": 10,
              "solidity": 0.2
             }
            },
            "type": "bar"
           }
          ],
          "barpolar": [
           {
            "marker": {
             "line": {
              "color": "#E5ECF6",
              "width": 0.5
             },
             "pattern": {
              "fillmode": "overlay",
              "size": 10,
              "solidity": 0.2
             }
            },
            "type": "barpolar"
           }
          ],
          "carpet": [
           {
            "aaxis": {
             "endlinecolor": "#2a3f5f",
             "gridcolor": "white",
             "linecolor": "white",
             "minorgridcolor": "white",
             "startlinecolor": "#2a3f5f"
            },
            "baxis": {
             "endlinecolor": "#2a3f5f",
             "gridcolor": "white",
             "linecolor": "white",
             "minorgridcolor": "white",
             "startlinecolor": "#2a3f5f"
            },
            "type": "carpet"
           }
          ],
          "choropleth": [
           {
            "colorbar": {
             "outlinewidth": 0,
             "ticks": ""
            },
            "type": "choropleth"
           }
          ],
          "contour": [
           {
            "colorbar": {
             "outlinewidth": 0,
             "ticks": ""
            },
            "colorscale": [
             [
              0,
              "#0d0887"
             ],
             [
              0.1111111111111111,
              "#46039f"
             ],
             [
              0.2222222222222222,
              "#7201a8"
             ],
             [
              0.3333333333333333,
              "#9c179e"
             ],
             [
              0.4444444444444444,
              "#bd3786"
             ],
             [
              0.5555555555555556,
              "#d8576b"
             ],
             [
              0.6666666666666666,
              "#ed7953"
             ],
             [
              0.7777777777777778,
              "#fb9f3a"
             ],
             [
              0.8888888888888888,
              "#fdca26"
             ],
             [
              1,
              "#f0f921"
             ]
            ],
            "type": "contour"
           }
          ],
          "contourcarpet": [
           {
            "colorbar": {
             "outlinewidth": 0,
             "ticks": ""
            },
            "type": "contourcarpet"
           }
          ],
          "heatmap": [
           {
            "colorbar": {
             "outlinewidth": 0,
             "ticks": ""
            },
            "colorscale": [
             [
              0,
              "#0d0887"
             ],
             [
              0.1111111111111111,
              "#46039f"
             ],
             [
              0.2222222222222222,
              "#7201a8"
             ],
             [
              0.3333333333333333,
              "#9c179e"
             ],
             [
              0.4444444444444444,
              "#bd3786"
             ],
             [
              0.5555555555555556,
              "#d8576b"
             ],
             [
              0.6666666666666666,
              "#ed7953"
             ],
             [
              0.7777777777777778,
              "#fb9f3a"
             ],
             [
              0.8888888888888888,
              "#fdca26"
             ],
             [
              1,
              "#f0f921"
             ]
            ],
            "type": "heatmap"
           }
          ],
          "histogram": [
           {
            "marker": {
             "pattern": {
              "fillmode": "overlay",
              "size": 10,
              "solidity": 0.2
             }
            },
            "type": "histogram"
           }
          ],
          "histogram2d": [
           {
            "colorbar": {
             "outlinewidth": 0,
             "ticks": ""
            },
            "colorscale": [
             [
              0,
              "#0d0887"
             ],
             [
              0.1111111111111111,
              "#46039f"
             ],
             [
              0.2222222222222222,
              "#7201a8"
             ],
             [
              0.3333333333333333,
              "#9c179e"
             ],
             [
              0.4444444444444444,
              "#bd3786"
             ],
             [
              0.5555555555555556,
              "#d8576b"
             ],
             [
              0.6666666666666666,
              "#ed7953"
             ],
             [
              0.7777777777777778,
              "#fb9f3a"
             ],
             [
              0.8888888888888888,
              "#fdca26"
             ],
             [
              1,
              "#f0f921"
             ]
            ],
            "type": "histogram2d"
           }
          ],
          "histogram2dcontour": [
           {
            "colorbar": {
             "outlinewidth": 0,
             "ticks": ""
            },
            "colorscale": [
             [
              0,
              "#0d0887"
             ],
             [
              0.1111111111111111,
              "#46039f"
             ],
             [
              0.2222222222222222,
              "#7201a8"
             ],
             [
              0.3333333333333333,
              "#9c179e"
             ],
             [
              0.4444444444444444,
              "#bd3786"
             ],
             [
              0.5555555555555556,
              "#d8576b"
             ],
             [
              0.6666666666666666,
              "#ed7953"
             ],
             [
              0.7777777777777778,
              "#fb9f3a"
             ],
             [
              0.8888888888888888,
              "#fdca26"
             ],
             [
              1,
              "#f0f921"
             ]
            ],
            "type": "histogram2dcontour"
           }
          ],
          "mesh3d": [
           {
            "colorbar": {
             "outlinewidth": 0,
             "ticks": ""
            },
            "type": "mesh3d"
           }
          ],
          "parcoords": [
           {
            "line": {
             "colorbar": {
              "outlinewidth": 0,
              "ticks": ""
             }
            },
            "type": "parcoords"
           }
          ],
          "pie": [
           {
            "automargin": true,
            "type": "pie"
           }
          ],
          "scatter": [
           {
            "fillpattern": {
             "fillmode": "overlay",
             "size": 10,
             "solidity": 0.2
            },
            "type": "scatter"
           }
          ],
          "scatter3d": [
           {
            "line": {
             "colorbar": {
              "outlinewidth": 0,
              "ticks": ""
             }
            },
            "marker": {
             "colorbar": {
              "outlinewidth": 0,
              "ticks": ""
             }
            },
            "type": "scatter3d"
           }
          ],
          "scattercarpet": [
           {
            "marker": {
             "colorbar": {
              "outlinewidth": 0,
              "ticks": ""
             }
            },
            "type": "scattercarpet"
           }
          ],
          "scattergeo": [
           {
            "marker": {
             "colorbar": {
              "outlinewidth": 0,
              "ticks": ""
             }
            },
            "type": "scattergeo"
           }
          ],
          "scattergl": [
           {
            "marker": {
             "colorbar": {
              "outlinewidth": 0,
              "ticks": ""
             }
            },
            "type": "scattergl"
           }
          ],
          "scattermap": [
           {
            "marker": {
             "colorbar": {
              "outlinewidth": 0,
              "ticks": ""
             }
            },
            "type": "scattermap"
           }
          ],
          "scattermapbox": [
           {
            "marker": {
             "colorbar": {
              "outlinewidth": 0,
              "ticks": ""
             }
            },
            "type": "scattermapbox"
           }
          ],
          "scatterpolar": [
           {
            "marker": {
             "colorbar": {
              "outlinewidth": 0,
              "ticks": ""
             }
            },
            "type": "scatterpolar"
           }
          ],
          "scatterpolargl": [
           {
            "marker": {
             "colorbar": {
              "outlinewidth": 0,
              "ticks": ""
             }
            },
            "type": "scatterpolargl"
           }
          ],
          "scatterternary": [
           {
            "marker": {
             "colorbar": {
              "outlinewidth": 0,
              "ticks": ""
             }
            },
            "type": "scatterternary"
           }
          ],
          "surface": [
           {
            "colorbar": {
             "outlinewidth": 0,
             "ticks": ""
            },
            "colorscale": [
             [
              0,
              "#0d0887"
             ],
             [
              0.1111111111111111,
              "#46039f"
             ],
             [
              0.2222222222222222,
              "#7201a8"
             ],
             [
              0.3333333333333333,
              "#9c179e"
             ],
             [
              0.4444444444444444,
              "#bd3786"
             ],
             [
              0.5555555555555556,
              "#d8576b"
             ],
             [
              0.6666666666666666,
              "#ed7953"
             ],
             [
              0.7777777777777778,
              "#fb9f3a"
             ],
             [
              0.8888888888888888,
              "#fdca26"
             ],
             [
              1,
              "#f0f921"
             ]
            ],
            "type": "surface"
           }
          ],
          "table": [
           {
            "cells": {
             "fill": {
              "color": "#EBF0F8"
             },
             "line": {
              "color": "white"
             }
            },
            "header": {
             "fill": {
              "color": "#C8D4E3"
             },
             "line": {
              "color": "white"
             }
            },
            "type": "table"
           }
          ]
         },
         "layout": {
          "annotationdefaults": {
           "arrowcolor": "#2a3f5f",
           "arrowhead": 0,
           "arrowwidth": 1
          },
          "autotypenumbers": "strict",
          "coloraxis": {
           "colorbar": {
            "outlinewidth": 0,
            "ticks": ""
           }
          },
          "colorscale": {
           "diverging": [
            [
             0,
             "#8e0152"
            ],
            [
             0.1,
             "#c51b7d"
            ],
            [
             0.2,
             "#de77ae"
            ],
            [
             0.3,
             "#f1b6da"
            ],
            [
             0.4,
             "#fde0ef"
            ],
            [
             0.5,
             "#f7f7f7"
            ],
            [
             0.6,
             "#e6f5d0"
            ],
            [
             0.7,
             "#b8e186"
            ],
            [
             0.8,
             "#7fbc41"
            ],
            [
             0.9,
             "#4d9221"
            ],
            [
             1,
             "#276419"
            ]
           ],
           "sequential": [
            [
             0,
             "#0d0887"
            ],
            [
             0.1111111111111111,
             "#46039f"
            ],
            [
             0.2222222222222222,
             "#7201a8"
            ],
            [
             0.3333333333333333,
             "#9c179e"
            ],
            [
             0.4444444444444444,
             "#bd3786"
            ],
            [
             0.5555555555555556,
             "#d8576b"
            ],
            [
             0.6666666666666666,
             "#ed7953"
            ],
            [
             0.7777777777777778,
             "#fb9f3a"
            ],
            [
             0.8888888888888888,
             "#fdca26"
            ],
            [
             1,
             "#f0f921"
            ]
           ],
           "sequentialminus": [
            [
             0,
             "#0d0887"
            ],
            [
             0.1111111111111111,
             "#46039f"
            ],
            [
             0.2222222222222222,
             "#7201a8"
            ],
            [
             0.3333333333333333,
             "#9c179e"
            ],
            [
             0.4444444444444444,
             "#bd3786"
            ],
            [
             0.5555555555555556,
             "#d8576b"
            ],
            [
             0.6666666666666666,
             "#ed7953"
            ],
            [
             0.7777777777777778,
             "#fb9f3a"
            ],
            [
             0.8888888888888888,
             "#fdca26"
            ],
            [
             1,
             "#f0f921"
            ]
           ]
          },
          "colorway": [
           "#636efa",
           "#EF553B",
           "#00cc96",
           "#ab63fa",
           "#FFA15A",
           "#19d3f3",
           "#FF6692",
           "#B6E880",
           "#FF97FF",
           "#FECB52"
          ],
          "font": {
           "color": "#2a3f5f"
          },
          "geo": {
           "bgcolor": "white",
           "lakecolor": "white",
           "landcolor": "#E5ECF6",
           "showlakes": true,
           "showland": true,
           "subunitcolor": "white"
          },
          "hoverlabel": {
           "align": "left"
          },
          "hovermode": "closest",
          "mapbox": {
           "style": "light"
          },
          "paper_bgcolor": "white",
          "plot_bgcolor": "#E5ECF6",
          "polar": {
           "angularaxis": {
            "gridcolor": "white",
            "linecolor": "white",
            "ticks": ""
           },
           "bgcolor": "#E5ECF6",
           "radialaxis": {
            "gridcolor": "white",
            "linecolor": "white",
            "ticks": ""
           }
          },
          "scene": {
           "xaxis": {
            "backgroundcolor": "#E5ECF6",
            "gridcolor": "white",
            "gridwidth": 2,
            "linecolor": "white",
            "showbackground": true,
            "ticks": "",
            "zerolinecolor": "white"
           },
           "yaxis": {
            "backgroundcolor": "#E5ECF6",
            "gridcolor": "white",
            "gridwidth": 2,
            "linecolor": "white",
            "showbackground": true,
            "ticks": "",
            "zerolinecolor": "white"
           },
           "zaxis": {
            "backgroundcolor": "#E5ECF6",
            "gridcolor": "white",
            "gridwidth": 2,
            "linecolor": "white",
            "showbackground": true,
            "ticks": "",
            "zerolinecolor": "white"
           }
          },
          "shapedefaults": {
           "line": {
            "color": "#2a3f5f"
           }
          },
          "ternary": {
           "aaxis": {
            "gridcolor": "white",
            "linecolor": "white",
            "ticks": ""
           },
           "baxis": {
            "gridcolor": "white",
            "linecolor": "white",
            "ticks": ""
           },
           "bgcolor": "#E5ECF6",
           "caxis": {
            "gridcolor": "white",
            "linecolor": "white",
            "ticks": ""
           }
          },
          "title": {
           "x": 0.05
          },
          "xaxis": {
           "automargin": true,
           "gridcolor": "white",
           "linecolor": "white",
           "ticks": "",
           "title": {
            "standoff": 15
           },
           "zerolinecolor": "white",
           "zerolinewidth": 2
          },
          "yaxis": {
           "automargin": true,
           "gridcolor": "white",
           "linecolor": "white",
           "ticks": "",
           "title": {
            "standoff": 15
           },
           "zerolinecolor": "white",
           "zerolinewidth": 2
          }
         }
        },
        "title": {
         "text": "Cluster Grouping of Students (t-SNE)"
        },
        "xaxis": {
         "anchor": "y",
         "autorange": true,
         "domain": [
          0,
          1
         ],
         "range": [
          -54.78507110809603,
          45.44377014374056
         ],
         "title": {
          "text": "TSNE-1"
         },
         "type": "linear"
        },
        "yaxis": {
         "anchor": "x",
         "autorange": true,
         "domain": [
          0,
          1
         ],
         "range": [
          -23.72740590919569,
          21.253534678116587
         ],
         "title": {
          "text": "TSNE-2"
         },
         "type": "linear"
        }
       }
      },
      "image/png": "[encoded data removed]"
     },
     "metadata": {},
     "output_type": "display_data"
    }
   ],
   "source": [
    "# Prepare features for clustering\n",
    "features = df[['Addicted_Score', 'Avg_Daily_Usage_Hours', 'Sleep_Hours_Per_Night']]\n",
    "features_scaled = scaler.fit_transform(features)\n",
    "\n",
    "# KMeans clustering\n",
    "kmeans = KMeans(n_clusters=3, random_state=42)\n",
    "df['Cluster'] = kmeans.fit_predict(features_scaled)\n",
    "\n",
    "# t-SNE for visualization\n",
    "tsne = TSNE(n_components=2, random_state=42)\n",
    "tsne_results = tsne.fit_transform(features_scaled)\n",
    "df['TSNE-1'] = tsne_results[:, 0]\n",
    "df['TSNE-2'] = tsne_results[:, 1]\n",
    "\n",
    "# Clustered scatter plot (t-SNE)\n",
    "fig = px.scatter(df, x='TSNE-1', y='TSNE-2', color='Cluster', symbol='Gender',\n",
    "                 title='Cluster Grouping of Students (t-SNE)')\n",
    "fig.show()\n"
   ]
  },
  {
   "cell_type": "code",
   "execution_count": 16,
   "id": "93435649-9a69-4d42-a452-8fd035824d66",
   "metadata": {},
   "outputs": [
    {
     "data": {
      "application/vnd.plotly.v1+json": {
       "config": {
        "plotlyServerURL": "https://plot.ly"
       },
       "data": [
        {
         "alignmentgroup": "True",
         "hovertemplate": "Addiction_Level=High<br>Most_Used_Platform=%{x}<br>Addicted_Score=%{y}<extra></extra>",
         "legendgroup": "High",
         "marker": {
          "color": "#636efa",
          "pattern": {
           "shape": ""
          }
         },
         "name": "High",
         "offsetgroup": "High",
         "orientation": "v",
         "showlegend": true,
         "textposition": "auto",
         "type": "bar",
         "x": [
          "Instagram",
          "Tiktok",
          "Instagram",
          "Snapchat",
          "Tiktok",
          "Instagram",
          "Instagram",
          "Tiktok",
          "Tiktok",
          "Instagram",
          "Instagram",
          "Tiktok",
          "Tiktok",
          "Instagram",
          "Instagram",
          "Tiktok",
          "Tiktok",
          "Instagram",
          "Instagram",
          "Tiktok",
          "Tiktok",
          "Instagram",
          "Snapchat",
          "Tiktok",
          "Snapchat",
          "Instagram",
          "Tiktok",
          "Instagram",
          "Snapchat",
          "Tiktok",
          "Instagram",
          "Instagram",
          "Snapchat",
          "Tiktok",
          "Youtube",
          "Instagram",
          "Snapchat",
          "Instagram",
          "Instagram",
          "Facebook",
          "Instagram",
          "Tiktok",
          "Instagram",
          "Facebook",
          "Instagram",
          "Tiktok",
          "Instagram",
          "Facebook",
          "Instagram",
          "Tiktok",
          "Instagram",
          "Facebook",
          "Instagram",
          "Tiktok",
          "Tiktok",
          "Tiktok",
          "Tiktok",
          "Tiktok",
          "Tiktok",
          "Tiktok",
          "Tiktok",
          "Tiktok",
          "Tiktok",
          "Tiktok",
          "Tiktok",
          "Tiktok",
          "Tiktok",
          "Tiktok",
          "Tiktok",
          "Tiktok",
          "Tiktok",
          "Tiktok",
          "Tiktok",
          "Tiktok",
          "Instagram",
          "Tiktok",
          "Tiktok",
          "Instagram",
          "Tiktok",
          "Tiktok",
          "Instagram",
          "Tiktok",
          "Tiktok",
          "Instagram",
          "Tiktok",
          "Tiktok",
          "Instagram",
          "Tiktok",
          "Tiktok",
          "Instagram",
          "Tiktok",
          "Tiktok",
          "Instagram",
          "Whatsapp",
          "Tiktok",
          "Whatsapp",
          "Instagram",
          "Whatsapp",
          "Tiktok",
          "Whatsapp",
          "Instagram",
          "Whatsapp",
          "Tiktok",
          "Whatsapp",
          "Instagram",
          "Whatsapp",
          "Tiktok",
          "Whatsapp",
          "Instagram",
          "Whatsapp",
          "Tiktok",
          "Whatsapp",
          "Instagram",
          "Whatsapp",
          "Tiktok",
          "Whatsapp",
          "Instagram",
          "Whatsapp",
          "Tiktok",
          "Whatsapp",
          "Instagram",
          "Whatsapp",
          "Tiktok",
          "Whatsapp",
          "Instagram",
          "Whatsapp",
          "Tiktok",
          "Whatsapp",
          "Instagram",
          "Instagram",
          "Whatsapp",
          "Instagram",
          "Whatsapp",
          "Instagram",
          "Whatsapp",
          "Instagram",
          "Whatsapp",
          "Instagram",
          "Whatsapp",
          "Instagram",
          "Whatsapp",
          "Instagram",
          "Whatsapp",
          "Tiktok",
          "Facebook",
          "Tiktok",
          "Facebook",
          "Tiktok",
          "Instagram",
          "Facebook",
          "Tiktok",
          "Instagram",
          "Tiktok",
          "Facebook",
          "Facebook",
          "Instagram",
          "Instagram",
          "Tiktok",
          "Facebook",
          "Tiktok",
          "Facebook",
          "Tiktok",
          "Instagram",
          "Tiktok",
          "Facebook",
          "Tiktok",
          "Instagram",
          "Facebook",
          "Facebook",
          "Instagram",
          "Tiktok",
          "Facebook",
          "Tiktok",
          "Instagram",
          "Facebook",
          "Twitter",
          "Instagram",
          "Tiktok",
          "Facebook",
          "Tiktok",
          "Instagram",
          "Tiktok",
          "Twitter",
          "Instagram",
          "Facebook",
          "Tiktok",
          "Facebook",
          "Instagram",
          "Facebook",
          "Twitter",
          "Instagram",
          "Tiktok",
          "Facebook",
          "Tiktok",
          "Instagram",
          "Tiktok",
          "Twitter",
          "Instagram",
          "Facebook"
         ],
         "xaxis": "x",
         "y": {
          "_inputArray": {
           "0": 8,
           "1": 9,
           "10": 8,
           "100": 9,
           "101": 8,
           "102": 9,
           "103": 8,
           "104": 9,
           "105": 8,
           "106": 9,
           "107": 8,
           "108": 9,
           "109": 8,
           "11": 8,
           "110": 9,
           "111": 8,
           "112": 9,
           "113": 8,
           "114": 9,
           "115": 8,
           "116": 9,
           "117": 8,
           "118": 9,
           "119": 8,
           "12": 8,
           "120": 9,
           "121": 8,
           "122": 9,
           "123": 8,
           "124": 9,
           "125": 8,
           "126": 9,
           "127": 8,
           "128": 9,
           "129": 8,
           "13": 9,
           "130": 8,
           "131": 8,
           "132": 8,
           "133": 8,
           "134": 8,
           "135": 8,
           "136": 8,
           "137": 8,
           "138": 8,
           "139": 8,
           "14": 8,
           "140": 8,
           "141": 8,
           "142": 8,
           "143": 8,
           "144": 9,
           "145": 8,
           "146": 8,
           "147": 8,
           "148": 8,
           "149": 8,
           "15": 8,
           "150": 8,
           "151": 9,
           "152": 8,
           "153": 8,
           "154": 8,
           "155": 8,
           "156": 8,
           "157": 8,
           "158": 9,
           "159": 8,
           "16": 8,
           "160": 8,
           "161": 8,
           "162": 9,
           "163": 8,
           "164": 8,
           "165": 9,
           "166": 8,
           "167": 8,
           "168": 8,
           "169": 9,
           "17": 9,
           "170": 8,
           "171": 8,
           "172": 9,
           "173": 8,
           "174": 8,
           "175": 8,
           "176": 9,
           "177": 8,
           "178": 8,
           "179": 9,
           "18": 8,
           "180": 8,
           "181": 8,
           "182": 8,
           "183": 9,
           "184": 8,
           "185": 8,
           "186": 9,
           "187": 8,
           "188": 8,
           "189": 8,
           "19": 8,
           "190": 9,
           "191": 8,
           "192": 8,
           "193": 9,
           "194": 8,
           "195": 8,
           "196": 8,
           "197": 9,
           "198": 8,
           "2": 9,
           "20": 8,
           "21": 8,
           "22": 9,
           "23": 8,
           "24": 8,
           "25": 8,
           "26": 8,
           "27": 9,
           "28": 8,
           "29": 8,
           "3": 8,
           "30": 9,
           "31": 8,
           "32": 8,
           "33": 8,
           "34": 9,
           "35": 8,
           "36": 8,
           "37": 8,
           "38": 8,
           "39": 8,
           "4": 8,
           "40": 8,
           "41": 8,
           "42": 8,
           "43": 8,
           "44": 8,
           "45": 8,
           "46": 8,
           "47": 8,
           "48": 8,
           "49": 8,
           "5": 9,
           "50": 8,
           "51": 8,
           "52": 8,
           "53": 8,
           "54": 8,
           "55": 8,
           "56": 8,
           "57": 8,
           "58": 8,
           "59": 8,
           "6": 8,
           "60": 8,
           "61": 8,
           "62": 8,
           "63": 8,
           "64": 8,
           "65": 8,
           "66": 8,
           "67": 8,
           "68": 8,
           "69": 8,
           "7": 8,
           "70": 8,
           "71": 8,
           "72": 8,
           "73": 8,
           "74": 9,
           "75": 9,
           "76": 8,
           "77": 9,
           "78": 9,
           "79": 8,
           "8": 8,
           "80": 9,
           "81": 9,
           "82": 8,
           "83": 9,
           "84": 9,
           "85": 8,
           "86": 9,
           "87": 9,
           "88": 8,
           "89": 9,
           "9": 9,
           "90": 9,
           "91": 8,
           "92": 9,
           "93": 8,
           "94": 9,
           "95": 8,
           "96": 9,
           "97": 8,
           "98": 9,
           "99": 8,
           "bdata": "CAkJCAgJCAgICQgICAkICAgJCAgICAkICAgICQgICQgICAkICAgICAgICAgICAgICAgICAgICAgICAgICAgICAgICAgICAgICAgJCQgJCQgJCQgJCQgJCQgJCQgJCAkICQgJCAkICQgJCAkICQgJCAkICQgJCAkICQgJCAkICQgJCAgICAgICAgICAgICAgICQgICAgICAkICAgICAgJCAgICQgICQgICAkICAkICAgJCAgJCAgICQgICQgICAkICAkICAgJCA==",
           "dtype": "i1",
           "shape": "199"
          },
          "bdata": "CAkJCAgJCAgICQgICAkICAgJCAgICAkICAgICQgICQgICAkICAgICAgICAgICAgICAgICAgICAgICAgICAgICAgICAgICAgICAgJCQgJCQgJCQgJCQgJCQgJCQgJCAkICQgJCAkICQgJCAkICQgJCAkICQgJCAkICQgJCAkICQgJCAgICAgICAgICAgICAgICQgICAgICAkICAgICAgJCAgICQgICQgICAkICAkICAgJCAgJCAgICQgICQgICAkICAkICAgJCA==",
          "dtype": "i1"
         },
         "yaxis": "y"
        },
        {
         "alignmentgroup": "True",
         "hovertemplate": "Addiction_Level=Low<br>Most_Used_Platform=%{x}<br>Addicted_Score=%{y}<extra></extra>",
         "legendgroup": "Low",
         "marker": {
          "color": "#EF553B",
          "pattern": {
           "shape": ""
          }
         },
         "name": "Low",
         "offsetgroup": "Low",
         "orientation": "v",
         "showlegend": true,
         "textposition": "auto",
         "type": "bar",
         "x": [
          "Twitter",
          "Youtube",
          "Linkedin",
          "Tiktok",
          "Instagram",
          "Linkedin",
          "Youtube",
          "Linkedin",
          "Facebook",
          "Linkedin",
          "Facebook",
          "Youtube",
          "Linkedin",
          "Facebook",
          "Linkedin",
          "Facebook",
          "Linkedin",
          "Facebook",
          "Linkedin",
          "Facebook",
          "Linkedin",
          "Facebook",
          "Linkedin",
          "Facebook",
          "Linkedin",
          "Linkedin",
          "Facebook",
          "Linkedin",
          "Facebook",
          "Linkedin",
          "Linkedin",
          "Linkedin",
          "Facebook",
          "Linkedin",
          "Linkedin",
          "Linkedin",
          "Linkedin",
          "Linkedin",
          "Facebook",
          "Instagram",
          "Tiktok",
          "Instagram",
          "Facebook",
          "Instagram",
          "Tiktok",
          "Instagram",
          "Facebook",
          "Instagram",
          "Tiktok",
          "Instagram",
          "Facebook",
          "Instagram",
          "Tiktok",
          "Instagram",
          "Facebook",
          "Facebook",
          "Facebook",
          "Facebook",
          "Facebook",
          "Facebook",
          "Facebook",
          "Facebook",
          "Facebook",
          "Facebook",
          "Instagram",
          "Facebook",
          "Line",
          "Vkontakte",
          "Facebook",
          "Instagram",
          "Line",
          "Vkontakte",
          "Instagram",
          "Facebook",
          "Line",
          "Vkontakte",
          "Facebook",
          "Instagram",
          "Line",
          "Vkontakte",
          "Instagram",
          "Facebook",
          "Line",
          "Vkontakte",
          "Facebook",
          "Instagram",
          "Line",
          "Vkontakte",
          "Instagram",
          "Facebook",
          "Line",
          "Vkontakte",
          "Facebook",
          "Instagram",
          "Line",
          "Vkontakte",
          "Instagram",
          "Facebook",
          "Line",
          "Vkontakte",
          "Facebook",
          "Instagram",
          "Line",
          "Vkontakte",
          "Instagram",
          "Facebook",
          "Line",
          "Vkontakte",
          "Facebook",
          "Instagram",
          "Line",
          "Vkontakte",
          "Instagram",
          "Facebook",
          "Facebook",
          "Instagram",
          "Instagram",
          "Facebook",
          "Instagram",
          "Instagram",
          "Facebook",
          "Instagram",
          "Instagram",
          "Facebook",
          "Instagram",
          "Instagram",
          "Facebook",
          "Instagram",
          "Instagram",
          "Facebook",
          "Instagram",
          "Instagram",
          "Facebook",
          "Instagram",
          "Instagram",
          "Facebook",
          "Instagram",
          "Instagram",
          "Facebook",
          "Instagram",
          "Instagram",
          "Facebook",
          "Instagram",
          "Instagram",
          "Facebook",
          "Instagram",
          "Instagram",
          "Facebook",
          "Instagram",
          "Instagram",
          "Facebook",
          "Instagram",
          "Instagram",
          "Facebook",
          "Instagram",
          "Instagram",
          "Facebook",
          "Instagram",
          "Instagram",
          "Facebook",
          "Instagram",
          "Instagram",
          "Facebook",
          "Instagram",
          "Instagram",
          "Facebook",
          "Instagram",
          "Instagram",
          "Wechat",
          "Instagram",
          "Facebook",
          "Wechat",
          "Tiktok",
          "Facebook",
          "Wechat",
          "Instagram",
          "Facebook",
          "Wechat",
          "Instagram",
          "Facebook",
          "Wechat",
          "Instagram",
          "Facebook",
          "Wechat",
          "Instagram",
          "Facebook",
          "Wechat",
          "Instagram",
          "Facebook",
          "Twitter",
          "Instagram",
          "Twitter",
          "Facebook",
          "Twitter",
          "Instagram",
          "Instagram",
          "Facebook",
          "Tiktok",
          "Twitter",
          "Twitter",
          "Facebook",
          "Instagram",
          "Instagram",
          "Twitter",
          "Facebook",
          "Twitter",
          "Instagram",
          "Twitter",
          "Facebook",
          "Instagram",
          "Twitter",
          "Twitter",
          "Instagram",
          "Twitter",
          "Facebook",
          "Instagram",
          "Facebook",
          "Twitter",
          "Instagram",
          "Twitter",
          "Facebook",
          "Facebook",
          "Tiktok",
          "Twitter",
          "Instagram",
          "Twitter",
          "Tiktok",
          "Instagram",
          "Facebook",
          "Twitter",
          "Instagram",
          "Twitter",
          "Facebook",
          "Facebook",
          "Tiktok",
          "Twitter"
         ],
         "xaxis": "x",
         "y": {
          "_inputArray": {
           "0": 3,
           "1": 4,
           "10": 5,
           "100": 5,
           "101": 4,
           "102": 3,
           "103": 5,
           "104": 5,
           "105": 4,
           "106": 3,
           "107": 5,
           "108": 5,
           "109": 4,
           "11": 5,
           "110": 3,
           "111": 5,
           "112": 5,
           "113": 4,
           "114": 4,
           "115": 4,
           "116": 5,
           "117": 4,
           "118": 4,
           "119": 5,
           "12": 3,
           "120": 4,
           "121": 4,
           "122": 5,
           "123": 4,
           "124": 4,
           "125": 5,
           "126": 4,
           "127": 4,
           "128": 5,
           "129": 4,
           "13": 5,
           "130": 4,
           "131": 5,
           "132": 4,
           "133": 4,
           "134": 5,
           "135": 4,
           "136": 4,
           "137": 5,
           "138": 4,
           "139": 4,
           "14": 4,
           "140": 5,
           "141": 4,
           "142": 4,
           "143": 5,
           "144": 4,
           "145": 4,
           "146": 5,
           "147": 4,
           "148": 4,
           "149": 5,
           "15": 5,
           "150": 4,
           "151": 4,
           "152": 5,
           "153": 4,
           "154": 4,
           "155": 5,
           "156": 4,
           "157": 4,
           "158": 5,
           "159": 4,
           "16": 4,
           "160": 4,
           "161": 5,
           "162": 4,
           "163": 4,
           "164": 5,
           "165": 4,
           "166": 4,
           "167": 5,
           "168": 5,
           "169": 4,
           "17": 5,
           "170": 5,
           "171": 5,
           "172": 4,
           "173": 5,
           "174": 5,
           "175": 4,
           "176": 5,
           "177": 5,
           "178": 4,
           "179": 5,
           "18": 4,
           "180": 5,
           "181": 4,
           "182": 5,
           "183": 5,
           "184": 4,
           "185": 5,
           "186": 5,
           "187": 4,
           "188": 5,
           "189": 4,
           "19": 5,
           "190": 5,
           "191": 5,
           "192": 5,
           "193": 4,
           "194": 5,
           "195": 5,
           "196": 5,
           "197": 5,
           "198": 5,
           "199": 4,
           "2": 2,
           "20": 4,
           "200": 5,
           "201": 5,
           "202": 5,
           "203": 5,
           "204": 5,
           "205": 4,
           "206": 5,
           "207": 5,
           "208": 5,
           "209": 5,
           "21": 5,
           "210": 5,
           "211": 4,
           "212": 5,
           "213": 5,
           "214": 5,
           "215": 5,
           "216": 5,
           "217": 4,
           "218": 5,
           "219": 5,
           "22": 4,
           "220": 5,
           "221": 5,
           "222": 5,
           "223": 4,
           "224": 5,
           "225": 5,
           "226": 5,
           "227": 5,
           "228": 5,
           "229": 4,
           "23": 5,
           "230": 5,
           "231": 5,
           "232": 5,
           "233": 5,
           "234": 5,
           "235": 4,
           "24": 3,
           "25": 4,
           "26": 5,
           "27": 4,
           "28": 5,
           "29": 4,
           "3": 5,
           "30": 4,
           "31": 4,
           "32": 5,
           "33": 4,
           "34": 4,
           "35": 4,
           "36": 5,
           "37": 4,
           "38": 5,
           "39": 5,
           "4": 4,
           "40": 5,
           "41": 5,
           "42": 5,
           "43": 5,
           "44": 5,
           "45": 5,
           "46": 5,
           "47": 5,
           "48": 5,
           "49": 5,
           "5": 4,
           "50": 5,
           "51": 5,
           "52": 5,
           "53": 5,
           "54": 5,
           "55": 5,
           "56": 5,
           "57": 5,
           "58": 5,
           "59": 5,
           "6": 5,
           "60": 5,
           "61": 5,
           "62": 5,
           "63": 5,
           "64": 5,
           "65": 4,
           "66": 3,
           "67": 5,
           "68": 5,
           "69": 4,
           "7": 3,
           "70": 3,
           "71": 5,
           "72": 5,
           "73": 4,
           "74": 3,
           "75": 5,
           "76": 5,
           "77": 4,
           "78": 3,
           "79": 5,
           "8": 5,
           "80": 5,
           "81": 4,
           "82": 3,
           "83": 5,
           "84": 5,
           "85": 4,
           "86": 3,
           "87": 5,
           "88": 5,
           "89": 4,
           "9": 4,
           "90": 3,
           "91": 5,
           "92": 5,
           "93": 4,
           "94": 3,
           "95": 5,
           "96": 5,
           "97": 4,
           "98": 3,
           "99": 5,
           "bdata": "AwQCBQQEBQMFBAUFAwUEBQQFBAUEBQQFAwQFBAUEBAQFBAQEBQQFBQUFBQUFBQUFBQUFBQUFBQUFBQUFBQUFBQUEAwUFBAMFBQQDBQUEAwUFBAMFBQQDBQUEAwUFBAMFBQQDBQUEAwUFBAMFBQQDBQUEBAQFBAQFBAQFBAQFBAQFBAQFBAQFBAQFBAQFBAQFBAQFBAQFBAQFBAQFBAQFBAQFBAQFBAQFBQQFBQQFBQQFBQQFBQQFBQQFBQQFBAUFBQQFBQUFBQQFBQUFBQQFBQUFBQQFBQUFBQQFBQUFBQQFBQUFBQQFBQUFBQQ=",
           "dtype": "i1",
           "shape": "236"
          },
          "bdata": "AwQCBQQEBQMFBAUFAwUEBQQFBAUEBQQFAwQFBAUEBAQFBAQEBQQFBQUFBQUFBQUFBQUFBQUFBQUFBQUFBQUFBQUEAwUFBAMFBQQDBQUEAwUFBAMFBQQDBQUEAwUFBAMFBQQDBQUEAwUFBAMFBQQDBQUEBAQFBAQFBAQFBAQFBAQFBAQFBAQFBAQFBAQFBAQFBAQFBAQFBAQFBAQFBAQFBAQFBAQFBAQFBQQFBQQFBQQFBQQFBQQFBQQFBQQFBAUFBQQFBQUFBQQFBQUFBQQFBQUFBQQFBQUFBQQFBQUFBQQFBQUFBQQFBQUFBQQ=",
          "dtype": "i1"
         },
         "yaxis": "y"
        },
        {
         "alignmentgroup": "True",
         "hovertemplate": "Addiction_Level=Medium<br>Most_Used_Platform=%{x}<br>Addicted_Score=%{y}<extra></extra>",
         "legendgroup": "Medium",
         "marker": {
          "color": "#00cc96",
          "pattern": {
           "shape": ""
          }
         },
         "name": "Medium",
         "offsetgroup": "Medium",
         "orientation": "v",
         "showlegend": true,
         "textposition": "auto",
         "type": "bar",
         "x": [
          "Facebook",
          "Snapchat",
          "Tiktok",
          "Snapchat",
          "Instagram",
          "Tiktok",
          "Snapchat",
          "Instagram",
          "Youtube",
          "Tiktok",
          "Snapchat",
          "Instagram",
          "Youtube",
          "Tiktok",
          "Snapchat",
          "Instagram",
          "Tiktok",
          "Instagram",
          "Youtube",
          "Instagram",
          "Tiktok",
          "Snapchat",
          "Youtube",
          "Tiktok",
          "Facebook",
          "Instagram",
          "Youtube",
          "Tiktok",
          "Snapchat",
          "Tiktok",
          "Instagram",
          "Facebook",
          "Tiktok",
          "Youtube",
          "Instagram",
          "Tiktok",
          "Tiktok",
          "Instagram",
          "Facebook",
          "Instagram",
          "Tiktok",
          "Instagram",
          "Facebook",
          "Instagram",
          "Tiktok",
          "Instagram",
          "Facebook",
          "Instagram",
          "Tiktok",
          "Instagram",
          "Facebook",
          "Instagram",
          "Instagram",
          "Facebook",
          "Instagram",
          "Instagram",
          "Facebook",
          "Instagram",
          "Instagram",
          "Facebook",
          "Instagram",
          "Instagram",
          "Facebook",
          "Instagram",
          "Instagram",
          "Facebook",
          "Instagram",
          "Instagram",
          "Facebook",
          "Instagram",
          "Instagram",
          "Facebook",
          "Instagram",
          "Instagram",
          "Facebook",
          "Instagram",
          "Instagram",
          "Facebook",
          "Instagram",
          "Instagram",
          "Facebook",
          "Instagram",
          "Tiktok",
          "Instagram",
          "Kakaotalk",
          "Instagram",
          "Kakaotalk",
          "Facebook",
          "Instagram",
          "Kakaotalk",
          "Instagram",
          "Kakaotalk",
          "Facebook",
          "Instagram",
          "Kakaotalk",
          "Instagram",
          "Kakaotalk",
          "Facebook",
          "Instagram",
          "Kakaotalk",
          "Instagram",
          "Kakaotalk",
          "Facebook",
          "Instagram",
          "Kakaotalk",
          "Instagram",
          "Kakaotalk",
          "Facebook",
          "Instagram",
          "Kakaotalk",
          "Instagram",
          "Kakaotalk",
          "Facebook",
          "Instagram",
          "Instagram",
          "Instagram",
          "Whatsapp",
          "Instagram",
          "Tiktok",
          "Instagram",
          "Tiktok",
          "Whatsapp",
          "Tiktok",
          "Instagram",
          "Tiktok",
          "Instagram",
          "Whatsapp",
          "Instagram",
          "Tiktok",
          "Instagram",
          "Tiktok",
          "Whatsapp",
          "Tiktok",
          "Instagram",
          "Tiktok",
          "Instagram",
          "Whatsapp",
          "Instagram",
          "Tiktok",
          "Instagram",
          "Tiktok",
          "Whatsapp",
          "Tiktok",
          "Instagram",
          "Tiktok",
          "Instagram",
          "Whatsapp",
          "Instagram",
          "Tiktok",
          "Instagram",
          "Tiktok",
          "Whatsapp",
          "Tiktok",
          "Instagram",
          "Tiktok",
          "Instagram",
          "Whatsapp",
          "Instagram",
          "Tiktok",
          "Instagram",
          "Tiktok",
          "Whatsapp",
          "Tiktok",
          "Instagram",
          "Tiktok",
          "Instagram",
          "Whatsapp",
          "Instagram",
          "Tiktok",
          "Instagram",
          "Tiktok",
          "Whatsapp",
          "Tiktok",
          "Instagram",
          "Tiktok",
          "Instagram",
          "Whatsapp",
          "Instagram",
          "Tiktok",
          "Instagram",
          "Tiktok",
          "Whatsapp",
          "Tiktok",
          "Instagram",
          "Tiktok",
          "Instagram",
          "Whatsapp",
          "Instagram",
          "Tiktok",
          "Instagram",
          "Tiktok",
          "Whatsapp",
          "Tiktok",
          "Instagram",
          "Tiktok",
          "Instagram",
          "Whatsapp",
          "Instagram",
          "Tiktok",
          "Instagram",
          "Tiktok",
          "Whatsapp",
          "Tiktok",
          "Whatsapp",
          "Instagram",
          "Tiktok",
          "Whatsapp",
          "Instagram",
          "Instagram",
          "Instagram",
          "Tiktok",
          "Whatsapp",
          "Tiktok",
          "Whatsapp",
          "Facebook",
          "Tiktok",
          "Whatsapp",
          "Instagram",
          "Tiktok",
          "Facebook",
          "Tiktok",
          "Whatsapp",
          "Tiktok",
          "Whatsapp",
          "Instagram",
          "Tiktok",
          "Whatsapp",
          "Instagram",
          "Tiktok",
          "Facebook",
          "Tiktok",
          "Whatsapp",
          "Tiktok",
          "Whatsapp",
          "Instagram",
          "Tiktok",
          "Whatsapp",
          "Instagram",
          "Instagram",
          "Instagram",
          "Instagram",
          "Wechat",
          "Twitter",
          "Instagram",
          "Instagram",
          "Wechat",
          "Twitter",
          "Instagram",
          "Instagram",
          "Wechat",
          "Instagram",
          "Twitter",
          "Tiktok",
          "Wechat",
          "Instagram",
          "Twitter",
          "Tiktok",
          "Wechat",
          "Instagram",
          "Twitter",
          "Instagram",
          "Wechat",
          "Instagram",
          "Twitter",
          "Tiktok",
          "Wechat",
          "Instagram",
          "Twitter",
          "Instagram",
          "Wechat"
         ],
         "xaxis": "x",
         "y": {
          "_inputArray": {
           "0": 7,
           "1": 7,
           "10": 7,
           "100": 7,
           "101": 6,
           "102": 7,
           "103": 7,
           "104": 6,
           "105": 7,
           "106": 6,
           "107": 7,
           "108": 7,
           "109": 6,
           "11": 7,
           "110": 7,
           "111": 6,
           "112": 7,
           "113": 7,
           "114": 6,
           "115": 7,
           "116": 7,
           "117": 7,
           "118": 7,
           "119": 6,
           "12": 6,
           "120": 7,
           "121": 7,
           "122": 7,
           "123": 7,
           "124": 6,
           "125": 7,
           "126": 7,
           "127": 7,
           "128": 7,
           "129": 6,
           "13": 7,
           "130": 7,
           "131": 7,
           "132": 7,
           "133": 7,
           "134": 6,
           "135": 7,
           "136": 7,
           "137": 7,
           "138": 7,
           "139": 6,
           "14": 7,
           "140": 7,
           "141": 7,
           "142": 7,
           "143": 7,
           "144": 6,
           "145": 7,
           "146": 7,
           "147": 7,
           "148": 7,
           "149": 6,
           "15": 7,
           "150": 7,
           "151": 7,
           "152": 7,
           "153": 7,
           "154": 6,
           "155": 7,
           "156": 7,
           "157": 7,
           "158": 7,
           "159": 6,
           "16": 7,
           "160": 7,
           "161": 7,
           "162": 7,
           "163": 7,
           "164": 6,
           "165": 7,
           "166": 7,
           "167": 7,
           "168": 7,
           "169": 6,
           "17": 7,
           "170": 7,
           "171": 7,
           "172": 7,
           "173": 7,
           "174": 6,
           "175": 7,
           "176": 7,
           "177": 7,
           "178": 7,
           "179": 6,
           "18": 6,
           "180": 7,
           "181": 7,
           "182": 7,
           "183": 7,
           "184": 6,
           "185": 7,
           "186": 7,
           "187": 7,
           "188": 7,
           "189": 6,
           "19": 7,
           "190": 7,
           "191": 7,
           "192": 7,
           "193": 7,
           "194": 6,
           "195": 7,
           "196": 7,
           "197": 7,
           "198": 7,
           "199": 6,
           "2": 7,
           "20": 7,
           "200": 7,
           "201": 7,
           "202": 7,
           "203": 7,
           "204": 6,
           "205": 7,
           "206": 7,
           "207": 6,
           "208": 7,
           "209": 6,
           "21": 7,
           "210": 7,
           "211": 7,
           "212": 6,
           "213": 7,
           "214": 6,
           "215": 7,
           "216": 7,
           "217": 6,
           "218": 7,
           "219": 6,
           "22": 7,
           "220": 7,
           "221": 7,
           "222": 6,
           "223": 7,
           "224": 6,
           "225": 7,
           "226": 7,
           "227": 6,
           "228": 7,
           "229": 6,
           "23": 7,
           "230": 7,
           "231": 7,
           "232": 6,
           "233": 7,
           "234": 6,
           "235": 7,
           "236": 7,
           "237": 6,
           "238": 7,
           "239": 7,
           "24": 6,
           "240": 6,
           "241": 7,
           "242": 7,
           "243": 7,
           "244": 7,
           "245": 7,
           "246": 7,
           "247": 7,
           "248": 7,
           "249": 7,
           "25": 7,
           "250": 7,
           "251": 7,
           "252": 7,
           "253": 7,
           "254": 7,
           "255": 7,
           "256": 7,
           "257": 7,
           "258": 7,
           "259": 7,
           "26": 7,
           "260": 7,
           "261": 7,
           "262": 7,
           "263": 7,
           "264": 7,
           "265": 7,
           "266": 7,
           "267": 7,
           "268": 7,
           "269": 7,
           "27": 7,
           "28": 6,
           "29": 7,
           "3": 7,
           "30": 7,
           "31": 7,
           "32": 7,
           "33": 6,
           "34": 7,
           "35": 7,
           "36": 7,
           "37": 7,
           "38": 7,
           "39": 7,
           "4": 7,
           "40": 7,
           "41": 7,
           "42": 7,
           "43": 7,
           "44": 7,
           "45": 7,
           "46": 7,
           "47": 7,
           "48": 7,
           "49": 7,
           "5": 7,
           "50": 7,
           "51": 7,
           "52": 7,
           "53": 6,
           "54": 7,
           "55": 7,
           "56": 6,
           "57": 7,
           "58": 7,
           "59": 6,
           "6": 7,
           "60": 7,
           "61": 7,
           "62": 6,
           "63": 7,
           "64": 7,
           "65": 6,
           "66": 7,
           "67": 7,
           "68": 6,
           "69": 7,
           "7": 7,
           "70": 7,
           "71": 6,
           "72": 7,
           "73": 7,
           "74": 6,
           "75": 7,
           "76": 7,
           "77": 6,
           "78": 7,
           "79": 7,
           "8": 6,
           "80": 6,
           "81": 7,
           "82": 7,
           "83": 7,
           "84": 6,
           "85": 7,
           "86": 6,
           "87": 7,
           "88": 7,
           "89": 6,
           "9": 7,
           "90": 7,
           "91": 6,
           "92": 7,
           "93": 7,
           "94": 6,
           "95": 7,
           "96": 6,
           "97": 7,
           "98": 7,
           "99": 6,
           "bdata": "BwcHBwcHBwcGBwcHBgcHBwcHBgcHBwcHBgcHBwYHBwcHBgcHBwcHBwcHBwcHBwcHBwcHBwcGBwcGBwcGBwcGBwcGBwcGBwcGBwcGBwcGBwcGBwcHBgcGBwcGBwYHBwYHBgcHBgcGBwcGBwYHBwYHBgcHBgcHBwcGBwcHBwYHBwcHBgcHBwcGBwcHBwYHBwcHBgcHBwcGBwcHBwYHBwcHBgcHBwcGBwcHBwYHBwcHBgcHBwcGBwcHBwYHBwcHBgcHBwcGBwcHBwYHBwcHBgcHBgcGBwcGBwYHBwYHBgcHBgcGBwcGBwYHBwYHBgcHBgcHBgcHBwcHBwcHBwcHBwcHBwcHBwcHBwcHBwcHBwcH",
           "dtype": "i1",
           "shape": "270"
          },
          "bdata": "BwcHBwcHBwcGBwcHBgcHBwcHBgcHBwcHBgcHBwYHBwcHBgcHBwcHBwcHBwcHBwcHBwcHBwcGBwcGBwcGBwcGBwcGBwcGBwcGBwcGBwcGBwcGBwcHBgcGBwcGBwYHBwYHBgcHBgcGBwcGBwYHBwYHBgcHBgcHBwcGBwcHBwYHBwcHBgcHBwcGBwcHBwYHBwcHBgcHBwcGBwcHBwYHBwcHBgcHBwcGBwcHBwYHBwcHBgcHBwcGBwcHBwYHBwcHBgcHBwcGBwcHBwYHBwcHBgcHBgcGBwcGBwYHBwYHBgcHBgcGBwcGBwYHBwYHBgcHBgcHBgcHBwcHBwcHBwcHBwcHBwcHBwcHBwcHBwcHBwcH",
          "dtype": "i1"
         },
         "yaxis": "y"
        }
       ],
       "layout": {
        "autosize": true,
        "barmode": "group",
        "legend": {
         "title": {
          "text": "Addiction_Level"
         },
         "tracegroupgap": 0
        },
        "template": {
         "data": {
          "bar": [
           {
            "error_x": {
             "color": "#2a3f5f"
            },
            "error_y": {
             "color": "#2a3f5f"
            },
            "marker": {
             "line": {
              "color": "#E5ECF6",
              "width": 0.5
             },
             "pattern": {
              "fillmode": "overlay",
              "size": 10,
              "solidity": 0.2
             }
            },
            "type": "bar"
           }
          ],
          "barpolar": [
           {
            "marker": {
             "line": {
              "color": "#E5ECF6",
              "width": 0.5
             },
             "pattern": {
              "fillmode": "overlay",
              "size": 10,
              "solidity": 0.2
             }
            },
            "type": "barpolar"
           }
          ],
          "carpet": [
           {
            "aaxis": {
             "endlinecolor": "#2a3f5f",
             "gridcolor": "white",
             "linecolor": "white",
             "minorgridcolor": "white",
             "startlinecolor": "#2a3f5f"
            },
            "baxis": {
             "endlinecolor": "#2a3f5f",
             "gridcolor": "white",
             "linecolor": "white",
             "minorgridcolor": "white",
             "startlinecolor": "#2a3f5f"
            },
            "type": "carpet"
           }
          ],
          "choropleth": [
           {
            "colorbar": {
             "outlinewidth": 0,
             "ticks": ""
            },
            "type": "choropleth"
           }
          ],
          "contour": [
           {
            "colorbar": {
             "outlinewidth": 0,
             "ticks": ""
            },
            "colorscale": [
             [
              0,
              "#0d0887"
             ],
             [
              0.1111111111111111,
              "#46039f"
             ],
             [
              0.2222222222222222,
              "#7201a8"
             ],
             [
              0.3333333333333333,
              "#9c179e"
             ],
             [
              0.4444444444444444,
              "#bd3786"
             ],
             [
              0.5555555555555556,
              "#d8576b"
             ],
             [
              0.6666666666666666,
              "#ed7953"
             ],
             [
              0.7777777777777778,
              "#fb9f3a"
             ],
             [
              0.8888888888888888,
              "#fdca26"
             ],
             [
              1,
              "#f0f921"
             ]
            ],
            "type": "contour"
           }
          ],
          "contourcarpet": [
           {
            "colorbar": {
             "outlinewidth": 0,
             "ticks": ""
            },
            "type": "contourcarpet"
           }
          ],
          "heatmap": [
           {
            "colorbar": {
             "outlinewidth": 0,
             "ticks": ""
            },
            "colorscale": [
             [
              0,
              "#0d0887"
             ],
             [
              0.1111111111111111,
              "#46039f"
             ],
             [
              0.2222222222222222,
              "#7201a8"
             ],
             [
              0.3333333333333333,
              "#9c179e"
             ],
             [
              0.4444444444444444,
              "#bd3786"
             ],
             [
              0.5555555555555556,
              "#d8576b"
             ],
             [
              0.6666666666666666,
              "#ed7953"
             ],
             [
              0.7777777777777778,
              "#fb9f3a"
             ],
             [
              0.8888888888888888,
              "#fdca26"
             ],
             [
              1,
              "#f0f921"
             ]
            ],
            "type": "heatmap"
           }
          ],
          "histogram": [
           {
            "marker": {
             "pattern": {
              "fillmode": "overlay",
              "size": 10,
              "solidity": 0.2
             }
            },
            "type": "histogram"
           }
          ],
          "histogram2d": [
           {
            "colorbar": {
             "outlinewidth": 0,
             "ticks": ""
            },
            "colorscale": [
             [
              0,
              "#0d0887"
             ],
             [
              0.1111111111111111,
              "#46039f"
             ],
             [
              0.2222222222222222,
              "#7201a8"
             ],
             [
              0.3333333333333333,
              "#9c179e"
             ],
             [
              0.4444444444444444,
              "#bd3786"
             ],
             [
              0.5555555555555556,
              "#d8576b"
             ],
             [
              0.6666666666666666,
              "#ed7953"
             ],
             [
              0.7777777777777778,
              "#fb9f3a"
             ],
             [
              0.8888888888888888,
              "#fdca26"
             ],
             [
              1,
              "#f0f921"
             ]
            ],
            "type": "histogram2d"
           }
          ],
          "histogram2dcontour": [
           {
            "colorbar": {
             "outlinewidth": 0,
             "ticks": ""
            },
            "colorscale": [
             [
              0,
              "#0d0887"
             ],
             [
              0.1111111111111111,
              "#46039f"
             ],
             [
              0.2222222222222222,
              "#7201a8"
             ],
             [
              0.3333333333333333,
              "#9c179e"
             ],
             [
              0.4444444444444444,
              "#bd3786"
             ],
             [
              0.5555555555555556,
              "#d8576b"
             ],
             [
              0.6666666666666666,
              "#ed7953"
             ],
             [
              0.7777777777777778,
              "#fb9f3a"
             ],
             [
              0.8888888888888888,
              "#fdca26"
             ],
             [
              1,
              "#f0f921"
             ]
            ],
            "type": "histogram2dcontour"
           }
          ],
          "mesh3d": [
           {
            "colorbar": {
             "outlinewidth": 0,
             "ticks": ""
            },
            "type": "mesh3d"
           }
          ],
          "parcoords": [
           {
            "line": {
             "colorbar": {
              "outlinewidth": 0,
              "ticks": ""
             }
            },
            "type": "parcoords"
           }
          ],
          "pie": [
           {
            "automargin": true,
            "type": "pie"
           }
          ],
          "scatter": [
           {
            "fillpattern": {
             "fillmode": "overlay",
             "size": 10,
             "solidity": 0.2
            },
            "type": "scatter"
           }
          ],
          "scatter3d": [
           {
            "line": {
             "colorbar": {
              "outlinewidth": 0,
              "ticks": ""
             }
            },
            "marker": {
             "colorbar": {
              "outlinewidth": 0,
              "ticks": ""
             }
            },
            "type": "scatter3d"
           }
          ],
          "scattercarpet": [
           {
            "marker": {
             "colorbar": {
              "outlinewidth": 0,
              "ticks": ""
             }
            },
            "type": "scattercarpet"
           }
          ],
          "scattergeo": [
           {
            "marker": {
             "colorbar": {
              "outlinewidth": 0,
              "ticks": ""
             }
            },
            "type": "scattergeo"
           }
          ],
          "scattergl": [
           {
            "marker": {
             "colorbar": {
              "outlinewidth": 0,
              "ticks": ""
             }
            },
            "type": "scattergl"
           }
          ],
          "scattermap": [
           {
            "marker": {
             "colorbar": {
              "outlinewidth": 0,
              "ticks": ""
             }
            },
            "type": "scattermap"
           }
          ],
          "scattermapbox": [
           {
            "marker": {
             "colorbar": {
              "outlinewidth": 0,
              "ticks": ""
             }
            },
            "type": "scattermapbox"
           }
          ],
          "scatterpolar": [
           {
            "marker": {
             "colorbar": {
              "outlinewidth": 0,
              "ticks": ""
             }
            },
            "type": "scatterpolar"
           }
          ],
          "scatterpolargl": [
           {
            "marker": {
             "colorbar": {
              "outlinewidth": 0,
              "ticks": ""
             }
            },
            "type": "scatterpolargl"
           }
          ],
          "scatterternary": [
           {
            "marker": {
             "colorbar": {
              "outlinewidth": 0,
              "ticks": ""
             }
            },
            "type": "scatterternary"
           }
          ],
          "surface": [
           {
            "colorbar": {
             "outlinewidth": 0,
             "ticks": ""
            },
            "colorscale": [
             [
              0,
              "#0d0887"
             ],
             [
              0.1111111111111111,
              "#46039f"
             ],
             [
              0.2222222222222222,
              "#7201a8"
             ],
             [
              0.3333333333333333,
              "#9c179e"
             ],
             [
              0.4444444444444444,
              "#bd3786"
             ],
             [
              0.5555555555555556,
              "#d8576b"
             ],
             [
              0.6666666666666666,
              "#ed7953"
             ],
             [
              0.7777777777777778,
              "#fb9f3a"
             ],
             [
              0.8888888888888888,
              "#fdca26"
             ],
             [
              1,
              "#f0f921"
             ]
            ],
            "type": "surface"
           }
          ],
          "table": [
           {
            "cells": {
             "fill": {
              "color": "#EBF0F8"
             },
             "line": {
              "color": "white"
             }
            },
            "header": {
             "fill": {
              "color": "#C8D4E3"
             },
             "line": {
              "color": "white"
             }
            },
            "type": "table"
           }
          ]
         },
         "layout": {
          "annotationdefaults": {
           "arrowcolor": "#2a3f5f",
           "arrowhead": 0,
           "arrowwidth": 1
          },
          "autotypenumbers": "strict",
          "coloraxis": {
           "colorbar": {
            "outlinewidth": 0,
            "ticks": ""
           }
          },
          "colorscale": {
           "diverging": [
            [
             0,
             "#8e0152"
            ],
            [
             0.1,
             "#c51b7d"
            ],
            [
             0.2,
             "#de77ae"
            ],
            [
             0.3,
             "#f1b6da"
            ],
            [
             0.4,
             "#fde0ef"
            ],
            [
             0.5,
             "#f7f7f7"
            ],
            [
             0.6,
             "#e6f5d0"
            ],
            [
             0.7,
             "#b8e186"
            ],
            [
             0.8,
             "#7fbc41"
            ],
            [
             0.9,
             "#4d9221"
            ],
            [
             1,
             "#276419"
            ]
           ],
           "sequential": [
            [
             0,
             "#0d0887"
            ],
            [
             0.1111111111111111,
             "#46039f"
            ],
            [
             0.2222222222222222,
             "#7201a8"
            ],
            [
             0.3333333333333333,
             "#9c179e"
            ],
            [
             0.4444444444444444,
             "#bd3786"
            ],
            [
             0.5555555555555556,
             "#d8576b"
            ],
            [
             0.6666666666666666,
             "#ed7953"
            ],
            [
             0.7777777777777778,
             "#fb9f3a"
            ],
            [
             0.8888888888888888,
             "#fdca26"
            ],
            [
             1,
             "#f0f921"
            ]
           ],
           "sequentialminus": [
            [
             0,
             "#0d0887"
            ],
            [
             0.1111111111111111,
             "#46039f"
            ],
            [
             0.2222222222222222,
             "#7201a8"
            ],
            [
             0.3333333333333333,
             "#9c179e"
            ],
            [
             0.4444444444444444,
             "#bd3786"
            ],
            [
             0.5555555555555556,
             "#d8576b"
            ],
            [
             0.6666666666666666,
             "#ed7953"
            ],
            [
             0.7777777777777778,
             "#fb9f3a"
            ],
            [
             0.8888888888888888,
             "#fdca26"
            ],
            [
             1,
             "#f0f921"
            ]
           ]
          },
          "colorway": [
           "#636efa",
           "#EF553B",
           "#00cc96",
           "#ab63fa",
           "#FFA15A",
           "#19d3f3",
           "#FF6692",
           "#B6E880",
           "#FF97FF",
           "#FECB52"
          ],
          "font": {
           "color": "#2a3f5f"
          },
          "geo": {
           "bgcolor": "white",
           "lakecolor": "white",
           "landcolor": "#E5ECF6",
           "showlakes": true,
           "showland": true,
           "subunitcolor": "white"
          },
          "hoverlabel": {
           "align": "left"
          },
          "hovermode": "closest",
          "mapbox": {
           "style": "light"
          },
          "paper_bgcolor": "white",
          "plot_bgcolor": "#E5ECF6",
          "polar": {
           "angularaxis": {
            "gridcolor": "white",
            "linecolor": "white",
            "ticks": ""
           },
           "bgcolor": "#E5ECF6",
           "radialaxis": {
            "gridcolor": "white",
            "linecolor": "white",
            "ticks": ""
           }
          },
          "scene": {
           "xaxis": {
            "backgroundcolor": "#E5ECF6",
            "gridcolor": "white",
            "gridwidth": 2,
            "linecolor": "white",
            "showbackground": true,
            "ticks": "",
            "zerolinecolor": "white"
           },
           "yaxis": {
            "backgroundcolor": "#E5ECF6",
            "gridcolor": "white",
            "gridwidth": 2,
            "linecolor": "white",
            "showbackground": true,
            "ticks": "",
            "zerolinecolor": "white"
           },
           "zaxis": {
            "backgroundcolor": "#E5ECF6",
            "gridcolor": "white",
            "gridwidth": 2,
            "linecolor": "white",
            "showbackground": true,
            "ticks": "",
            "zerolinecolor": "white"
           }
          },
          "shapedefaults": {
           "line": {
            "color": "#2a3f5f"
           }
          },
          "ternary": {
           "aaxis": {
            "gridcolor": "white",
            "linecolor": "white",
            "ticks": ""
           },
           "baxis": {
            "gridcolor": "white",
            "linecolor": "white",
            "ticks": ""
           },
           "bgcolor": "#E5ECF6",
           "caxis": {
            "gridcolor": "white",
            "linecolor": "white",
            "ticks": ""
           }
          },
          "title": {
           "x": 0.05
          },
          "xaxis": {
           "automargin": true,
           "gridcolor": "white",
           "linecolor": "white",
           "ticks": "",
           "title": {
            "standoff": 15
           },
           "zerolinecolor": "white",
           "zerolinewidth": 2
          },
          "yaxis": {
           "automargin": true,
           "gridcolor": "white",
           "linecolor": "white",
           "ticks": "",
           "title": {
            "standoff": 15
           },
           "zerolinecolor": "white",
           "zerolinewidth": 2
          }
         }
        },
        "title": {
         "text": "Addiction Score by Most Used Platform and Level"
        },
        "xaxis": {
         "anchor": "y",
         "autorange": true,
         "domain": [
          0,
          1
         ],
         "range": [
          -0.5,
          11.5
         ],
         "title": {
          "text": "Most_Used_Platform"
         },
         "type": "category"
        },
        "yaxis": {
         "anchor": "x",
         "autorange": true,
         "domain": [
          0,
          1
         ],
         "range": [
          0,
          783.1578947368421
         ],
         "title": {
          "text": "Addicted_Score"
         },
         "type": "linear"
        }
       }
      },
      "image/png": "[encoded data removed]"
     },
     "metadata": {},
     "output_type": "display_data"
    },
    {
     "data": {
      "application/vnd.plotly.v1+json": {
       "config": {
        "plotlyServerURL": "https://plot.ly"
       },
       "data": [
        {
         "domain": {
          "x": [
           0,
           1
          ],
          "y": [
           0,
           1
          ]
         },
         "hovertemplate": "Most_Used_Platform=%{label}<br>Count=%{value}<extra></extra>",
         "labels": [
          "Instagram",
          "Tiktok",
          "Facebook",
          "Whatsapp",
          "Twitter",
          "Linkedin",
          "Wechat",
          "Snapchat",
          "Line",
          "Kakaotalk",
          "Vkontakte",
          "Youtube"
         ],
         "legendgroup": "",
         "name": "",
         "showlegend": true,
         "type": "pie",
         "values": {
          "_inputArray": {
           "0": 249,
           "1": 154,
           "10": 12,
           "11": 10,
           "2": 123,
           "3": 54,
           "4": 30,
           "5": 21,
           "6": 15,
           "7": 13,
           "8": 12,
           "9": 12,
           "bdata": "+QCaAHsANgAeABUADwANAAwADAAMAAoA",
           "dtype": "i2",
           "shape": "12"
          },
          "bdata": "+QCaAHsANgAeABUADwANAAwADAAMAAoA",
          "dtype": "i2"
         }
        }
       ],
       "layout": {
        "autosize": true,
        "legend": {
         "tracegroupgap": 0
        },
        "template": {
         "data": {
          "bar": [
           {
            "error_x": {
             "color": "#2a3f5f"
            },
            "error_y": {
             "color": "#2a3f5f"
            },
            "marker": {
             "line": {
              "color": "#E5ECF6",
              "width": 0.5
             },
             "pattern": {
              "fillmode": "overlay",
              "size": 10,
              "solidity": 0.2
             }
            },
            "type": "bar"
           }
          ],
          "barpolar": [
           {
            "marker": {
             "line": {
              "color": "#E5ECF6",
              "width": 0.5
             },
             "pattern": {
              "fillmode": "overlay",
              "size": 10,
              "solidity": 0.2
             }
            },
            "type": "barpolar"
           }
          ],
          "carpet": [
           {
            "aaxis": {
             "endlinecolor": "#2a3f5f",
             "gridcolor": "white",
             "linecolor": "white",
             "minorgridcolor": "white",
             "startlinecolor": "#2a3f5f"
            },
            "baxis": {
             "endlinecolor": "#2a3f5f",
             "gridcolor": "white",
             "linecolor": "white",
             "minorgridcolor": "white",
             "startlinecolor": "#2a3f5f"
            },
            "type": "carpet"
           }
          ],
          "choropleth": [
           {
            "colorbar": {
             "outlinewidth": 0,
             "ticks": ""
            },
            "type": "choropleth"
           }
          ],
          "contour": [
           {
            "colorbar": {
             "outlinewidth": 0,
             "ticks": ""
            },
            "colorscale": [
             [
              0,
              "#0d0887"
             ],
             [
              0.1111111111111111,
              "#46039f"
             ],
             [
              0.2222222222222222,
              "#7201a8"
             ],
             [
              0.3333333333333333,
              "#9c179e"
             ],
             [
              0.4444444444444444,
              "#bd3786"
             ],
             [
              0.5555555555555556,
              "#d8576b"
             ],
             [
              0.6666666666666666,
              "#ed7953"
             ],
             [
              0.7777777777777778,
              "#fb9f3a"
             ],
             [
              0.8888888888888888,
              "#fdca26"
             ],
             [
              1,
              "#f0f921"
             ]
            ],
            "type": "contour"
           }
          ],
          "contourcarpet": [
           {
            "colorbar": {
             "outlinewidth": 0,
             "ticks": ""
            },
            "type": "contourcarpet"
           }
          ],
          "heatmap": [
           {
            "colorbar": {
             "outlinewidth": 0,
             "ticks": ""
            },
            "colorscale": [
             [
              0,
              "#0d0887"
             ],
             [
              0.1111111111111111,
              "#46039f"
             ],
             [
              0.2222222222222222,
              "#7201a8"
             ],
             [
              0.3333333333333333,
              "#9c179e"
             ],
             [
              0.4444444444444444,
              "#bd3786"
             ],
             [
              0.5555555555555556,
              "#d8576b"
             ],
             [
              0.6666666666666666,
              "#ed7953"
             ],
             [
              0.7777777777777778,
              "#fb9f3a"
             ],
             [
              0.8888888888888888,
              "#fdca26"
             ],
             [
              1,
              "#f0f921"
             ]
            ],
            "type": "heatmap"
           }
          ],
          "histogram": [
           {
            "marker": {
             "pattern": {
              "fillmode": "overlay",
              "size": 10,
              "solidity": 0.2
             }
            },
            "type": "histogram"
           }
          ],
          "histogram2d": [
           {
            "colorbar": {
             "outlinewidth": 0,
             "ticks": ""
            },
            "colorscale": [
             [
              0,
              "#0d0887"
             ],
             [
              0.1111111111111111,
              "#46039f"
             ],
             [
              0.2222222222222222,
              "#7201a8"
             ],
             [
              0.3333333333333333,
              "#9c179e"
             ],
             [
              0.4444444444444444,
              "#bd3786"
             ],
             [
              0.5555555555555556,
              "#d8576b"
             ],
             [
              0.6666666666666666,
              "#ed7953"
             ],
             [
              0.7777777777777778,
              "#fb9f3a"
             ],
             [
              0.8888888888888888,
              "#fdca26"
             ],
             [
              1,
              "#f0f921"
             ]
            ],
            "type": "histogram2d"
           }
          ],
          "histogram2dcontour": [
           {
            "colorbar": {
             "outlinewidth": 0,
             "ticks": ""
            },
            "colorscale": [
             [
              0,
              "#0d0887"
             ],
             [
              0.1111111111111111,
              "#46039f"
             ],
             [
              0.2222222222222222,
              "#7201a8"
             ],
             [
              0.3333333333333333,
              "#9c179e"
             ],
             [
              0.4444444444444444,
              "#bd3786"
             ],
             [
              0.5555555555555556,
              "#d8576b"
             ],
             [
              0.6666666666666666,
              "#ed7953"
             ],
             [
              0.7777777777777778,
              "#fb9f3a"
             ],
             [
              0.8888888888888888,
              "#fdca26"
             ],
             [
              1,
              "#f0f921"
             ]
            ],
            "type": "histogram2dcontour"
           }
          ],
          "mesh3d": [
           {
            "colorbar": {
             "outlinewidth": 0,
             "ticks": ""
            },
            "type": "mesh3d"
           }
          ],
          "parcoords": [
           {
            "line": {
             "colorbar": {
              "outlinewidth": 0,
              "ticks": ""
             }
            },
            "type": "parcoords"
           }
          ],
          "pie": [
           {
            "automargin": true,
            "type": "pie"
           }
          ],
          "scatter": [
           {
            "fillpattern": {
             "fillmode": "overlay",
             "size": 10,
             "solidity": 0.2
            },
            "type": "scatter"
           }
          ],
          "scatter3d": [
           {
            "line": {
             "colorbar": {
              "outlinewidth": 0,
              "ticks": ""
             }
            },
            "marker": {
             "colorbar": {
              "outlinewidth": 0,
              "ticks": ""
             }
            },
            "type": "scatter3d"
           }
          ],
          "scattercarpet": [
           {
            "marker": {
             "colorbar": {
              "outlinewidth": 0,
              "ticks": ""
             }
            },
            "type": "scattercarpet"
           }
          ],
          "scattergeo": [
           {
            "marker": {
             "colorbar": {
              "outlinewidth": 0,
              "ticks": ""
             }
            },
            "type": "scattergeo"
           }
          ],
          "scattergl": [
           {
            "marker": {
             "colorbar": {
              "outlinewidth": 0,
              "ticks": ""
             }
            },
            "type": "scattergl"
           }
          ],
          "scattermap": [
           {
            "marker": {
             "colorbar": {
              "outlinewidth": 0,
              "ticks": ""
             }
            },
            "type": "scattermap"
           }
          ],
          "scattermapbox": [
           {
            "marker": {
             "colorbar": {
              "outlinewidth": 0,
              "ticks": ""
             }
            },
            "type": "scattermapbox"
           }
          ],
          "scatterpolar": [
           {
            "marker": {
             "colorbar": {
              "outlinewidth": 0,
              "ticks": ""
             }
            },
            "type": "scatterpolar"
           }
          ],
          "scatterpolargl": [
           {
            "marker": {
             "colorbar": {
              "outlinewidth": 0,
              "ticks": ""
             }
            },
            "type": "scatterpolargl"
           }
          ],
          "scatterternary": [
           {
            "marker": {
             "colorbar": {
              "outlinewidth": 0,
              "ticks": ""
             }
            },
            "type": "scatterternary"
           }
          ],
          "surface": [
           {
            "colorbar": {
             "outlinewidth": 0,
             "ticks": ""
            },
            "colorscale": [
             [
              0,
              "#0d0887"
             ],
             [
              0.1111111111111111,
              "#46039f"
             ],
             [
              0.2222222222222222,
              "#7201a8"
             ],
             [
              0.3333333333333333,
              "#9c179e"
             ],
             [
              0.4444444444444444,
              "#bd3786"
             ],
             [
              0.5555555555555556,
              "#d8576b"
             ],
             [
              0.6666666666666666,
              "#ed7953"
             ],
             [
              0.7777777777777778,
              "#fb9f3a"
             ],
             [
              0.8888888888888888,
              "#fdca26"
             ],
             [
              1,
              "#f0f921"
             ]
            ],
            "type": "surface"
           }
          ],
          "table": [
           {
            "cells": {
             "fill": {
              "color": "#EBF0F8"
             },
             "line": {
              "color": "white"
             }
            },
            "header": {
             "fill": {
              "color": "#C8D4E3"
             },
             "line": {
              "color": "white"
             }
            },
            "type": "table"
           }
          ]
         },
         "layout": {
          "annotationdefaults": {
           "arrowcolor": "#2a3f5f",
           "arrowhead": 0,
           "arrowwidth": 1
          },
          "autotypenumbers": "strict",
          "coloraxis": {
           "colorbar": {
            "outlinewidth": 0,
            "ticks": ""
           }
          },
          "colorscale": {
           "diverging": [
            [
             0,
             "#8e0152"
            ],
            [
             0.1,
             "#c51b7d"
            ],
            [
             0.2,
             "#de77ae"
            ],
            [
             0.3,
             "#f1b6da"
            ],
            [
             0.4,
             "#fde0ef"
            ],
            [
             0.5,
             "#f7f7f7"
            ],
            [
             0.6,
             "#e6f5d0"
            ],
            [
             0.7,
             "#b8e186"
            ],
            [
             0.8,
             "#7fbc41"
            ],
            [
             0.9,
             "#4d9221"
            ],
            [
             1,
             "#276419"
            ]
           ],
           "sequential": [
            [
             0,
             "#0d0887"
            ],
            [
             0.1111111111111111,
             "#46039f"
            ],
            [
             0.2222222222222222,
             "#7201a8"
            ],
            [
             0.3333333333333333,
             "#9c179e"
            ],
            [
             0.4444444444444444,
             "#bd3786"
            ],
            [
             0.5555555555555556,
             "#d8576b"
            ],
            [
             0.6666666666666666,
             "#ed7953"
            ],
            [
             0.7777777777777778,
             "#fb9f3a"
            ],
            [
             0.8888888888888888,
             "#fdca26"
            ],
            [
             1,
             "#f0f921"
            ]
           ],
           "sequentialminus": [
            [
             0,
             "#0d0887"
            ],
            [
             0.1111111111111111,
             "#46039f"
            ],
            [
             0.2222222222222222,
             "#7201a8"
            ],
            [
             0.3333333333333333,
             "#9c179e"
            ],
            [
             0.4444444444444444,
             "#bd3786"
            ],
            [
             0.5555555555555556,
             "#d8576b"
            ],
            [
             0.6666666666666666,
             "#ed7953"
            ],
            [
             0.7777777777777778,
             "#fb9f3a"
            ],
            [
             0.8888888888888888,
             "#fdca26"
            ],
            [
             1,
             "#f0f921"
            ]
           ]
          },
          "colorway": [
           "#636efa",
           "#EF553B",
           "#00cc96",
           "#ab63fa",
           "#FFA15A",
           "#19d3f3",
           "#FF6692",
           "#B6E880",
           "#FF97FF",
           "#FECB52"
          ],
          "font": {
           "color": "#2a3f5f"
          },
          "geo": {
           "bgcolor": "white",
           "lakecolor": "white",
           "landcolor": "#E5ECF6",
           "showlakes": true,
           "showland": true,
           "subunitcolor": "white"
          },
          "hoverlabel": {
           "align": "left"
          },
          "hovermode": "closest",
          "mapbox": {
           "style": "light"
          },
          "paper_bgcolor": "white",
          "plot_bgcolor": "#E5ECF6",
          "polar": {
           "angularaxis": {
            "gridcolor": "white",
            "linecolor": "white",
            "ticks": ""
           },
           "bgcolor": "#E5ECF6",
           "radialaxis": {
            "gridcolor": "white",
            "linecolor": "white",
            "ticks": ""
           }
          },
          "scene": {
           "xaxis": {
            "backgroundcolor": "#E5ECF6",
            "gridcolor": "white",
            "gridwidth": 2,
            "linecolor": "white",
            "showbackground": true,
            "ticks": "",
            "zerolinecolor": "white"
           },
           "yaxis": {
            "backgroundcolor": "#E5ECF6",
            "gridcolor": "white",
            "gridwidth": 2,
            "linecolor": "white",
            "showbackground": true,
            "ticks": "",
            "zerolinecolor": "white"
           },
           "zaxis": {
            "backgroundcolor": "#E5ECF6",
            "gridcolor": "white",
            "gridwidth": 2,
            "linecolor": "white",
            "showbackground": true,
            "ticks": "",
            "zerolinecolor": "white"
           }
          },
          "shapedefaults": {
           "line": {
            "color": "#2a3f5f"
           }
          },
          "ternary": {
           "aaxis": {
            "gridcolor": "white",
            "linecolor": "white",
            "ticks": ""
           },
           "baxis": {
            "gridcolor": "white",
            "linecolor": "white",
            "ticks": ""
           },
           "bgcolor": "#E5ECF6",
           "caxis": {
            "gridcolor": "white",
            "linecolor": "white",
            "ticks": ""
           }
          },
          "title": {
           "x": 0.05
          },
          "xaxis": {
           "automargin": true,
           "gridcolor": "white",
           "linecolor": "white",
           "ticks": "",
           "title": {
            "standoff": 15
           },
           "zerolinecolor": "white",
           "zerolinewidth": 2
          },
          "yaxis": {
           "automargin": true,
           "gridcolor": "white",
           "linecolor": "white",
           "ticks": "",
           "title": {
            "standoff": 15
           },
           "zerolinecolor": "white",
           "zerolinewidth": 2
          }
         }
        },
        "title": {
         "text": "Device/Platform Usage Distribution"
        }
       }
      },
      "image/png": "[encoded data removed]"
     },
     "metadata": {},
     "output_type": "display_data"
    }
   ],
   "source": [
    "# If device/platform column is available\n",
    "if 'Most_Used_Platform' in df.columns:\n",
    "    # Bar chart: Addiction by device/platform\n",
    "    fig = px.bar(df, x='Most_Used_Platform', y='Addicted_Score', color='Addiction_Level', barmode='group',\n",
    "                 title='Addiction Score by Most Used Platform and Level')\n",
    "    fig.show()\n",
    "\n",
    "    # Pie chart: Device/platform usage\n",
    "    platform_counts = df['Most_Used_Platform'].value_counts().reset_index()\n",
    "    platform_counts.columns = ['Most_Used_Platform', 'Count']\n",
    "    fig = px.pie(platform_counts, names='Most_Used_Platform', values='Count', title='Device/Platform Usage Distribution')\n",
    "    fig.show()\n"
   ]
  },
  {
   "cell_type": "code",
   "execution_count": 17,
   "id": "781f7149-3ad4-4a4a-b5b5-093977fc9d37",
   "metadata": {},
   "outputs": [
    {
     "name": "stdout",
     "output_type": "stream",
     "text": [
      "No temporal usage data available for analysis.\n"
     ]
    }
   ],
   "source": [
    "# If you have a timestamp or hour column, use this code\n",
    "if 'Usage_Timestamp' in df.columns:\n",
    "    df['Hour'] = pd.to_datetime(df['Usage_Timestamp'], errors='coerce').dt.hour\n",
    "    df['DayOfWeek'] = pd.to_datetime(df['Usage_Timestamp'], errors='coerce').dt.dayofweek\n",
    "    df['WeekPart'] = df['DayOfWeek'].apply(lambda x: 'Weekend' if x >= 5 else 'Weekday')\n",
    "\n",
    "    # Line graph: Usage by hour\n",
    "    hourly_usage = df.groupby('Hour').size().reset_index(name='Usage_Count')\n",
    "    fig = px.line(hourly_usage, x='Hour', y='Usage_Count', title='Social Media Usage by Hour of Day')\n",
    "    fig.show()\n",
    "\n",
    "    # Area chart: Weekday vs Weekend\n",
    "    hourly_weekpart = df.groupby(['Hour', 'WeekPart']).size().reset_index(name='Usage_Count')\n",
    "    fig = px.area(hourly_weekpart, x='Hour', y='Usage_Count', color='WeekPart',\n",
    "                  title='Usage Patterns: Weekday vs Weekend')\n",
    "    fig.show()\n",
    "\n",
    "    # Heatmap: Hour vs Sleep Hours\n",
    "    heatmap_data = df.groupby(['Hour', 'Sleep_Hours_Per_Night']).size().reset_index(name='Count')\n",
    "    fig = px.density_heatmap(heatmap_data, x='Hour', y='Sleep_Hours_Per_Night', z='Count',\n",
    "                             title='Usage Hour vs Sleep Hours')\n",
    "    fig.show()\n",
    "else:\n",
    "    print(\"No temporal usage data available for analysis.\")\n"
   ]
  },
  {
   "cell_type": "code",
   "execution_count": null,
   "id": "317c5190-5b8c-4813-8954-cca41dbce96f",
   "metadata": {},
   "outputs": [],
   "source": []
  }
 ],
 "metadata": {
  "kernelspec": {
   "display_name": "Python 3 (ipykernel)",
   "language": "python",
   "name": "python3"
  },
  "language_info": {
   "codemirror_mode": {
    "name": "ipython",
    "version": 3
   },
   "file_extension": ".py",
   "mimetype": "text/x-python",
   "name": "python",
   "nbconvert_exporter": "python",
   "pygments_lexer": "ipython3",
   "version": "3.11.7"
  }
 },
 "nbformat": 4,
 "nbformat_minor": 5
}
